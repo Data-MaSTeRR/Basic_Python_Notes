{
 "cells": [
  {
   "cell_type": "markdown",
   "metadata": {},
   "source": [
    "## DataFrame\n",
    "\n",
    "<center><img src = \"https://pynative.com/wp-content/uploads/2021/02/dataframe.png\" alt=\"My Image\"></center>\n",
    "\n",
    "### 관계형 데이터\n",
    "- 관계형 데이터는 데이터가 하나 이상의 열과 행의 테이블에 저장되어 서로 다른 데이터 구조가 어떻게 관련되어 있는지 쉽게 파악하고 이해할 수 있도록 사전 정의된 관계로 데이터를 구성하는 정보 모음이다\n",
    "- 실제로 kaggle, Torch 등 수많은 데이터가 관계형 데이터로 저장이 되어있다\n",
    "- Pandas의 Data Frame은 관계형 데이터를 저장하는데 효율적이고 알맞는 형식을 제공한다\n"
   ]
  },
  {
   "cell_type": "markdown",
   "metadata": {},
   "source": [
    "### DataFrame 구조\n",
    "- n * m 행렬구조를 가지는 데이터 구조이고 index와 column이 별도의 이름을 가진다. \n",
    "- column별로 다른 데이터 타입을 가질 수 있다"
   ]
  },
  {
   "cell_type": "code",
   "execution_count": 1,
   "metadata": {
    "ExecuteTime": {
     "end_time": "2024-02-21T09:00:12.082303Z",
     "start_time": "2024-02-21T09:00:11.654384Z"
    }
   },
   "outputs": [
    {
     "name": "stdout",
     "output_type": "stream",
     "text": [
      "    0   1   2\n",
      "0  10  20  30\n",
      "1  40  50  60\n",
      "2  70  80  90\n",
      "<class 'pandas.core.frame.DataFrame'>\n",
      "3\n"
     ]
    }
   ],
   "source": [
    "import pandas as pd\n",
    "a = pd.DataFrame([[10,20,30], [40,50,60], [70,80,90]])\n",
    "print(a) # print 사용시 문자열만을 사용해서 출력된다\n",
    "print(type(a)) # pandas.core.frame.DataFrame\n",
    "print(len(a))"
   ]
  },
  {
   "cell_type": "code",
   "execution_count": 2,
   "metadata": {
    "ExecuteTime": {
     "end_time": "2024-02-21T09:00:12.177656Z",
     "start_time": "2024-02-21T09:00:12.084716Z"
    }
   },
   "outputs": [
    {
     "data": {
      "text/html": [
       "<div>\n",
       "<style scoped>\n",
       "    .dataframe tbody tr th:only-of-type {\n",
       "        vertical-align: middle;\n",
       "    }\n",
       "\n",
       "    .dataframe tbody tr th {\n",
       "        vertical-align: top;\n",
       "    }\n",
       "\n",
       "    .dataframe thead th {\n",
       "        text-align: right;\n",
       "    }\n",
       "</style>\n",
       "<table border=\"1\" class=\"dataframe\">\n",
       "  <thead>\n",
       "    <tr style=\"text-align: right;\">\n",
       "      <th></th>\n",
       "      <th>0</th>\n",
       "      <th>1</th>\n",
       "      <th>2</th>\n",
       "    </tr>\n",
       "  </thead>\n",
       "  <tbody>\n",
       "    <tr>\n",
       "      <th>0</th>\n",
       "      <td>10</td>\n",
       "      <td>20</td>\n",
       "      <td>30</td>\n",
       "    </tr>\n",
       "    <tr>\n",
       "      <th>1</th>\n",
       "      <td>40</td>\n",
       "      <td>50</td>\n",
       "      <td>60</td>\n",
       "    </tr>\n",
       "    <tr>\n",
       "      <th>2</th>\n",
       "      <td>70</td>\n",
       "      <td>80</td>\n",
       "      <td>90</td>\n",
       "    </tr>\n",
       "  </tbody>\n",
       "</table>\n",
       "</div>"
      ],
      "text/plain": [
       "    0   1   2\n",
       "0  10  20  30\n",
       "1  40  50  60\n",
       "2  70  80  90"
      ]
     },
     "execution_count": 2,
     "metadata": {},
     "output_type": "execute_result"
    }
   ],
   "source": [
    "a # 변수 호출만 하면 HTML형식으로 출력된다"
   ]
  },
  {
   "cell_type": "code",
   "execution_count": 3,
   "metadata": {
    "ExecuteTime": {
     "end_time": "2024-02-21T09:00:12.253258Z",
     "start_time": "2024-02-21T09:00:12.154668Z"
    }
   },
   "outputs": [
    {
     "data": {
      "text/html": [
       "<div>\n",
       "<style scoped>\n",
       "    .dataframe tbody tr th:only-of-type {\n",
       "        vertical-align: middle;\n",
       "    }\n",
       "\n",
       "    .dataframe tbody tr th {\n",
       "        vertical-align: top;\n",
       "    }\n",
       "\n",
       "    .dataframe thead th {\n",
       "        text-align: right;\n",
       "    }\n",
       "</style>\n",
       "<table border=\"1\" class=\"dataframe\">\n",
       "  <thead>\n",
       "    <tr style=\"text-align: right;\">\n",
       "      <th></th>\n",
       "      <th>1차</th>\n",
       "      <th>2차</th>\n",
       "      <th>3차</th>\n",
       "    </tr>\n",
       "  </thead>\n",
       "  <tbody>\n",
       "    <tr>\n",
       "      <th>One</th>\n",
       "      <td>10</td>\n",
       "      <td>20</td>\n",
       "      <td>30</td>\n",
       "    </tr>\n",
       "    <tr>\n",
       "      <th>Two</th>\n",
       "      <td>40</td>\n",
       "      <td>50</td>\n",
       "      <td>60</td>\n",
       "    </tr>\n",
       "    <tr>\n",
       "      <th>Three</th>\n",
       "      <td>70</td>\n",
       "      <td>80</td>\n",
       "      <td>90</td>\n",
       "    </tr>\n",
       "  </tbody>\n",
       "</table>\n",
       "</div>"
      ],
      "text/plain": [
       "       1차  2차  3차\n",
       "One    10  20  30\n",
       "Two    40  50  60\n",
       "Three  70  80  90"
      ]
     },
     "execution_count": 3,
     "metadata": {},
     "output_type": "execute_result"
    }
   ],
   "source": [
    "data = [[10,20,30], [40,50,60], [70,80,90]]\n",
    "a = pd.DataFrame(data, columns = ['1차','2차','3차'], index = ['One','Two','Three'])\n",
    "a"
   ]
  },
  {
   "cell_type": "markdown",
   "metadata": {},
   "source": [
    "### Column Indexing\n",
    "- dataframe의 column단위로 정보 접근이 가능하다\n",
    "- 출력은 pandas의 Series형태로 출력된다\n",
    "- iloc과 loc을 통해서도 indexing이 가능하다"
   ]
  },
  {
   "cell_type": "code",
   "execution_count": 4,
   "metadata": {
    "ExecuteTime": {
     "end_time": "2024-02-21T09:00:12.347881Z",
     "start_time": "2024-02-21T09:00:12.247329Z"
    }
   },
   "outputs": [
    {
     "data": {
      "text/plain": [
       "One      10\n",
       "Two      40\n",
       "Three    70\n",
       "Name: 1차, dtype: int64"
      ]
     },
     "execution_count": 4,
     "metadata": {},
     "output_type": "execute_result"
    }
   ],
   "source": [
    "a['1차'] "
   ]
  },
  {
   "cell_type": "code",
   "execution_count": 5,
   "metadata": {
    "ExecuteTime": {
     "end_time": "2024-02-21T09:00:12.476476Z",
     "start_time": "2024-02-21T09:00:12.344400Z"
    }
   },
   "outputs": [
    {
     "data": {
      "text/plain": [
       "One      20\n",
       "Two      50\n",
       "Three    80\n",
       "Name: 2차, dtype: int64"
      ]
     },
     "execution_count": 5,
     "metadata": {},
     "output_type": "execute_result"
    }
   ],
   "source": [
    "a['2차']"
   ]
  },
  {
   "cell_type": "code",
   "execution_count": 6,
   "metadata": {
    "ExecuteTime": {
     "end_time": "2024-02-21T09:00:12.551542Z",
     "start_time": "2024-02-21T09:00:12.457176Z"
    }
   },
   "outputs": [
    {
     "data": {
      "text/html": [
       "<div>\n",
       "<style scoped>\n",
       "    .dataframe tbody tr th:only-of-type {\n",
       "        vertical-align: middle;\n",
       "    }\n",
       "\n",
       "    .dataframe tbody tr th {\n",
       "        vertical-align: top;\n",
       "    }\n",
       "\n",
       "    .dataframe thead th {\n",
       "        text-align: right;\n",
       "    }\n",
       "</style>\n",
       "<table border=\"1\" class=\"dataframe\">\n",
       "  <thead>\n",
       "    <tr style=\"text-align: right;\">\n",
       "      <th></th>\n",
       "      <th>1차</th>\n",
       "      <th>2차</th>\n",
       "    </tr>\n",
       "  </thead>\n",
       "  <tbody>\n",
       "    <tr>\n",
       "      <th>One</th>\n",
       "      <td>10</td>\n",
       "      <td>20</td>\n",
       "    </tr>\n",
       "    <tr>\n",
       "      <th>Two</th>\n",
       "      <td>40</td>\n",
       "      <td>50</td>\n",
       "    </tr>\n",
       "    <tr>\n",
       "      <th>Three</th>\n",
       "      <td>70</td>\n",
       "      <td>80</td>\n",
       "    </tr>\n",
       "  </tbody>\n",
       "</table>\n",
       "</div>"
      ],
      "text/plain": [
       "       1차  2차\n",
       "One    10  20\n",
       "Two    40  50\n",
       "Three  70  80"
      ]
     },
     "execution_count": 6,
     "metadata": {},
     "output_type": "execute_result"
    }
   ],
   "source": [
    "a[['1차','2차']] # 여러개의 행을 indexing하는것도 가능하다"
   ]
  },
  {
   "cell_type": "code",
   "execution_count": 7,
   "metadata": {
    "ExecuteTime": {
     "end_time": "2024-02-21T09:00:12.687713Z",
     "start_time": "2024-02-21T09:00:12.542041Z"
    }
   },
   "outputs": [
    {
     "data": {
      "text/plain": [
       "One      10\n",
       "Two      40\n",
       "Three    70\n",
       "Name: 1차, dtype: int64"
      ]
     },
     "execution_count": 7,
     "metadata": {},
     "output_type": "execute_result"
    }
   ],
   "source": [
    "a.loc[:,'1차'] # loc에서 comma 뒤는 column의 위치이다(이름 기반 indexing)"
   ]
  },
  {
   "cell_type": "code",
   "execution_count": 8,
   "metadata": {
    "ExecuteTime": {
     "end_time": "2024-02-21T09:00:12.758713Z",
     "start_time": "2024-02-21T09:00:12.685807Z"
    }
   },
   "outputs": [
    {
     "data": {
      "text/plain": [
       "One      20\n",
       "Two      50\n",
       "Three    80\n",
       "Name: 2차, dtype: int64"
      ]
     },
     "execution_count": 8,
     "metadata": {},
     "output_type": "execute_result"
    }
   ],
   "source": [
    "a.iloc[:,1] # iloc을 통해서도 column indexing이 가능하다(위치 기반 indexing)"
   ]
  },
  {
   "cell_type": "markdown",
   "metadata": {},
   "source": [
    "### Row Indexing\n",
    "- dataframe은 열 단위로도 정보 접근이 가능하다\n",
    "- loc method를 사용하면 열의 이름으로 접근이 가능하다\n",
    "- iloc method를 사용하면 정수 인덱싱처럼 접근이 가능하다\n",
    "- 데이터가 커지면 커질수록 중요한 접근방법이 된다"
   ]
  },
  {
   "cell_type": "code",
   "execution_count": 9,
   "metadata": {
    "ExecuteTime": {
     "end_time": "2024-02-21T09:00:12.822817Z",
     "start_time": "2024-02-21T09:00:12.749628Z"
    }
   },
   "outputs": [
    {
     "data": {
      "text/plain": [
       "1차    10\n",
       "2차    20\n",
       "3차    30\n",
       "Name: One, dtype: int64"
      ]
     },
     "execution_count": 9,
     "metadata": {},
     "output_type": "execute_result"
    }
   ],
   "source": [
    "a.loc['One'] # 열의 이름으로 접근"
   ]
  },
  {
   "cell_type": "code",
   "execution_count": 10,
   "metadata": {
    "ExecuteTime": {
     "end_time": "2024-02-21T09:00:12.862469Z",
     "start_time": "2024-02-21T09:00:12.808651Z"
    }
   },
   "outputs": [
    {
     "data": {
      "text/html": [
       "<div>\n",
       "<style scoped>\n",
       "    .dataframe tbody tr th:only-of-type {\n",
       "        vertical-align: middle;\n",
       "    }\n",
       "\n",
       "    .dataframe tbody tr th {\n",
       "        vertical-align: top;\n",
       "    }\n",
       "\n",
       "    .dataframe thead th {\n",
       "        text-align: right;\n",
       "    }\n",
       "</style>\n",
       "<table border=\"1\" class=\"dataframe\">\n",
       "  <thead>\n",
       "    <tr style=\"text-align: right;\">\n",
       "      <th></th>\n",
       "      <th>1차</th>\n",
       "      <th>2차</th>\n",
       "    </tr>\n",
       "  </thead>\n",
       "  <tbody>\n",
       "    <tr>\n",
       "      <th>One</th>\n",
       "      <td>10</td>\n",
       "      <td>20</td>\n",
       "    </tr>\n",
       "    <tr>\n",
       "      <th>Two</th>\n",
       "      <td>40</td>\n",
       "      <td>50</td>\n",
       "    </tr>\n",
       "  </tbody>\n",
       "</table>\n",
       "</div>"
      ],
      "text/plain": [
       "     1차  2차\n",
       "One  10  20\n",
       "Two  40  50"
      ]
     },
     "execution_count": 10,
     "metadata": {},
     "output_type": "execute_result"
    }
   ],
   "source": [
    "a.iloc[0:2, 0:2] # 정수인덱싱처럼 접근"
   ]
  },
  {
   "cell_type": "markdown",
   "metadata": {},
   "source": [
    "### DataFrame 생성\n",
    "\n",
    "<br>\n",
    "\n",
    "<pre> class pandas.DataFrame(data=None, index=None, columns=None, dtype=None, copy=None)</pre>\n",
    "\n",
    "<br>\n",
    "\n",
    "Data Frame은 list, tuple, Dictionary, Series 등 다양한 방법으로 제작이 가능하다"
   ]
  },
  {
   "cell_type": "code",
   "execution_count": 11,
   "metadata": {
    "ExecuteTime": {
     "end_time": "2024-02-21T09:00:12.938628Z",
     "start_time": "2024-02-21T09:00:12.856091Z"
    }
   },
   "outputs": [
    {
     "data": {
      "text/html": [
       "<div>\n",
       "<style scoped>\n",
       "    .dataframe tbody tr th:only-of-type {\n",
       "        vertical-align: middle;\n",
       "    }\n",
       "\n",
       "    .dataframe tbody tr th {\n",
       "        vertical-align: top;\n",
       "    }\n",
       "\n",
       "    .dataframe thead th {\n",
       "        text-align: right;\n",
       "    }\n",
       "</style>\n",
       "<table border=\"1\" class=\"dataframe\">\n",
       "  <thead>\n",
       "    <tr style=\"text-align: right;\">\n",
       "      <th></th>\n",
       "      <th>0</th>\n",
       "    </tr>\n",
       "  </thead>\n",
       "  <tbody>\n",
       "    <tr>\n",
       "      <th>0</th>\n",
       "      <td>0</td>\n",
       "    </tr>\n",
       "    <tr>\n",
       "      <th>1</th>\n",
       "      <td>1</td>\n",
       "    </tr>\n",
       "    <tr>\n",
       "      <th>2</th>\n",
       "      <td>2</td>\n",
       "    </tr>\n",
       "    <tr>\n",
       "      <th>3</th>\n",
       "      <td>3</td>\n",
       "    </tr>\n",
       "    <tr>\n",
       "      <th>4</th>\n",
       "      <td>4</td>\n",
       "    </tr>\n",
       "    <tr>\n",
       "      <th>5</th>\n",
       "      <td>5</td>\n",
       "    </tr>\n",
       "    <tr>\n",
       "      <th>6</th>\n",
       "      <td>6</td>\n",
       "    </tr>\n",
       "    <tr>\n",
       "      <th>7</th>\n",
       "      <td>7</td>\n",
       "    </tr>\n",
       "    <tr>\n",
       "      <th>8</th>\n",
       "      <td>8</td>\n",
       "    </tr>\n",
       "    <tr>\n",
       "      <th>9</th>\n",
       "      <td>9</td>\n",
       "    </tr>\n",
       "  </tbody>\n",
       "</table>\n",
       "</div>"
      ],
      "text/plain": [
       "   0\n",
       "0  0\n",
       "1  1\n",
       "2  2\n",
       "3  3\n",
       "4  4\n",
       "5  5\n",
       "6  6\n",
       "7  7\n",
       "8  8\n",
       "9  9"
      ]
     },
     "execution_count": 11,
     "metadata": {},
     "output_type": "execute_result"
    }
   ],
   "source": [
    "# Our small data set\n",
    "d = [0,1,2,3,4,5,6,7,8,9] # DataFrame은 기본적으로 column 단위로 데이터를 관리한다\n",
    "\n",
    "# create dataframe\n",
    "df = pd.DataFrame(d)\n",
    "df"
   ]
  },
  {
   "cell_type": "code",
   "execution_count": 12,
   "metadata": {
    "ExecuteTime": {
     "end_time": "2024-02-21T09:00:12.995395Z",
     "start_time": "2024-02-21T09:00:12.924127Z"
    }
   },
   "outputs": [
    {
     "data": {
      "text/html": [
       "<div>\n",
       "<style scoped>\n",
       "    .dataframe tbody tr th:only-of-type {\n",
       "        vertical-align: middle;\n",
       "    }\n",
       "\n",
       "    .dataframe tbody tr th {\n",
       "        vertical-align: top;\n",
       "    }\n",
       "\n",
       "    .dataframe thead th {\n",
       "        text-align: right;\n",
       "    }\n",
       "</style>\n",
       "<table border=\"1\" class=\"dataframe\">\n",
       "  <thead>\n",
       "    <tr style=\"text-align: right;\">\n",
       "      <th></th>\n",
       "      <th>Names</th>\n",
       "      <th>Births</th>\n",
       "    </tr>\n",
       "  </thead>\n",
       "  <tbody>\n",
       "    <tr>\n",
       "      <th>0</th>\n",
       "      <td>Bob</td>\n",
       "      <td>988</td>\n",
       "    </tr>\n",
       "    <tr>\n",
       "      <th>1</th>\n",
       "      <td>Jessica</td>\n",
       "      <td>155</td>\n",
       "    </tr>\n",
       "    <tr>\n",
       "      <th>2</th>\n",
       "      <td>Mary</td>\n",
       "      <td>77</td>\n",
       "    </tr>\n",
       "    <tr>\n",
       "      <th>3</th>\n",
       "      <td>John</td>\n",
       "      <td>578</td>\n",
       "    </tr>\n",
       "    <tr>\n",
       "      <th>4</th>\n",
       "      <td>kate</td>\n",
       "      <td>973</td>\n",
       "    </tr>\n",
       "  </tbody>\n",
       "</table>\n",
       "</div>"
      ],
      "text/plain": [
       "     Names  Births\n",
       "0      Bob     988\n",
       "1  Jessica     155\n",
       "2     Mary      77\n",
       "3     John     578\n",
       "4     kate     973"
      ]
     },
     "execution_count": 12,
     "metadata": {},
     "output_type": "execute_result"
    }
   ],
   "source": [
    "names = ['Bob','Jessica','Mary','John','kate']\n",
    "births = [988,155,77,578,973]\n",
    "BabySet = list(zip(names, births)) # column단위로 리스트를 만들어서 zip을 이용해서 순서쌍을 만들고 데이터를 생성\n",
    "df = pd.DataFrame(data = BabySet, columns = ['Names', 'Births'])\n",
    "df"
   ]
  },
  {
   "cell_type": "code",
   "execution_count": 13,
   "metadata": {
    "ExecuteTime": {
     "end_time": "2024-02-21T09:00:13.062761Z",
     "start_time": "2024-02-21T09:00:12.991812Z"
    }
   },
   "outputs": [
    {
     "data": {
      "text/html": [
       "<div>\n",
       "<style scoped>\n",
       "    .dataframe tbody tr th:only-of-type {\n",
       "        vertical-align: middle;\n",
       "    }\n",
       "\n",
       "    .dataframe tbody tr th {\n",
       "        vertical-align: top;\n",
       "    }\n",
       "\n",
       "    .dataframe thead th {\n",
       "        text-align: right;\n",
       "    }\n",
       "</style>\n",
       "<table border=\"1\" class=\"dataframe\">\n",
       "  <thead>\n",
       "    <tr style=\"text-align: right;\">\n",
       "      <th></th>\n",
       "      <th>Names</th>\n",
       "      <th>Births</th>\n",
       "    </tr>\n",
       "  </thead>\n",
       "  <tbody>\n",
       "    <tr>\n",
       "      <th>0</th>\n",
       "      <td>Bob</td>\n",
       "      <td>988</td>\n",
       "    </tr>\n",
       "    <tr>\n",
       "      <th>1</th>\n",
       "      <td>Jessica</td>\n",
       "      <td>155</td>\n",
       "    </tr>\n",
       "    <tr>\n",
       "      <th>2</th>\n",
       "      <td>Mary</td>\n",
       "      <td>77</td>\n",
       "    </tr>\n",
       "    <tr>\n",
       "      <th>3</th>\n",
       "      <td>John</td>\n",
       "      <td>578</td>\n",
       "    </tr>\n",
       "    <tr>\n",
       "      <th>4</th>\n",
       "      <td>kate</td>\n",
       "      <td>973</td>\n",
       "    </tr>\n",
       "  </tbody>\n",
       "</table>\n",
       "</div>"
      ],
      "text/plain": [
       "     Names  Births\n",
       "0      Bob     988\n",
       "1  Jessica     155\n",
       "2     Mary      77\n",
       "3     John     578\n",
       "4     kate     973"
      ]
     },
     "execution_count": 13,
     "metadata": {},
     "output_type": "execute_result"
    }
   ],
   "source": [
    "names = ['Bob','Jessica','Mary','John','kate']\n",
    "births = [988,155,77,578,973]\n",
    "DicBabySet = {'Names' : names, 'Births' : births} # 사전을 이용해 제작\n",
    "df = pd.DataFrame(data = DicBabySet)\n",
    "df # 위의 것과 같은 결과를 출력한다"
   ]
  },
  {
   "cell_type": "code",
   "execution_count": 14,
   "metadata": {
    "ExecuteTime": {
     "end_time": "2024-02-21T09:00:13.124259Z",
     "start_time": "2024-02-21T09:00:13.061208Z"
    }
   },
   "outputs": [
    {
     "data": {
      "text/html": [
       "<div>\n",
       "<style scoped>\n",
       "    .dataframe tbody tr th:only-of-type {\n",
       "        vertical-align: middle;\n",
       "    }\n",
       "\n",
       "    .dataframe tbody tr th {\n",
       "        vertical-align: top;\n",
       "    }\n",
       "\n",
       "    .dataframe thead th {\n",
       "        text-align: right;\n",
       "    }\n",
       "</style>\n",
       "<table border=\"1\" class=\"dataframe\">\n",
       "  <thead>\n",
       "    <tr style=\"text-align: right;\">\n",
       "      <th></th>\n",
       "      <th>Population</th>\n",
       "      <th>Area</th>\n",
       "    </tr>\n",
       "  </thead>\n",
       "  <tbody>\n",
       "    <tr>\n",
       "      <th>california</th>\n",
       "      <td>1423967</td>\n",
       "      <td>423967</td>\n",
       "    </tr>\n",
       "    <tr>\n",
       "      <th>Texas</th>\n",
       "      <td>1695662</td>\n",
       "      <td>695662</td>\n",
       "    </tr>\n",
       "    <tr>\n",
       "      <th>New York</th>\n",
       "      <td>1141297</td>\n",
       "      <td>141297</td>\n",
       "    </tr>\n",
       "    <tr>\n",
       "      <th>Florida</th>\n",
       "      <td>1170312</td>\n",
       "      <td>170312</td>\n",
       "    </tr>\n",
       "    <tr>\n",
       "      <th>Illinois</th>\n",
       "      <td>1149995</td>\n",
       "      <td>149995</td>\n",
       "    </tr>\n",
       "  </tbody>\n",
       "</table>\n",
       "</div>"
      ],
      "text/plain": [
       "            Population    Area\n",
       "california     1423967  423967\n",
       "Texas          1695662  695662\n",
       "New York       1141297  141297\n",
       "Florida        1170312  170312\n",
       "Illinois       1149995  149995"
      ]
     },
     "execution_count": 14,
     "metadata": {},
     "output_type": "execute_result"
    }
   ],
   "source": [
    "area_dic = {'california' : 423967, 'Texas' : 695662, 'New York' : 141297, \n",
    "            'Florida' : 170312, 'Illinois' : 149995}\n",
    "pop_dic = {'california' : 1423967, 'Texas' : 1695662, 'New York' : 1141297, \n",
    "            'Florida' : 1170312, 'Illinois' : 1149995}\n",
    "area = pd.Series(area_dic) # Series를 이용해 Dataframe 제작\n",
    "population = pd.Series(pop_dic) # 두 개의 series 타입에서 키값을 추출해서 자동으로 index화해서 처리\n",
    "\n",
    "states = pd.DataFrame({'Population' : population, 'Area' : area})\n",
    "states"
   ]
  },
  {
   "cell_type": "code",
   "execution_count": 15,
   "metadata": {
    "ExecuteTime": {
     "end_time": "2024-02-21T09:00:13.200580Z",
     "start_time": "2024-02-21T09:00:13.096382Z"
    }
   },
   "outputs": [
    {
     "data": {
      "text/plain": [
       "Index(['california', 'Texas', 'New York', 'Florida', 'Illinois'], dtype='object')"
      ]
     },
     "execution_count": 15,
     "metadata": {},
     "output_type": "execute_result"
    }
   ],
   "source": [
    "states.index # Index"
   ]
  },
  {
   "cell_type": "code",
   "execution_count": 16,
   "metadata": {
    "ExecuteTime": {
     "end_time": "2024-02-21T09:00:13.284865Z",
     "start_time": "2024-02-21T09:00:13.201076Z"
    }
   },
   "outputs": [
    {
     "data": {
      "text/plain": [
       "array([[1423967,  423967],\n",
       "       [1695662,  695662],\n",
       "       [1141297,  141297],\n",
       "       [1170312,  170312],\n",
       "       [1149995,  149995]], dtype=int64)"
      ]
     },
     "execution_count": 16,
     "metadata": {},
     "output_type": "execute_result"
    }
   ],
   "source": [
    "states.values # ndarray"
   ]
  },
  {
   "cell_type": "markdown",
   "metadata": {},
   "source": [
    "- dictionary를 통해 각 column에 대한 데이터를 저장한 후 dictionary를 DataFrame Class의 생성자 인자로 넘겨주면 DataFrame 객체가 생성된다"
   ]
  },
  {
   "cell_type": "code",
   "execution_count": 17,
   "metadata": {
    "ExecuteTime": {
     "end_time": "2024-02-21T09:00:13.394984Z",
     "start_time": "2024-02-21T09:00:13.273262Z"
    }
   },
   "outputs": [
    {
     "name": "stdout",
     "output_type": "stream",
     "text": [
      "   col0  col1  col2\n",
      "0     1    10   100\n",
      "1     2    20   200\n",
      "2     3    30   300\n",
      "3     4    40   400\n"
     ]
    }
   ],
   "source": [
    "raw_data = {'col0' : [1,2,3,4],\n",
    "            'col1' : [10,20,30,40],\n",
    "            'col2' : [100,200,300,400]}\n",
    "\n",
    "data = pd.DataFrame(raw_data)\n",
    "print(data)"
   ]
  },
  {
   "cell_type": "markdown",
   "metadata": {},
   "source": [
    "raw_data dictionary는 'col0','col1','col2'라는 key 값을 가지며 각 key는 list타입의 value를 가진다"
   ]
  },
  {
   "cell_type": "code",
   "execution_count": 18,
   "metadata": {
    "ExecuteTime": {
     "end_time": "2024-02-21T09:00:13.453673Z",
     "start_time": "2024-02-21T09:00:13.380330Z"
    }
   },
   "outputs": [
    {
     "data": {
      "text/plain": [
       "0    1\n",
       "1    2\n",
       "2    3\n",
       "3    4\n",
       "Name: col0, dtype: int64"
      ]
     },
     "execution_count": 18,
     "metadata": {},
     "output_type": "execute_result"
    }
   ],
   "source": [
    "data['col0']"
   ]
  },
  {
   "cell_type": "markdown",
   "metadata": {},
   "source": [
    "DataFrame에는 3개의 Series 객체가 있고, 이는 'col0','col1','col2'라는 key를 통해 value에 해당하는 Series 객체에 접근할 수 있다"
   ]
  },
  {
   "cell_type": "code",
   "execution_count": 19,
   "metadata": {
    "ExecuteTime": {
     "end_time": "2024-02-21T09:00:13.544923Z",
     "start_time": "2024-02-21T09:00:13.445928Z"
    }
   },
   "outputs": [
    {
     "data": {
      "text/plain": [
       "pandas.core.series.Series"
      ]
     },
     "execution_count": 19,
     "metadata": {},
     "output_type": "execute_result"
    }
   ],
   "source": [
    "type(data['col0'])"
   ]
  },
  {
   "cell_type": "markdown",
   "metadata": {},
   "source": [
    "'col0','col1','col2'라는 문자열은 DataFrame의 각 column을 indexing하는데 사용"
   ]
  },
  {
   "cell_type": "code",
   "execution_count": 20,
   "metadata": {
    "ExecuteTime": {
     "end_time": "2024-02-21T09:00:13.578716Z",
     "start_time": "2024-02-21T09:00:13.534100Z"
    }
   },
   "outputs": [
    {
     "data": {
      "text/html": [
       "<div>\n",
       "<style scoped>\n",
       "    .dataframe tbody tr th:only-of-type {\n",
       "        vertical-align: middle;\n",
       "    }\n",
       "\n",
       "    .dataframe tbody tr th {\n",
       "        vertical-align: top;\n",
       "    }\n",
       "\n",
       "    .dataframe thead th {\n",
       "        text-align: right;\n",
       "    }\n",
       "</style>\n",
       "<table border=\"1\" class=\"dataframe\">\n",
       "  <thead>\n",
       "    <tr style=\"text-align: right;\">\n",
       "      <th></th>\n",
       "      <th>col0</th>\n",
       "      <th>col1</th>\n",
       "      <th>col2</th>\n",
       "    </tr>\n",
       "  </thead>\n",
       "  <tbody>\n",
       "    <tr>\n",
       "      <th>0</th>\n",
       "      <td>1</td>\n",
       "      <td>10</td>\n",
       "      <td>100</td>\n",
       "    </tr>\n",
       "    <tr>\n",
       "      <th>1</th>\n",
       "      <td>2</td>\n",
       "      <td>20</td>\n",
       "      <td>200</td>\n",
       "    </tr>\n",
       "    <tr>\n",
       "      <th>2</th>\n",
       "      <td>3</td>\n",
       "      <td>30</td>\n",
       "      <td>300</td>\n",
       "    </tr>\n",
       "    <tr>\n",
       "      <th>3</th>\n",
       "      <td>4</td>\n",
       "      <td>40</td>\n",
       "      <td>400</td>\n",
       "    </tr>\n",
       "  </tbody>\n",
       "</table>\n",
       "</div>"
      ],
      "text/plain": [
       "   col0  col1  col2\n",
       "0     1    10   100\n",
       "1     2    20   200\n",
       "2     3    30   300\n",
       "3     4    40   400"
      ]
     },
     "execution_count": 20,
     "metadata": {},
     "output_type": "execute_result"
    }
   ],
   "source": [
    "data"
   ]
  },
  {
   "cell_type": "code",
   "execution_count": 21,
   "metadata": {
    "ExecuteTime": {
     "end_time": "2024-02-21T09:00:13.659571Z",
     "start_time": "2024-02-21T09:00:13.573482Z"
    }
   },
   "outputs": [
    {
     "data": {
      "text/html": [
       "<div>\n",
       "<style scoped>\n",
       "    .dataframe tbody tr th:only-of-type {\n",
       "        vertical-align: middle;\n",
       "    }\n",
       "\n",
       "    .dataframe tbody tr th {\n",
       "        vertical-align: top;\n",
       "    }\n",
       "\n",
       "    .dataframe thead th {\n",
       "        text-align: right;\n",
       "    }\n",
       "</style>\n",
       "<table border=\"1\" class=\"dataframe\">\n",
       "  <thead>\n",
       "    <tr style=\"text-align: right;\">\n",
       "      <th></th>\n",
       "      <th>col0</th>\n",
       "      <th>col1</th>\n",
       "      <th>col2</th>\n",
       "    </tr>\n",
       "  </thead>\n",
       "  <tbody>\n",
       "    <tr>\n",
       "      <th>r0</th>\n",
       "      <td>1</td>\n",
       "      <td>10</td>\n",
       "      <td>100</td>\n",
       "    </tr>\n",
       "    <tr>\n",
       "      <th>r1</th>\n",
       "      <td>2</td>\n",
       "      <td>20</td>\n",
       "      <td>200</td>\n",
       "    </tr>\n",
       "    <tr>\n",
       "      <th>r2</th>\n",
       "      <td>3</td>\n",
       "      <td>30</td>\n",
       "      <td>300</td>\n",
       "    </tr>\n",
       "    <tr>\n",
       "      <th>r3</th>\n",
       "      <td>4</td>\n",
       "      <td>40</td>\n",
       "      <td>400</td>\n",
       "    </tr>\n",
       "  </tbody>\n",
       "</table>\n",
       "</div>"
      ],
      "text/plain": [
       "    col0  col1  col2\n",
       "r0     1    10   100\n",
       "r1     2    20   200\n",
       "r2     3    30   300\n",
       "r3     4    40   400"
      ]
     },
     "execution_count": 21,
     "metadata": {},
     "output_type": "execute_result"
    }
   ],
   "source": [
    "data = pd.DataFrame(raw_data, index = ['r0','r1','r2','r3']) # index 이름 직접 지정 가능\n",
    "data"
   ]
  },
  {
   "cell_type": "code",
   "execution_count": 22,
   "metadata": {
    "ExecuteTime": {
     "end_time": "2024-02-21T09:00:13.694493Z",
     "start_time": "2024-02-21T09:00:13.651319Z"
    }
   },
   "outputs": [
    {
     "data": {
      "text/plain": [
       "r0    100\n",
       "r1    200\n",
       "r2    300\n",
       "r3    400\n",
       "Name: col2, dtype: int64"
      ]
     },
     "execution_count": 22,
     "metadata": {},
     "output_type": "execute_result"
    }
   ],
   "source": [
    "data['col2']"
   ]
  },
  {
   "cell_type": "markdown",
   "metadata": {},
   "source": [
    "**column순서, index 순서 변경**"
   ]
  },
  {
   "cell_type": "code",
   "execution_count": 23,
   "metadata": {
    "ExecuteTime": {
     "end_time": "2024-02-21T09:00:13.747797Z",
     "start_time": "2024-02-21T09:00:13.688089Z"
    }
   },
   "outputs": [
    {
     "data": {
      "text/html": [
       "<div>\n",
       "<style scoped>\n",
       "    .dataframe tbody tr th:only-of-type {\n",
       "        vertical-align: middle;\n",
       "    }\n",
       "\n",
       "    .dataframe tbody tr th {\n",
       "        vertical-align: top;\n",
       "    }\n",
       "\n",
       "    .dataframe thead th {\n",
       "        text-align: right;\n",
       "    }\n",
       "</style>\n",
       "<table border=\"1\" class=\"dataframe\">\n",
       "  <thead>\n",
       "    <tr style=\"text-align: right;\">\n",
       "      <th></th>\n",
       "      <th>col1</th>\n",
       "      <th>col2</th>\n",
       "      <th>col0</th>\n",
       "    </tr>\n",
       "  </thead>\n",
       "  <tbody>\n",
       "    <tr>\n",
       "      <th>0</th>\n",
       "      <td>10</td>\n",
       "      <td>100</td>\n",
       "      <td>1</td>\n",
       "    </tr>\n",
       "    <tr>\n",
       "      <th>1</th>\n",
       "      <td>20</td>\n",
       "      <td>200</td>\n",
       "      <td>2</td>\n",
       "    </tr>\n",
       "    <tr>\n",
       "      <th>2</th>\n",
       "      <td>30</td>\n",
       "      <td>300</td>\n",
       "      <td>3</td>\n",
       "    </tr>\n",
       "    <tr>\n",
       "      <th>3</th>\n",
       "      <td>40</td>\n",
       "      <td>400</td>\n",
       "      <td>4</td>\n",
       "    </tr>\n",
       "  </tbody>\n",
       "</table>\n",
       "</div>"
      ],
      "text/plain": [
       "   col1  col2  col0\n",
       "0    10   100     1\n",
       "1    20   200     2\n",
       "2    30   300     3\n",
       "3    40   400     4"
      ]
     },
     "execution_count": 23,
     "metadata": {},
     "output_type": "execute_result"
    }
   ],
   "source": [
    "raw_data = {'col0' : [1,2,3,4],\n",
    "            'col1' : [10,20,30,40],\n",
    "            'col2' : [100,200,300,400]}\n",
    "data = pd.DataFrame(raw_data, columns = ['col1','col2','col0'])  # 이렇게 데이터프레임을 만들 때 column의 순서를 바꿔주면 됨\n",
    "data"
   ]
  },
  {
   "cell_type": "code",
   "execution_count": 24,
   "metadata": {
    "ExecuteTime": {
     "end_time": "2024-02-21T09:00:13.825169Z",
     "start_time": "2024-02-21T09:00:13.736548Z"
    }
   },
   "outputs": [],
   "source": [
    "data.columns = ['col0','col1','col2']"
   ]
  },
  {
   "cell_type": "code",
   "execution_count": 25,
   "metadata": {
    "ExecuteTime": {
     "end_time": "2024-02-21T09:00:13.931055Z",
     "start_time": "2024-02-21T09:00:13.823911Z"
    }
   },
   "outputs": [
    {
     "data": {
      "text/html": [
       "<div>\n",
       "<style scoped>\n",
       "    .dataframe tbody tr th:only-of-type {\n",
       "        vertical-align: middle;\n",
       "    }\n",
       "\n",
       "    .dataframe tbody tr th {\n",
       "        vertical-align: top;\n",
       "    }\n",
       "\n",
       "    .dataframe thead th {\n",
       "        text-align: right;\n",
       "    }\n",
       "</style>\n",
       "<table border=\"1\" class=\"dataframe\">\n",
       "  <thead>\n",
       "    <tr style=\"text-align: right;\">\n",
       "      <th></th>\n",
       "      <th>col0</th>\n",
       "      <th>col1</th>\n",
       "      <th>col2</th>\n",
       "    </tr>\n",
       "  </thead>\n",
       "  <tbody>\n",
       "    <tr>\n",
       "      <th>0</th>\n",
       "      <td>10</td>\n",
       "      <td>100</td>\n",
       "      <td>1</td>\n",
       "    </tr>\n",
       "    <tr>\n",
       "      <th>1</th>\n",
       "      <td>20</td>\n",
       "      <td>200</td>\n",
       "      <td>2</td>\n",
       "    </tr>\n",
       "    <tr>\n",
       "      <th>2</th>\n",
       "      <td>30</td>\n",
       "      <td>300</td>\n",
       "      <td>3</td>\n",
       "    </tr>\n",
       "    <tr>\n",
       "      <th>3</th>\n",
       "      <td>40</td>\n",
       "      <td>400</td>\n",
       "      <td>4</td>\n",
       "    </tr>\n",
       "  </tbody>\n",
       "</table>\n",
       "</div>"
      ],
      "text/plain": [
       "   col0  col1  col2\n",
       "0    10   100     1\n",
       "1    20   200     2\n",
       "2    30   300     3\n",
       "3    40   400     4"
      ]
     },
     "execution_count": 25,
     "metadata": {},
     "output_type": "execute_result"
    }
   ],
   "source": [
    "data # columns argument를 사용하는 경우 column name만 바뀌고 values는 전혀 바뀌지 않는다"
   ]
  },
  {
   "cell_type": "code",
   "execution_count": 26,
   "metadata": {
    "ExecuteTime": {
     "end_time": "2024-02-21T09:00:13.993354Z",
     "start_time": "2024-02-21T09:00:13.915252Z"
    }
   },
   "outputs": [
    {
     "data": {
      "text/html": [
       "<div>\n",
       "<style scoped>\n",
       "    .dataframe tbody tr th:only-of-type {\n",
       "        vertical-align: middle;\n",
       "    }\n",
       "\n",
       "    .dataframe tbody tr th {\n",
       "        vertical-align: top;\n",
       "    }\n",
       "\n",
       "    .dataframe thead th {\n",
       "        text-align: right;\n",
       "    }\n",
       "</style>\n",
       "<table border=\"1\" class=\"dataframe\">\n",
       "  <thead>\n",
       "    <tr style=\"text-align: right;\">\n",
       "      <th></th>\n",
       "      <th>col0</th>\n",
       "      <th>col1</th>\n",
       "      <th>col2</th>\n",
       "    </tr>\n",
       "  </thead>\n",
       "  <tbody>\n",
       "    <tr>\n",
       "      <th>0</th>\n",
       "      <td>10</td>\n",
       "      <td>100</td>\n",
       "      <td>1</td>\n",
       "    </tr>\n",
       "    <tr>\n",
       "      <th>3</th>\n",
       "      <td>40</td>\n",
       "      <td>400</td>\n",
       "      <td>4</td>\n",
       "    </tr>\n",
       "    <tr>\n",
       "      <th>2</th>\n",
       "      <td>30</td>\n",
       "      <td>300</td>\n",
       "      <td>3</td>\n",
       "    </tr>\n",
       "    <tr>\n",
       "      <th>1</th>\n",
       "      <td>20</td>\n",
       "      <td>200</td>\n",
       "      <td>2</td>\n",
       "    </tr>\n",
       "  </tbody>\n",
       "</table>\n",
       "</div>"
      ],
      "text/plain": [
       "   col0  col1  col2\n",
       "0    10   100     1\n",
       "3    40   400     4\n",
       "2    30   300     3\n",
       "1    20   200     2"
      ]
     },
     "execution_count": 26,
     "metadata": {},
     "output_type": "execute_result"
    }
   ],
   "source": [
    "df = data.reindex(index = [0,3,2,1]) # reindex를 사용하면 각 열의 데이터가 보존된 채 열 순서를 바꿀 수 있다\n",
    "df "
   ]
  },
  {
   "cell_type": "code",
   "execution_count": 27,
   "metadata": {
    "ExecuteTime": {
     "end_time": "2024-02-21T09:00:14.100654Z",
     "start_time": "2024-02-21T09:00:13.985393Z"
    }
   },
   "outputs": [
    {
     "data": {
      "text/html": [
       "<div>\n",
       "<style scoped>\n",
       "    .dataframe tbody tr th:only-of-type {\n",
       "        vertical-align: middle;\n",
       "    }\n",
       "\n",
       "    .dataframe tbody tr th {\n",
       "        vertical-align: top;\n",
       "    }\n",
       "\n",
       "    .dataframe thead th {\n",
       "        text-align: right;\n",
       "    }\n",
       "</style>\n",
       "<table border=\"1\" class=\"dataframe\">\n",
       "  <thead>\n",
       "    <tr style=\"text-align: right;\">\n",
       "      <th></th>\n",
       "      <th>col0</th>\n",
       "      <th>col1</th>\n",
       "      <th>col2</th>\n",
       "    </tr>\n",
       "  </thead>\n",
       "  <tbody>\n",
       "    <tr>\n",
       "      <th>1</th>\n",
       "      <td>10</td>\n",
       "      <td>100</td>\n",
       "      <td>1</td>\n",
       "    </tr>\n",
       "    <tr>\n",
       "      <th>2</th>\n",
       "      <td>40</td>\n",
       "      <td>400</td>\n",
       "      <td>4</td>\n",
       "    </tr>\n",
       "    <tr>\n",
       "      <th>3</th>\n",
       "      <td>30</td>\n",
       "      <td>300</td>\n",
       "      <td>3</td>\n",
       "    </tr>\n",
       "    <tr>\n",
       "      <th>4</th>\n",
       "      <td>20</td>\n",
       "      <td>200</td>\n",
       "      <td>2</td>\n",
       "    </tr>\n",
       "  </tbody>\n",
       "</table>\n",
       "</div>"
      ],
      "text/plain": [
       "   col0  col1  col2\n",
       "1    10   100     1\n",
       "2    40   400     4\n",
       "3    30   300     3\n",
       "4    20   200     2"
      ]
     },
     "execution_count": 27,
     "metadata": {},
     "output_type": "execute_result"
    }
   ],
   "source": [
    "df.index = [1,2,3,4]\n",
    "df # index 속성을 사용하여 바꾸는 경우 index 이름만 바뀐다"
   ]
  },
  {
   "cell_type": "markdown",
   "metadata": {},
   "source": [
    "### column 추가\n",
    "- 원하는 위치의 값을 변경 : loc 옵션\n",
    "- 사전의 연산처럼 없는 행의 이름을 지정하고 데이터를 저장하면 새로운 행이 생성된다"
   ]
  },
  {
   "cell_type": "code",
   "execution_count": 28,
   "metadata": {
    "ExecuteTime": {
     "end_time": "2024-02-21T09:00:14.166581Z",
     "start_time": "2024-02-21T09:00:14.085758Z"
    }
   },
   "outputs": [
    {
     "data": {
      "text/html": [
       "<div>\n",
       "<style scoped>\n",
       "    .dataframe tbody tr th:only-of-type {\n",
       "        vertical-align: middle;\n",
       "    }\n",
       "\n",
       "    .dataframe tbody tr th {\n",
       "        vertical-align: top;\n",
       "    }\n",
       "\n",
       "    .dataframe thead th {\n",
       "        text-align: right;\n",
       "    }\n",
       "</style>\n",
       "<table border=\"1\" class=\"dataframe\">\n",
       "  <thead>\n",
       "    <tr style=\"text-align: right;\">\n",
       "      <th></th>\n",
       "      <th>col0</th>\n",
       "      <th>col1</th>\n",
       "      <th>col2</th>\n",
       "      <th>col3</th>\n",
       "    </tr>\n",
       "  </thead>\n",
       "  <tbody>\n",
       "    <tr>\n",
       "      <th>1</th>\n",
       "      <td>10</td>\n",
       "      <td>100</td>\n",
       "      <td>1</td>\n",
       "      <td>NaN</td>\n",
       "    </tr>\n",
       "    <tr>\n",
       "      <th>2</th>\n",
       "      <td>40</td>\n",
       "      <td>400</td>\n",
       "      <td>4</td>\n",
       "      <td>NaN</td>\n",
       "    </tr>\n",
       "    <tr>\n",
       "      <th>3</th>\n",
       "      <td>30</td>\n",
       "      <td>300</td>\n",
       "      <td>3</td>\n",
       "      <td>NaN</td>\n",
       "    </tr>\n",
       "    <tr>\n",
       "      <th>4</th>\n",
       "      <td>20</td>\n",
       "      <td>200</td>\n",
       "      <td>2</td>\n",
       "      <td>NaN</td>\n",
       "    </tr>\n",
       "  </tbody>\n",
       "</table>\n",
       "</div>"
      ],
      "text/plain": [
       "   col0  col1  col2  col3\n",
       "1    10   100     1   NaN\n",
       "2    40   400     4   NaN\n",
       "3    30   300     3   NaN\n",
       "4    20   200     2   NaN"
      ]
     },
     "execution_count": 28,
     "metadata": {},
     "output_type": "execute_result"
    }
   ],
   "source": [
    "import numpy as np\n",
    "df['col3'] = np.nan\n",
    "df"
   ]
  },
  {
   "cell_type": "code",
   "execution_count": 29,
   "metadata": {
    "ExecuteTime": {
     "end_time": "2024-02-21T09:00:14.292051Z",
     "start_time": "2024-02-21T09:00:14.164991Z"
    }
   },
   "outputs": [
    {
     "data": {
      "text/html": [
       "<div>\n",
       "<style scoped>\n",
       "    .dataframe tbody tr th:only-of-type {\n",
       "        vertical-align: middle;\n",
       "    }\n",
       "\n",
       "    .dataframe tbody tr th {\n",
       "        vertical-align: top;\n",
       "    }\n",
       "\n",
       "    .dataframe thead th {\n",
       "        text-align: right;\n",
       "    }\n",
       "</style>\n",
       "<table border=\"1\" class=\"dataframe\">\n",
       "  <thead>\n",
       "    <tr style=\"text-align: right;\">\n",
       "      <th></th>\n",
       "      <th>col0</th>\n",
       "      <th>col1</th>\n",
       "      <th>col2</th>\n",
       "      <th>col3</th>\n",
       "    </tr>\n",
       "  </thead>\n",
       "  <tbody>\n",
       "    <tr>\n",
       "      <th>1</th>\n",
       "      <td>10</td>\n",
       "      <td>100</td>\n",
       "      <td>1</td>\n",
       "      <td>2000.0</td>\n",
       "    </tr>\n",
       "    <tr>\n",
       "      <th>2</th>\n",
       "      <td>40</td>\n",
       "      <td>400</td>\n",
       "      <td>4</td>\n",
       "      <td>NaN</td>\n",
       "    </tr>\n",
       "    <tr>\n",
       "      <th>3</th>\n",
       "      <td>30</td>\n",
       "      <td>300</td>\n",
       "      <td>3</td>\n",
       "      <td>NaN</td>\n",
       "    </tr>\n",
       "    <tr>\n",
       "      <th>4</th>\n",
       "      <td>20</td>\n",
       "      <td>200</td>\n",
       "      <td>2</td>\n",
       "      <td>NaN</td>\n",
       "    </tr>\n",
       "  </tbody>\n",
       "</table>\n",
       "</div>"
      ],
      "text/plain": [
       "   col0  col1  col2    col3\n",
       "1    10   100     1  2000.0\n",
       "2    40   400     4     NaN\n",
       "3    30   300     3     NaN\n",
       "4    20   200     2     NaN"
      ]
     },
     "execution_count": 29,
     "metadata": {},
     "output_type": "execute_result"
    }
   ],
   "source": [
    "df.loc[1, ['col3']] = 2000\n",
    "df"
   ]
  },
  {
   "cell_type": "code",
   "execution_count": 30,
   "metadata": {
    "ExecuteTime": {
     "end_time": "2024-02-21T09:00:14.343941Z",
     "start_time": "2024-02-21T09:00:14.264746Z"
    }
   },
   "outputs": [
    {
     "data": {
      "text/html": [
       "<div>\n",
       "<style scoped>\n",
       "    .dataframe tbody tr th:only-of-type {\n",
       "        vertical-align: middle;\n",
       "    }\n",
       "\n",
       "    .dataframe tbody tr th {\n",
       "        vertical-align: top;\n",
       "    }\n",
       "\n",
       "    .dataframe thead th {\n",
       "        text-align: right;\n",
       "    }\n",
       "</style>\n",
       "<table border=\"1\" class=\"dataframe\">\n",
       "  <thead>\n",
       "    <tr style=\"text-align: right;\">\n",
       "      <th></th>\n",
       "      <th>col0</th>\n",
       "      <th>col1</th>\n",
       "      <th>col2</th>\n",
       "      <th>col3</th>\n",
       "      <th>Newcol</th>\n",
       "    </tr>\n",
       "  </thead>\n",
       "  <tbody>\n",
       "    <tr>\n",
       "      <th>1</th>\n",
       "      <td>10</td>\n",
       "      <td>100</td>\n",
       "      <td>1</td>\n",
       "      <td>2000.0</td>\n",
       "      <td>101</td>\n",
       "    </tr>\n",
       "    <tr>\n",
       "      <th>2</th>\n",
       "      <td>40</td>\n",
       "      <td>400</td>\n",
       "      <td>4</td>\n",
       "      <td>NaN</td>\n",
       "      <td>404</td>\n",
       "    </tr>\n",
       "    <tr>\n",
       "      <th>3</th>\n",
       "      <td>30</td>\n",
       "      <td>300</td>\n",
       "      <td>3</td>\n",
       "      <td>NaN</td>\n",
       "      <td>303</td>\n",
       "    </tr>\n",
       "    <tr>\n",
       "      <th>4</th>\n",
       "      <td>20</td>\n",
       "      <td>200</td>\n",
       "      <td>2</td>\n",
       "      <td>NaN</td>\n",
       "      <td>202</td>\n",
       "    </tr>\n",
       "  </tbody>\n",
       "</table>\n",
       "</div>"
      ],
      "text/plain": [
       "   col0  col1  col2    col3  Newcol\n",
       "1    10   100     1  2000.0     101\n",
       "2    40   400     4     NaN     404\n",
       "3    30   300     3     NaN     303\n",
       "4    20   200     2     NaN     202"
      ]
     },
     "execution_count": 30,
     "metadata": {},
     "output_type": "execute_result"
    }
   ],
   "source": [
    "df['Newcol'] = df['col1'] + df['col2'] # column간 연산도 가능하다\n",
    "df"
   ]
  },
  {
   "cell_type": "code",
   "execution_count": 31,
   "metadata": {
    "ExecuteTime": {
     "end_time": "2024-02-21T09:00:14.501447Z",
     "start_time": "2024-02-21T09:00:14.343173Z"
    }
   },
   "outputs": [
    {
     "data": {
      "text/html": [
       "<div>\n",
       "<style scoped>\n",
       "    .dataframe tbody tr th:only-of-type {\n",
       "        vertical-align: middle;\n",
       "    }\n",
       "\n",
       "    .dataframe tbody tr th {\n",
       "        vertical-align: top;\n",
       "    }\n",
       "\n",
       "    .dataframe thead th {\n",
       "        text-align: right;\n",
       "    }\n",
       "</style>\n",
       "<table border=\"1\" class=\"dataframe\">\n",
       "  <thead>\n",
       "    <tr style=\"text-align: right;\">\n",
       "      <th></th>\n",
       "      <th>col0</th>\n",
       "      <th>col1</th>\n",
       "      <th>col2</th>\n",
       "      <th>col3</th>\n",
       "      <th>Newcol</th>\n",
       "    </tr>\n",
       "  </thead>\n",
       "  <tbody>\n",
       "    <tr>\n",
       "      <th>1</th>\n",
       "      <td>10.0</td>\n",
       "      <td>100.0</td>\n",
       "      <td>1.0</td>\n",
       "      <td>2000.0</td>\n",
       "      <td>101.0</td>\n",
       "    </tr>\n",
       "    <tr>\n",
       "      <th>2</th>\n",
       "      <td>40.0</td>\n",
       "      <td>400.0</td>\n",
       "      <td>4.0</td>\n",
       "      <td>NaN</td>\n",
       "      <td>404.0</td>\n",
       "    </tr>\n",
       "    <tr>\n",
       "      <th>3</th>\n",
       "      <td>30.0</td>\n",
       "      <td>300.0</td>\n",
       "      <td>3.0</td>\n",
       "      <td>NaN</td>\n",
       "      <td>303.0</td>\n",
       "    </tr>\n",
       "    <tr>\n",
       "      <th>4</th>\n",
       "      <td>NaN</td>\n",
       "      <td>NaN</td>\n",
       "      <td>NaN</td>\n",
       "      <td>NaN</td>\n",
       "      <td>NaN</td>\n",
       "    </tr>\n",
       "  </tbody>\n",
       "</table>\n",
       "</div>"
      ],
      "text/plain": [
       "   col0   col1  col2    col3  Newcol\n",
       "1  10.0  100.0   1.0  2000.0   101.0\n",
       "2  40.0  400.0   4.0     NaN   404.0\n",
       "3  30.0  300.0   3.0     NaN   303.0\n",
       "4   NaN    NaN   NaN     NaN     NaN"
      ]
     },
     "execution_count": 31,
     "metadata": {},
     "output_type": "execute_result"
    }
   ],
   "source": [
    "df.loc[4] = np.nan # loc method를 통해 행 추가도 가능하다\n",
    "df"
   ]
  },
  {
   "cell_type": "markdown",
   "metadata": {},
   "source": [
    "### Example 1. \n",
    "주가를 DataFrame으로 저장해보기\n",
    "\n",
    "- 22.02.13 ~ 24.02.17일 사이의 일자별 주가 중 시가, 고가, 저가, 종가를 DataFrame으로 저장해보자\n",
    "- 참고로 시가, 고가, 저가, 종가는 영어로 open, high, low, close라고 부르며 약어로 **OHLC**라고 한다"
   ]
  },
  {
   "cell_type": "code",
   "execution_count": 32,
   "metadata": {
    "ExecuteTime": {
     "end_time": "2024-02-21T09:00:15.004618Z",
     "start_time": "2024-02-21T09:00:14.476267Z"
    }
   },
   "outputs": [],
   "source": [
    "import pandas_datareader as wb\n",
    "import datetime\n",
    "\n",
    "start = datetime.datetime(2022, 2, 13)\n",
    "end = datetime.datetime(2024, 2, 17)\n",
    "df = wb.DataReader(\"005930\", \"naver\", start, end)"
   ]
  },
  {
   "cell_type": "code",
   "execution_count": 33,
   "metadata": {
    "ExecuteTime": {
     "end_time": "2024-02-21T09:00:15.043566Z",
     "start_time": "2024-02-21T09:00:14.969724Z"
    }
   },
   "outputs": [
    {
     "data": {
      "text/html": [
       "<div>\n",
       "<style scoped>\n",
       "    .dataframe tbody tr th:only-of-type {\n",
       "        vertical-align: middle;\n",
       "    }\n",
       "\n",
       "    .dataframe tbody tr th {\n",
       "        vertical-align: top;\n",
       "    }\n",
       "\n",
       "    .dataframe thead th {\n",
       "        text-align: right;\n",
       "    }\n",
       "</style>\n",
       "<table border=\"1\" class=\"dataframe\">\n",
       "  <thead>\n",
       "    <tr style=\"text-align: right;\">\n",
       "      <th></th>\n",
       "      <th>Open</th>\n",
       "      <th>High</th>\n",
       "      <th>Low</th>\n",
       "      <th>Close</th>\n",
       "      <th>Volume</th>\n",
       "    </tr>\n",
       "    <tr>\n",
       "      <th>Date</th>\n",
       "      <th></th>\n",
       "      <th></th>\n",
       "      <th></th>\n",
       "      <th></th>\n",
       "      <th></th>\n",
       "    </tr>\n",
       "  </thead>\n",
       "  <tbody>\n",
       "    <tr>\n",
       "      <th>2022-02-14</th>\n",
       "      <td>74400</td>\n",
       "      <td>74500</td>\n",
       "      <td>73100</td>\n",
       "      <td>73700</td>\n",
       "      <td>13993255</td>\n",
       "    </tr>\n",
       "    <tr>\n",
       "      <th>2022-02-15</th>\n",
       "      <td>74100</td>\n",
       "      <td>74200</td>\n",
       "      <td>73100</td>\n",
       "      <td>73700</td>\n",
       "      <td>9320365</td>\n",
       "    </tr>\n",
       "    <tr>\n",
       "      <th>2022-02-16</th>\n",
       "      <td>74600</td>\n",
       "      <td>74900</td>\n",
       "      <td>74200</td>\n",
       "      <td>74800</td>\n",
       "      <td>10767386</td>\n",
       "    </tr>\n",
       "    <tr>\n",
       "      <th>2022-02-17</th>\n",
       "      <td>75000</td>\n",
       "      <td>75600</td>\n",
       "      <td>74500</td>\n",
       "      <td>75000</td>\n",
       "      <td>13605382</td>\n",
       "    </tr>\n",
       "    <tr>\n",
       "      <th>2022-02-18</th>\n",
       "      <td>74600</td>\n",
       "      <td>74800</td>\n",
       "      <td>73700</td>\n",
       "      <td>74300</td>\n",
       "      <td>10122226</td>\n",
       "    </tr>\n",
       "    <tr>\n",
       "      <th>...</th>\n",
       "      <td>...</td>\n",
       "      <td>...</td>\n",
       "      <td>...</td>\n",
       "      <td>...</td>\n",
       "      <td>...</td>\n",
       "    </tr>\n",
       "    <tr>\n",
       "      <th>2024-02-08</th>\n",
       "      <td>75000</td>\n",
       "      <td>75200</td>\n",
       "      <td>73600</td>\n",
       "      <td>74100</td>\n",
       "      <td>20810708</td>\n",
       "    </tr>\n",
       "    <tr>\n",
       "      <th>2024-02-13</th>\n",
       "      <td>74800</td>\n",
       "      <td>75200</td>\n",
       "      <td>74400</td>\n",
       "      <td>75200</td>\n",
       "      <td>21966745</td>\n",
       "    </tr>\n",
       "    <tr>\n",
       "      <th>2024-02-14</th>\n",
       "      <td>73700</td>\n",
       "      <td>74300</td>\n",
       "      <td>73700</td>\n",
       "      <td>74000</td>\n",
       "      <td>12434945</td>\n",
       "    </tr>\n",
       "    <tr>\n",
       "      <th>2024-02-15</th>\n",
       "      <td>74200</td>\n",
       "      <td>74400</td>\n",
       "      <td>73000</td>\n",
       "      <td>73000</td>\n",
       "      <td>14120600</td>\n",
       "    </tr>\n",
       "    <tr>\n",
       "      <th>2024-02-16</th>\n",
       "      <td>73300</td>\n",
       "      <td>73400</td>\n",
       "      <td>72500</td>\n",
       "      <td>72800</td>\n",
       "      <td>13444781</td>\n",
       "    </tr>\n",
       "  </tbody>\n",
       "</table>\n",
       "<p>496 rows × 5 columns</p>\n",
       "</div>"
      ],
      "text/plain": [
       "             Open   High    Low  Close    Volume\n",
       "Date                                            \n",
       "2022-02-14  74400  74500  73100  73700  13993255\n",
       "2022-02-15  74100  74200  73100  73700   9320365\n",
       "2022-02-16  74600  74900  74200  74800  10767386\n",
       "2022-02-17  75000  75600  74500  75000  13605382\n",
       "2022-02-18  74600  74800  73700  74300  10122226\n",
       "...           ...    ...    ...    ...       ...\n",
       "2024-02-08  75000  75200  73600  74100  20810708\n",
       "2024-02-13  74800  75200  74400  75200  21966745\n",
       "2024-02-14  73700  74300  73700  74000  12434945\n",
       "2024-02-15  74200  74400  73000  73000  14120600\n",
       "2024-02-16  73300  73400  72500  72800  13444781\n",
       "\n",
       "[496 rows x 5 columns]"
      ]
     },
     "execution_count": 33,
     "metadata": {},
     "output_type": "execute_result"
    }
   ],
   "source": [
    "df"
   ]
  },
  {
   "cell_type": "code",
   "execution_count": 34,
   "metadata": {
    "ExecuteTime": {
     "end_time": "2024-02-21T09:00:15.048833Z",
     "start_time": "2024-02-21T09:00:14.972519Z"
    }
   },
   "outputs": [
    {
     "data": {
      "text/plain": [
       "Date\n",
       "2022-02-14    74400\n",
       "2022-02-15    74100\n",
       "2022-02-16    74600\n",
       "2022-02-17    75000\n",
       "2022-02-18    74600\n",
       "              ...  \n",
       "2024-02-08    75000\n",
       "2024-02-13    74800\n",
       "2024-02-14    73700\n",
       "2024-02-15    74200\n",
       "2024-02-16    73300\n",
       "Name: Open, Length: 496, dtype: object"
      ]
     },
     "execution_count": 34,
     "metadata": {},
     "output_type": "execute_result"
    }
   ],
   "source": [
    "df.Open # 시가"
   ]
  },
  {
   "cell_type": "code",
   "execution_count": 35,
   "metadata": {
    "ExecuteTime": {
     "end_time": "2024-02-21T09:00:15.056784Z",
     "start_time": "2024-02-21T09:00:15.004061Z"
    }
   },
   "outputs": [
    {
     "data": {
      "text/plain": [
       "Date\n",
       "2022-02-14    73700\n",
       "2022-02-15    73700\n",
       "2022-02-16    74800\n",
       "2022-02-17    75000\n",
       "2022-02-18    74300\n",
       "              ...  \n",
       "2024-02-08    74100\n",
       "2024-02-13    75200\n",
       "2024-02-14    74000\n",
       "2024-02-15    73000\n",
       "2024-02-16    72800\n",
       "Name: Close, Length: 496, dtype: object"
      ]
     },
     "execution_count": 35,
     "metadata": {},
     "output_type": "execute_result"
    }
   ],
   "source": [
    "df['Close'] # 종가"
   ]
  },
  {
   "cell_type": "markdown",
   "metadata": {},
   "source": [
    "### date_range\n",
    "- pandas의 date_range 함수를 쓰면 모든 날짜/시간을 일일이 입력할 필요 없이 시작일과 종료일 또는 시작일과 기간을 입력하면, 범위 내의 인덱스를 생성해 준다\n",
    "\n",
    "|**option**|설명|\n",
    "|:---:|:---:|\n",
    "|**s**|초|\n",
    "|**T**|분|\n",
    "|**H**|시간|\n",
    "|**D**|Days|\n",
    "|**B**|Buisness Days|\n",
    "|**W**|주(일요일기준)|\n",
    "|**W-MON**|주(월요일기준)|\n",
    "|**M**|각 달의 마지막 날|\n",
    "|**MS**|각 달의 첫날|\n",
    "|**BM**|주말이 아닌 영업일 중에서 각 달의 마지막 날|\n",
    "|**BMS**|주말이 아닌 영업일 중에서 각 달의 첫날|\n",
    "|**WOM-2THU**|각 달의 두 번째 목요일|\n",
    "|**Q-JAN**|각 분기의 첫달의 마지막 날|\n",
    "|**Q-DEC**|각 분기의 마지막 달의 마지막 날|"
   ]
  },
  {
   "cell_type": "code",
   "execution_count": 36,
   "metadata": {
    "ExecuteTime": {
     "end_time": "2024-02-21T09:00:15.069091Z",
     "start_time": "2024-02-21T09:00:15.009927Z"
    }
   },
   "outputs": [
    {
     "data": {
      "text/plain": [
       "DatetimeIndex(['2024-01-01', '2024-01-02', '2024-01-03', '2024-01-04',\n",
       "               '2024-01-05', '2024-01-06', '2024-01-07', '2024-01-08',\n",
       "               '2024-01-09', '2024-01-10', '2024-01-11', '2024-01-12',\n",
       "               '2024-01-13', '2024-01-14', '2024-01-15', '2024-01-16',\n",
       "               '2024-01-17', '2024-01-18', '2024-01-19', '2024-01-20',\n",
       "               '2024-01-21', '2024-01-22', '2024-01-23', '2024-01-24',\n",
       "               '2024-01-25', '2024-01-26', '2024-01-27', '2024-01-28',\n",
       "               '2024-01-29', '2024-01-30', '2024-01-31', '2024-02-01',\n",
       "               '2024-02-02', '2024-02-03', '2024-02-04', '2024-02-05',\n",
       "               '2024-02-06', '2024-02-07', '2024-02-08', '2024-02-09',\n",
       "               '2024-02-10', '2024-02-11', '2024-02-12', '2024-02-13',\n",
       "               '2024-02-14', '2024-02-15', '2024-02-16', '2024-02-17',\n",
       "               '2024-02-18', '2024-02-19', '2024-02-20'],\n",
       "              dtype='datetime64[ns]', freq='D')"
      ]
     },
     "execution_count": 36,
     "metadata": {},
     "output_type": "execute_result"
    }
   ],
   "source": [
    "pd.date_range('2024-01-01', '2024-02-20')"
   ]
  },
  {
   "cell_type": "markdown",
   "metadata": {},
   "source": [
    "`to_datetime()` 함수를 사용하면 Datetime Index로 변경할 수 있다"
   ]
  },
  {
   "cell_type": "code",
   "execution_count": 37,
   "metadata": {
    "ExecuteTime": {
     "end_time": "2024-02-21T09:00:15.069414Z",
     "start_time": "2024-02-21T09:00:15.012513Z"
    }
   },
   "outputs": [
    {
     "data": {
      "text/plain": [
       "DatetimeIndex(['2022-02-14', '2022-02-15', '2022-02-16', '2022-02-17',\n",
       "               '2022-02-18', '2022-02-21', '2022-02-22', '2022-02-23',\n",
       "               '2022-02-24', '2022-02-25',\n",
       "               ...\n",
       "               '2024-02-01', '2024-02-02', '2024-02-05', '2024-02-06',\n",
       "               '2024-02-07', '2024-02-08', '2024-02-13', '2024-02-14',\n",
       "               '2024-02-15', '2024-02-16'],\n",
       "              dtype='datetime64[ns]', name='Date', length=496, freq=None)"
      ]
     },
     "execution_count": 37,
     "metadata": {},
     "output_type": "execute_result"
    }
   ],
   "source": [
    "pd.to_datetime(df.index)"
   ]
  },
  {
   "cell_type": "markdown",
   "metadata": {},
   "source": [
    "### 외부 파일 읽어오기\n",
    "- api형태로 notebook이나 studio를 통해 바로 읽어들일 수 있지만, 프로젝트 수행 시 그렇지 않는 경우가 더 많다\n",
    "- pandas내의 method를 통해 excel 파일과 csv파일을 Data Frame의 형태로 불러올 수 있다"
   ]
  },
  {
   "cell_type": "code",
   "execution_count": 38,
   "metadata": {
    "ExecuteTime": {
     "end_time": "2024-02-21T09:00:15.071180Z",
     "start_time": "2024-02-21T09:00:15.018683Z"
    }
   },
   "outputs": [],
   "source": [
    "usd = pd.read_csv('./data/USD_KRW.csv') # excel파일을 불러오고 싶은 경우, read_excel() method 사용"
   ]
  },
  {
   "cell_type": "code",
   "execution_count": 39,
   "metadata": {
    "ExecuteTime": {
     "end_time": "2024-02-21T09:00:15.124846Z",
     "start_time": "2024-02-21T09:00:15.029375Z"
    }
   },
   "outputs": [
    {
     "data": {
      "text/html": [
       "<div>\n",
       "<style scoped>\n",
       "    .dataframe tbody tr th:only-of-type {\n",
       "        vertical-align: middle;\n",
       "    }\n",
       "\n",
       "    .dataframe tbody tr th {\n",
       "        vertical-align: top;\n",
       "    }\n",
       "\n",
       "    .dataframe thead th {\n",
       "        text-align: right;\n",
       "    }\n",
       "</style>\n",
       "<table border=\"1\" class=\"dataframe\">\n",
       "  <thead>\n",
       "    <tr style=\"text-align: right;\">\n",
       "      <th></th>\n",
       "      <th>Date</th>\n",
       "      <th>Price</th>\n",
       "      <th>Open</th>\n",
       "      <th>High</th>\n",
       "      <th>Low</th>\n",
       "      <th>Vol.</th>\n",
       "      <th>Change %</th>\n",
       "    </tr>\n",
       "  </thead>\n",
       "  <tbody>\n",
       "    <tr>\n",
       "      <th>0</th>\n",
       "      <td>09/27/2023</td>\n",
       "      <td>1,356.82</td>\n",
       "      <td>1,353.80</td>\n",
       "      <td>1,356.82</td>\n",
       "      <td>1,347.60</td>\n",
       "      <td>NaN</td>\n",
       "      <td>0.29%</td>\n",
       "    </tr>\n",
       "    <tr>\n",
       "      <th>1</th>\n",
       "      <td>09/26/2023</td>\n",
       "      <td>1,352.93</td>\n",
       "      <td>1,339.69</td>\n",
       "      <td>1,354.97</td>\n",
       "      <td>1,337.31</td>\n",
       "      <td>NaN</td>\n",
       "      <td>1.12%</td>\n",
       "    </tr>\n",
       "    <tr>\n",
       "      <th>2</th>\n",
       "      <td>09/25/2023</td>\n",
       "      <td>1,338.01</td>\n",
       "      <td>1,335.56</td>\n",
       "      <td>1,341.47</td>\n",
       "      <td>1,330.14</td>\n",
       "      <td>NaN</td>\n",
       "      <td>0.30%</td>\n",
       "    </tr>\n",
       "    <tr>\n",
       "      <th>3</th>\n",
       "      <td>09/22/2023</td>\n",
       "      <td>1,334.03</td>\n",
       "      <td>1,339.57</td>\n",
       "      <td>1,341.81</td>\n",
       "      <td>1,330.74</td>\n",
       "      <td>NaN</td>\n",
       "      <td>-0.37%</td>\n",
       "    </tr>\n",
       "    <tr>\n",
       "      <th>4</th>\n",
       "      <td>09/21/2023</td>\n",
       "      <td>1,339.00</td>\n",
       "      <td>1,333.44</td>\n",
       "      <td>1,344.65</td>\n",
       "      <td>1,331.67</td>\n",
       "      <td>NaN</td>\n",
       "      <td>0.46%</td>\n",
       "    </tr>\n",
       "    <tr>\n",
       "      <th>...</th>\n",
       "      <td>...</td>\n",
       "      <td>...</td>\n",
       "      <td>...</td>\n",
       "      <td>...</td>\n",
       "      <td>...</td>\n",
       "      <td>...</td>\n",
       "      <td>...</td>\n",
       "    </tr>\n",
       "    <tr>\n",
       "      <th>971</th>\n",
       "      <td>01/07/2020</td>\n",
       "      <td>1,167.30</td>\n",
       "      <td>1,167.54</td>\n",
       "      <td>1,168.82</td>\n",
       "      <td>1,163.11</td>\n",
       "      <td>NaN</td>\n",
       "      <td>0.03%</td>\n",
       "    </tr>\n",
       "    <tr>\n",
       "      <th>972</th>\n",
       "      <td>01/06/2020</td>\n",
       "      <td>1,166.94</td>\n",
       "      <td>1,165.89</td>\n",
       "      <td>1,172.99</td>\n",
       "      <td>1,165.78</td>\n",
       "      <td>NaN</td>\n",
       "      <td>0.17%</td>\n",
       "    </tr>\n",
       "    <tr>\n",
       "      <th>973</th>\n",
       "      <td>01/03/2020</td>\n",
       "      <td>1,164.95</td>\n",
       "      <td>1,157.94</td>\n",
       "      <td>1,168.83</td>\n",
       "      <td>1,155.70</td>\n",
       "      <td>NaN</td>\n",
       "      <td>0.66%</td>\n",
       "    </tr>\n",
       "    <tr>\n",
       "      <th>974</th>\n",
       "      <td>01/02/2020</td>\n",
       "      <td>1,157.35</td>\n",
       "      <td>1,155.02</td>\n",
       "      <td>1,161.15</td>\n",
       "      <td>1,153.48</td>\n",
       "      <td>NaN</td>\n",
       "      <td>0.29%</td>\n",
       "    </tr>\n",
       "    <tr>\n",
       "      <th>975</th>\n",
       "      <td>01/01/2020</td>\n",
       "      <td>1,154.02</td>\n",
       "      <td>1,155.07</td>\n",
       "      <td>1,155.32</td>\n",
       "      <td>1,154.08</td>\n",
       "      <td>NaN</td>\n",
       "      <td>0.00%</td>\n",
       "    </tr>\n",
       "  </tbody>\n",
       "</table>\n",
       "<p>976 rows × 7 columns</p>\n",
       "</div>"
      ],
      "text/plain": [
       "           Date     Price      Open      High       Low  Vol. Change %\n",
       "0    09/27/2023  1,356.82  1,353.80  1,356.82  1,347.60   NaN    0.29%\n",
       "1    09/26/2023  1,352.93  1,339.69  1,354.97  1,337.31   NaN    1.12%\n",
       "2    09/25/2023  1,338.01  1,335.56  1,341.47  1,330.14   NaN    0.30%\n",
       "3    09/22/2023  1,334.03  1,339.57  1,341.81  1,330.74   NaN   -0.37%\n",
       "4    09/21/2023  1,339.00  1,333.44  1,344.65  1,331.67   NaN    0.46%\n",
       "..          ...       ...       ...       ...       ...   ...      ...\n",
       "971  01/07/2020  1,167.30  1,167.54  1,168.82  1,163.11   NaN    0.03%\n",
       "972  01/06/2020  1,166.94  1,165.89  1,172.99  1,165.78   NaN    0.17%\n",
       "973  01/03/2020  1,164.95  1,157.94  1,168.83  1,155.70   NaN    0.66%\n",
       "974  01/02/2020  1,157.35  1,155.02  1,161.15  1,153.48   NaN    0.29%\n",
       "975  01/01/2020  1,154.02  1,155.07  1,155.32  1,154.08   NaN    0.00%\n",
       "\n",
       "[976 rows x 7 columns]"
      ]
     },
     "execution_count": 39,
     "metadata": {},
     "output_type": "execute_result"
    }
   ],
   "source": [
    "usd"
   ]
  },
  {
   "cell_type": "code",
   "execution_count": 40,
   "metadata": {
    "ExecuteTime": {
     "end_time": "2024-02-21T09:00:15.185040Z",
     "start_time": "2024-02-21T09:00:15.045929Z"
    }
   },
   "outputs": [],
   "source": [
    "usd = pd.read_csv('./data/USD_KRW.csv', index_col = 0) \n",
    "# index_col argument = 0 지정시, 맨 첫번째 행이 index가 된다"
   ]
  },
  {
   "cell_type": "code",
   "execution_count": 41,
   "metadata": {
    "ExecuteTime": {
     "end_time": "2024-02-21T09:00:15.275126Z",
     "start_time": "2024-02-21T09:00:15.165854Z"
    },
    "scrolled": true
   },
   "outputs": [
    {
     "data": {
      "text/html": [
       "<div>\n",
       "<style scoped>\n",
       "    .dataframe tbody tr th:only-of-type {\n",
       "        vertical-align: middle;\n",
       "    }\n",
       "\n",
       "    .dataframe tbody tr th {\n",
       "        vertical-align: top;\n",
       "    }\n",
       "\n",
       "    .dataframe thead th {\n",
       "        text-align: right;\n",
       "    }\n",
       "</style>\n",
       "<table border=\"1\" class=\"dataframe\">\n",
       "  <thead>\n",
       "    <tr style=\"text-align: right;\">\n",
       "      <th></th>\n",
       "      <th>Price</th>\n",
       "      <th>Open</th>\n",
       "      <th>High</th>\n",
       "      <th>Low</th>\n",
       "      <th>Vol.</th>\n",
       "      <th>Change %</th>\n",
       "    </tr>\n",
       "    <tr>\n",
       "      <th>Date</th>\n",
       "      <th></th>\n",
       "      <th></th>\n",
       "      <th></th>\n",
       "      <th></th>\n",
       "      <th></th>\n",
       "      <th></th>\n",
       "    </tr>\n",
       "  </thead>\n",
       "  <tbody>\n",
       "    <tr>\n",
       "      <th>09/27/2023</th>\n",
       "      <td>1,356.82</td>\n",
       "      <td>1,353.80</td>\n",
       "      <td>1,356.82</td>\n",
       "      <td>1,347.60</td>\n",
       "      <td>NaN</td>\n",
       "      <td>0.29%</td>\n",
       "    </tr>\n",
       "    <tr>\n",
       "      <th>09/26/2023</th>\n",
       "      <td>1,352.93</td>\n",
       "      <td>1,339.69</td>\n",
       "      <td>1,354.97</td>\n",
       "      <td>1,337.31</td>\n",
       "      <td>NaN</td>\n",
       "      <td>1.12%</td>\n",
       "    </tr>\n",
       "    <tr>\n",
       "      <th>09/25/2023</th>\n",
       "      <td>1,338.01</td>\n",
       "      <td>1,335.56</td>\n",
       "      <td>1,341.47</td>\n",
       "      <td>1,330.14</td>\n",
       "      <td>NaN</td>\n",
       "      <td>0.30%</td>\n",
       "    </tr>\n",
       "    <tr>\n",
       "      <th>09/22/2023</th>\n",
       "      <td>1,334.03</td>\n",
       "      <td>1,339.57</td>\n",
       "      <td>1,341.81</td>\n",
       "      <td>1,330.74</td>\n",
       "      <td>NaN</td>\n",
       "      <td>-0.37%</td>\n",
       "    </tr>\n",
       "    <tr>\n",
       "      <th>09/21/2023</th>\n",
       "      <td>1,339.00</td>\n",
       "      <td>1,333.44</td>\n",
       "      <td>1,344.65</td>\n",
       "      <td>1,331.67</td>\n",
       "      <td>NaN</td>\n",
       "      <td>0.46%</td>\n",
       "    </tr>\n",
       "    <tr>\n",
       "      <th>...</th>\n",
       "      <td>...</td>\n",
       "      <td>...</td>\n",
       "      <td>...</td>\n",
       "      <td>...</td>\n",
       "      <td>...</td>\n",
       "      <td>...</td>\n",
       "    </tr>\n",
       "    <tr>\n",
       "      <th>01/07/2020</th>\n",
       "      <td>1,167.30</td>\n",
       "      <td>1,167.54</td>\n",
       "      <td>1,168.82</td>\n",
       "      <td>1,163.11</td>\n",
       "      <td>NaN</td>\n",
       "      <td>0.03%</td>\n",
       "    </tr>\n",
       "    <tr>\n",
       "      <th>01/06/2020</th>\n",
       "      <td>1,166.94</td>\n",
       "      <td>1,165.89</td>\n",
       "      <td>1,172.99</td>\n",
       "      <td>1,165.78</td>\n",
       "      <td>NaN</td>\n",
       "      <td>0.17%</td>\n",
       "    </tr>\n",
       "    <tr>\n",
       "      <th>01/03/2020</th>\n",
       "      <td>1,164.95</td>\n",
       "      <td>1,157.94</td>\n",
       "      <td>1,168.83</td>\n",
       "      <td>1,155.70</td>\n",
       "      <td>NaN</td>\n",
       "      <td>0.66%</td>\n",
       "    </tr>\n",
       "    <tr>\n",
       "      <th>01/02/2020</th>\n",
       "      <td>1,157.35</td>\n",
       "      <td>1,155.02</td>\n",
       "      <td>1,161.15</td>\n",
       "      <td>1,153.48</td>\n",
       "      <td>NaN</td>\n",
       "      <td>0.29%</td>\n",
       "    </tr>\n",
       "    <tr>\n",
       "      <th>01/01/2020</th>\n",
       "      <td>1,154.02</td>\n",
       "      <td>1,155.07</td>\n",
       "      <td>1,155.32</td>\n",
       "      <td>1,154.08</td>\n",
       "      <td>NaN</td>\n",
       "      <td>0.00%</td>\n",
       "    </tr>\n",
       "  </tbody>\n",
       "</table>\n",
       "<p>976 rows × 6 columns</p>\n",
       "</div>"
      ],
      "text/plain": [
       "               Price      Open      High       Low  Vol. Change %\n",
       "Date                                                             \n",
       "09/27/2023  1,356.82  1,353.80  1,356.82  1,347.60   NaN    0.29%\n",
       "09/26/2023  1,352.93  1,339.69  1,354.97  1,337.31   NaN    1.12%\n",
       "09/25/2023  1,338.01  1,335.56  1,341.47  1,330.14   NaN    0.30%\n",
       "09/22/2023  1,334.03  1,339.57  1,341.81  1,330.74   NaN   -0.37%\n",
       "09/21/2023  1,339.00  1,333.44  1,344.65  1,331.67   NaN    0.46%\n",
       "...              ...       ...       ...       ...   ...      ...\n",
       "01/07/2020  1,167.30  1,167.54  1,168.82  1,163.11   NaN    0.03%\n",
       "01/06/2020  1,166.94  1,165.89  1,172.99  1,165.78   NaN    0.17%\n",
       "01/03/2020  1,164.95  1,157.94  1,168.83  1,155.70   NaN    0.66%\n",
       "01/02/2020  1,157.35  1,155.02  1,161.15  1,153.48   NaN    0.29%\n",
       "01/01/2020  1,154.02  1,155.07  1,155.32  1,154.08   NaN    0.00%\n",
       "\n",
       "[976 rows x 6 columns]"
      ]
     },
     "execution_count": 41,
     "metadata": {},
     "output_type": "execute_result"
    }
   ],
   "source": [
    "usd"
   ]
  },
  {
   "cell_type": "code",
   "execution_count": 42,
   "metadata": {},
   "outputs": [
    {
     "data": {
      "text/html": [
       "<div>\n",
       "<style scoped>\n",
       "    .dataframe tbody tr th:only-of-type {\n",
       "        vertical-align: middle;\n",
       "    }\n",
       "\n",
       "    .dataframe tbody tr th {\n",
       "        vertical-align: top;\n",
       "    }\n",
       "\n",
       "    .dataframe thead th {\n",
       "        text-align: right;\n",
       "    }\n",
       "</style>\n",
       "<table border=\"1\" class=\"dataframe\">\n",
       "  <thead>\n",
       "    <tr style=\"text-align: right;\">\n",
       "      <th></th>\n",
       "      <th>Price</th>\n",
       "      <th>Open</th>\n",
       "      <th>High</th>\n",
       "      <th>Low</th>\n",
       "      <th>Vol.</th>\n",
       "      <th>Change %</th>\n",
       "    </tr>\n",
       "    <tr>\n",
       "      <th>Date</th>\n",
       "      <th></th>\n",
       "      <th></th>\n",
       "      <th></th>\n",
       "      <th></th>\n",
       "      <th></th>\n",
       "      <th></th>\n",
       "    </tr>\n",
       "  </thead>\n",
       "  <tbody>\n",
       "    <tr>\n",
       "      <th>2023-09-27</th>\n",
       "      <td>1,356.82</td>\n",
       "      <td>1,353.80</td>\n",
       "      <td>1,356.82</td>\n",
       "      <td>1,347.60</td>\n",
       "      <td>NaN</td>\n",
       "      <td>0.29%</td>\n",
       "    </tr>\n",
       "    <tr>\n",
       "      <th>2023-09-26</th>\n",
       "      <td>1,352.93</td>\n",
       "      <td>1,339.69</td>\n",
       "      <td>1,354.97</td>\n",
       "      <td>1,337.31</td>\n",
       "      <td>NaN</td>\n",
       "      <td>1.12%</td>\n",
       "    </tr>\n",
       "    <tr>\n",
       "      <th>2023-09-25</th>\n",
       "      <td>1,338.01</td>\n",
       "      <td>1,335.56</td>\n",
       "      <td>1,341.47</td>\n",
       "      <td>1,330.14</td>\n",
       "      <td>NaN</td>\n",
       "      <td>0.30%</td>\n",
       "    </tr>\n",
       "    <tr>\n",
       "      <th>2023-09-22</th>\n",
       "      <td>1,334.03</td>\n",
       "      <td>1,339.57</td>\n",
       "      <td>1,341.81</td>\n",
       "      <td>1,330.74</td>\n",
       "      <td>NaN</td>\n",
       "      <td>-0.37%</td>\n",
       "    </tr>\n",
       "    <tr>\n",
       "      <th>2023-09-21</th>\n",
       "      <td>1,339.00</td>\n",
       "      <td>1,333.44</td>\n",
       "      <td>1,344.65</td>\n",
       "      <td>1,331.67</td>\n",
       "      <td>NaN</td>\n",
       "      <td>0.46%</td>\n",
       "    </tr>\n",
       "    <tr>\n",
       "      <th>...</th>\n",
       "      <td>...</td>\n",
       "      <td>...</td>\n",
       "      <td>...</td>\n",
       "      <td>...</td>\n",
       "      <td>...</td>\n",
       "      <td>...</td>\n",
       "    </tr>\n",
       "    <tr>\n",
       "      <th>2020-01-07</th>\n",
       "      <td>1,167.30</td>\n",
       "      <td>1,167.54</td>\n",
       "      <td>1,168.82</td>\n",
       "      <td>1,163.11</td>\n",
       "      <td>NaN</td>\n",
       "      <td>0.03%</td>\n",
       "    </tr>\n",
       "    <tr>\n",
       "      <th>2020-01-06</th>\n",
       "      <td>1,166.94</td>\n",
       "      <td>1,165.89</td>\n",
       "      <td>1,172.99</td>\n",
       "      <td>1,165.78</td>\n",
       "      <td>NaN</td>\n",
       "      <td>0.17%</td>\n",
       "    </tr>\n",
       "    <tr>\n",
       "      <th>2020-01-03</th>\n",
       "      <td>1,164.95</td>\n",
       "      <td>1,157.94</td>\n",
       "      <td>1,168.83</td>\n",
       "      <td>1,155.70</td>\n",
       "      <td>NaN</td>\n",
       "      <td>0.66%</td>\n",
       "    </tr>\n",
       "    <tr>\n",
       "      <th>2020-01-02</th>\n",
       "      <td>1,157.35</td>\n",
       "      <td>1,155.02</td>\n",
       "      <td>1,161.15</td>\n",
       "      <td>1,153.48</td>\n",
       "      <td>NaN</td>\n",
       "      <td>0.29%</td>\n",
       "    </tr>\n",
       "    <tr>\n",
       "      <th>2020-01-01</th>\n",
       "      <td>1,154.02</td>\n",
       "      <td>1,155.07</td>\n",
       "      <td>1,155.32</td>\n",
       "      <td>1,154.08</td>\n",
       "      <td>NaN</td>\n",
       "      <td>0.00%</td>\n",
       "    </tr>\n",
       "  </tbody>\n",
       "</table>\n",
       "<p>976 rows × 6 columns</p>\n",
       "</div>"
      ],
      "text/plain": [
       "               Price      Open      High       Low  Vol. Change %\n",
       "Date                                                             \n",
       "2023-09-27  1,356.82  1,353.80  1,356.82  1,347.60   NaN    0.29%\n",
       "2023-09-26  1,352.93  1,339.69  1,354.97  1,337.31   NaN    1.12%\n",
       "2023-09-25  1,338.01  1,335.56  1,341.47  1,330.14   NaN    0.30%\n",
       "2023-09-22  1,334.03  1,339.57  1,341.81  1,330.74   NaN   -0.37%\n",
       "2023-09-21  1,339.00  1,333.44  1,344.65  1,331.67   NaN    0.46%\n",
       "...              ...       ...       ...       ...   ...      ...\n",
       "2020-01-07  1,167.30  1,167.54  1,168.82  1,163.11   NaN    0.03%\n",
       "2020-01-06  1,166.94  1,165.89  1,172.99  1,165.78   NaN    0.17%\n",
       "2020-01-03  1,164.95  1,157.94  1,168.83  1,155.70   NaN    0.66%\n",
       "2020-01-02  1,157.35  1,155.02  1,161.15  1,153.48   NaN    0.29%\n",
       "2020-01-01  1,154.02  1,155.07  1,155.32  1,154.08   NaN    0.00%\n",
       "\n",
       "[976 rows x 6 columns]"
      ]
     },
     "execution_count": 42,
     "metadata": {},
     "output_type": "execute_result"
    }
   ],
   "source": [
    "usd.index=pd.to_datetime(usd.index)  # index를 datetime 자료형으로 변경\n",
    "usd"
   ]
  },
  {
   "cell_type": "markdown",
   "metadata": {},
   "source": [
    "data frame에 존재하는 콤마는 다음과 같이 str메서드를 사용해 제거해줄 수 있다."
   ]
  },
  {
   "cell_type": "code",
   "execution_count": 43,
   "metadata": {
    "ExecuteTime": {
     "end_time": "2024-02-21T09:00:15.405503Z",
     "start_time": "2024-02-21T09:00:15.265492Z"
    }
   },
   "outputs": [
    {
     "data": {
      "text/plain": [
       "Date\n",
       "2023-09-27    1356.82\n",
       "2023-09-26    1352.93\n",
       "2023-09-25    1338.01\n",
       "2023-09-22    1334.03\n",
       "2023-09-21    1339.00\n",
       "               ...   \n",
       "2020-01-07    1167.30\n",
       "2020-01-06    1166.94\n",
       "2020-01-03    1164.95\n",
       "2020-01-02    1157.35\n",
       "2020-01-01    1154.02\n",
       "Name: Price, Length: 976, dtype: object"
      ]
     },
     "execution_count": 43,
     "metadata": {},
     "output_type": "execute_result"
    }
   ],
   "source": [
    "usd.Price.str.replace(',','')"
   ]
  },
  {
   "cell_type": "markdown",
   "metadata": {},
   "source": [
    "dtype이 object이므로, 분석을 위해 float형으로 바꾼다. `astype()`을 사용하면 형변환이 가능하다"
   ]
  },
  {
   "cell_type": "code",
   "execution_count": 44,
   "metadata": {
    "ExecuteTime": {
     "end_time": "2024-02-21T09:00:15.554294Z",
     "start_time": "2024-02-21T09:00:15.389384Z"
    }
   },
   "outputs": [],
   "source": [
    "price = usd.Price.str.replace(',','').astype(float)  # 가격 부분만 따왔음"
   ]
  },
  {
   "cell_type": "code",
   "execution_count": 45,
   "metadata": {
    "ExecuteTime": {
     "end_time": "2024-02-21T09:00:15.622484Z",
     "start_time": "2024-02-21T09:00:15.545533Z"
    }
   },
   "outputs": [
    {
     "data": {
      "text/plain": [
       "Date\n",
       "2023-09-27    1356.82\n",
       "2023-09-26    1352.93\n",
       "2023-09-25    1338.01\n",
       "2023-09-22    1334.03\n",
       "2023-09-21    1339.00\n",
       "Name: Price, dtype: float64"
      ]
     },
     "execution_count": 45,
     "metadata": {},
     "output_type": "execute_result"
    }
   ],
   "source": [
    "price.head()"
   ]
  },
  {
   "cell_type": "code",
   "execution_count": 46,
   "metadata": {
    "ExecuteTime": {
     "end_time": "2024-02-21T09:00:15.754817Z",
     "start_time": "2024-02-21T09:00:15.613842Z"
    }
   },
   "outputs": [],
   "source": [
    "price.index = pd.to_datetime(price.index) # index를 변환해주기 위함"
   ]
  },
  {
   "cell_type": "code",
   "execution_count": 47,
   "metadata": {
    "ExecuteTime": {
     "end_time": "2024-02-21T09:00:15.791533Z",
     "start_time": "2024-02-21T09:00:15.732389Z"
    }
   },
   "outputs": [
    {
     "data": {
      "text/plain": [
       "Date\n",
       "2023-09-27    1356.82\n",
       "2023-09-26    1352.93\n",
       "2023-09-25    1338.01\n",
       "2023-09-22    1334.03\n",
       "2023-09-21    1339.00\n",
       "Name: Price, dtype: float64"
      ]
     },
     "execution_count": 47,
     "metadata": {},
     "output_type": "execute_result"
    }
   ],
   "source": [
    "price.head()"
   ]
  },
  {
   "cell_type": "markdown",
   "metadata": {},
   "source": [
    "`sort_index()` method를 사용하면 index 기준으로 재정렬이 가능하다. "
   ]
  },
  {
   "cell_type": "code",
   "execution_count": 48,
   "metadata": {
    "ExecuteTime": {
     "end_time": "2024-02-21T09:00:15.864975Z",
     "start_time": "2024-02-21T09:00:15.784945Z"
    }
   },
   "outputs": [
    {
     "data": {
      "text/plain": [
       "Date\n",
       "2020-01-01    1154.02\n",
       "2020-01-02    1157.35\n",
       "2020-01-03    1164.95\n",
       "2020-01-06    1166.94\n",
       "2020-01-07    1167.30\n",
       "               ...   \n",
       "2023-09-21    1339.00\n",
       "2023-09-22    1334.03\n",
       "2023-09-25    1338.01\n",
       "2023-09-26    1352.93\n",
       "2023-09-27    1356.82\n",
       "Name: Price, Length: 976, dtype: float64"
      ]
     },
     "execution_count": 48,
     "metadata": {},
     "output_type": "execute_result"
    }
   ],
   "source": [
    "price.sort_index(ascending = True) # 기본값은 오름차순이다"
   ]
  },
  {
   "cell_type": "code",
   "execution_count": 49,
   "metadata": {
    "ExecuteTime": {
     "end_time": "2024-02-21T09:00:16.176228Z",
     "start_time": "2024-02-21T09:00:15.857686Z"
    }
   },
   "outputs": [
    {
     "data": {
      "text/plain": [
       "<Axes: xlabel='Date'>"
      ]
     },
     "execution_count": 49,
     "metadata": {},
     "output_type": "execute_result"
    },
    {
     "data": {
      "image/png": "[encoded data removed]",
      "text/plain": [
       "<Figure size 640x480 with 1 Axes>"
      ]
     },
     "metadata": {},
     "output_type": "display_data"
    }
   ],
   "source": [
    "price.plot()"
   ]
  },
  {
   "cell_type": "markdown",
   "metadata": {},
   "source": [
    "### yfinance\n",
    "\n",
    "- yahoo finance로부터 데이터를 읽어온다\n",
    "- 미국 증권거래소에 상장된 대부분의 자산 가격 계열을 문제없이 읽어올 수 있다\n",
    "- 최대 일별 데이터까지 접근 가능"
   ]
  },
  {
   "cell_type": "code",
   "execution_count": 50,
   "metadata": {
    "ExecuteTime": {
     "end_time": "2024-02-21T09:00:16.766580Z",
     "start_time": "2024-02-21T09:00:16.117690Z"
    }
   },
   "outputs": [
    {
     "ename": "ModuleNotFoundError",
     "evalue": "No module named 'yfinance'",
     "output_type": "error",
     "traceback": [
      "\u001b[1;31m---------------------------------------------------------------------------\u001b[0m",
      "\u001b[1;31mModuleNotFoundError\u001b[0m                       Traceback (most recent call last)",
      "Cell \u001b[1;32mIn[50], line 1\u001b[0m\n\u001b[1;32m----> 1\u001b[0m \u001b[38;5;28;01mimport\u001b[39;00m \u001b[38;5;21;01myfinance\u001b[39;00m \u001b[38;5;28;01mas\u001b[39;00m \u001b[38;5;21;01myf\u001b[39;00m\n\u001b[0;32m      3\u001b[0m start_date \u001b[38;5;241m=\u001b[39m \u001b[38;5;124m'\u001b[39m\u001b[38;5;124m2020-01-01\u001b[39m\u001b[38;5;124m'\u001b[39m\n\u001b[0;32m      4\u001b[0m end_date \u001b[38;5;241m=\u001b[39m \u001b[38;5;124m'\u001b[39m\u001b[38;5;124m2024-02-20\u001b[39m\u001b[38;5;124m'\u001b[39m\n",
      "\u001b[1;31mModuleNotFoundError\u001b[0m: No module named 'yfinance'"
     ]
    }
   ],
   "source": [
    "import yfinance as yf\n",
    "\n",
    "start_date = '2020-01-01'\n",
    "end_date = '2024-02-20'\n",
    "ticker = '^GSPC'\n",
    "snp500 = yf.download(ticker, start = start_date, end = end_date)\n",
    "snp500"
   ]
  },
  {
   "cell_type": "markdown",
   "metadata": {},
   "source": [
    "여러 개의 자산들을 한번에 불러올 수 있다"
   ]
  },
  {
   "cell_type": "code",
   "execution_count": null,
   "metadata": {
    "ExecuteTime": {
     "end_time": "2024-02-21T09:00:17.165142Z",
     "start_time": "2024-02-21T09:00:16.740393Z"
    }
   },
   "outputs": [
    {
     "name": "stdout",
     "output_type": "stream",
     "text": [
      "[*********************100%%**********************]  5 of 5 completed\n"
     ]
    }
   ],
   "source": [
    "tickers = ['AAPL','MSFT','TSLA','IBM','GOOGL']\n",
    "markets = yf.download(\n",
    "    tickers = tickers, start = start_date, end = end_date\n",
    ")\n",
    "\n",
    "# 이 market을 보면 너무 복잡함"
   ]
  },
  {
   "cell_type": "code",
   "execution_count": null,
   "metadata": {
    "ExecuteTime": {
     "end_time": "2024-02-21T09:00:17.191222Z",
     "start_time": "2024-02-21T09:00:17.163381Z"
    }
   },
   "outputs": [
    {
     "data": {
      "text/html": [
       "<div>\n",
       "<style scoped>\n",
       "    .dataframe tbody tr th:only-of-type {\n",
       "        vertical-align: middle;\n",
       "    }\n",
       "\n",
       "    .dataframe tbody tr th {\n",
       "        vertical-align: top;\n",
       "    }\n",
       "\n",
       "    .dataframe thead th {\n",
       "        text-align: right;\n",
       "    }\n",
       "</style>\n",
       "<table border=\"1\" class=\"dataframe\">\n",
       "  <thead>\n",
       "    <tr style=\"text-align: right;\">\n",
       "      <th></th>\n",
       "      <th></th>\n",
       "      <th>Adj Close</th>\n",
       "      <th>Close</th>\n",
       "      <th>High</th>\n",
       "      <th>Low</th>\n",
       "      <th>Open</th>\n",
       "      <th>Volume</th>\n",
       "    </tr>\n",
       "    <tr>\n",
       "      <th>Date</th>\n",
       "      <th></th>\n",
       "      <th></th>\n",
       "      <th></th>\n",
       "      <th></th>\n",
       "      <th></th>\n",
       "      <th></th>\n",
       "      <th></th>\n",
       "    </tr>\n",
       "  </thead>\n",
       "  <tbody>\n",
       "    <tr>\n",
       "      <th rowspan=\"5\" valign=\"top\">2020-01-02</th>\n",
       "      <th>AAPL</th>\n",
       "      <td>73.059418</td>\n",
       "      <td>75.087502</td>\n",
       "      <td>75.150002</td>\n",
       "      <td>73.797501</td>\n",
       "      <td>74.059998</td>\n",
       "      <td>135480400</td>\n",
       "    </tr>\n",
       "    <tr>\n",
       "      <th>GOOGL</th>\n",
       "      <td>68.433998</td>\n",
       "      <td>68.433998</td>\n",
       "      <td>68.433998</td>\n",
       "      <td>67.324501</td>\n",
       "      <td>67.420502</td>\n",
       "      <td>27278000</td>\n",
       "    </tr>\n",
       "    <tr>\n",
       "      <th>IBM</th>\n",
       "      <td>105.346336</td>\n",
       "      <td>129.464630</td>\n",
       "      <td>129.942642</td>\n",
       "      <td>128.843216</td>\n",
       "      <td>129.063095</td>\n",
       "      <td>3293436</td>\n",
       "    </tr>\n",
       "    <tr>\n",
       "      <th>MSFT</th>\n",
       "      <td>154.493820</td>\n",
       "      <td>160.619995</td>\n",
       "      <td>160.729996</td>\n",
       "      <td>158.330002</td>\n",
       "      <td>158.779999</td>\n",
       "      <td>22622100</td>\n",
       "    </tr>\n",
       "    <tr>\n",
       "      <th>TSLA</th>\n",
       "      <td>28.684000</td>\n",
       "      <td>28.684000</td>\n",
       "      <td>28.713333</td>\n",
       "      <td>28.114000</td>\n",
       "      <td>28.299999</td>\n",
       "      <td>142981500</td>\n",
       "    </tr>\n",
       "    <tr>\n",
       "      <th>...</th>\n",
       "      <th>...</th>\n",
       "      <td>...</td>\n",
       "      <td>...</td>\n",
       "      <td>...</td>\n",
       "      <td>...</td>\n",
       "      <td>...</td>\n",
       "      <td>...</td>\n",
       "    </tr>\n",
       "    <tr>\n",
       "      <th rowspan=\"5\" valign=\"top\">2024-02-16</th>\n",
       "      <th>AAPL</th>\n",
       "      <td>182.309998</td>\n",
       "      <td>182.309998</td>\n",
       "      <td>184.850006</td>\n",
       "      <td>181.669998</td>\n",
       "      <td>183.419998</td>\n",
       "      <td>49701400</td>\n",
       "    </tr>\n",
       "    <tr>\n",
       "      <th>GOOGL</th>\n",
       "      <td>140.520004</td>\n",
       "      <td>140.520004</td>\n",
       "      <td>143.190002</td>\n",
       "      <td>140.139999</td>\n",
       "      <td>142.990005</td>\n",
       "      <td>31451100</td>\n",
       "    </tr>\n",
       "    <tr>\n",
       "      <th>IBM</th>\n",
       "      <td>187.639999</td>\n",
       "      <td>187.639999</td>\n",
       "      <td>188.949997</td>\n",
       "      <td>185.949997</td>\n",
       "      <td>186.630005</td>\n",
       "      <td>4841900</td>\n",
       "    </tr>\n",
       "    <tr>\n",
       "      <th>MSFT</th>\n",
       "      <td>404.059998</td>\n",
       "      <td>404.059998</td>\n",
       "      <td>408.290009</td>\n",
       "      <td>403.440002</td>\n",
       "      <td>407.959991</td>\n",
       "      <td>22281100</td>\n",
       "    </tr>\n",
       "    <tr>\n",
       "      <th>TSLA</th>\n",
       "      <td>199.949997</td>\n",
       "      <td>199.949997</td>\n",
       "      <td>203.169998</td>\n",
       "      <td>197.399994</td>\n",
       "      <td>202.059998</td>\n",
       "      <td>111173600</td>\n",
       "    </tr>\n",
       "  </tbody>\n",
       "</table>\n",
       "<p>5195 rows × 6 columns</p>\n",
       "</div>"
      ],
      "text/plain": [
       "                   Adj Close       Close        High         Low        Open  \\\n",
       "Date                                                                           \n",
       "2020-01-02 AAPL    73.059418   75.087502   75.150002   73.797501   74.059998   \n",
       "           GOOGL   68.433998   68.433998   68.433998   67.324501   67.420502   \n",
       "           IBM    105.346336  129.464630  129.942642  128.843216  129.063095   \n",
       "           MSFT   154.493820  160.619995  160.729996  158.330002  158.779999   \n",
       "           TSLA    28.684000   28.684000   28.713333   28.114000   28.299999   \n",
       "...                      ...         ...         ...         ...         ...   \n",
       "2024-02-16 AAPL   182.309998  182.309998  184.850006  181.669998  183.419998   \n",
       "           GOOGL  140.520004  140.520004  143.190002  140.139999  142.990005   \n",
       "           IBM    187.639999  187.639999  188.949997  185.949997  186.630005   \n",
       "           MSFT   404.059998  404.059998  408.290009  403.440002  407.959991   \n",
       "           TSLA   199.949997  199.949997  203.169998  197.399994  202.059998   \n",
       "\n",
       "                     Volume  \n",
       "Date                         \n",
       "2020-01-02 AAPL   135480400  \n",
       "           GOOGL   27278000  \n",
       "           IBM      3293436  \n",
       "           MSFT    22622100  \n",
       "           TSLA   142981500  \n",
       "...                     ...  \n",
       "2024-02-16 AAPL    49701400  \n",
       "           GOOGL   31451100  \n",
       "           IBM      4841900  \n",
       "           MSFT    22281100  \n",
       "           TSLA   111173600  \n",
       "\n",
       "[5195 rows x 6 columns]"
      ]
     },
     "execution_count": 25,
     "metadata": {},
     "output_type": "execute_result"
    }
   ],
   "source": [
    "markets.stack() # stack으로 2차원 프레임으로 볼 수 있다(보기도 힘들고 추천되는 방법은 아님)"
   ]
  },
  {
   "cell_type": "markdown",
   "metadata": {},
   "source": [
    "종가 데이터만을 사용하려면 다음과 같이 `pandas.concat()`함수를 사용한다"
   ]
  },
  {
   "cell_type": "code",
   "execution_count": null,
   "metadata": {
    "ExecuteTime": {
     "end_time": "2024-02-21T09:00:18.938926Z",
     "start_time": "2024-02-21T09:00:17.173122Z"
    }
   },
   "outputs": [
    {
     "name": "stdout",
     "output_type": "stream",
     "text": [
      "[*********************100%%**********************]  1 of 1 completed\n",
      "[*********************100%%**********************]  1 of 1 completed\n",
      "[*********************100%%**********************]  1 of 1 completed\n",
      "[*********************100%%**********************]  1 of 1 completed\n",
      "[*********************100%%**********************]  1 of 1 completed\n"
     ]
    }
   ],
   "source": [
    "start_date = '2020-01-01'\n",
    "end_date = '2024-02-20'\n",
    "\n",
    "tickers = ['AAPL','MSFT','TSLA','IBM','GOOGL']\n",
    "markets = pd.DataFrame()\n",
    "\n",
    "for i in tickers :\n",
    "    markets = pd.concat(\n",
    "        [markets, yf.download(i, start_date, end_date)['Close']],  # 종가 데이터만 수집\n",
    "        axis = 1 # 오른쪽으로 붙인다\n",
    "    )\n",
    "markets.columns = tickers"
   ]
  },
  {
   "cell_type": "code",
   "execution_count": null,
   "metadata": {
    "ExecuteTime": {
     "end_time": "2024-02-21T09:00:18.941103Z",
     "start_time": "2024-02-21T09:00:18.929626Z"
    }
   },
   "outputs": [
    {
     "data": {
      "text/html": [
       "<div>\n",
       "<style scoped>\n",
       "    .dataframe tbody tr th:only-of-type {\n",
       "        vertical-align: middle;\n",
       "    }\n",
       "\n",
       "    .dataframe tbody tr th {\n",
       "        vertical-align: top;\n",
       "    }\n",
       "\n",
       "    .dataframe thead th {\n",
       "        text-align: right;\n",
       "    }\n",
       "</style>\n",
       "<table border=\"1\" class=\"dataframe\">\n",
       "  <thead>\n",
       "    <tr style=\"text-align: right;\">\n",
       "      <th></th>\n",
       "      <th>AAPL</th>\n",
       "      <th>MSFT</th>\n",
       "      <th>TSLA</th>\n",
       "      <th>IBM</th>\n",
       "      <th>GOOGL</th>\n",
       "    </tr>\n",
       "  </thead>\n",
       "  <tbody>\n",
       "    <tr>\n",
       "      <th>2020-01-02</th>\n",
       "      <td>75.087502</td>\n",
       "      <td>160.619995</td>\n",
       "      <td>28.684000</td>\n",
       "      <td>129.464630</td>\n",
       "      <td>68.433998</td>\n",
       "    </tr>\n",
       "    <tr>\n",
       "      <th>2020-01-03</th>\n",
       "      <td>74.357498</td>\n",
       "      <td>158.619995</td>\n",
       "      <td>29.534000</td>\n",
       "      <td>128.432129</td>\n",
       "      <td>68.075996</td>\n",
       "    </tr>\n",
       "    <tr>\n",
       "      <th>2020-01-06</th>\n",
       "      <td>74.949997</td>\n",
       "      <td>159.029999</td>\n",
       "      <td>30.102667</td>\n",
       "      <td>128.202682</td>\n",
       "      <td>69.890503</td>\n",
       "    </tr>\n",
       "    <tr>\n",
       "      <th>2020-01-07</th>\n",
       "      <td>74.597504</td>\n",
       "      <td>157.580002</td>\n",
       "      <td>31.270666</td>\n",
       "      <td>128.288712</td>\n",
       "      <td>69.755501</td>\n",
       "    </tr>\n",
       "    <tr>\n",
       "      <th>2020-01-08</th>\n",
       "      <td>75.797501</td>\n",
       "      <td>160.089996</td>\n",
       "      <td>32.809334</td>\n",
       "      <td>129.359467</td>\n",
       "      <td>70.251999</td>\n",
       "    </tr>\n",
       "    <tr>\n",
       "      <th>...</th>\n",
       "      <td>...</td>\n",
       "      <td>...</td>\n",
       "      <td>...</td>\n",
       "      <td>...</td>\n",
       "      <td>...</td>\n",
       "    </tr>\n",
       "    <tr>\n",
       "      <th>2024-02-12</th>\n",
       "      <td>187.149994</td>\n",
       "      <td>415.260010</td>\n",
       "      <td>188.130005</td>\n",
       "      <td>186.160004</td>\n",
       "      <td>147.529999</td>\n",
       "    </tr>\n",
       "    <tr>\n",
       "      <th>2024-02-13</th>\n",
       "      <td>185.039993</td>\n",
       "      <td>406.320007</td>\n",
       "      <td>184.020004</td>\n",
       "      <td>183.699997</td>\n",
       "      <td>145.139999</td>\n",
       "    </tr>\n",
       "    <tr>\n",
       "      <th>2024-02-14</th>\n",
       "      <td>184.149994</td>\n",
       "      <td>409.489990</td>\n",
       "      <td>188.710007</td>\n",
       "      <td>183.570007</td>\n",
       "      <td>145.940002</td>\n",
       "    </tr>\n",
       "    <tr>\n",
       "      <th>2024-02-15</th>\n",
       "      <td>183.860001</td>\n",
       "      <td>406.559998</td>\n",
       "      <td>200.449997</td>\n",
       "      <td>186.869995</td>\n",
       "      <td>142.770004</td>\n",
       "    </tr>\n",
       "    <tr>\n",
       "      <th>2024-02-16</th>\n",
       "      <td>182.309998</td>\n",
       "      <td>404.059998</td>\n",
       "      <td>199.949997</td>\n",
       "      <td>187.639999</td>\n",
       "      <td>140.520004</td>\n",
       "    </tr>\n",
       "  </tbody>\n",
       "</table>\n",
       "<p>1039 rows × 5 columns</p>\n",
       "</div>"
      ],
      "text/plain": [
       "                  AAPL        MSFT        TSLA         IBM       GOOGL\n",
       "2020-01-02   75.087502  160.619995   28.684000  129.464630   68.433998\n",
       "2020-01-03   74.357498  158.619995   29.534000  128.432129   68.075996\n",
       "2020-01-06   74.949997  159.029999   30.102667  128.202682   69.890503\n",
       "2020-01-07   74.597504  157.580002   31.270666  128.288712   69.755501\n",
       "2020-01-08   75.797501  160.089996   32.809334  129.359467   70.251999\n",
       "...                ...         ...         ...         ...         ...\n",
       "2024-02-12  187.149994  415.260010  188.130005  186.160004  147.529999\n",
       "2024-02-13  185.039993  406.320007  184.020004  183.699997  145.139999\n",
       "2024-02-14  184.149994  409.489990  188.710007  183.570007  145.940002\n",
       "2024-02-15  183.860001  406.559998  200.449997  186.869995  142.770004\n",
       "2024-02-16  182.309998  404.059998  199.949997  187.639999  140.520004\n",
       "\n",
       "[1039 rows x 5 columns]"
      ]
     },
     "execution_count": 27,
     "metadata": {},
     "output_type": "execute_result"
    }
   ],
   "source": [
    "markets"
   ]
  },
  {
   "cell_type": "code",
   "execution_count": null,
   "metadata": {
    "ExecuteTime": {
     "end_time": "2024-02-21T09:00:19.192099Z",
     "start_time": "2024-02-21T09:00:18.936291Z"
    }
   },
   "outputs": [
    {
     "data": {
      "text/plain": [
       "<Axes: title={'center': 'S&P500 Index'}, xlabel='Date'>"
      ]
     },
     "execution_count": 28,
     "metadata": {},
     "output_type": "execute_result"
    },
    {
     "data": {
      "image/png": "[encoded data removed]",
      "text/plain": [
       "<Figure size 432x288 with 1 Axes>"
      ]
     },
     "metadata": {
      "needs_background": "light"
     },
     "output_type": "display_data"
    }
   ],
   "source": [
    "snp500[['Open','High','Low','Close']].plot(\n",
    "    title = 'S&P500 Index'\n",
    ")"
   ]
  },
  {
   "cell_type": "markdown",
   "metadata": {},
   "source": [
    "### Pandas Datareader\n",
    "\n",
    "- yfinance에서는 국내 데이터를 불러오기 힘들다\n",
    "- naver finance로부터 자산 가격 정보를 불러오기 위해서는 pandas datareader를 사용해야 한다"
   ]
  },
  {
   "cell_type": "code",
   "execution_count": null,
   "metadata": {
    "ExecuteTime": {
     "end_time": "2024-02-21T09:00:19.251290Z",
     "start_time": "2024-02-21T09:00:19.192248Z"
    }
   },
   "outputs": [],
   "source": [
    "import pandas_datareader as wb\n",
    "import datetime\n",
    "\n",
    "start = datetime.datetime(2022, 1, 1)\n",
    "end = datetime.datetime(2023, 2, 17)\n",
    "kospi = wb.DataReader(\"KOSPI\", \"naver\", start, end)"
   ]
  },
  {
   "cell_type": "code",
   "execution_count": null,
   "metadata": {
    "ExecuteTime": {
     "end_time": "2024-02-21T09:00:19.263699Z",
     "start_time": "2024-02-21T09:00:19.254700Z"
    }
   },
   "outputs": [
    {
     "data": {
      "text/html": [
       "<div>\n",
       "<style scoped>\n",
       "    .dataframe tbody tr th:only-of-type {\n",
       "        vertical-align: middle;\n",
       "    }\n",
       "\n",
       "    .dataframe tbody tr th {\n",
       "        vertical-align: top;\n",
       "    }\n",
       "\n",
       "    .dataframe thead th {\n",
       "        text-align: right;\n",
       "    }\n",
       "</style>\n",
       "<table border=\"1\" class=\"dataframe\">\n",
       "  <thead>\n",
       "    <tr style=\"text-align: right;\">\n",
       "      <th></th>\n",
       "      <th>Open</th>\n",
       "      <th>High</th>\n",
       "      <th>Low</th>\n",
       "      <th>Close</th>\n",
       "      <th>Volume</th>\n",
       "    </tr>\n",
       "    <tr>\n",
       "      <th>Date</th>\n",
       "      <th></th>\n",
       "      <th></th>\n",
       "      <th></th>\n",
       "      <th></th>\n",
       "      <th></th>\n",
       "    </tr>\n",
       "  </thead>\n",
       "  <tbody>\n",
       "    <tr>\n",
       "      <th>2022-01-03</th>\n",
       "      <td>2998.32</td>\n",
       "      <td>3010.77</td>\n",
       "      <td>2979.42</td>\n",
       "      <td>2988.77</td>\n",
       "      <td>435825</td>\n",
       "    </tr>\n",
       "    <tr>\n",
       "      <th>2022-01-04</th>\n",
       "      <td>2991.97</td>\n",
       "      <td>2995.25</td>\n",
       "      <td>2973.08</td>\n",
       "      <td>2989.24</td>\n",
       "      <td>621549</td>\n",
       "    </tr>\n",
       "    <tr>\n",
       "      <th>2022-01-05</th>\n",
       "      <td>2984.05</td>\n",
       "      <td>2986.2</td>\n",
       "      <td>2936.73</td>\n",
       "      <td>2953.97</td>\n",
       "      <td>787346</td>\n",
       "    </tr>\n",
       "    <tr>\n",
       "      <th>2022-01-06</th>\n",
       "      <td>2925.4</td>\n",
       "      <td>2952.54</td>\n",
       "      <td>2915.38</td>\n",
       "      <td>2920.53</td>\n",
       "      <td>786045</td>\n",
       "    </tr>\n",
       "    <tr>\n",
       "      <th>2022-01-07</th>\n",
       "      <td>2933.78</td>\n",
       "      <td>2959.03</td>\n",
       "      <td>2933.1</td>\n",
       "      <td>2954.89</td>\n",
       "      <td>546172</td>\n",
       "    </tr>\n",
       "    <tr>\n",
       "      <th>...</th>\n",
       "      <td>...</td>\n",
       "      <td>...</td>\n",
       "      <td>...</td>\n",
       "      <td>...</td>\n",
       "      <td>...</td>\n",
       "    </tr>\n",
       "    <tr>\n",
       "      <th>2023-02-13</th>\n",
       "      <td>2461.96</td>\n",
       "      <td>2462.58</td>\n",
       "      <td>2440.86</td>\n",
       "      <td>2452.7</td>\n",
       "      <td>486399</td>\n",
       "    </tr>\n",
       "    <tr>\n",
       "      <th>2023-02-14</th>\n",
       "      <td>2471.33</td>\n",
       "      <td>2480.34</td>\n",
       "      <td>2459.83</td>\n",
       "      <td>2465.64</td>\n",
       "      <td>349432</td>\n",
       "    </tr>\n",
       "    <tr>\n",
       "      <th>2023-02-15</th>\n",
       "      <td>2473.09</td>\n",
       "      <td>2473.44</td>\n",
       "      <td>2424.16</td>\n",
       "      <td>2427.9</td>\n",
       "      <td>387067</td>\n",
       "    </tr>\n",
       "    <tr>\n",
       "      <th>2023-02-16</th>\n",
       "      <td>2444.06</td>\n",
       "      <td>2475.99</td>\n",
       "      <td>2442.07</td>\n",
       "      <td>2475.48</td>\n",
       "      <td>388027</td>\n",
       "    </tr>\n",
       "    <tr>\n",
       "      <th>2023-02-17</th>\n",
       "      <td>2447.66</td>\n",
       "      <td>2471.51</td>\n",
       "      <td>2445.74</td>\n",
       "      <td>2451.21</td>\n",
       "      <td>514047</td>\n",
       "    </tr>\n",
       "  </tbody>\n",
       "</table>\n",
       "<p>279 rows × 5 columns</p>\n",
       "</div>"
      ],
      "text/plain": [
       "               Open     High      Low    Close  Volume\n",
       "Date                                                  \n",
       "2022-01-03  2998.32  3010.77  2979.42  2988.77  435825\n",
       "2022-01-04  2991.97  2995.25  2973.08  2989.24  621549\n",
       "2022-01-05  2984.05   2986.2  2936.73  2953.97  787346\n",
       "2022-01-06   2925.4  2952.54  2915.38  2920.53  786045\n",
       "2022-01-07  2933.78  2959.03   2933.1  2954.89  546172\n",
       "...             ...      ...      ...      ...     ...\n",
       "2023-02-13  2461.96  2462.58  2440.86   2452.7  486399\n",
       "2023-02-14  2471.33  2480.34  2459.83  2465.64  349432\n",
       "2023-02-15  2473.09  2473.44  2424.16   2427.9  387067\n",
       "2023-02-16  2444.06  2475.99  2442.07  2475.48  388027\n",
       "2023-02-17  2447.66  2471.51  2445.74  2451.21  514047\n",
       "\n",
       "[279 rows x 5 columns]"
      ]
     },
     "execution_count": 30,
     "metadata": {},
     "output_type": "execute_result"
    }
   ],
   "source": [
    "kospi"
   ]
  },
  {
   "cell_type": "markdown",
   "metadata": {},
   "source": [
    "#### Example 2.\n",
    "\n",
    "자산 비중을 고려해 포트폴리오를 구성해 보자. 다음과 같은 자산을 고려한다.\n",
    "\n",
    "- Apple (40%), Google (30%), IBM (10%), Tesla (10%), Meta (10%)"
   ]
  },
  {
   "cell_type": "code",
   "execution_count": null,
   "metadata": {
    "ExecuteTime": {
     "end_time": "2024-02-21T09:00:21.013995Z",
     "start_time": "2024-02-21T09:00:19.260080Z"
    }
   },
   "outputs": [
    {
     "name": "stdout",
     "output_type": "stream",
     "text": [
      "[*********************100%%**********************]  1 of 1 completed\n",
      "[*********************100%%**********************]  1 of 1 completed\n",
      "[*********************100%%**********************]  1 of 1 completed\n",
      "[*********************100%%**********************]  1 of 1 completed\n",
      "[*********************100%%**********************]  1 of 1 completed\n"
     ]
    }
   ],
   "source": [
    "start_date = '2020-01-01'\n",
    "end_date = '2024-02-20'\n",
    "\n",
    "tickers = ['AAPL','GOOGL','IBM','TSLA','META']\n",
    "markets = pd.DataFrame()\n",
    "\n",
    "for i in tickers :\n",
    "    markets = pd.concat(\n",
    "        [markets, yf.download(i, start_date, end_date)['Close']], # 종가 데이터만 수집\n",
    "        axis = 1 # 오른쪽으로 붙인다\n",
    "    )\n",
    "markets.columns = tickers"
   ]
  },
  {
   "cell_type": "markdown",
   "metadata": {},
   "source": [
    "포트폴리오 성과 계산을 위해 우선 일별 수익률을 계산해 주어야 한다."
   ]
  },
  {
   "cell_type": "code",
   "execution_count": null,
   "metadata": {
    "ExecuteTime": {
     "end_time": "2024-02-21T09:00:21.021753Z",
     "start_time": "2024-02-21T09:00:21.014135Z"
    }
   },
   "outputs": [
    {
     "data": {
      "text/html": [
       "<div>\n",
       "<style scoped>\n",
       "    .dataframe tbody tr th:only-of-type {\n",
       "        vertical-align: middle;\n",
       "    }\n",
       "\n",
       "    .dataframe tbody tr th {\n",
       "        vertical-align: top;\n",
       "    }\n",
       "\n",
       "    .dataframe thead th {\n",
       "        text-align: right;\n",
       "    }\n",
       "</style>\n",
       "<table border=\"1\" class=\"dataframe\">\n",
       "  <thead>\n",
       "    <tr style=\"text-align: right;\">\n",
       "      <th></th>\n",
       "      <th>AAPL</th>\n",
       "      <th>GOOGL</th>\n",
       "      <th>IBM</th>\n",
       "      <th>TSLA</th>\n",
       "      <th>META</th>\n",
       "    </tr>\n",
       "  </thead>\n",
       "  <tbody>\n",
       "    <tr>\n",
       "      <th>2020-01-03</th>\n",
       "      <td>-0.009722</td>\n",
       "      <td>-0.005231</td>\n",
       "      <td>-0.007975</td>\n",
       "      <td>0.029633</td>\n",
       "      <td>-0.005291</td>\n",
       "    </tr>\n",
       "    <tr>\n",
       "      <th>2020-01-06</th>\n",
       "      <td>0.007968</td>\n",
       "      <td>0.026654</td>\n",
       "      <td>-0.001787</td>\n",
       "      <td>0.019255</td>\n",
       "      <td>0.018834</td>\n",
       "    </tr>\n",
       "    <tr>\n",
       "      <th>2020-01-07</th>\n",
       "      <td>-0.004703</td>\n",
       "      <td>-0.001932</td>\n",
       "      <td>0.000671</td>\n",
       "      <td>0.038801</td>\n",
       "      <td>0.002164</td>\n",
       "    </tr>\n",
       "    <tr>\n",
       "      <th>2020-01-08</th>\n",
       "      <td>0.016086</td>\n",
       "      <td>0.007118</td>\n",
       "      <td>0.008346</td>\n",
       "      <td>0.049205</td>\n",
       "      <td>0.010138</td>\n",
       "    </tr>\n",
       "    <tr>\n",
       "      <th>2020-01-09</th>\n",
       "      <td>0.021241</td>\n",
       "      <td>0.010498</td>\n",
       "      <td>0.010568</td>\n",
       "      <td>-0.021945</td>\n",
       "      <td>0.014311</td>\n",
       "    </tr>\n",
       "    <tr>\n",
       "      <th>...</th>\n",
       "      <td>...</td>\n",
       "      <td>...</td>\n",
       "      <td>...</td>\n",
       "      <td>...</td>\n",
       "      <td>...</td>\n",
       "    </tr>\n",
       "    <tr>\n",
       "      <th>2024-02-12</th>\n",
       "      <td>-0.009002</td>\n",
       "      <td>-0.009866</td>\n",
       "      <td>-0.000966</td>\n",
       "      <td>-0.028104</td>\n",
       "      <td>0.001688</td>\n",
       "    </tr>\n",
       "    <tr>\n",
       "      <th>2024-02-13</th>\n",
       "      <td>-0.011274</td>\n",
       "      <td>-0.016200</td>\n",
       "      <td>-0.013214</td>\n",
       "      <td>-0.021847</td>\n",
       "      <td>-0.018725</td>\n",
       "    </tr>\n",
       "    <tr>\n",
       "      <th>2024-02-14</th>\n",
       "      <td>-0.004810</td>\n",
       "      <td>0.005512</td>\n",
       "      <td>-0.000708</td>\n",
       "      <td>0.025486</td>\n",
       "      <td>0.028601</td>\n",
       "    </tr>\n",
       "    <tr>\n",
       "      <th>2024-02-15</th>\n",
       "      <td>-0.001575</td>\n",
       "      <td>-0.021721</td>\n",
       "      <td>0.017977</td>\n",
       "      <td>0.062212</td>\n",
       "      <td>0.022714</td>\n",
       "    </tr>\n",
       "    <tr>\n",
       "      <th>2024-02-16</th>\n",
       "      <td>-0.008430</td>\n",
       "      <td>-0.015760</td>\n",
       "      <td>0.004121</td>\n",
       "      <td>-0.002494</td>\n",
       "      <td>-0.022127</td>\n",
       "    </tr>\n",
       "  </tbody>\n",
       "</table>\n",
       "<p>1038 rows × 5 columns</p>\n",
       "</div>"
      ],
      "text/plain": [
       "                AAPL     GOOGL       IBM      TSLA      META\n",
       "2020-01-03 -0.009722 -0.005231 -0.007975  0.029633 -0.005291\n",
       "2020-01-06  0.007968  0.026654 -0.001787  0.019255  0.018834\n",
       "2020-01-07 -0.004703 -0.001932  0.000671  0.038801  0.002164\n",
       "2020-01-08  0.016086  0.007118  0.008346  0.049205  0.010138\n",
       "2020-01-09  0.021241  0.010498  0.010568 -0.021945  0.014311\n",
       "...              ...       ...       ...       ...       ...\n",
       "2024-02-12 -0.009002 -0.009866 -0.000966 -0.028104  0.001688\n",
       "2024-02-13 -0.011274 -0.016200 -0.013214 -0.021847 -0.018725\n",
       "2024-02-14 -0.004810  0.005512 -0.000708  0.025486  0.028601\n",
       "2024-02-15 -0.001575 -0.021721  0.017977  0.062212  0.022714\n",
       "2024-02-16 -0.008430 -0.015760  0.004121 -0.002494 -0.022127\n",
       "\n",
       "[1038 rows x 5 columns]"
      ]
     },
     "execution_count": 32,
     "metadata": {},
     "output_type": "execute_result"
    }
   ],
   "source": [
    "ret = markets.pct_change().dropna()  # 수익률 계산 및 nan값 제거\n",
    "ret"
   ]
  },
  {
   "cell_type": "markdown",
   "metadata": {},
   "source": [
    "각 자산별 비중을 곱해준다. broadcasting을 사용하면 계산하기 쉽다"
   ]
  },
  {
   "cell_type": "code",
   "execution_count": null,
   "metadata": {
    "ExecuteTime": {
     "end_time": "2024-02-21T09:00:21.032823Z",
     "start_time": "2024-02-21T09:00:21.023634Z"
    }
   },
   "outputs": [
    {
     "data": {
      "text/html": [
       "<div>\n",
       "<style scoped>\n",
       "    .dataframe tbody tr th:only-of-type {\n",
       "        vertical-align: middle;\n",
       "    }\n",
       "\n",
       "    .dataframe tbody tr th {\n",
       "        vertical-align: top;\n",
       "    }\n",
       "\n",
       "    .dataframe thead th {\n",
       "        text-align: right;\n",
       "    }\n",
       "</style>\n",
       "<table border=\"1\" class=\"dataframe\">\n",
       "  <thead>\n",
       "    <tr style=\"text-align: right;\">\n",
       "      <th></th>\n",
       "      <th>AAPL</th>\n",
       "      <th>GOOGL</th>\n",
       "      <th>IBM</th>\n",
       "      <th>TSLA</th>\n",
       "      <th>META</th>\n",
       "    </tr>\n",
       "  </thead>\n",
       "  <tbody>\n",
       "    <tr>\n",
       "      <th>2020-01-03</th>\n",
       "      <td>-0.003889</td>\n",
       "      <td>-0.001569</td>\n",
       "      <td>-0.000798</td>\n",
       "      <td>0.002963</td>\n",
       "      <td>-0.000529</td>\n",
       "    </tr>\n",
       "    <tr>\n",
       "      <th>2020-01-06</th>\n",
       "      <td>0.003187</td>\n",
       "      <td>0.007996</td>\n",
       "      <td>-0.000179</td>\n",
       "      <td>0.001925</td>\n",
       "      <td>0.001883</td>\n",
       "    </tr>\n",
       "    <tr>\n",
       "      <th>2020-01-07</th>\n",
       "      <td>-0.001881</td>\n",
       "      <td>-0.000579</td>\n",
       "      <td>0.000067</td>\n",
       "      <td>0.003880</td>\n",
       "      <td>0.000216</td>\n",
       "    </tr>\n",
       "    <tr>\n",
       "      <th>2020-01-08</th>\n",
       "      <td>0.006435</td>\n",
       "      <td>0.002135</td>\n",
       "      <td>0.000835</td>\n",
       "      <td>0.004920</td>\n",
       "      <td>0.001014</td>\n",
       "    </tr>\n",
       "    <tr>\n",
       "      <th>2020-01-09</th>\n",
       "      <td>0.008496</td>\n",
       "      <td>0.003149</td>\n",
       "      <td>0.001057</td>\n",
       "      <td>-0.002195</td>\n",
       "      <td>0.001431</td>\n",
       "    </tr>\n",
       "    <tr>\n",
       "      <th>...</th>\n",
       "      <td>...</td>\n",
       "      <td>...</td>\n",
       "      <td>...</td>\n",
       "      <td>...</td>\n",
       "      <td>...</td>\n",
       "    </tr>\n",
       "    <tr>\n",
       "      <th>2024-02-12</th>\n",
       "      <td>-0.003601</td>\n",
       "      <td>-0.002960</td>\n",
       "      <td>-0.000097</td>\n",
       "      <td>-0.002810</td>\n",
       "      <td>0.000169</td>\n",
       "    </tr>\n",
       "    <tr>\n",
       "      <th>2024-02-13</th>\n",
       "      <td>-0.004510</td>\n",
       "      <td>-0.004860</td>\n",
       "      <td>-0.001321</td>\n",
       "      <td>-0.002185</td>\n",
       "      <td>-0.001872</td>\n",
       "    </tr>\n",
       "    <tr>\n",
       "      <th>2024-02-14</th>\n",
       "      <td>-0.001924</td>\n",
       "      <td>0.001654</td>\n",
       "      <td>-0.000071</td>\n",
       "      <td>0.002549</td>\n",
       "      <td>0.002860</td>\n",
       "    </tr>\n",
       "    <tr>\n",
       "      <th>2024-02-15</th>\n",
       "      <td>-0.000630</td>\n",
       "      <td>-0.006516</td>\n",
       "      <td>0.001798</td>\n",
       "      <td>0.006221</td>\n",
       "      <td>0.002271</td>\n",
       "    </tr>\n",
       "    <tr>\n",
       "      <th>2024-02-16</th>\n",
       "      <td>-0.003372</td>\n",
       "      <td>-0.004728</td>\n",
       "      <td>0.000412</td>\n",
       "      <td>-0.000249</td>\n",
       "      <td>-0.002213</td>\n",
       "    </tr>\n",
       "  </tbody>\n",
       "</table>\n",
       "<p>1038 rows × 5 columns</p>\n",
       "</div>"
      ],
      "text/plain": [
       "                AAPL     GOOGL       IBM      TSLA      META\n",
       "2020-01-03 -0.003889 -0.001569 -0.000798  0.002963 -0.000529\n",
       "2020-01-06  0.003187  0.007996 -0.000179  0.001925  0.001883\n",
       "2020-01-07 -0.001881 -0.000579  0.000067  0.003880  0.000216\n",
       "2020-01-08  0.006435  0.002135  0.000835  0.004920  0.001014\n",
       "2020-01-09  0.008496  0.003149  0.001057 -0.002195  0.001431\n",
       "...              ...       ...       ...       ...       ...\n",
       "2024-02-12 -0.003601 -0.002960 -0.000097 -0.002810  0.000169\n",
       "2024-02-13 -0.004510 -0.004860 -0.001321 -0.002185 -0.001872\n",
       "2024-02-14 -0.001924  0.001654 -0.000071  0.002549  0.002860\n",
       "2024-02-15 -0.000630 -0.006516  0.001798  0.006221  0.002271\n",
       "2024-02-16 -0.003372 -0.004728  0.000412 -0.000249 -0.002213\n",
       "\n",
       "[1038 rows x 5 columns]"
      ]
     },
     "execution_count": 33,
     "metadata": {},
     "output_type": "execute_result"
    }
   ],
   "source": [
    "ret_adjusted = ret * [0.4, 0.3, 0.1, 0.1, 0.1]\n",
    "ret_adjusted  # weight * return 데이터"
   ]
  },
  {
   "cell_type": "markdown",
   "metadata": {},
   "source": [
    "각 자산의 일별 수익률을 날마다 합치면 포트폴리오의 수익률이 된다."
   ]
  },
  {
   "cell_type": "code",
   "execution_count": null,
   "metadata": {
    "ExecuteTime": {
     "end_time": "2024-02-21T09:00:21.034889Z",
     "start_time": "2024-02-21T09:00:21.026740Z"
    }
   },
   "outputs": [
    {
     "data": {
      "text/plain": [
       "2020-01-03   -0.003822\n",
       "2020-01-06    0.014814\n",
       "2020-01-07    0.001703\n",
       "2020-01-08    0.015339\n",
       "2020-01-09    0.011939\n",
       "                ...   \n",
       "2024-02-12   -0.009299\n",
       "2024-02-13   -0.014748\n",
       "2024-02-14    0.005068\n",
       "2024-02-15    0.003144\n",
       "2024-02-16   -0.010150\n",
       "Length: 1038, dtype: float64"
      ]
     },
     "execution_count": 34,
     "metadata": {},
     "output_type": "execute_result"
    }
   ],
   "source": [
    "ret_sum = ret_adjusted.sum(axis = 1)\n",
    "ret_sum"
   ]
  },
  {
   "cell_type": "code",
   "execution_count": null,
   "metadata": {
    "ExecuteTime": {
     "end_time": "2024-02-21T09:00:21.252539Z",
     "start_time": "2024-02-21T09:00:21.034887Z"
    }
   },
   "outputs": [
    {
     "data": {
      "text/plain": [
       "<Axes: >"
      ]
     },
     "execution_count": 35,
     "metadata": {},
     "output_type": "execute_result"
    },
    {
     "data": {
      "image/png": "[encoded data removed]",
      "text/plain": [
       "<Figure size 432x288 with 1 Axes>"
      ]
     },
     "metadata": {
      "needs_background": "light"
     },
     "output_type": "display_data"
    }
   ],
   "source": [
    "ret_sum.plot()"
   ]
  },
  {
   "cell_type": "markdown",
   "metadata": {},
   "source": [
    "누적 수익률을 구하면 포트폴리오의 성과를 확인할 수 있다"
   ]
  },
  {
   "cell_type": "code",
   "execution_count": null,
   "metadata": {
    "ExecuteTime": {
     "end_time": "2024-02-21T09:00:21.512639Z",
     "start_time": "2024-02-21T09:00:21.276915Z"
    }
   },
   "outputs": [
    {
     "data": {
      "text/plain": [
       "<matplotlib.legend.Legend at 0x292f5ce9580>"
      ]
     },
     "execution_count": 39,
     "metadata": {},
     "output_type": "execute_result"
    },
    {
     "data": {
      "image/png": "[encoded data removed]",
      "text/plain": [
       "<Figure size 432x288 with 1 Axes>"
      ]
     },
     "metadata": {
      "needs_background": "light"
     },
     "output_type": "display_data"
    }
   ],
   "source": [
    "import matplotlib.pyplot as plt\n",
    "ret_sum.cumsum().plot(label='portfolio')\n",
    "snp500.Close.pct_change().dropna().cumsum().plot(label='snp500')\n",
    "plt.legend()"
   ]
  },
  {
   "cell_type": "markdown",
   "metadata": {},
   "source": [
    "## Matplotlib\n",
    "- 파이썬에서 자료를 차트(chart)나 플롯(plot)으로 시각화하는 패키지이다\n",
    "- 차트 이외에도 폰트 설정 등 여러가지 설정이 가능하다\n",
    "\n",
    "https://matplotlib.org/stable/index.html"
   ]
  },
  {
   "cell_type": "code",
   "execution_count": null,
   "metadata": {
    "ExecuteTime": {
     "end_time": "2024-02-21T09:00:21.567676Z",
     "start_time": "2024-02-21T09:00:21.512106Z"
    }
   },
   "outputs": [],
   "source": [
    "import pandas_datareader as wb\n",
    "import datetime\n",
    "\n",
    "start = datetime.datetime(2022, 1, 1)\n",
    "end = datetime.datetime(2023, 2, 17)\n",
    "df = wb.DataReader(\"KOSPI\", \"naver\", start, end)"
   ]
  },
  {
   "cell_type": "code",
   "execution_count": null,
   "metadata": {
    "ExecuteTime": {
     "end_time": "2024-02-21T09:00:21.573648Z",
     "start_time": "2024-02-21T09:00:21.570083Z"
    }
   },
   "outputs": [
    {
     "data": {
      "text/html": [
       "<div>\n",
       "<style scoped>\n",
       "    .dataframe tbody tr th:only-of-type {\n",
       "        vertical-align: middle;\n",
       "    }\n",
       "\n",
       "    .dataframe tbody tr th {\n",
       "        vertical-align: top;\n",
       "    }\n",
       "\n",
       "    .dataframe thead th {\n",
       "        text-align: right;\n",
       "    }\n",
       "</style>\n",
       "<table border=\"1\" class=\"dataframe\">\n",
       "  <thead>\n",
       "    <tr style=\"text-align: right;\">\n",
       "      <th></th>\n",
       "      <th>Open</th>\n",
       "      <th>High</th>\n",
       "      <th>Low</th>\n",
       "      <th>Close</th>\n",
       "      <th>Volume</th>\n",
       "    </tr>\n",
       "    <tr>\n",
       "      <th>Date</th>\n",
       "      <th></th>\n",
       "      <th></th>\n",
       "      <th></th>\n",
       "      <th></th>\n",
       "      <th></th>\n",
       "    </tr>\n",
       "  </thead>\n",
       "  <tbody>\n",
       "    <tr>\n",
       "      <th>2022-01-03</th>\n",
       "      <td>2998.32</td>\n",
       "      <td>3010.77</td>\n",
       "      <td>2979.42</td>\n",
       "      <td>2988.77</td>\n",
       "      <td>435825</td>\n",
       "    </tr>\n",
       "    <tr>\n",
       "      <th>2022-01-04</th>\n",
       "      <td>2991.97</td>\n",
       "      <td>2995.25</td>\n",
       "      <td>2973.08</td>\n",
       "      <td>2989.24</td>\n",
       "      <td>621549</td>\n",
       "    </tr>\n",
       "    <tr>\n",
       "      <th>2022-01-05</th>\n",
       "      <td>2984.05</td>\n",
       "      <td>2986.2</td>\n",
       "      <td>2936.73</td>\n",
       "      <td>2953.97</td>\n",
       "      <td>787346</td>\n",
       "    </tr>\n",
       "    <tr>\n",
       "      <th>2022-01-06</th>\n",
       "      <td>2925.4</td>\n",
       "      <td>2952.54</td>\n",
       "      <td>2915.38</td>\n",
       "      <td>2920.53</td>\n",
       "      <td>786045</td>\n",
       "    </tr>\n",
       "    <tr>\n",
       "      <th>2022-01-07</th>\n",
       "      <td>2933.78</td>\n",
       "      <td>2959.03</td>\n",
       "      <td>2933.1</td>\n",
       "      <td>2954.89</td>\n",
       "      <td>546172</td>\n",
       "    </tr>\n",
       "  </tbody>\n",
       "</table>\n",
       "</div>"
      ],
      "text/plain": [
       "               Open     High      Low    Close  Volume\n",
       "Date                                                  \n",
       "2022-01-03  2998.32  3010.77  2979.42  2988.77  435825\n",
       "2022-01-04  2991.97  2995.25  2973.08  2989.24  621549\n",
       "2022-01-05  2984.05   2986.2  2936.73  2953.97  787346\n",
       "2022-01-06   2925.4  2952.54  2915.38  2920.53  786045\n",
       "2022-01-07  2933.78  2959.03   2933.1  2954.89  546172"
      ]
     },
     "execution_count": 64,
     "metadata": {},
     "output_type": "execute_result"
    }
   ],
   "source": [
    "df.head() # 상위 5개만 출력"
   ]
  },
  {
   "cell_type": "code",
   "execution_count": null,
   "metadata": {
    "ExecuteTime": {
     "end_time": "2024-02-21T09:00:21.585892Z",
     "start_time": "2024-02-21T09:00:21.573934Z"
    }
   },
   "outputs": [
    {
     "data": {
      "text/plain": [
       "Date\n",
       "2022-01-03    2988.77\n",
       "2022-01-04    2989.24\n",
       "2022-01-05    2953.97\n",
       "2022-01-06    2920.53\n",
       "2022-01-07    2954.89\n",
       "Name: Close, dtype: object"
      ]
     },
     "execution_count": 65,
     "metadata": {},
     "output_type": "execute_result"
    }
   ],
   "source": [
    "price = df.Close\n",
    "price.head() # 종가 데이터만 Series로 저장"
   ]
  },
  {
   "cell_type": "code",
   "execution_count": null,
   "metadata": {
    "ExecuteTime": {
     "end_time": "2024-02-21T09:00:21.782887Z",
     "start_time": "2024-02-21T09:00:21.580159Z"
    },
    "scrolled": true
   },
   "outputs": [
    {
     "data": {
      "text/plain": [
       "[<matplotlib.lines.Line2D at 0x1329f9960>]"
      ]
     },
     "execution_count": 66,
     "metadata": {},
     "output_type": "execute_result"
    },
    {
     "data": {
      "image/png": "[encoded data removed]",
      "text/plain": [
       "<Figure size 640x480 with 1 Axes>"
      ]
     },
     "metadata": {},
     "output_type": "display_data"
    }
   ],
   "source": [
    "import matplotlib.pyplot as plt\n",
    "price = pd.DataFrame(price.astype(float).values, columns = ['price'], index = price.index)\n",
    "plt.plot(price) # plotting"
   ]
  },
  {
   "cell_type": "code",
   "execution_count": null,
   "metadata": {
    "ExecuteTime": {
     "end_time": "2024-02-21T09:00:21.783177Z",
     "start_time": "2024-02-21T09:00:21.765690Z"
    }
   },
   "outputs": [
    {
     "data": {
      "text/html": [
       "<div>\n",
       "<style scoped>\n",
       "    .dataframe tbody tr th:only-of-type {\n",
       "        vertical-align: middle;\n",
       "    }\n",
       "\n",
       "    .dataframe tbody tr th {\n",
       "        vertical-align: top;\n",
       "    }\n",
       "\n",
       "    .dataframe thead th {\n",
       "        text-align: right;\n",
       "    }\n",
       "</style>\n",
       "<table border=\"1\" class=\"dataframe\">\n",
       "  <thead>\n",
       "    <tr style=\"text-align: right;\">\n",
       "      <th></th>\n",
       "      <th>price</th>\n",
       "    </tr>\n",
       "    <tr>\n",
       "      <th>Date</th>\n",
       "      <th></th>\n",
       "    </tr>\n",
       "  </thead>\n",
       "  <tbody>\n",
       "    <tr>\n",
       "      <th>2022-01-03</th>\n",
       "      <td>2988.77</td>\n",
       "    </tr>\n",
       "    <tr>\n",
       "      <th>2022-01-04</th>\n",
       "      <td>2989.24</td>\n",
       "    </tr>\n",
       "    <tr>\n",
       "      <th>2022-01-05</th>\n",
       "      <td>2953.97</td>\n",
       "    </tr>\n",
       "    <tr>\n",
       "      <th>2022-01-06</th>\n",
       "      <td>2920.53</td>\n",
       "    </tr>\n",
       "    <tr>\n",
       "      <th>2022-01-07</th>\n",
       "      <td>2954.89</td>\n",
       "    </tr>\n",
       "  </tbody>\n",
       "</table>\n",
       "</div>"
      ],
      "text/plain": [
       "              price\n",
       "Date               \n",
       "2022-01-03  2988.77\n",
       "2022-01-04  2989.24\n",
       "2022-01-05  2953.97\n",
       "2022-01-06  2920.53\n",
       "2022-01-07  2954.89"
      ]
     },
     "execution_count": 67,
     "metadata": {},
     "output_type": "execute_result"
    }
   ],
   "source": [
    "price.head() # DataFrame"
   ]
  },
  {
   "cell_type": "markdown",
   "metadata": {},
   "source": [
    "### 범례 출력\n",
    "- label로 라벨을 지정하고 legend( ) method를 통해서 범례를 출력할 수 있다"
   ]
  },
  {
   "cell_type": "code",
   "execution_count": null,
   "metadata": {
    "ExecuteTime": {
     "end_time": "2024-02-21T09:00:21.928636Z",
     "start_time": "2024-02-21T09:00:21.781257Z"
    }
   },
   "outputs": [
    {
     "data": {
      "text/plain": [
       "<matplotlib.legend.Legend at 0x13268f760>"
      ]
     },
     "execution_count": 68,
     "metadata": {},
     "output_type": "execute_result"
    },
    {
     "data": {
      "image/png": "[encoded data removed]",
      "text/plain": [
       "<Figure size 640x480 with 1 Axes>"
      ]
     },
     "metadata": {},
     "output_type": "display_data"
    }
   ],
   "source": [
    "plt.plot(price, label = 'Price') # label 지정 가능\n",
    "plt.grid(False)\n",
    "plt.legend() # 범례 출력"
   ]
  },
  {
   "cell_type": "code",
   "execution_count": null,
   "metadata": {
    "ExecuteTime": {
     "end_time": "2024-02-21T09:00:22.075656Z",
     "start_time": "2024-02-21T09:00:21.926943Z"
    }
   },
   "outputs": [
    {
     "data": {
      "text/plain": [
       "<matplotlib.legend.Legend at 0x1326fb670>"
      ]
     },
     "execution_count": 69,
     "metadata": {},
     "output_type": "execute_result"
    },
    {
     "data": {
      "image/png": "[encoded data removed]",
      "text/plain": [
       "<Figure size 640x480 with 1 Axes>"
      ]
     },
     "metadata": {},
     "output_type": "display_data"
    }
   ],
   "source": [
    "plt.plot(price, label = 'Price') \n",
    "plt.grid(False)\n",
    "plt.legend(loc = 'upper right') # loc argument를 통해 위치를 바꿀 수 있다"
   ]
  },
  {
   "cell_type": "markdown",
   "metadata": {},
   "source": [
    "### Figure Style\n",
    "- Matplotlib에서 표의 형태를 조절할 수 있는 몇가지 방법이 존재한다"
   ]
  },
  {
   "cell_type": "code",
   "execution_count": null,
   "metadata": {
    "ExecuteTime": {
     "end_time": "2024-02-21T09:00:22.227326Z",
     "start_time": "2024-02-21T09:00:22.069913Z"
    }
   },
   "outputs": [
    {
     "data": {
      "text/plain": [
       "<matplotlib.legend.Legend at 0x1329e9120>"
      ]
     },
     "execution_count": 70,
     "metadata": {},
     "output_type": "execute_result"
    },
    {
     "data": {
      "image/png": "[encoded data removed]",
      "text/plain": [
       "<Figure size 1000x400 with 1 Axes>"
      ]
     },
     "metadata": {},
     "output_type": "display_data"
    }
   ],
   "source": [
    "# plt.style.use('seaborn') # plot 스타일 지정 가능, 구글링 해서 원하는 테마로 설정할 것\n",
    "plt.figure(figsize = (10,4)) # plot size 지정 가능. figsize argument를 통해 사이즈를 조절할 수 있다\n",
    "plt.plot(price, label = 'Price') \n",
    "plt.grid(False)\n",
    "plt.legend(loc = 'upper right') "
   ]
  },
  {
   "cell_type": "code",
   "execution_count": null,
   "metadata": {
    "ExecuteTime": {
     "end_time": "2024-02-21T09:00:22.402241Z",
     "start_time": "2024-02-21T09:00:22.222610Z"
    }
   },
   "outputs": [
    {
     "data": {
      "text/plain": [
       "Text(0.5, 1.0, 'KOSPI Index')"
      ]
     },
     "execution_count": 71,
     "metadata": {},
     "output_type": "execute_result"
    },
    {
     "data": {
      "image/png": "[encoded data removed]",
      "text/plain": [
       "<Figure size 1000x400 with 1 Axes>"
      ]
     },
     "metadata": {},
     "output_type": "display_data"
    }
   ],
   "source": [
    "# plt.style.use('seaborn') \n",
    "plt.figure(figsize = (10,4))\n",
    "plt.plot(price, label = 'Price', color = 'red') # color argument를 통해 색상 변경 가능\n",
    "plt.legend(loc = 'upper right') \n",
    "plt.xlabel('Period', fontsize = 10, fontfamily = 'Serif') # label을 따로 붙일 수 있다\n",
    "plt.ylabel('Price', fontsize = 10, fontfamily = 'Serif') # fontsize, fontfamily로 폰트 스타일 조정가능\n",
    "plt.title('KOSPI Index', fontsize = 12, fontweight = 'bold', fontfamily = 'Serif') # fontweight로 굵기 조절 "
   ]
  },
  {
   "cell_type": "markdown",
   "metadata": {},
   "source": [
    "이외로도 matplotlib에서 외부 폰트를 직접 불러와 사용 가능하다(구글링 후 사용방법 참조)"
   ]
  },
  {
   "cell_type": "code",
   "execution_count": 51,
   "metadata": {
    "ExecuteTime": {
     "end_time": "2024-02-21T09:00:22.533354Z",
     "start_time": "2024-02-21T09:00:22.412177Z"
    }
   },
   "outputs": [
    {
     "ename": "NameError",
     "evalue": "name 'plt' is not defined",
     "output_type": "error",
     "traceback": [
      "\u001b[1;31m---------------------------------------------------------------------------\u001b[0m",
      "\u001b[1;31mNameError\u001b[0m                                 Traceback (most recent call last)",
      "Cell \u001b[1;32mIn[51], line 2\u001b[0m\n\u001b[0;32m      1\u001b[0m \u001b[38;5;66;03m# plt.style.use('seaborn') \u001b[39;00m\n\u001b[1;32m----> 2\u001b[0m \u001b[43mplt\u001b[49m\u001b[38;5;241m.\u001b[39mfigure(figsize \u001b[38;5;241m=\u001b[39m (\u001b[38;5;241m10\u001b[39m,\u001b[38;5;241m4\u001b[39m))\n\u001b[0;32m      3\u001b[0m plt\u001b[38;5;241m.\u001b[39mgrid(\u001b[38;5;28;01mFalse\u001b[39;00m) \u001b[38;5;66;03m# grid 표시 설정가능\u001b[39;00m\n\u001b[0;32m      4\u001b[0m plt\u001b[38;5;241m.\u001b[39mplot(price, label \u001b[38;5;241m=\u001b[39m \u001b[38;5;124m'\u001b[39m\u001b[38;5;124mPrice\u001b[39m\u001b[38;5;124m'\u001b[39m) \n",
      "\u001b[1;31mNameError\u001b[0m: name 'plt' is not defined"
     ]
    }
   ],
   "source": [
    "# plt.style.use('seaborn') \n",
    "plt.figure(figsize = (10,4))\n",
    "plt.grid(False) # grid 표시 설정가능\n",
    "plt.plot(price, label = 'Price') \n",
    "plt.legend(loc = 'upper right') \n",
    "plt.xlabel('Period', fontsize = 10, fontfamily = 'Serif') # label을 따로 붙일 수 있다\n",
    "plt.ylabel('Price', fontsize = 10, fontfamily = 'Serif') # fontsize, fontfamily로 폰트 스타일 조정가능\n",
    "plt.title('KOSPI Index', fontsize = 12, fontweight = 'bold', fontfamily = 'Serif') # fontweight로 굵기 조절 \n",
    "plt.show() # show() method 사용시 여러개의 그래프를 한번에 표시 가능하다"
   ]
  },
  {
   "cell_type": "code",
   "execution_count": 52,
   "metadata": {
    "ExecuteTime": {
     "end_time": "2024-02-21T09:00:22.727646Z",
     "start_time": "2024-02-21T09:00:22.548247Z"
    }
   },
   "outputs": [
    {
     "ename": "NameError",
     "evalue": "name 'plt' is not defined",
     "output_type": "error",
     "traceback": [
      "\u001b[1;31m---------------------------------------------------------------------------\u001b[0m",
      "\u001b[1;31mNameError\u001b[0m                                 Traceback (most recent call last)",
      "Cell \u001b[1;32mIn[52], line 2\u001b[0m\n\u001b[0;32m      1\u001b[0m \u001b[38;5;66;03m# plt.style.use('seaborn') \u001b[39;00m\n\u001b[1;32m----> 2\u001b[0m \u001b[43mplt\u001b[49m\u001b[38;5;241m.\u001b[39mfigure(figsize \u001b[38;5;241m=\u001b[39m (\u001b[38;5;241m15\u001b[39m,\u001b[38;5;241m5\u001b[39m))\n\u001b[0;32m      3\u001b[0m plt\u001b[38;5;241m.\u001b[39mgrid(\u001b[38;5;28;01mFalse\u001b[39;00m) \u001b[38;5;66;03m# grid 표시 설정가능\u001b[39;00m\n\u001b[0;32m      4\u001b[0m plt\u001b[38;5;241m.\u001b[39mplot(price, label \u001b[38;5;241m=\u001b[39m \u001b[38;5;124m'\u001b[39m\u001b[38;5;124mPrice\u001b[39m\u001b[38;5;124m'\u001b[39m) \n",
      "\u001b[1;31mNameError\u001b[0m: name 'plt' is not defined"
     ]
    }
   ],
   "source": [
    "# plt.style.use('seaborn') \n",
    "plt.figure(figsize = (15,5))\n",
    "plt.grid(False) # grid 표시 설정가능\n",
    "plt.plot(price, label = 'Price') \n",
    "plt.legend(loc = 'upper right') \n",
    "plt.xlabel('Period', fontsize = 10, fontfamily = 'Serif') # label을 따로 붙일 수 있다\n",
    "plt.ylabel('Price', fontsize = 10, fontfamily = 'Serif') # fontsize, fontfamily로 폰트 스타일 조정가능\n",
    "plt.title('KOSPI Index', fontsize = 12, fontweight = 'bold', fontfamily = 'Serif') # fontweight로 굵기 조절 \n",
    "plt.axvspan('2022-09-15', '2022-10-31', color = 'gray', alpha = 0.3) # axvspan() : 정해진 구간동안 회색 음영 처리 가능\n",
    "plt.text(19286, 2600, 'Inflation crisis', ha = 'left', fontsize = 15, fontfamily = 'Serif', rotation = 90)\n",
    "# rotation argument를 통해 개체를 회전시킬 수 있다\n",
    "plt.text(18972, 1950 , r'$\\rightarrow$Inflation crisis is derived from USA', ha = 'left', fontsize = 15, fontfamily = 'Serif')\n",
    "# text method를 통해서 text를 집어넣을 수 있다\n",
    "plt.show() # show() method 사용시 여러개의 그래프를 한번에 표시 가능하다"
   ]
  },
  {
   "cell_type": "markdown",
   "metadata": {},
   "source": [
    "### Histogram"
   ]
  },
  {
   "cell_type": "code",
   "execution_count": 53,
   "metadata": {
    "ExecuteTime": {
     "end_time": "2024-02-21T09:00:22.732696Z",
     "start_time": "2024-02-21T09:00:22.728849Z"
    }
   },
   "outputs": [
    {
     "data": {
      "text/plain": [
       "Date\n",
       "2023-09-27    1356.82\n",
       "2023-09-26    1352.93\n",
       "2023-09-25    1338.01\n",
       "2023-09-22    1334.03\n",
       "2023-09-21    1339.00\n",
       "               ...   \n",
       "2020-01-07    1167.30\n",
       "2020-01-06    1166.94\n",
       "2020-01-03    1164.95\n",
       "2020-01-02    1157.35\n",
       "2020-01-01    1154.02\n",
       "Name: Price, Length: 976, dtype: float64"
      ]
     },
     "execution_count": 53,
     "metadata": {},
     "output_type": "execute_result"
    }
   ],
   "source": [
    "price"
   ]
  },
  {
   "cell_type": "code",
   "execution_count": 54,
   "metadata": {
    "ExecuteTime": {
     "end_time": "2024-02-21T09:00:22.912303Z",
     "start_time": "2024-02-21T09:00:22.746287Z"
    }
   },
   "outputs": [
    {
     "data": {
      "text/plain": [
       "<Axes: >"
      ]
     },
     "execution_count": 54,
     "metadata": {},
     "output_type": "execute_result"
    },
    {
     "data": {
      "image/png": "[encoded data removed]",
      "text/plain": [
       "<Figure size 640x480 with 1 Axes>"
      ]
     },
     "metadata": {},
     "output_type": "display_data"
    }
   ],
   "source": [
    "price.hist(grid = False) # series에 hist() method 사용 시 히스토그램 출력"
   ]
  },
  {
   "cell_type": "code",
   "execution_count": 55,
   "metadata": {
    "ExecuteTime": {
     "end_time": "2024-02-21T09:00:22.967375Z",
     "start_time": "2024-02-21T09:00:22.831929Z"
    }
   },
   "outputs": [
    {
     "data": {
      "text/plain": [
       "<Axes: >"
      ]
     },
     "execution_count": 55,
     "metadata": {},
     "output_type": "execute_result"
    },
    {
     "data": {
      "image/png": "[encoded data removed]",
      "text/plain": [
       "<Figure size 640x480 with 1 Axes>"
      ]
     },
     "metadata": {},
     "output_type": "display_data"
    }
   ],
   "source": [
    "price.hist(bins = 100) # bins로 구간을 조절할 수 있다"
   ]
  },
  {
   "cell_type": "code",
   "execution_count": 56,
   "metadata": {
    "ExecuteTime": {
     "end_time": "2024-02-21T09:00:23.359874Z",
     "start_time": "2024-02-21T09:00:22.975411Z"
    }
   },
   "outputs": [
    {
     "data": {
      "text/plain": [
       "<Axes: >"
      ]
     },
     "execution_count": 56,
     "metadata": {},
     "output_type": "execute_result"
    },
    {
     "data": {
      "image/png": "[encoded data removed]",
      "text/plain": [
       "<Figure size 640x480 with 1 Axes>"
      ]
     },
     "metadata": {},
     "output_type": "display_data"
    }
   ],
   "source": [
    "price.hist(facecolor = 'r', alpha = 0.2, bins = 50) # alpha(투명도)와 facecolor를 통해 색상 조절 가능"
   ]
  },
  {
   "cell_type": "code",
   "execution_count": null,
   "id": "01805c1b",
   "metadata": {},
   "outputs": [],
   "source": []
  },
  {
   "cell_type": "code",
   "execution_count": null,
   "id": "cab1c2f5",
   "metadata": {},
   "outputs": [],
   "source": []
  }
 ],
 "metadata": {
  "kernelspec": {
   "display_name": "Python 3",
   "language": "python",
   "name": "python3"
  },
  "language_info": {
   "codemirror_mode": {
    "name": "ipython",
    "version": 3
   },
   "file_extension": ".py",
   "mimetype": "text/x-python",
   "name": "python",
   "nbconvert_exporter": "python",
   "pygments_lexer": "ipython3",
   "version": "3.9.12"
  },
  "toc": {
   "base_numbering": 1,
   "nav_menu": {},
   "number_sections": true,
   "sideBar": true,
   "skip_h1_title": false,
   "title_cell": "Table of Contents",
   "title_sidebar": "Contents",
   "toc_cell": false,
   "toc_position": {},
   "toc_section_display": true,
   "toc_window_display": false
  }
 },
 "nbformat": 4,
 "nbformat_minor": 5
}
