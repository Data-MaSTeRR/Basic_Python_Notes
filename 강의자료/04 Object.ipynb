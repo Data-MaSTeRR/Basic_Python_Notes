{
 "cells": [
  {
   "cell_type": "markdown",
   "metadata": {},
   "source": [
    "## Classes and Libraries\n",
    "\n",
    "### Object Oriented Programming Basics\n",
    "\n",
    "- 프로그램을 명령어들의 목록이 아니라, 객체들의 모임으로서, 객체와 객체와의 상호관계를 중심으로 작성하자는 패러다임이다\n",
    "- 작성자 중심의 코드보다는 사용자 중심의 프로그래밍이다\n",
    "- 3자의 눈으로 설계를 해야하기 때문에 고난도의 지식이 요구된다\n",
    "- **Keras, Tensorflow, Pytorch를 사용하기 위해서는 필수 지식이다**\n",
    "- 이 수업에서는 코드를 구별하기 위한 기초적 지식만 다룬다\n",
    "\n",
    "<br>\n",
    "\n",
    "- **클래스(class)** : 객체를 생성하기 위한 템플릿, 설계도 / 객체의 속성과 메서드를 정의\n",
    "- **객체(object)** : 클래스에서 정의한 구조를 실제로 메모리할당 하여 만든 실체 / 클래스의 인스턴스\n",
    "- **인스턴스(instance)** : 설계도에 따라 실제로 구현된 것 / 객체와 비슷한 의미"
   ]
  },
  {
   "cell_type": "code",
   "execution_count": 44,
   "metadata": {},
   "outputs": [],
   "source": [
    "class Client(object) : # Class 선언 / object를 상속받음!\n",
    "\n",
    "    def __init__(self, name, year, client_id) : # initializer, 필수적으로 있어야 함\n",
    "        # initializer는 Class가 instance 되자마자 생성되므로 해당되는 변수가 모두 입력되어야 함\n",
    "        self.name = name # self는 Class내에서 처리되는 instance 변수\n",
    "        self.year = year\n",
    "        self.client_id = client_id\n",
    "    \n",
    "    # method1\n",
    "    def introduce_client(self) : \n",
    "        print(self.name, self.year, self.client_id) # 인스턴스변수\n",
    "\n",
    "    # method2\n",
    "    def hello_client(self):\n",
    "        greeting = \"Hello\"  # 로컬 변수\n",
    "        print(f\"{greeting}, my name is {self.name}\") \n",
    "    \n"
   ]
  },
  {
   "cell_type": "markdown",
   "metadata": {},
   "source": [
    "- self.가 붙은 변수는 Object별로 따로 저장되는 instance 변수라고 한다\n",
    "- Class 하위에 선언된 Class function들을 **Method**라고 한다 => 메소드는 독립적으로 사용이 불가능하다는 특징을 가짐!    \n",
    "    - Client.introduce_client(): 클래스의 인스턴스가 없어서 직접호출이 불가\n",
    "    - client1.introduce_client(): 클래스의 인스턴스를 통해 호출가능"
   ]
  },
  {
   "cell_type": "code",
   "execution_count": 45,
   "metadata": {},
   "outputs": [],
   "source": [
    "person1 = Client('김철수', 5, 1)\n",
    "person2 = Client('신짱구', 4, 2) # person1과 person2는 각자 다른 정보로 저장됨"
   ]
  },
  {
   "cell_type": "code",
   "execution_count": 46,
   "metadata": {},
   "outputs": [
    {
     "data": {
      "text/plain": [
       "<__main__.Client at 0x1512fd9bb50>"
      ]
     },
     "execution_count": 46,
     "metadata": {},
     "output_type": "execute_result"
    }
   ],
   "source": [
    "person1"
   ]
  },
  {
   "cell_type": "code",
   "execution_count": 47,
   "metadata": {},
   "outputs": [
    {
     "data": {
      "text/plain": [
       "__main__.Client"
      ]
     },
     "execution_count": 47,
     "metadata": {},
     "output_type": "execute_result"
    }
   ],
   "source": [
    "type(person1) # Client Class의 객체"
   ]
  },
  {
   "cell_type": "code",
   "execution_count": 48,
   "metadata": {},
   "outputs": [
    {
     "name": "stdout",
     "output_type": "stream",
     "text": [
      "김철수 5 1\n"
     ]
    }
   ],
   "source": [
    "person1.introduce_client() # method"
   ]
  },
  {
   "cell_type": "code",
   "execution_count": 49,
   "metadata": {},
   "outputs": [
    {
     "name": "stdout",
     "output_type": "stream",
     "text": [
      "신짱구 4 2\n"
     ]
    }
   ],
   "source": [
    "person2.introduce_client() # method"
   ]
  },
  {
   "cell_type": "markdown",
   "metadata": {},
   "source": [
    "### Exercise 1.\n",
    "- 사칙연산을 가능하게 하는 FourCal이라는 클래스를 만들어 보자"
   ]
  },
  {
   "cell_type": "code",
   "execution_count": 50,
   "metadata": {},
   "outputs": [],
   "source": [
    "class FourCal(object) : \n",
    "    def __init__(self, num1, num2) : # 두 개의 수를 입력으로 받음\n",
    "        # __init__아래는 Class가 실행되자마자 생성되는 instance 변수들이다\n",
    "        self.num1 = num1 \n",
    "        self.num2 = num2\n",
    "        self.result = 0\n",
    "    \n",
    "    def Sum(self) : # method\n",
    "        self.result = self.num1 + self.num2 # Class 내의 instance 변수들간 연산은 self를 사용한다\n",
    "        return self.result # return값은 휘발되는 정보이다. \n",
    "    \n",
    "    def Sub(self) :\n",
    "        self.result = self.num1 - self.num2\n",
    "        return self.result\n",
    "    \n",
    "    def Mul(self) :\n",
    "        self.result = self.num1 * self.num2\n",
    "        return self.result\n",
    "    \n",
    "    def Div(self) :\n",
    "        self.result = self.num1 / self.num2\n",
    "        return self.result"
   ]
  },
  {
   "cell_type": "code",
   "execution_count": 51,
   "id": "f2f29622",
   "metadata": {},
   "outputs": [],
   "source": [
    "class FourCal(object) :\n",
    "    def __init__(self, num1, num2) :\n",
    "        self.num1 = num1\n",
    "        self.num2 = num2\n",
    "        self.result = 0\n",
    "        \n",
    "    def Sum(self) :\n",
    "        self.result = self.num1 + self.num2\n",
    "        return self.result\n",
    "    \n",
    "    def Sub(self) :\n",
    "        self.result = self.num1 - self.num2\n",
    "        return self.result\n",
    "    \n",
    "    def Mul(self) :\n",
    "        self.result = self.num1 * self.num2\n",
    "        return self.result\n",
    "    \n",
    "    def Div(self) :\n",
    "        self.result = self.num1 / self.num2\n",
    "        return self.result"
   ]
  },
  {
   "cell_type": "code",
   "execution_count": 52,
   "metadata": {},
   "outputs": [],
   "source": [
    "test = FourCal(2,3) # 클래스의 인스턴스: test"
   ]
  },
  {
   "cell_type": "code",
   "execution_count": 53,
   "metadata": {},
   "outputs": [
    {
     "data": {
      "text/plain": [
       "5"
      ]
     },
     "execution_count": 53,
     "metadata": {},
     "output_type": "execute_result"
    }
   ],
   "source": [
    "test.Sum() # method"
   ]
  },
  {
   "cell_type": "code",
   "execution_count": 54,
   "metadata": {},
   "outputs": [
    {
     "data": {
      "text/plain": [
       "-1"
      ]
     },
     "execution_count": 54,
     "metadata": {},
     "output_type": "execute_result"
    }
   ],
   "source": [
    "test.Sub() # method"
   ]
  },
  {
   "cell_type": "code",
   "execution_count": 55,
   "metadata": {},
   "outputs": [
    {
     "data": {
      "text/plain": [
       "6"
      ]
     },
     "execution_count": 55,
     "metadata": {},
     "output_type": "execute_result"
    }
   ],
   "source": [
    "test.Mul() # method"
   ]
  },
  {
   "cell_type": "code",
   "execution_count": 56,
   "metadata": {},
   "outputs": [
    {
     "data": {
      "text/plain": [
       "0.6666666666666666"
      ]
     },
     "execution_count": 56,
     "metadata": {},
     "output_type": "execute_result"
    }
   ],
   "source": [
    "test.Div() # method "
   ]
  },
  {
   "cell_type": "code",
   "execution_count": 57,
   "metadata": {},
   "outputs": [
    {
     "name": "stdout",
     "output_type": "stream",
     "text": [
      "5\n"
     ]
    }
   ],
   "source": [
    "a = test.Sum() # method 값의 저장\n",
    "print(a)"
   ]
  },
  {
   "cell_type": "markdown",
   "metadata": {},
   "source": [
    "### Class Members\n",
    "\n",
    "<pre>\n",
    "- Class Members\n",
    "    - method\n",
    "    - Property @\n",
    "    - class variable\n",
    "    - instance variable\n",
    "    - Initializer __init__\n",
    "    - Destructor __del__\n",
    "    </pre>\n",
    "    \n",
    "- 데이터를 표현하는 **field**(속성)와 행위를 표현하는 **method**로 구분하며, python에서는 이러한 field와 method 모두 그 클래스의 멤버라고 하며, attribute라고도 한다.\n",
    "- 새로운 attribute를 동적으로 추가할 수 있으며, method도 일종의 method객체로 취급하여 attribute에 포함한다.\n",
    "\n",
    "``` python\n",
    "class Client:\n",
    "    def __init__(self, name):\n",
    "        self.name = name\n",
    "\n",
    "# 인스턴스 생성\n",
    "client1 = Client(\"Alice\")\n",
    "\n",
    "# 기존 속성 접근\n",
    "print(client1.name)  # 출력: Alice\n",
    "\n",
    "# 새로운 속성 동적 추가\n",
    "client1.age = 30\n",
    "\n",
    "# 새로 추가된 속성 접근\n",
    "print(client1.age)  # 출력: 30\n",
    "```\n",
    "\n",
    "### Initializer\n",
    "- **\\_\\_init__( )**\n",
    "- class로부터 새 객체가 생성될 때 마다 실행되는 특별한 method(magic method)이다\n",
    "- instance 변수의 초기화, **객체의 초기 상태를 설정한다**\n",
    "\n",
    "### Destructor\n",
    "- **\\_\\_del__()**\n",
    "- Class로부터 객체가 소멸할 때 호출되는 특별한 method\n",
    "- 객체의 reference counter(참조 카운터)가 0이 되면 자동 호출한다\n",
    "-  메모리를 해제하고 객체를 소멸을 수행한다\n",
    "- 또한, Class가 동작하는지 확인할 때에도 쓰인다"
   ]
  },
  {
   "cell_type": "code",
   "execution_count": 58,
   "metadata": {},
   "outputs": [],
   "source": [
    "class IceCream :\n",
    "    def __init__(self, name, price) : # 생성자 \n",
    "        self.name = name\n",
    "        self.price = price\n",
    "        print(self.name + '의 가격은 ' + str(self.price) + '원 입니다.')\n",
    "    \n",
    "    def __del__(self) : # 소멸자\n",
    "        print(self.name + ' 객체가 사라집니다')"
   ]
  },
  {
   "cell_type": "code",
   "execution_count": 59,
   "metadata": {},
   "outputs": [
    {
     "name": "stdout",
     "output_type": "stream",
     "text": [
      "누가바의 가격은 800원 입니다.\n"
     ]
    }
   ],
   "source": [
    "obIce = IceCream(\"누가바\", 800) # Class 이름, Initializer에 넣을 인스턴스 변수를 지정\n",
    "# rc of obIce = 1"
   ]
  },
  {
   "cell_type": "code",
   "execution_count": 60,
   "metadata": {},
   "outputs": [
    {
     "name": "stdout",
     "output_type": "stream",
     "text": [
      "월드콘의 가격은 1000원 입니다.\n",
      "월드콘 객체가 사라집니다\n"
     ]
    }
   ],
   "source": [
    "ob2Ice = IceCream('월드콘', 1000)\n",
    "# rc of ob2Ice = 1"
   ]
  },
  {
   "cell_type": "code",
   "execution_count": 61,
   "metadata": {},
   "outputs": [],
   "source": [
    "obIce_copy = obIce # rc of obIce = 2"
   ]
  },
  {
   "cell_type": "code",
   "execution_count": 62,
   "metadata": {},
   "outputs": [],
   "source": [
    "del obIce # rc of obIce = 1"
   ]
  },
  {
   "cell_type": "code",
   "execution_count": 63,
   "metadata": {},
   "outputs": [
    {
     "name": "stdout",
     "output_type": "stream",
     "text": [
      "누가바 객체가 사라집니다\n"
     ]
    }
   ],
   "source": [
    "del obIce_copy # rc of obIce = 0, 소멸자 호출"
   ]
  },
  {
   "cell_type": "markdown",
   "metadata": {},
   "source": [
    "### Class variable, Instance variable\n",
    "- Class 변수가 하나의 Class에 하나만 존재하는 반면, Instance 변수는 각 객체 instance마다 별도로 존재한다.\n",
    "- <span style = 'color : #132c6f'><b>Instance Variable</b></span> : 클래스 정의에서 method 안에서 사용되면서 **'self.*variable name*'** 처럼 사용되며, 이는 각 객체별로 서로 다른 값을 갖는 변수이다."
   ]
  },
  {
   "cell_type": "code",
   "execution_count": 64,
   "metadata": {},
   "outputs": [],
   "source": [
    "class Account(object) :\n",
    "    num_accounts = 0 # class variable\n",
    "    def __init__(self, name) :\n",
    "        self.name = name # instance variable\n",
    "        Account.num_accounts += 1\n",
    "    \n",
    "    def __del__(self) :\n",
    "        Account.num_accounts -= 1"
   ]
  },
  {
   "cell_type": "code",
   "execution_count": 65,
   "metadata": {},
   "outputs": [
    {
     "data": {
      "text/plain": [
       "'kim'"
      ]
     },
     "execution_count": 65,
     "metadata": {},
     "output_type": "execute_result"
    }
   ],
   "source": [
    "kim = Account('kim')\n",
    "kim.name"
   ]
  },
  {
   "cell_type": "code",
   "execution_count": 66,
   "metadata": {},
   "outputs": [
    {
     "data": {
      "text/plain": [
       "0"
      ]
     },
     "execution_count": 66,
     "metadata": {},
     "output_type": "execute_result"
    }
   ],
   "source": [
    "kim.num_accounts # 클래스 변수 참조"
   ]
  },
  {
   "cell_type": "code",
   "execution_count": 67,
   "metadata": {},
   "outputs": [
    {
     "data": {
      "text/plain": [
       "0"
      ]
     },
     "execution_count": 67,
     "metadata": {},
     "output_type": "execute_result"
    }
   ],
   "source": [
    "Account.num_accounts"
   ]
  },
  {
   "cell_type": "code",
   "execution_count": 68,
   "metadata": {},
   "outputs": [],
   "source": [
    "lee = Account('lee')"
   ]
  },
  {
   "cell_type": "code",
   "execution_count": 69,
   "metadata": {},
   "outputs": [
    {
     "data": {
      "text/plain": [
       "'lee'"
      ]
     },
     "execution_count": 69,
     "metadata": {},
     "output_type": "execute_result"
    }
   ],
   "source": [
    "lee.name"
   ]
  },
  {
   "cell_type": "code",
   "execution_count": 70,
   "metadata": {},
   "outputs": [
    {
     "data": {
      "text/plain": [
       "0"
      ]
     },
     "execution_count": 70,
     "metadata": {},
     "output_type": "execute_result"
    }
   ],
   "source": [
    "lee.num_accounts # 클래스 변수 참조"
   ]
  },
  {
   "cell_type": "code",
   "execution_count": 71,
   "metadata": {},
   "outputs": [
    {
     "data": {
      "text/plain": [
       "0"
      ]
     },
     "execution_count": 71,
     "metadata": {},
     "output_type": "execute_result"
    }
   ],
   "source": [
    "Account.num_accounts # Class 변수는 Class 사용 횟수에 따라 카운팅 된다"
   ]
  },
  {
   "cell_type": "markdown",
   "metadata": {},
   "source": [
    "### Encapsulation\n",
    "- **캡슐화**는 객체의 외부에서 객체 내부의 속성을 <span style = 'color : #132c6f'>직접적으로 접근, 속성을 읽거나 변경시키지 못하게 하는 것</span>을 말한다.\n",
    "- 객체의 속성을 접근, 속성을 읽고 싶으면 반드시 <span style = 'color : #132c6f'><b>허락된 인터페이스를 통해서</b></span>만이 가능하다.\n",
    "    - 객체가 **외부로 공개한 메서드**를 뜻한다.\n",
    "\n",
    "``` python\n",
    "class Account:\n",
    "    def __init__(self, name, balance):\n",
    "        self.__name = name  # 프라이빗 속성\n",
    "        self.__balance = balance  # 프라이빗 속성\n",
    "\n",
    "    def deposit(self, amount):\n",
    "        if amount > 0:\n",
    "            self.__balance += amount\n",
    "\n",
    "    def withdraw(self, amount):\n",
    "        if 0 < amount <= self.__balance:\n",
    "            self.__balance -= amount\n",
    "\n",
    "    def get_balance(self):\n",
    "        return self.__balance # 공개된 메서드 역할\n",
    "\n",
    "    def get_name(self):\n",
    "        return self.__name # 공개된 메서드 역할\n",
    "```"
   ]
  },
  {
   "cell_type": "markdown",
   "id": "88000b0d",
   "metadata": {},
   "source": [
    "#### Access Modifiers -> 관례와 책임기반\n",
    "- C++나 Java와 같은 OOP 언어에서는 객체의 속성이나 메서드에 접근을 제어하는 접근 지정자 (**public, private, protected**)가 제공된다.\n",
    "- python에서는 이런 접근 지정자가 없다.\n",
    "- python class에서는 기본적으로 모든 멤버가 public이라고 할 수 있다.\n",
    "- python에서의 접근 지정은 이름 규칙을 통해 처리되며, 프로그래머가 접근 지정에 대한 책임을 지게 한다.\n",
    "- python에서는 접근 지정을 구분하기 위해 밑줄(under bar)를 사용한다.\n",
    "\n",
    "\n",
    "|Mode|설명|\n",
    "|:---:|:---:|\n",
    "|**public**| 공개 모드로서 객체 외부에서 접근이 가능하다. 언더바가 없다.|\n",
    "|**protected**| 객체 외부에서 접근해서는 안 된다. <br> 코딩 관례상 내부적으로만 사용되는 변수 또는 메서드에 사용한다. 언더바가 하나이다.|\n",
    "|**private**| private 모드로서 객체 외부뿐만 아니라 상속받은 객체에서도 접근이 안 된다.|\n"
   ]
  },
  {
   "cell_type": "code",
   "execution_count": 72,
   "metadata": {},
   "outputs": [],
   "source": [
    "class Client(object) : # Class 선언\n",
    "    def __init__(self, name, year, client_id) :\n",
    "        self.name = name # public\n",
    "        self._year = year # protected mode\n",
    "        self.__client_id = client_id # private mode \n",
    "        \n",
    "    def introduce_client(self) :\n",
    "        print(self.name, self._year, self.__client_id)"
   ]
  },
  {
   "cell_type": "code",
   "execution_count": 73,
   "metadata": {},
   "outputs": [],
   "source": [
    "person1 = Client('김철수', 5, 1)"
   ]
  },
  {
   "cell_type": "code",
   "execution_count": 74,
   "metadata": {},
   "outputs": [
    {
     "data": {
      "text/plain": [
       "'김철수'"
      ]
     },
     "execution_count": 74,
     "metadata": {},
     "output_type": "execute_result"
    }
   ],
   "source": [
    "person1.name # public mode"
   ]
  },
  {
   "cell_type": "code",
   "execution_count": 75,
   "metadata": {},
   "outputs": [
    {
     "data": {
      "text/plain": [
       "5"
      ]
     },
     "execution_count": 75,
     "metadata": {},
     "output_type": "execute_result"
    }
   ],
   "source": [
    "person1._year # protected mode"
   ]
  },
  {
   "cell_type": "code",
   "execution_count": 76,
   "metadata": {},
   "outputs": [
    {
     "ename": "AttributeError",
     "evalue": "'Client' object has no attribute '__client_id'",
     "output_type": "error",
     "traceback": [
      "\u001b[1;31m---------------------------------------------------------------------------\u001b[0m",
      "\u001b[1;31mAttributeError\u001b[0m                            Traceback (most recent call last)",
      "Cell \u001b[1;32mIn[76], line 1\u001b[0m\n\u001b[1;32m----> 1\u001b[0m \u001b[43mperson1\u001b[49m\u001b[38;5;241;43m.\u001b[39;49m\u001b[43m__client_id\u001b[49m \u001b[38;5;66;03m# private mode는 상속받은 클래스의 객체에서도 접근이 불가능하다\u001b[39;00m\n",
      "\u001b[1;31mAttributeError\u001b[0m: 'Client' object has no attribute '__client_id'"
     ]
    }
   ],
   "source": [
    "person1.__client_id # private mode는 상속받은 클래스의 객체에서도 접근이 불가능하다"
   ]
  },
  {
   "cell_type": "code",
   "execution_count": 77,
   "metadata": {},
   "outputs": [],
   "source": [
    "person1.name = '신짱구'"
   ]
  },
  {
   "cell_type": "code",
   "execution_count": 78,
   "metadata": {},
   "outputs": [
    {
     "data": {
      "text/plain": [
       "'신짱구'"
      ]
     },
     "execution_count": 78,
     "metadata": {},
     "output_type": "execute_result"
    }
   ],
   "source": [
    "person1.name # public instance 변수는 수정이 자유롭다"
   ]
  },
  {
   "cell_type": "code",
   "execution_count": 79,
   "metadata": {},
   "outputs": [],
   "source": [
    "person1._year = 4"
   ]
  },
  {
   "cell_type": "code",
   "execution_count": 80,
   "metadata": {},
   "outputs": [
    {
     "data": {
      "text/plain": [
       "4"
      ]
     },
     "execution_count": 80,
     "metadata": {},
     "output_type": "execute_result"
    }
   ],
   "source": [
    "person1._year"
   ]
  },
  {
   "cell_type": "markdown",
   "metadata": {},
   "source": [
    "### property\n",
    "- **get / set method**\n",
    "    - 단지 객체의 속성 값을 읽거나 설정하는데 사용되는 method\n",
    "- **property**\n",
    "    - 객체의 속성을 접근하는 것이 <span style = 'color : #132c6f'><b>마치 속성에 직접적으로 접근하는 것처럼 보이지만</b></span> 내부적으로는 method를 통해 접근하도록 하는 방식 => 우회하는 방식임!"
   ]
  },
  {
   "cell_type": "code",
   "execution_count": 81,
   "metadata": {},
   "outputs": [],
   "source": [
    "class Client(object) : \n",
    "    def __init__(self) : # property를 사용하고자 하는 경우, 빈값으로 생성\n",
    "        self._name = '' \n",
    "        self._year = 0\n",
    "        self._client_id = 0\n",
    "        \n",
    "    @property # decorator -> name method를 속성처럼 사용가능하게 함\n",
    "    def name(self) :\n",
    "        return self._name\n",
    "    \n",
    "    @name.setter # setter\n",
    "    def name(self, value) : # 외부로부터 정보를 받아들일 value 필요\n",
    "        self._name = value # __init__에서 초기에 생성되는것과 달리, 따로 지정이 가능하다\n",
    "        \n",
    "    @property\n",
    "    def year(self) :\n",
    "        return self._year\n",
    "    \n",
    "    @year.setter\n",
    "    def year(self, value) :\n",
    "        self._year = value\n",
    "        \n",
    "    @property\n",
    "    def client_id(self) :\n",
    "        return self._client_id\n",
    "    \n",
    "    @client_id.setter\n",
    "    def client_id(self, value) :\n",
    "        self._client_id = value\n",
    "        \n",
    "    def introduce_client(self) :\n",
    "        return self.name, self._year, self._client_id"
   ]
  },
  {
   "cell_type": "code",
   "execution_count": 82,
   "metadata": {},
   "outputs": [],
   "source": [
    "person1 = Client()"
   ]
  },
  {
   "cell_type": "code",
   "execution_count": 83,
   "metadata": {},
   "outputs": [],
   "source": [
    "# property 사용시 인스턴스 변수를 직관적으로 표시가 가능함! method -> 속성에 접근\n",
    "person1.name = '김철수'\n",
    "person1.year = 5\n",
    "person1.client_id = 1"
   ]
  },
  {
   "cell_type": "code",
   "execution_count": 84,
   "metadata": {},
   "outputs": [
    {
     "data": {
      "text/plain": [
       "('김철수', 5, 1)"
      ]
     },
     "execution_count": 84,
     "metadata": {},
     "output_type": "execute_result"
    }
   ],
   "source": [
    "person1.introduce_client()"
   ]
  },
  {
   "cell_type": "markdown",
   "metadata": {},
   "source": [
    "객체의 속성을 접근하듯이 사용하지만, name, year, client_id가 내부적으로 method이다"
   ]
  },
  {
   "cell_type": "markdown",
   "metadata": {},
   "source": [
    "### property class 이용\n",
    "- **@decorator** : 전통적인 방식\n",
    "- python 2.6 이후부터 property class가 제공된다 : class 형식으로도 사용이 가능하다\n",
    "- property class의 문법\n",
    "    - property object을 만들어 돌려주는 built-in function\n",
    "    - <span style = 'color : #132c6f'><b>property(fget = None, fset = None, fdel = None, doc = None)</b></span> -> property attribute\n",
    "|**parameter**|**인자 설명**|\n",
    "|:---:|:---:|\n",
    "|**fget**| get 함수를 설정하는 인자|\n",
    "|**fset**| set 함수를 설정하는 인자|\n",
    "|**fdel**| delete 함수를 설정하는 인자|\n",
    "|**doc**| 이 속성의 설명을 설정하는 인자|"
   ]
  },
  {
   "cell_type": "markdown",
   "metadata": {},
   "source": [
    "### Exercise 2.\n",
    "- 현재가치와 미래가치를 계산하는 method가 포함된 IntCal Class를 만들어 보자 (차이비교)"
   ]
  },
  {
   "cell_type": "code",
   "execution_count": 85,
   "metadata": {},
   "outputs": [],
   "source": [
    "class IntCal(object) :\n",
    "    def __init__(self, interest, year, money) :\n",
    "        self.interest = interest\n",
    "        self.year = year\n",
    "        self.money = money\n",
    "    \n",
    "    def future_to_present(self) :\n",
    "        return self.money / (1 + self.interest) ** self.year\n",
    "    \n",
    "    def present_to_future(self) :\n",
    "        return self.money * (1 + self.interest) ** self.year"
   ]
  },
  {
   "cell_type": "code",
   "execution_count": 86,
   "metadata": {},
   "outputs": [],
   "source": [
    "class IntCal(object) :\n",
    "    def __init__(self) :\n",
    "        self._interest = 0\n",
    "        self._year = 0\n",
    "        self._money = 0\n",
    "    \n",
    "    @property\n",
    "    def interest(self) :\n",
    "        return self._interest\n",
    "    \n",
    "    @interest.setter\n",
    "    def interest(self, value) :\n",
    "        self._interest = value\n",
    "        \n",
    "    @property\n",
    "    def year(self) :\n",
    "        return self._year\n",
    "    \n",
    "    @year.setter\n",
    "    def year(self, value) :\n",
    "        self._year = value\n",
    "        \n",
    "    @property\n",
    "    def money(self) :\n",
    "        return self._money\n",
    "    \n",
    "    @money.setter\n",
    "    def money(self, value) :\n",
    "        self._money = value\n",
    "        \n",
    "    def future_to_present(self) :\n",
    "        return self._money / (1 + self._interest) ** self._year\n",
    "    \n",
    "    def present_to_future(self) :\n",
    "        return self._money * (1 + self._interest) ** self._year"
   ]
  },
  {
   "cell_type": "code",
   "execution_count": 87,
   "metadata": {},
   "outputs": [],
   "source": [
    "value1 = IntCal() # 객체 생성"
   ]
  },
  {
   "cell_type": "code",
   "execution_count": 88,
   "metadata": {},
   "outputs": [],
   "source": [
    "value1.interest = 0.05\n",
    "value1.money = 1000\n",
    "value1.year = 3"
   ]
  },
  {
   "cell_type": "code",
   "execution_count": 89,
   "metadata": {},
   "outputs": [
    {
     "data": {
      "text/plain": [
       "863.837598531476"
      ]
     },
     "execution_count": 89,
     "metadata": {},
     "output_type": "execute_result"
    }
   ],
   "source": [
    "value1.future_to_present()"
   ]
  },
  {
   "cell_type": "code",
   "execution_count": 90,
   "metadata": {
    "scrolled": true
   },
   "outputs": [
    {
     "data": {
      "text/plain": [
       "1157.6250000000002"
      ]
     },
     "execution_count": 90,
     "metadata": {},
     "output_type": "execute_result"
    }
   ],
   "source": [
    "value1.present_to_future()"
   ]
  },
  {
   "cell_type": "markdown",
   "metadata": {},
   "source": [
    "### Module\n",
    "\n",
    "**모듈(module)의 정의** => 사실 그냥 라이브러리임\n",
    "<br>\n",
    "\n",
    "    - 함수, 변수들을 정의해 둔 파일을 말한다\n",
    "    - 다른 파이썬 프로그램에서 호출해서 사용할 수 있게 만들어진 파이썬 프로그램 파일이다\n",
    "    - 각각의 소스 파일을 일컬어 모듈이라 한다\n",
    "    \n",
    "- 내장(built-in) 라이브러리는 인터프리터에 기본적으로 탑재되어 있어 import 문으로 load 하지 않아도 된다(print(), input()....)\n",
    "- 내장되어 있지 않은 표준 모듈(라이브러리)\n",
    "    - 파이썬이 개발에 필요한 기능들을 모듈 형태로 제공한다\n",
    "    - 파이썬 설치시에 함께 설치된다\n",
    "    - 하지만, import 문으로 loading 해서 사용해야 한다\n",
    "- 사용자 생성 모듈\n",
    "    - 프로그래머가 작성한 모듈을 말한다"
   ]
  },
  {
   "cell_type": "code",
   "execution_count": 91,
   "metadata": {},
   "outputs": [],
   "source": [
    "import math # built-in library"
   ]
  },
  {
   "cell_type": "code",
   "execution_count": 92,
   "metadata": {},
   "outputs": [
    {
     "data": {
      "text/plain": [
       "2.302585092994046"
      ]
     },
     "execution_count": 92,
     "metadata": {},
     "output_type": "execute_result"
    }
   ],
   "source": [
    "math.log(10)"
   ]
  },
  {
   "cell_type": "code",
   "execution_count": 93,
   "metadata": {},
   "outputs": [
    {
     "data": {
      "text/plain": [
       "0.7615941559557649"
      ]
     },
     "execution_count": 93,
     "metadata": {},
     "output_type": "execute_result"
    }
   ],
   "source": [
    "math.tanh(1)"
   ]
  },
  {
   "cell_type": "code",
   "execution_count": 115,
   "metadata": {},
   "outputs": [
    {
     "name": "stdout",
     "output_type": "stream",
     "text": [
      "Writing client.py\n"
     ]
    }
   ],
   "source": [
    "%%writefile client.py\n",
    "\n",
    "class Client(object):\n",
    "    def __init__(self):\n",
    "        # property를 사용하고자 하는 경우, 빈값으로 생성\n",
    "        self._name = ''\n",
    "        self._year = 0\n",
    "        self._client_id = 0\n",
    "\n",
    "    @property  # decorator\n",
    "    def name(self):\n",
    "        return self._name\n",
    "\n",
    "    @name.setter  # setter\n",
    "    def name(self, value):\n",
    "        # 외부로부터 정보를 받아들일 value 필요\n",
    "        self._name = value\n",
    "        # __init__에서 초기에 생성되는 것과 달리, 따로 지정이 가능하다\n",
    "\n",
    "    @property\n",
    "    def year(self):\n",
    "        return self._year\n",
    "\n",
    "    @year.setter\n",
    "    def year(self, value):\n",
    "        self._year = value\n",
    "\n",
    "    @property\n",
    "    def client_id(self):\n",
    "        return self._client_id\n",
    "\n",
    "    @client_id.setter\n",
    "    def client_id(self, value):\n",
    "        self._client_id = value\n",
    "\n",
    "    def introduce_client(self):\n",
    "        return self.name, self._year, self._client_id"
   ]
  },
  {
   "cell_type": "markdown",
   "metadata": {},
   "source": [
    "- %%writefile은 py파일을 생성하는 magic function이다. 읽어들이는 함수로는 %read가 있다\n",
    "- interpreter에서 작성하여 실행한 것과 동일한 효력을 낸다"
   ]
  },
  {
   "cell_type": "code",
   "execution_count": 117,
   "metadata": {},
   "outputs": [],
   "source": [
    "import client # 사용자 정의 모듈"
   ]
  },
  {
   "cell_type": "code",
   "execution_count": 118,
   "metadata": {},
   "outputs": [],
   "source": [
    "person1 = client.Client() # 모듈 이름을 앞에 붙여서 사용한다"
   ]
  },
  {
   "cell_type": "code",
   "execution_count": 119,
   "metadata": {},
   "outputs": [],
   "source": [
    "person1.name = '김철수'\n",
    "person1.year = 5\n",
    "person1.client_id = 1"
   ]
  },
  {
   "cell_type": "code",
   "execution_count": 120,
   "metadata": {},
   "outputs": [
    {
     "data": {
      "text/plain": [
       "('김철수', 5, 1)"
      ]
     },
     "execution_count": 120,
     "metadata": {},
     "output_type": "execute_result"
    }
   ],
   "source": [
    "person1.introduce_client()"
   ]
  },
  {
   "cell_type": "markdown",
   "metadata": {},
   "source": [
    "### 외부 모듈의 설치\n",
    "- python에서는 다양한 라이브러리들이 존재한다. 그 중 가장 유명한 모듈들을 소개한다\n",
    "\n",
    "|Package Name|Statement|\n",
    "|:---:|:---:|\n",
    "|**numpy**|NumPy offers comprehensive **mathematical functions, random number generators, linear algebra routines, Fourier transforms**, and more|\n",
    "|**pandas**|Pandas is a fast, powerful, flexible and easy to use open source **data analysis and manipulation tool**, built on top of the Python programming language|\n",
    "|**matplotlib**|Matplotlib is a comprehensive library for creating static, animated, and **interactive visualizations** in Python|\n",
    "|**datetime**|The datetime module supplies classes for **manipulating dates and times**|\n",
    "|**sklearn**|Simple and efficient **Machine Learning tools** for predictive data analysis|\n",
    "|**beautifulsoup4**|Beautiful Soup is a Python library for **pulling data out of HTML and XML files**|\n",
    "\n",
    "**설치 방법**\n",
    "- interpreter 혹은 python shell에 다음과 같은 명령어를 입력한다\n",
    "\n",
    "<pre><b>\n",
    "pip install (package name) </b> </pre>"
   ]
  },
  {
   "cell_type": "code",
   "execution_count": 121,
   "metadata": {},
   "outputs": [
    {
     "name": "stdout",
     "output_type": "stream",
     "text": [
      "Requirement already satisfied: numpy in c:\\users\\skt01\\anaconda3\\envs\\tensor\\lib\\site-packages (1.23.5)\n",
      "Requirement already satisfied: pandas in c:\\users\\skt01\\anaconda3\\envs\\tensor\\lib\\site-packages (2.0.3)\n",
      "Requirement already satisfied: matplotlib in c:\\users\\skt01\\anaconda3\\envs\\tensor\\lib\\site-packages (3.7.5)\n",
      "Requirement already satisfied: python-dateutil>=2.8.2 in c:\\users\\skt01\\anaconda3\\envs\\tensor\\lib\\site-packages (from pandas) (2.9.0)\n",
      "Requirement already satisfied: pytz>=2020.1 in c:\\users\\skt01\\anaconda3\\envs\\tensor\\lib\\site-packages (from pandas) (2024.1)\n",
      "Requirement already satisfied: tzdata>=2022.1 in c:\\users\\skt01\\anaconda3\\envs\\tensor\\lib\\site-packages (from pandas) (2024.1)\n",
      "Requirement already satisfied: contourpy>=1.0.1 in c:\\users\\skt01\\anaconda3\\envs\\tensor\\lib\\site-packages (from matplotlib) (1.1.1)\n",
      "Requirement already satisfied: cycler>=0.10 in c:\\users\\skt01\\anaconda3\\envs\\tensor\\lib\\site-packages (from matplotlib) (0.12.1)\n",
      "Requirement already satisfied: fonttools>=4.22.0 in c:\\users\\skt01\\anaconda3\\envs\\tensor\\lib\\site-packages (from matplotlib) (4.53.0)\n",
      "Requirement already satisfied: kiwisolver>=1.0.1 in c:\\users\\skt01\\anaconda3\\envs\\tensor\\lib\\site-packages (from matplotlib) (1.4.5)\n",
      "Requirement already satisfied: packaging>=20.0 in c:\\users\\skt01\\anaconda3\\envs\\tensor\\lib\\site-packages (from matplotlib) (24.1)\n",
      "Requirement already satisfied: pillow>=6.2.0 in c:\\users\\skt01\\anaconda3\\envs\\tensor\\lib\\site-packages (from matplotlib) (10.4.0)\n",
      "Requirement already satisfied: pyparsing>=2.3.1 in c:\\users\\skt01\\anaconda3\\envs\\tensor\\lib\\site-packages (from matplotlib) (3.1.2)\n",
      "Requirement already satisfied: importlib-resources>=3.2.0 in c:\\users\\skt01\\anaconda3\\envs\\tensor\\lib\\site-packages (from matplotlib) (6.4.0)\n",
      "Requirement already satisfied: zipp>=3.1.0 in c:\\users\\skt01\\anaconda3\\envs\\tensor\\lib\\site-packages (from importlib-resources>=3.2.0->matplotlib) (3.19.2)\n",
      "Requirement already satisfied: six>=1.5 in c:\\users\\skt01\\anaconda3\\envs\\tensor\\lib\\site-packages (from python-dateutil>=2.8.2->pandas) (1.16.0)\n"
     ]
    }
   ],
   "source": [
    "!pip install numpy pandas matplotlib"
   ]
  },
  {
   "cell_type": "code",
   "execution_count": 122,
   "metadata": {},
   "outputs": [],
   "source": [
    "import numpy as np, pandas as pd, matplotlib.pyplot as plt\n",
    "# as 예약어를 사용하면 모듈의 이름을 축약해서 사용할 수 있다"
   ]
  },
  {
   "cell_type": "code",
   "execution_count": 123,
   "metadata": {},
   "outputs": [
    {
     "data": {
      "text/plain": [
       "array([1, 2, 3, 4, 5])"
      ]
     },
     "execution_count": 123,
     "metadata": {},
     "output_type": "execute_result"
    }
   ],
   "source": [
    "np.array([1,2,3,4,5]) # numpy"
   ]
  },
  {
   "cell_type": "code",
   "execution_count": 124,
   "metadata": {},
   "outputs": [
    {
     "data": {
      "text/plain": [
       "1    a\n",
       "2    b\n",
       "3    c\n",
       "dtype: object"
      ]
     },
     "execution_count": 124,
     "metadata": {},
     "output_type": "execute_result"
    }
   ],
   "source": [
    "pd.Series({1 : 'a', 2 : 'b', 3 : 'c'}) # pandas"
   ]
  },
  {
   "cell_type": "code",
   "execution_count": 125,
   "metadata": {},
   "outputs": [
    {
     "data": {
      "image/png": "[encoded data removed]",
      "text/plain": [
       "<Figure size 640x480 with 1 Axes>"
      ]
     },
     "metadata": {},
     "output_type": "display_data"
    }
   ],
   "source": [
    "plt.plot([1,2,3,4,5])\n",
    "plt.show() # matplotlib"
   ]
  },
  {
   "cell_type": "markdown",
   "metadata": {},
   "source": [
    "자세한 내용은 각자 다루기로 한다"
   ]
  },
  {
   "cell_type": "markdown",
   "metadata": {},
   "source": [
    "### Exercise 3.\n",
    "파생상품의 차익거래 이론에서 다음과 같은 개념들이 있다\n",
    "\n",
    "#### Basis\n",
    "\n",
    "$$\\mathbf{Basis} = F_t - S_t = S_t[1 + (r-d)\\frac{\\tau}{365}]-S_t = S_t[(r-d)\\frac{\\tau}{365}]$$\n",
    "\n",
    "- 여기서 $F_t$는 선물가격, $S_t$는 기초자산의 가격, $r_f$는 수익률, $d$는 배당수익률, $\\tau$는 잔존기간을 뜻한다\n",
    "- Basis가 0보다 크면 **Contango** 시장이라 하며, 0보다 작으면 **Backwardation** 시장이라고 한다\n",
    "\n",
    "#### 단순헤지비율\n",
    "\n",
    "$$h = \\frac{S_t}{F_t}$$\n",
    "\n",
    "- 여기서 $S_t$는 기초자산의 가격, $F_t$는 선물의 가격을 말하며, $h$는 기초자산을 선물로 헤지할 때 매도해야 할 선물의 계약 수를 나타낸다\n",
    "\n",
    "Basis를 계산하는 method와 Contango, Backwardation을 구분하는 method, 단순 헤지비율을 계산하는 method를 포함한 class를 만들어 보자"
   ]
  },
  {
   "cell_type": "code",
   "execution_count": 126,
   "metadata": {},
   "outputs": [],
   "source": [
    "class Market(object) :\n",
    "    def __init__(self, F, S, r, d, tau) :\n",
    "        self.F = F\n",
    "        self.S = S\n",
    "        self.r = r\n",
    "        self.d = d\n",
    "        self.tau = tau\n",
    "        \n",
    "    def basis(self) :\n",
    "        return self.S * ((self.r - self.d) * self.tau / 365)\n",
    "    \n",
    "    def CB(self) :\n",
    "        if self.S * ((self.r - self.d) * self.tau / 365) > 0 :\n",
    "            return 'Contango'\n",
    "        elif self.S * ((self.r - self.d) * self.tau / 365) < 0 :\n",
    "            return 'Backwardation'\n",
    "        \n",
    "    def hedge_rate(self) :\n",
    "        return self.S / self.F"
   ]
  },
  {
   "cell_type": "markdown",
   "metadata": {},
   "source": [
    "- 현물이 1000point, 선물이 2000point고 수익률이 8%, 배당수익률이 3%이며 잔존만기가 90일인 파생상품을 모델링하여 Basis와 단순헤지비율, Contango market인지 Backwardation market인지 판단해 보자\n",
    "- 작성한 Class를 py파일로 저장한 뒤, 사용자 생성 모듈로 import 하여 해결해 보자"
   ]
  },
  {
   "cell_type": "code",
   "execution_count": 127,
   "metadata": {},
   "outputs": [],
   "source": [
    "value1 = Market(2000, 1000, 0.08, 0.03, 90)"
   ]
  },
  {
   "cell_type": "code",
   "execution_count": 128,
   "metadata": {},
   "outputs": [
    {
     "data": {
      "text/plain": [
       "12.32876712328767"
      ]
     },
     "execution_count": 128,
     "metadata": {},
     "output_type": "execute_result"
    }
   ],
   "source": [
    "value1.basis()"
   ]
  },
  {
   "cell_type": "code",
   "execution_count": 129,
   "metadata": {},
   "outputs": [
    {
     "data": {
      "text/plain": [
       "'Contango'"
      ]
     },
     "execution_count": 129,
     "metadata": {},
     "output_type": "execute_result"
    }
   ],
   "source": [
    "value1.CB()"
   ]
  },
  {
   "cell_type": "code",
   "execution_count": 130,
   "metadata": {},
   "outputs": [
    {
     "data": {
      "text/plain": [
       "0.5"
      ]
     },
     "execution_count": 130,
     "metadata": {},
     "output_type": "execute_result"
    }
   ],
   "source": [
    "value1.hedge_rate()"
   ]
  }
 ],
 "metadata": {
  "kernelspec": {
   "display_name": "Python 3",
   "language": "python",
   "name": "python3"
  },
  "language_info": {
   "codemirror_mode": {
    "name": "ipython",
    "version": 3
   },
   "file_extension": ".py",
   "mimetype": "text/x-python",
   "name": "python",
   "nbconvert_exporter": "python",
   "pygments_lexer": "ipython3",
   "version": "3.8.19"
  },
  "toc": {
   "base_numbering": 1,
   "nav_menu": {},
   "number_sections": true,
   "sideBar": true,
   "skip_h1_title": false,
   "title_cell": "Table of Contents",
   "title_sidebar": "Contents",
   "toc_cell": false,
   "toc_position": {},
   "toc_section_display": true,
   "toc_window_display": false
  }
 },
 "nbformat": 4,
 "nbformat_minor": 5
}
