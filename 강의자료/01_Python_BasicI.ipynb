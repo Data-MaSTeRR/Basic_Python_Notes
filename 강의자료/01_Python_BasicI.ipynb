{
 "cells": [
  {
   "cell_type": "markdown",
   "metadata": {},
   "source": [
    "## Python Basic I\n",
    "\n",
    "### Comment (주석)\n",
    "\n",
    "- 주석은 프로그램의 설명문과 같다\n",
    "- 주석을 작성해 놓으면, 추후 어떤 코드였는지 확인이 가능하다\n",
    "- Python Interpreters는 명령어 실행 시, 주석은 무시한다\n",
    "- \\# 문자는 한 줄 짜리 주석에 사용한다\n",
    "- 여러 줄 주석은 큰 따옴표 또는 작은 따옴표 세 개를 사용한다\n",
    "- 실무적으로 여러 줄 주석을 쓰는 경우 예시) --> 디버깅할 때 많이 사용함\n",
    "\n",
    "```python\n",
    "'''\n",
    "여러 줄 주석\n",
    "'''\n",
    "```"
   ]
  },
  {
   "cell_type": "code",
   "execution_count": 1,
   "metadata": {
    "ExecuteTime": {
     "end_time": "2024-01-30T14:03:11.928962Z",
     "start_time": "2024-01-30T14:03:11.336165Z"
    }
   },
   "outputs": [],
   "source": [
    "a = 1 # 주석"
   ]
  },
  {
   "cell_type": "code",
   "execution_count": 2,
   "metadata": {
    "ExecuteTime": {
     "end_time": "2024-01-30T14:03:11.958610Z",
     "start_time": "2024-01-30T14:03:11.929149Z"
    }
   },
   "outputs": [],
   "source": [
    "# 한 줄 주석"
   ]
  },
  {
   "cell_type": "markdown",
   "metadata": {},
   "source": [
    "### Variable\n",
    "\n",
    "- 변수는 메모리에 저장된 값을 참조하는 이름\n",
    "    - 즉, 변수는 메모리에 생성된 객체(object)를 참조하는 수단\n",
    "    \n",
    "- Python Variables\n",
    "    - 변수는 값을 처음 할당 받는 순간에 생성\n",
    "    - 변수의 값은 실행 중간에 변경 가능\n",
    "    - 파이썬은 기본적으로 변수의 선언과 초기화가 동시에 이뤄짐 => C는 선언과 초기화가 동시에 이뤄지지 않는다는 점에서 다름!\n",
    "- Python Constant ?\n",
    "    - 기본적으로, Python의 모든 데이터는 변수로 지정됨\n",
    "    - Class를 따로 선언하여 상수처럼 사용할 수 있으나, 잘 쓰이지는 않음\n",
    "\n",
    "| 특징          | Python                                      | C                                      |\n",
    "| --------------| ------------------------------------------- | -------------------------------------- |\n",
    "| 타입 선언     | 동적 타이핑, 타입 선언 불필요               | 정적 타이핑, 변수 선언 시 타입 명시 필요 |\n",
    "| 변수 선언     | 선언과 동시에 초기화                        | 선언과 초기화 별도 가능                  |\n",
    "| 초기화 방법   | 변수 선언 시 즉시 초기화                    | 필요에 따라 선언과 동시에 초기화 가능    |\n",
    "| 문자열 처리   | 문자열을 기본 타입으로 지원                 | 문자열을 배열로 선언, `strcpy` 등 함수 사용  |\n",
    "| 예시 (정수형) | `a = 10`                                    | `int a; a = 10;`                       |\n",
    "| 예시 (실수형) | `b = 3.14`                                  | `float b; b = 3.14;`                   |\n",
    "| 예시 (문자열) | `c = \"Hello\"`                               | `char c[20]; strcpy(c, \"Hello\");`      |\n",
    "| 예시 (리스트) | `d = [1, 2, 3]`                             | N/A                                    |\n",
    "| 예시 (딕셔너리) | `e = {'name': 'Alice', 'age': 25}`         | N/A                                    |\n",
    "\n",
    "    \n",
    "#### 변수명 규칙\n",
    "- 변수명은 영어 대소문자와 숫자, Under Bar만 허용\n",
    "    - 소문자와 대문자는 서로 다른 변수명으로 취급\n",
    "    - 변수명에 공백을 허용하지 않으므로 단어를 구분하려면 밑줄을 사용하거나, myNewCar와 같이 낙타체 표기법(대소문자로 단어 구별)을 사용하여 의미를 부여할 수 있음\n",
    "    - 변수명은 문자, 숫자(0-9), 밑줄(_)을 포함할 수 있음\n",
    "    - 변수명은 의미 있는 이름을 사용하는 것이 효율적임 => 이 변수가 뭘 의미하는지를 변수명을 통해 알려주면 좋음!\n",
    "    - 파이썬 지정단어는 변수명으로 사용하지 않는 것이 좋음 (겹칠 우려가 있음, list라고 변수명 설정)\n",
    "    \n",
    "|<center>**변수명 규칙**</center>|\n",
    "|:---|\n",
    "|변수명은 영어 대소문자, 숫자, 밑줄로만 이루어짐 <br> 다른 기호를 사용하면 구문 에러(**Syntax Error**)|\n",
    "|변수명은 영어 대소문자 또는 밑줄로만 시작, <span style=\"color:#760c0c\"><b>숫자로 시작 하면 안됨</b></span>|\n",
    "|Python 지정단어들은 변수명으로 사용할 수 없음|\n",
    "|파이썬에서는 대문자와 소문자를 구분 (hour와 Hour는 다른 변수)|\n",
    "\n",
    "# Python 변수명 예시\n",
    "\n",
    "Python에서 변수명을 작성할 때 지켜야 할 규칙과 좋은 예, 나쁜 예를 소개합니다.\n",
    "\n",
    "## 좋은 예\n",
    "다음은 Python의 변수명으로 적합한 예시들입니다:\n",
    "- `user_name`\n",
    "- `age`\n",
    "- `total_price`\n",
    "- `number_of_students`\n",
    "- `is_valid`\n",
    "- `MAX_LIMIT`\n",
    "- `min_value`\n",
    "- `_average`\n",
    "\n",
    "## 나쁜 예\n",
    "다음은 Python의 변수명으로 부적합한 예시들입니다:\n",
    "- `123abc` (숫자로 시작할 수 없음)\n",
    "- `user-name` (하이픈을 포함할 수 없음)\n",
    "- `total price` (공백을 포함할 수 없음)\n",
    "- `class` (파이썬 지정단어 사용 불가)\n",
    "- `is_valid?` (특수 문자 '?' 포함 불가)\n",
    "- `#value` (특수 문자 '#' 포함 불가)\n",
    "\n",
    "## 예시 코드\n",
    "\n",
    "```python\n",
    "# 좋은 변수명 예시\n",
    "user_name = \"Alice\"\n",
    "age = 30\n",
    "total_price = 99.99\n",
    "number_of_students = 25\n",
    "is_valid = True\n",
    "MAX_LIMIT = 100\n",
    "min_value = 1\n",
    "_average = 50\n",
    "\n",
    "print(user_name)  # 출력: Alice\n",
    "print(age)        # 출력: 30\n",
    "print(total_price)  # 출력: 99.99\n",
    "print(number_of_students)  # 출력: 25\n",
    "print(is_valid)  # 출력: True\n",
    "print(MAX_LIMIT)  # 출력: 100\n",
    "print(min_value)  # 출력: 1\n",
    "print(_average) # 출력: 50\n"
   ]
  },
  {
   "cell_type": "code",
   "execution_count": 3,
   "metadata": {
    "ExecuteTime": {
     "end_time": "2024-01-30T14:03:12.000867Z",
     "start_time": "2024-01-30T14:03:11.946082Z"
    }
   },
   "outputs": [
    {
     "name": "stdout",
     "output_type": "stream",
     "text": [
      "3\n"
     ]
    }
   ],
   "source": [
    "aB = 3\n",
    "print(aB)"
   ]
  },
  {
   "cell_type": "markdown",
   "metadata": {},
   "source": [
    "### Exercise 1.\n",
    "- 변수를 직접 선언하여 사용해 보자"
   ]
  },
  {
   "cell_type": "code",
   "execution_count": 4,
   "metadata": {
    "ExecuteTime": {
     "end_time": "2024-01-30T14:03:12.030949Z",
     "start_time": "2024-01-30T14:03:11.973803Z"
    }
   },
   "outputs": [
    {
     "name": "stdout",
     "output_type": "stream",
     "text": [
      "100 50\n"
     ]
    }
   ],
   "source": [
    "n1 = 100 # 변수 선언\n",
    "n2 = 50\n",
    "\n",
    "print(n1, n2) # 출력을 위한 함수"
   ]
  },
  {
   "cell_type": "code",
   "execution_count": 5,
   "metadata": {
    "ExecuteTime": {
     "end_time": "2024-01-30T14:03:12.092772Z",
     "start_time": "2024-01-30T14:03:12.021744Z"
    }
   },
   "outputs": [
    {
     "name": "stdout",
     "output_type": "stream",
     "text": [
      "1000\n"
     ]
    }
   ],
   "source": [
    "n_3 = 1000\n",
    "print(n_3)"
   ]
  },
  {
   "cell_type": "code",
   "execution_count": 6,
   "metadata": {},
   "outputs": [
    {
     "name": "stdout",
     "output_type": "stream",
     "text": [
      "40\n"
     ]
    }
   ],
   "source": [
    "alpha = 50\n",
    "beta = 10\n",
    "result = alpha - beta\n",
    "print(result)"
   ]
  },
  {
   "cell_type": "markdown",
   "metadata": {},
   "source": [
    "### Python Data Types\n",
    "- 변수에는 정수, 실수, 문자열 등의 다양한 자료형의 데이터를 할당하여 저장\n",
    "- 파이썬에서 제공하는 기본 자료형은 다음과 같다\n",
    "<br>\n",
    "<br>\n",
    "<center>numbers(integer, float, complex), Boolean, String, List, Tuple, Set, Dictionary</center>\n",
    "<br>\n",
    "\n",
    "우선, Numbers, Boolean, String 자료형을 살펴보도록 한다.\n",
    "\n",
    "<br>\n",
    "\n",
    "#### Integer\n",
    "- 정수형은 소수점이 없는 숫자 데이터(100, -123, 0, ...)\n",
    "- 정수형 데이터 표현\n",
    "    - 16진수는 0x나 0X (숫자 0)\n",
    "    - 8진수는 0o나 0O(숫자 0 + 알파벳 o(O))\n",
    "    - 2진수는 0b나 0B를 접두사로 붙여 표현"
   ]
  },
  {
   "cell_type": "code",
   "execution_count": 7,
   "metadata": {
    "ExecuteTime": {
     "end_time": "2024-01-30T14:03:12.127769Z",
     "start_time": "2024-01-30T14:03:12.093747Z"
    }
   },
   "outputs": [
    {
     "name": "stdout",
     "output_type": "stream",
     "text": [
      "10 진수 : 10\n",
      "16 진수 : 255\n",
      "8 진수 : 63\n",
      "2 진수 : 15\n"
     ]
    }
   ],
   "source": [
    "a = 10 # 10진수\n",
    "b = 0xFF # 16진수 => 숫자 앞에 0x나 0X를 붙이면 됨(heXadecimal)\n",
    "c = 0o77 # 8진수 => 숫자 앞에 0o나 0O를 붙이면 됨(Octal)\n",
    "d = 0b1111 # 2진수 => 숫자 앞에 0b나 0B를 붙이면 됨(Binary)\n",
    "\n",
    "print('10 진수 :', a)\n",
    "print('16 진수 :', b)\n",
    "print('8 진수 :', c)\n",
    "print('2 진수 :', d)"
   ]
  },
  {
   "cell_type": "code",
   "execution_count": 8,
   "metadata": {
    "ExecuteTime": {
     "end_time": "2024-01-30T14:03:12.180476Z",
     "start_time": "2024-01-30T14:03:12.123673Z"
    }
   },
   "outputs": [
    {
     "name": "stdout",
     "output_type": "stream",
     "text": [
      "63\n"
     ]
    }
   ],
   "source": [
    "print(0o77)"
   ]
  },
  {
   "cell_type": "code",
   "execution_count": 9,
   "metadata": {
    "ExecuteTime": {
     "end_time": "2024-01-30T14:03:12.208641Z",
     "start_time": "2024-01-30T14:03:12.168743Z"
    }
   },
   "outputs": [
    {
     "name": "stdout",
     "output_type": "stream",
     "text": [
      "86\n"
     ]
    }
   ],
   "source": [
    "print(0b1111 + 0o107) # 진수가 달라도 연산 가능(알아서 10진수로 변환해서 계산해줌)"
   ]
  },
  {
   "cell_type": "markdown",
   "metadata": {},
   "source": [
    "#### float\n",
    "- 실수형은 소수점이 있는 숫자 데이터(3.14, -2.7, ...)\n",
    "- 실수의 두가지 표현 방식\n",
    "    - 고정 소수점 방식: 132.234, −0.023 등과 같이 소수점을 고정 하여 표시한 방법\n",
    "    - 부동 소수점 방식: 1.531e+35, 3.54e−64 등과 같이 지수형 (exponential form)으로 표시하는 방법\n",
    "- 실수를 표현할 때 오차가 발생할 수 있음. 이는 컴퓨터가 실수를 표현할 때 2진수로 변환하는 과정에서 발생하는 문제"
   ]
  },
  {
   "cell_type": "code",
   "execution_count": 10,
   "metadata": {
    "ExecuteTime": {
     "end_time": "2024-01-30T14:03:12.255763Z",
     "start_time": "2024-01-30T14:03:12.203876Z"
    }
   },
   "outputs": [
    {
     "name": "stdout",
     "output_type": "stream",
     "text": [
      "0.30000000000000004\n"
     ]
    }
   ],
   "source": [
    "print(0.1 + 0.2) # 값이 정확하게 나오지 않는것에 주의한다"
   ]
  },
  {
   "cell_type": "markdown",
   "metadata": {},
   "source": [
    "오차 없이 값을 표현하고 싶다면 round() 함수를 사용한다"
   ]
  },
  {
   "cell_type": "code",
   "execution_count": 11,
   "metadata": {
    "ExecuteTime": {
     "end_time": "2024-01-30T14:03:12.288253Z",
     "start_time": "2024-01-30T14:03:12.245700Z"
    }
   },
   "outputs": [
    {
     "name": "stdout",
     "output_type": "stream",
     "text": [
      "0.3\n"
     ]
    }
   ],
   "source": [
    "print(round(0.1 + 0.2, 2))"
   ]
  },
  {
   "cell_type": "markdown",
   "metadata": {},
   "source": [
    "또는 아래와 같은 formatting을 사용하면 된다"
   ]
  },
  {
   "cell_type": "code",
   "execution_count": 12,
   "metadata": {
    "ExecuteTime": {
     "end_time": "2024-01-30T14:03:12.358806Z",
     "start_time": "2024-01-30T14:03:12.279537Z"
    }
   },
   "outputs": [
    {
     "name": "stdout",
     "output_type": "stream",
     "text": [
      "0.3\n",
      "0.3\n"
     ]
    }
   ],
   "source": [
    "print('{0:.1f}'.format(0.1 + 0.2)) # formatting\n",
    "print(f'{0.1 + 0.2 :.1f}')"
   ]
  },
  {
   "cell_type": "markdown",
   "metadata": {},
   "source": [
    "python의 출력 함수 print()는 \\n을 기본적으로 포함하여 출력함에 주의한다"
   ]
  },
  {
   "cell_type": "code",
   "execution_count": 13,
   "metadata": {
    "ExecuteTime": {
     "end_time": "2024-01-30T14:03:12.393683Z",
     "start_time": "2024-01-30T14:03:12.346011Z"
    }
   },
   "outputs": [
    {
     "data": {
      "text/plain": [
       "310000000.0"
      ]
     },
     "execution_count": 13,
     "metadata": {},
     "output_type": "execute_result"
    }
   ],
   "source": [
    "3.1e+8 # 부동소수점 방식 => 오차를 줄이기 위해서는 부동소수점 방식을 사용하는게 더 좋음"
   ]
  },
  {
   "cell_type": "code",
   "execution_count": 14,
   "metadata": {
    "ExecuteTime": {
     "end_time": "2024-01-30T14:03:12.453824Z",
     "start_time": "2024-01-30T14:03:12.388538Z"
    }
   },
   "outputs": [
    {
     "data": {
      "text/plain": [
       "0.0031"
      ]
     },
     "execution_count": 14,
     "metadata": {},
     "output_type": "execute_result"
    }
   ],
   "source": [
    "3.1e-3"
   ]
  },
  {
   "cell_type": "markdown",
   "metadata": {},
   "source": [
    "고정소수점 방식과 부동소수점 방식은 컴퓨터가 float형 데이터를 어떻게 표현하는지에 따라 다르게 표현된다. 자세한 내용은 과정 범위를 벗어남으로 구글링을 통해 알아보도록 한다"
   ]
  },
  {
   "cell_type": "markdown",
   "metadata": {},
   "source": [
    "#### Boolean\n",
    "- True, False 값을 저장(참, 거짓을 의미)\n",
    "- Boolean형은 단독으로 사용하기보다 if조건문,반복문등과 함께 주로 사용됨"
   ]
  },
  {
   "cell_type": "code",
   "execution_count": 15,
   "metadata": {
    "ExecuteTime": {
     "end_time": "2024-01-30T14:03:12.500998Z",
     "start_time": "2024-01-30T14:03:12.453962Z"
    }
   },
   "outputs": [
    {
     "name": "stdout",
     "output_type": "stream",
     "text": [
      "True False\n"
     ]
    }
   ],
   "source": [
    "a = True\n",
    "b = False\n",
    "\n",
    "print(a, b)"
   ]
  },
  {
   "cell_type": "code",
   "execution_count": 16,
   "metadata": {},
   "outputs": [
    {
     "data": {
      "text/plain": [
       "bool"
      ]
     },
     "execution_count": 16,
     "metadata": {},
     "output_type": "execute_result"
    }
   ],
   "source": [
    "type(a)"
   ]
  },
  {
   "cell_type": "code",
   "execution_count": 17,
   "metadata": {
    "ExecuteTime": {
     "end_time": "2024-01-30T14:03:12.553058Z",
     "start_time": "2024-01-30T14:03:12.487165Z"
    }
   },
   "outputs": [
    {
     "data": {
      "text/plain": [
       "1"
      ]
     },
     "execution_count": 17,
     "metadata": {},
     "output_type": "execute_result"
    }
   ],
   "source": [
    "int(True)"
   ]
  },
  {
   "cell_type": "code",
   "execution_count": 18,
   "metadata": {
    "ExecuteTime": {
     "end_time": "2024-01-30T14:03:12.583779Z",
     "start_time": "2024-01-30T14:03:12.542095Z"
    }
   },
   "outputs": [
    {
     "data": {
      "text/plain": [
       "0"
      ]
     },
     "execution_count": 18,
     "metadata": {},
     "output_type": "execute_result"
    }
   ],
   "source": [
    "int(False)"
   ]
  },
  {
   "cell_type": "markdown",
   "metadata": {},
   "source": [
    "#### String\n",
    "- 문자열은 양쪽을 큰따옴표(“)나 작은따옴표(‘)로 감싼 문자들의 모임\n",
    "- 파이썬에서는 문자형과 문자열의 구분이 없고, 모두 문자열의 객체로 취급된다\n",
    "- 즉, `'a'`와 `'abc'`는 모두 문자열로 취급된다. `'a'`는 길이가 1인 문자열이고, `'abc'`는 길이가 3인 문자열이다"
   ]
  },
  {
   "cell_type": "code",
   "execution_count": 19,
   "metadata": {
    "ExecuteTime": {
     "end_time": "2024-01-30T14:03:12.654842Z",
     "start_time": "2024-01-30T14:03:12.583810Z"
    }
   },
   "outputs": [
    {
     "data": {
      "text/plain": [
       "str"
      ]
     },
     "execution_count": 19,
     "metadata": {},
     "output_type": "execute_result"
    }
   ],
   "source": [
    "type('a') # 문자열, c에서는 문자형"
   ]
  },
  {
   "cell_type": "code",
   "execution_count": 20,
   "metadata": {
    "ExecuteTime": {
     "end_time": "2024-01-30T14:03:12.670644Z",
     "start_time": "2024-01-30T14:03:12.641832Z"
    }
   },
   "outputs": [
    {
     "data": {
      "text/plain": [
       "str"
      ]
     },
     "execution_count": 20,
     "metadata": {},
     "output_type": "execute_result"
    }
   ],
   "source": [
    "type('String')  # 문자열"
   ]
  },
  {
   "cell_type": "code",
   "execution_count": 21,
   "metadata": {
    "ExecuteTime": {
     "end_time": "2024-01-30T14:03:12.732534Z",
     "start_time": "2024-01-30T14:03:12.670749Z"
    }
   },
   "outputs": [
    {
     "name": "stdout",
     "output_type": "stream",
     "text": [
      "string\n"
     ]
    }
   ],
   "source": [
    "a = 'string'\n",
    "print(a)"
   ]
  },
  {
   "cell_type": "code",
   "execution_count": 22,
   "metadata": {
    "ExecuteTime": {
     "end_time": "2024-01-30T14:03:12.749832Z",
     "start_time": "2024-01-30T14:03:12.709108Z"
    }
   },
   "outputs": [
    {
     "name": "stdout",
     "output_type": "stream",
     "text": [
      "This is a \n",
      "multiline string \n",
      "example.\n"
     ]
    }
   ],
   "source": [
    "multiline_string = \"\"\"This is a \n",
    "multiline string \n",
    "example.\"\"\"\n",
    "print(multiline_string)"
   ]
  },
  {
   "cell_type": "markdown",
   "metadata": {},
   "source": [
    "문자열은 iterable 객체이기 때문에 순회가능하며, indexing도 가능하다. 이는 문자열이 배열의 특성을 띄고 있기 때문이다"
   ]
  },
  {
   "cell_type": "code",
   "execution_count": 23,
   "metadata": {
    "ExecuteTime": {
     "end_time": "2024-01-30T14:03:12.811555Z",
     "start_time": "2024-01-30T14:03:12.749791Z"
    }
   },
   "outputs": [
    {
     "name": "stdout",
     "output_type": "stream",
     "text": [
      "s\n"
     ]
    }
   ],
   "source": [
    "a = 'string'\n",
    "print(a[0])  # 이게 인덱싱(indexing)"
   ]
  },
  {
   "cell_type": "code",
   "execution_count": 24,
   "metadata": {
    "ExecuteTime": {
     "end_time": "2024-01-30T14:03:12.828735Z",
     "start_time": "2024-01-30T14:03:12.797748Z"
    }
   },
   "outputs": [
    {
     "name": "stdout",
     "output_type": "stream",
     "text": [
      "s t r i n g "
     ]
    }
   ],
   "source": [
    "for i in a : print(i, end = ' ') # 반복문(iterable한 특성을 잘 보여줌)"
   ]
  },
  {
   "cell_type": "markdown",
   "id": "521c1455",
   "metadata": {},
   "source": [
    "##### 문자열연산"
   ]
  },
  {
   "cell_type": "code",
   "execution_count": 25,
   "id": "fc0d0a88",
   "metadata": {},
   "outputs": [
    {
     "name": "stdout",
     "output_type": "stream",
     "text": [
      "Hello, World!\n"
     ]
    }
   ],
   "source": [
    "greeting = \"Hello, \" + \"World!\"\n",
    "print(greeting)  # 출력: Hello, World!"
   ]
  },
  {
   "cell_type": "code",
   "execution_count": 26,
   "id": "72ecee41",
   "metadata": {},
   "outputs": [
    {
     "name": "stdout",
     "output_type": "stream",
     "text": [
      "Python! Python! Python! \n"
     ]
    }
   ],
   "source": [
    "repeat = \"Python! \" * 3\n",
    "print(repeat)  # 출력: Python! Python! Python! "
   ]
  },
  {
   "cell_type": "code",
   "execution_count": 27,
   "id": "21bf6c5b",
   "metadata": {},
   "outputs": [
    {
     "name": "stdout",
     "output_type": "stream",
     "text": [
      "13\n"
     ]
    }
   ],
   "source": [
    "length = len(\"Hello, World!\")\n",
    "print(length)  # 출력: 13"
   ]
  },
  {
   "cell_type": "markdown",
   "metadata": {},
   "source": [
    "##### Escape Sequence\n",
    "- 프로그래밍할 때 사용할 수 있도록 미리 정의해 둔 \"문자 조합\"\n",
    "- 주로 출력물을 보기 좋게 정렬하는 용도로 이용"
   ]
  },
  {
   "cell_type": "code",
   "execution_count": 28,
   "metadata": {
    "ExecuteTime": {
     "end_time": "2024-01-30T14:03:12.885475Z",
     "start_time": "2024-01-30T14:03:12.829202Z"
    }
   },
   "outputs": [
    {
     "name": "stdout",
     "output_type": "stream",
     "text": [
      "\\.\n"
     ]
    }
   ],
   "source": [
    "print('\\\\.') # backslash"
   ]
  },
  {
   "cell_type": "code",
   "execution_count": 29,
   "metadata": {
    "ExecuteTime": {
     "end_time": "2024-01-30T14:03:12.919481Z",
     "start_time": "2024-01-30T14:03:12.871180Z"
    }
   },
   "outputs": [
    {
     "name": "stdout",
     "output_type": "stream",
     "text": [
      "'.\n"
     ]
    }
   ],
   "source": [
    "print('\\'.') # single quote(문장의 시작과 끝을 작은따옴표로 지정했을때 작은따옴표를 출력하기 위한 방법)"
   ]
  },
  {
   "cell_type": "code",
   "execution_count": 30,
   "metadata": {
    "ExecuteTime": {
     "end_time": "2024-01-30T14:03:12.968264Z",
     "start_time": "2024-01-30T14:03:12.904097Z"
    }
   },
   "outputs": [
    {
     "name": "stdout",
     "output_type": "stream",
     "text": [
      "\"\n"
     ]
    }
   ],
   "source": [
    "print(\"\\\"\") # double quote(문장의 시작과 끝을 큰따옴표로 지정했을때 큰따옴표를 출력하기 위한 방법)"
   ]
  },
  {
   "cell_type": "code",
   "execution_count": 31,
   "metadata": {
    "ExecuteTime": {
     "end_time": "2024-01-30T14:03:13.003699Z",
     "start_time": "2024-01-30T14:03:12.957753Z"
    }
   },
   "outputs": [
    {
     "name": "stdout",
     "output_type": "stream",
     "text": [
      "\n",
      ".\n"
     ]
    }
   ],
   "source": [
    "print('\\n.') # new line"
   ]
  },
  {
   "cell_type": "code",
   "execution_count": 32,
   "metadata": {
    "ExecuteTime": {
     "end_time": "2024-01-30T14:03:13.064579Z",
     "start_time": "2024-01-30T14:03:13.003945Z"
    }
   },
   "outputs": [
    {
     "name": "stdout",
     "output_type": "stream",
     "text": [
      "\t.\n"
     ]
    }
   ],
   "source": [
    "print('\\t.') # horizontal tab"
   ]
  },
  {
   "cell_type": "markdown",
   "metadata": {},
   "source": [
    "##### Indexing\n",
    "- 인덱스는 문자열의 각 문자마다 번호를 매기는 것\n",
    "- 인덱스 범위 \n",
    "    - 양수 인덱스 : 0 ~ (len(문자열)-1)\n",
    "    - len() 함수 : 입력 받은 문자열의 길이(문자 개수)를 반환\n",
    "- 인덱스 표기 방식은 대괄호( [ ] ) 안에 인덱스 번호를 기입하여 해당 문자열에서 지정한 문자를 참조하는 것"
   ]
  },
  {
   "cell_type": "code",
   "execution_count": 33,
   "metadata": {
    "ExecuteTime": {
     "end_time": "2024-01-30T14:03:13.082367Z",
     "start_time": "2024-01-30T14:03:13.051728Z"
    }
   },
   "outputs": [
    {
     "data": {
      "text/plain": [
       "'1'"
      ]
     },
     "execution_count": 33,
     "metadata": {},
     "output_type": "execute_result"
    }
   ],
   "source": [
    "a = '123456789'\n",
    "a[0]"
   ]
  },
  {
   "cell_type": "code",
   "execution_count": 34,
   "metadata": {
    "ExecuteTime": {
     "end_time": "2024-01-30T14:03:13.144578Z",
     "start_time": "2024-01-30T14:03:13.082424Z"
    }
   },
   "outputs": [
    {
     "name": "stdout",
     "output_type": "stream",
     "text": [
      "o\n"
     ]
    }
   ],
   "source": [
    "sample = 'I belong in Sogang University, nice to meet you!'\n",
    "print(sample[5]) # index는 0부터 시작"
   ]
  },
  {
   "cell_type": "code",
   "execution_count": 35,
   "metadata": {
    "ExecuteTime": {
     "end_time": "2024-01-30T14:03:13.167844Z",
     "start_time": "2024-01-30T14:03:13.129744Z"
    }
   },
   "outputs": [
    {
     "name": "stdout",
     "output_type": "stream",
     "text": [
      "!\n"
     ]
    }
   ],
   "source": [
    "print(sample[len(sample) - 1]) # 맨 끝의 문자는 전체 길이에서 1을 빼줘야 한다"
   ]
  },
  {
   "cell_type": "code",
   "execution_count": 36,
   "metadata": {},
   "outputs": [
    {
     "name": "stdout",
     "output_type": "stream",
     "text": [
      "!\n"
     ]
    }
   ],
   "source": [
    "print(sample[-1]) # 이렇게 마지막 문자를 출력할 수도 있음"
   ]
  },
  {
   "cell_type": "code",
   "execution_count": 37,
   "metadata": {
    "ExecuteTime": {
     "end_time": "2024-01-30T14:03:13.210972Z",
     "start_time": "2024-01-30T14:03:13.162702Z"
    }
   },
   "outputs": [
    {
     "data": {
      "text/plain": [
       "48"
      ]
     },
     "execution_count": 37,
     "metadata": {},
     "output_type": "execute_result"
    }
   ],
   "source": [
    "len(sample)"
   ]
  },
  {
   "cell_type": "markdown",
   "metadata": {},
   "source": [
    "##### Slicing\n",
    "- 문자열의 인덱스를 기반으로 문자열의 부분 문자열을 반환(원본 문자열은 그대로 유지)하는 방법\n",
    "- 문자열에서 일부 문자들 추출에 사용"
   ]
  },
  {
   "cell_type": "code",
   "execution_count": 38,
   "metadata": {
    "ExecuteTime": {
     "end_time": "2024-01-30T14:03:13.241812Z",
     "start_time": "2024-01-30T14:03:13.201144Z"
    }
   },
   "outputs": [
    {
     "name": "stdout",
     "output_type": "stream",
     "text": [
      "I bel\n"
     ]
    }
   ],
   "source": [
    "sample = 'I belong in Quantifi, nice to meet you!'\n",
    "print(sample[0:5])"
   ]
  },
  {
   "cell_type": "code",
   "execution_count": 39,
   "metadata": {
    "ExecuteTime": {
     "end_time": "2024-01-30T14:03:13.296230Z",
     "start_time": "2024-01-30T14:03:13.233651Z"
    }
   },
   "outputs": [
    {
     "name": "stdout",
     "output_type": "stream",
     "text": [
      "I bel\n"
     ]
    }
   ],
   "source": [
    "print(sample[:5])"
   ]
  },
  {
   "cell_type": "code",
   "execution_count": 40,
   "metadata": {},
   "outputs": [
    {
     "name": "stdout",
     "output_type": "stream",
     "text": [
      "Ibln nQatf,nc ome o!\n"
     ]
    }
   ],
   "source": [
    "print(sample[::2]) # 두 칸 마다 출력"
   ]
  },
  {
   "cell_type": "code",
   "execution_count": 41,
   "metadata": {
    "ExecuteTime": {
     "end_time": "2024-01-30T14:03:13.324690Z",
     "start_time": "2024-01-30T14:03:13.286199Z"
    }
   },
   "outputs": [
    {
     "name": "stdout",
     "output_type": "stream",
     "text": [
      "IeniQnf ctmto\n"
     ]
    }
   ],
   "source": [
    "print(sample[::3]) # 세 칸 마다 출력"
   ]
  },
  {
   "cell_type": "code",
   "execution_count": 42,
   "metadata": {},
   "outputs": [
    {
     "name": "stdout",
     "output_type": "stream",
     "text": [
      "Il Qt,coeo\n"
     ]
    }
   ],
   "source": [
    "print(sample[::4]) # 네 칸 마다 출력"
   ]
  },
  {
   "cell_type": "code",
   "execution_count": 43,
   "metadata": {
    "ExecuteTime": {
     "end_time": "2024-01-30T14:03:13.363933Z",
     "start_time": "2024-01-30T14:03:13.317654Z"
    }
   },
   "outputs": [
    {
     "name": "stdout",
     "output_type": "stream",
     "text": [
      "I belong in Quantifi, nice to meet you!\n",
      "I belong in Quantifi, nice to meet you!\n",
      "I belong in Quantifi, nice to meet you!\n"
     ]
    }
   ],
   "source": [
    "print(sample[::]) # 전체 문자 출력\n",
    "print(sample[:]) # 전체 문자 출력\n",
    "print(sample)"
   ]
  },
  {
   "cell_type": "markdown",
   "metadata": {},
   "source": [
    "##### String Method I\n",
    "\n",
    "- Reference : https://blockdmask.tistory.com/459\n",
    "\n",
    "|method|description|\n",
    "|:---:|:---|\n",
    "|conut(x[, start, end])|문자열 내부에서 특정 문자가 **반복되는 횟수**를 반환|\n",
    "|find(x[, start, end])|문자열 내부에서 특정 문자가 가장 처음 나오는 **Index**를 반환|\n",
    "|rfind(x[, start, end])|문자열 내부에서 특정 문자가 가장 마지막에 나오는 **Index**를 반환|\n",
    "|upper()|대상이 되는 문자열의 모든 문자열을 **대문자**로 변환|\n",
    "|lower()|대상이 되는 문자열의 모든 문자열을 **소문자**로 변환|\n",
    "|swapcase()|대상이 되는 문자열의 대소문자를 서로 바꿔서 변환|\n",
    "|capitalize()|대상이 되는 문자열의 첫 문자만 대문자로 바꿔서 변환|\n",
    "|title()|대상이 되는 문자열의 단어별 첫 어두만 대문자로 바꿔서 변환|\n",
    "|**replace(x, y[, n])**|대상이 되는 문자열 원소 중 x를 y로 n번까지 변환|"
   ]
  },
  {
   "cell_type": "code",
   "execution_count": 44,
   "metadata": {
    "ExecuteTime": {
     "end_time": "2024-01-30T14:03:13.394725Z",
     "start_time": "2024-01-30T14:03:13.354329Z"
    }
   },
   "outputs": [
    {
     "data": {
      "text/plain": [
       "39"
      ]
     },
     "execution_count": 44,
     "metadata": {},
     "output_type": "execute_result"
    }
   ],
   "source": [
    "sample = 'I belong in Quantifi, nice to meet you!'\n",
    "sample.count('i') # 대문자 I는 제외\n",
    "len(sample)"
   ]
  },
  {
   "cell_type": "code",
   "execution_count": 45,
   "metadata": {
    "ExecuteTime": {
     "end_time": "2024-01-30T14:03:13.460430Z",
     "start_time": "2024-01-30T14:03:13.395383Z"
    }
   },
   "outputs": [
    {
     "data": {
      "text/plain": [
       "1"
      ]
     },
     "execution_count": 45,
     "metadata": {},
     "output_type": "execute_result"
    }
   ],
   "source": [
    "sample.count('belong') # 단어도 가능 => 이 코드는 sample에서 belong이라는 단어가 몇번 나오는지 세는 코드임!"
   ]
  },
  {
   "cell_type": "code",
   "execution_count": 46,
   "id": "bb8ecbd4",
   "metadata": {},
   "outputs": [
    {
     "name": "stdout",
     "output_type": "stream",
     "text": [
      "1\n"
     ]
    }
   ],
   "source": [
    "text = \"hello world\"\n",
    "count_l_partial = text.count(\"l\", 4, 10)\n",
    "print(count_l_partial)  # 출력: 1"
   ]
  },
  {
   "cell_type": "code",
   "execution_count": 47,
   "metadata": {
    "ExecuteTime": {
     "end_time": "2024-01-30T14:03:13.486855Z",
     "start_time": "2024-01-30T14:03:13.438327Z"
    }
   },
   "outputs": [
    {
     "data": {
      "text/plain": [
       "9"
      ]
     },
     "execution_count": 47,
     "metadata": {},
     "output_type": "execute_result"
    }
   ],
   "source": [
    "sample.find('i') # 찾고자 하는 문자나 단어가 맨 처음 나오는 index"
   ]
  },
  {
   "cell_type": "code",
   "execution_count": 48,
   "metadata": {
    "ExecuteTime": {
     "end_time": "2024-01-30T14:03:13.547828Z",
     "start_time": "2024-01-30T14:03:13.479003Z"
    }
   },
   "outputs": [
    {
     "name": "stdout",
     "output_type": "stream",
     "text": [
      "i\n",
      "i\n"
     ]
    }
   ],
   "source": [
    "print(sample[sample.find('i')]) # 이 코드는 sample[9]와 동일함\n",
    "print(sample[9])"
   ]
  },
  {
   "cell_type": "code",
   "execution_count": 49,
   "id": "ad800ad1",
   "metadata": {},
   "outputs": [
    {
     "name": "stdout",
     "output_type": "stream",
     "text": [
      "7\n"
     ]
    }
   ],
   "source": [
    "text = \"hello world\"\n",
    "index = text.find(\"o\", 5, 8)\n",
    "print(index)  # 출력: 7"
   ]
  },
  {
   "cell_type": "code",
   "execution_count": 50,
   "metadata": {
    "ExecuteTime": {
     "end_time": "2024-01-30T14:03:13.577906Z",
     "start_time": "2024-01-30T14:03:13.548079Z"
    }
   },
   "outputs": [
    {
     "data": {
      "text/plain": [
       "23"
      ]
     },
     "execution_count": 50,
     "metadata": {},
     "output_type": "execute_result"
    }
   ],
   "source": [
    "sample.rfind('i') # 찾고자 하는 문자나 단어가 맨 마지막에 나오는 index"
   ]
  },
  {
   "cell_type": "code",
   "execution_count": 51,
   "metadata": {
    "ExecuteTime": {
     "end_time": "2024-01-30T14:03:13.623221Z",
     "start_time": "2024-01-30T14:03:13.567998Z"
    }
   },
   "outputs": [
    {
     "data": {
      "text/plain": [
       "'e'"
      ]
     },
     "execution_count": 51,
     "metadata": {},
     "output_type": "execute_result"
    }
   ],
   "source": [
    "sample[32]"
   ]
  },
  {
   "cell_type": "markdown",
   "id": "99183429",
   "metadata": {},
   "source": [
    "- 아래 .lower() .upper()와 같은 메서드를 이용하려면 반환값을 변수로 할당해 주어야 함\n",
    "- 후 리스트에서 배울 .sort()는 변수선언없이 원데이터가 정렬됨 <--> sorted()"
   ]
  },
  {
   "cell_type": "code",
   "execution_count": 52,
   "metadata": {
    "ExecuteTime": {
     "end_time": "2024-01-30T14:03:13.657141Z",
     "start_time": "2024-01-30T14:03:13.597095Z"
    }
   },
   "outputs": [
    {
     "data": {
      "text/plain": [
       "'I BELONG IN QUANTIFI, NICE TO MEET YOU!'"
      ]
     },
     "execution_count": 52,
     "metadata": {},
     "output_type": "execute_result"
    }
   ],
   "source": [
    "sample.upper() # 대문자로 변환"
   ]
  },
  {
   "cell_type": "code",
   "execution_count": 53,
   "metadata": {
    "ExecuteTime": {
     "end_time": "2024-01-30T14:03:13.733789Z",
     "start_time": "2024-01-30T14:03:13.656960Z"
    }
   },
   "outputs": [
    {
     "name": "stdout",
     "output_type": "stream",
     "text": [
      "i belong in quantifi, nice to meet you!\n"
     ]
    }
   ],
   "source": [
    "sample1 = sample.lower() # 소문자로 변환\n",
    "print(sample1)"
   ]
  },
  {
   "cell_type": "code",
   "execution_count": 54,
   "metadata": {
    "ExecuteTime": {
     "end_time": "2024-01-30T14:03:13.742692Z",
     "start_time": "2024-01-30T14:03:13.713218Z"
    }
   },
   "outputs": [
    {
     "data": {
      "text/plain": [
       "5"
      ]
     },
     "execution_count": 54,
     "metadata": {},
     "output_type": "execute_result"
    }
   ],
   "source": [
    "sample1.count('i') # lower 하기 전에 count('i') 메소드를 수행하면 4가 나왔음에 유의!"
   ]
  },
  {
   "cell_type": "code",
   "execution_count": 55,
   "metadata": {
    "ExecuteTime": {
     "end_time": "2024-01-30T14:03:13.813237Z",
     "start_time": "2024-01-30T14:03:13.742871Z"
    }
   },
   "outputs": [
    {
     "data": {
      "text/plain": [
       "'i BELONG IN qUANTIFI, NICE TO MEET YOU!'"
      ]
     },
     "execution_count": 55,
     "metadata": {},
     "output_type": "execute_result"
    }
   ],
   "source": [
    "sample.swapcase()"
   ]
  },
  {
   "cell_type": "code",
   "execution_count": 56,
   "metadata": {
    "ExecuteTime": {
     "end_time": "2024-01-30T14:03:13.855773Z",
     "start_time": "2024-01-30T14:03:13.800208Z"
    }
   },
   "outputs": [
    {
     "data": {
      "text/plain": [
       "'I belong in quantifi, nice to meet you!'"
      ]
     },
     "execution_count": 56,
     "metadata": {},
     "output_type": "execute_result"
    }
   ],
   "source": [
    "sample.capitalize()"
   ]
  },
  {
   "cell_type": "code",
   "execution_count": 57,
   "metadata": {
    "ExecuteTime": {
     "end_time": "2024-01-30T14:03:13.889342Z",
     "start_time": "2024-01-30T14:03:13.856183Z"
    }
   },
   "outputs": [
    {
     "data": {
      "text/plain": [
       "'I Belong In Quantifi, Nice To Meet You!'"
      ]
     },
     "execution_count": 57,
     "metadata": {},
     "output_type": "execute_result"
    }
   ],
   "source": [
    "sample.title() # 단어별로 첫 글자를 대문자로 변환"
   ]
  },
  {
   "cell_type": "code",
   "execution_count": 58,
   "metadata": {
    "ExecuteTime": {
     "end_time": "2024-01-30T14:03:13.933118Z",
     "start_time": "2024-01-30T14:03:13.884985Z"
    }
   },
   "outputs": [
    {
     "data": {
      "text/plain": [
       "'I belong in Quantifi; nice to meet you!'"
      ]
     },
     "execution_count": 58,
     "metadata": {},
     "output_type": "execute_result"
    }
   ],
   "source": [
    "sample.replace(',',';')"
   ]
  },
  {
   "cell_type": "code",
   "execution_count": 59,
   "metadata": {
    "ExecuteTime": {
     "end_time": "2024-01-30T14:03:13.959849Z",
     "start_time": "2024-01-30T14:03:13.923438Z"
    }
   },
   "outputs": [
    {
     "name": "stdout",
     "output_type": "stream",
     "text": [
      "100,000,000\n"
     ]
    }
   ],
   "source": [
    "a = '100,000,000'\n",
    "print(a)"
   ]
  },
  {
   "cell_type": "code",
   "execution_count": 60,
   "metadata": {
    "ExecuteTime": {
     "end_time": "2024-01-30T14:03:14.006714Z",
     "start_time": "2024-01-30T14:03:13.954976Z"
    }
   },
   "outputs": [
    {
     "data": {
      "text/plain": [
       "100000000"
      ]
     },
     "execution_count": 60,
     "metadata": {},
     "output_type": "execute_result"
    }
   ],
   "source": [
    "int(a.replace(',',''))"
   ]
  },
  {
   "cell_type": "markdown",
   "id": "28c72518",
   "metadata": {},
   "source": [
    "- 재무데이터를 일반 웹사이트에서 크롤링할 때 replace와 int()를 사용해서 계산가능하게 만들어줌"
   ]
  },
  {
   "cell_type": "markdown",
   "metadata": {},
   "source": [
    "### Exercise 2.\n",
    "- 다음은 미국 연방준비위원회 의장 제롬 파월의 2022년 8월 잭슨홀 심포지엄에서 '통화정책과 물가 안정'을 주제로 한 연설문의 일부이다.\n",
    "\n",
    "At past Jackson Hole conferences, I have discussed broad topics such as the ever-changing structure of the economy and the challenges of conducting monetary policy under high uncertainty. Today, my remarks will be shorter, my focus narrower, and my message more direct.\n",
    "\n",
    "The Federal Open Market Committee's (FOMC) overarching focus right now is to bring inflation back down to our 2 percent goal. Price stability is the responsibility of the Federal Reserve and serves as the bedrock of our economy. Without price stability, the economy does not work for anyone. In particular, without price stability, we will not achieve a sustained period of strong labor market conditions that benefit all. The burdens of high inflation fall heaviest on those who are least able to bear them.\n",
    "\n",
    "Restoring price stability will take some time and requires using our tools forcefully to bring demand and supply into better balance. Reducing inflation is likely to require a sustained period of below-trend growth. Moreover, there will very likely be some softening of labor market conditions. While higher interest rates, slower growth, and softer labor market conditions will bring down inflation, they will also bring some pain to households and businesses. These are the unfortunate costs of reducing inflation. But a failure to restore price stability would mean far greater pain.\n",
    "\n",
    "The U.S. economy is clearly slowing from the historically high growth rates of 2021, which reflected the reopening of the economy following the pandemic recession. While the latest economic data have been mixed, in my view our economy continues to show strong underlying momentum. The labor market is particularly strong, but it is clearly out of balance, with demand for workers substantially exceeding the supply of available workers. Inflation is running well above 2 percent, and high inflation has continued to spread through the economy. While the lower inflation readings for July are welcome, a single month's improvement falls far short of what the Committee will need to see before we are confident that inflation is moving down.\n",
    "\n",
    "We are moving our policy stance purposefully to a level that will be sufficiently restrictive to return inflation to 2 percent. At our most recent meeting in July, the FOMC raised the target range for the federal funds rate to 2.25 to 2.5 percent, which is in the Summary of Economic Projection's (SEP) range of estimates of where the federal funds rate is projected to settle in the longer run. In current circumstances, with inflation running far above 2 percent and the labor market extremely tight, estimates of longer-run neutral are not a place to stop or pause.\n",
    "\n",
    "- 위 연설문에서, 'inflation'은 총 몇 번 등장할까?"
   ]
  },
  {
   "cell_type": "code",
   "execution_count": 61,
   "metadata": {
    "ExecuteTime": {
     "end_time": "2024-01-30T14:03:14.050132Z",
     "start_time": "2024-01-30T14:03:14.007694Z"
    }
   },
   "outputs": [],
   "source": [
    "data = \"At past Jackson Hole conferences, I have discussed broad topics such as the ever-changing structure of the economy and the challenges of conducting monetary policy under high uncertainty. Today, my remarks will be shorter, my focus narrower, and my message more direct.\\n The Federal Open Market Committee's (FOMC) overarching focus right now is to bring inflation back down to our 2 percent goal. Price stability is the responsibility of the Federal Reserve and serves as the bedrock of our economy. Without price stability, the economy does not work for anyone. In particular, without price stability, we will not achieve a sustained period of strong labor market conditions that benefit all. The burdens of high inflation fall heaviest on those who are least able to bear them.\\n Restoring price stability will take some time and requires using our tools forcefully to bring demand and supply into better balance. Reducing inflation is likely to require a sustained period of below-trend growth. Moreover, there will very likely be some softening of labor market conditions. While higher interest rates, slower growth, and softer labor market conditions will bring down inflation, they will also bring some pain to households and businesses. These are the unfortunate costs of reducing inflation. But a failure to restore price stability would mean far greater pain.\\n The U.S. economy is clearly slowing from the historically high growth rates of 2021, which reflected the reopening of the economy following the pandemic recession. While the latest economic data have been mixed, in my view our economy continues to show strong underlying momentum. The labor market is particularly strong, but it is clearly out of balance, with demand for workers substantially exceeding the supply of available workers. Inflation is running well above 2 percent, and high inflation has continued to spread through the economy. While the lower inflation readings for July are welcome, a single month's improvement falls far short of what the Committee will need to see before we are confident that inflation is moving down.\\n We are moving our policy stance purposefully to a level that will be sufficiently restrictive to return inflation to 2 percent. At our most recent meeting in July, the FOMC raised the target range for the federal funds rate to 2.25 to 2.5 percent, which is in the Summary of Economic Projection's (SEP) range of estimates of where the federal funds rate is projected to settle in the longer run. In current circumstances, with inflation running far above 2 percent and the labor market extremely tight, estimates of longer-run neutral are not a place to stop or pause.\""
   ]
  },
  {
   "cell_type": "code",
   "execution_count": 62,
   "metadata": {
    "ExecuteTime": {
     "end_time": "2024-01-30T14:03:14.105640Z",
     "start_time": "2024-01-30T14:03:14.039427Z"
    },
    "scrolled": true
   },
   "outputs": [
    {
     "name": "stdout",
     "output_type": "stream",
     "text": [
      "At past Jackson Hole conferences, I have discussed broad topics such as the ever-changing structure of the economy and the challenges of conducting monetary policy under high uncertainty. Today, my remarks will be shorter, my focus narrower, and my message more direct.\n",
      " The Federal Open Market Committee's (FOMC) overarching focus right now is to bring inflation back down to our 2 percent goal. Price stability is the responsibility of the Federal Reserve and serves as the bedrock of our economy. Without price stability, the economy does not work for anyone. In particular, without price stability, we will not achieve a sustained period of strong labor market conditions that benefit all. The burdens of high inflation fall heaviest on those who are least able to bear them.\n",
      " Restoring price stability will take some time and requires using our tools forcefully to bring demand and supply into better balance. Reducing inflation is likely to require a sustained period of below-trend growth. Moreover, there will very likely be some softening of labor market conditions. While higher interest rates, slower growth, and softer labor market conditions will bring down inflation, they will also bring some pain to households and businesses. These are the unfortunate costs of reducing inflation. But a failure to restore price stability would mean far greater pain.\n",
      " The U.S. economy is clearly slowing from the historically high growth rates of 2021, which reflected the reopening of the economy following the pandemic recession. While the latest economic data have been mixed, in my view our economy continues to show strong underlying momentum. The labor market is particularly strong, but it is clearly out of balance, with demand for workers substantially exceeding the supply of available workers. Inflation is running well above 2 percent, and high inflation has continued to spread through the economy. While the lower inflation readings for July are welcome, a single month's improvement falls far short of what the Committee will need to see before we are confident that inflation is moving down.\n",
      " We are moving our policy stance purposefully to a level that will be sufficiently restrictive to return inflation to 2 percent. At our most recent meeting in July, the FOMC raised the target range for the federal funds rate to 2.25 to 2.5 percent, which is in the Summary of Economic Projection's (SEP) range of estimates of where the federal funds rate is projected to settle in the longer run. In current circumstances, with inflation running far above 2 percent and the labor market extremely tight, estimates of longer-run neutral are not a place to stop or pause.\n"
     ]
    }
   ],
   "source": [
    "print(data)"
   ]
  },
  {
   "cell_type": "code",
   "execution_count": 63,
   "metadata": {},
   "outputs": [],
   "source": [
    "data=data.lower()"
   ]
  },
  {
   "cell_type": "code",
   "execution_count": 64,
   "metadata": {
    "ExecuteTime": {
     "end_time": "2024-01-30T14:03:14.124566Z",
     "start_time": "2024-01-30T14:03:14.091245Z"
    }
   },
   "outputs": [
    {
     "name": "stdout",
     "output_type": "stream",
     "text": [
      "11\n"
     ]
    }
   ],
   "source": [
    "print(data.count('inflation'))"
   ]
  },
  {
   "cell_type": "code",
   "execution_count": 65,
   "metadata": {
    "ExecuteTime": {
     "end_time": "2024-01-30T14:03:14.195290Z",
     "start_time": "2024-01-30T14:03:14.125289Z"
    }
   },
   "outputs": [
    {
     "name": "stdout",
     "output_type": "stream",
     "text": [
      "141\n"
     ]
    }
   ],
   "source": [
    "print(data.count('a'))"
   ]
  },
  {
   "cell_type": "code",
   "execution_count": 66,
   "metadata": {
    "ExecuteTime": {
     "end_time": "2024-01-30T14:03:14.221176Z",
     "start_time": "2024-01-30T14:03:14.171011Z"
    }
   },
   "outputs": [
    {
     "data": {
      "text/plain": [
       "0.05265123226288275"
      ]
     },
     "execution_count": 66,
     "metadata": {},
     "output_type": "execute_result"
    }
   ],
   "source": [
    "data.count('a')/len(data)"
   ]
  },
  {
   "cell_type": "markdown",
   "metadata": {},
   "source": [
    "문자열 메소드를 사용해 직접 다른 단어들도 확인해 보자"
   ]
  },
  {
   "cell_type": "markdown",
   "metadata": {},
   "source": [
    "### Type 함수\n",
    "- 객체의 자료형을 알려주는 함수\n",
    "- 변수(variable)가 어떤 자료형을 참조하는지 확인할 수 있음 \n",
    "- 하나의 변수에 어떤 자료형의 데이터도 저장할 수 있음"
   ]
  },
  {
   "cell_type": "code",
   "execution_count": 67,
   "metadata": {
    "ExecuteTime": {
     "end_time": "2024-01-30T14:03:14.276744Z",
     "start_time": "2024-01-30T14:03:14.213794Z"
    }
   },
   "outputs": [
    {
     "name": "stdout",
     "output_type": "stream",
     "text": [
      "<class 'int'>\n",
      "<class 'float'>\n",
      "<class 'complex'>\n"
     ]
    }
   ],
   "source": [
    "x = 10\n",
    "y = 2.5\n",
    "z = 10j + 1\n",
    "\n",
    "print(type(x))\n",
    "print(type(y))\n",
    "print(type(z))"
   ]
  },
  {
   "cell_type": "code",
   "execution_count": 68,
   "metadata": {
    "ExecuteTime": {
     "end_time": "2024-01-30T14:03:14.312567Z",
     "start_time": "2024-01-30T14:03:14.277365Z"
    }
   },
   "outputs": [
    {
     "name": "stdout",
     "output_type": "stream",
     "text": [
      "<class 'str'>\n"
     ]
    }
   ],
   "source": [
    "a = 'q'\n",
    "print(type(a))"
   ]
  },
  {
   "cell_type": "code",
   "execution_count": 69,
   "metadata": {
    "ExecuteTime": {
     "end_time": "2024-01-30T14:03:14.362996Z",
     "start_time": "2024-01-30T14:03:14.307887Z"
    }
   },
   "outputs": [
    {
     "name": "stdout",
     "output_type": "stream",
     "text": [
      "<class 'list'>\n"
     ]
    }
   ],
   "source": [
    "b = []\n",
    "print(type(b))"
   ]
  },
  {
   "cell_type": "markdown",
   "metadata": {},
   "source": [
    "### Exercise 3.\n",
    "- 다음 데이터의 자료형을 직접 확인해 보자"
   ]
  },
  {
   "cell_type": "code",
   "execution_count": 70,
   "metadata": {
    "ExecuteTime": {
     "end_time": "2024-01-30T14:03:14.411654Z",
     "start_time": "2024-01-30T14:03:14.347186Z"
    }
   },
   "outputs": [],
   "source": [
    "a = 100\n",
    "b = 'Sogang'\n",
    "c = 4 + 5j\n",
    "d = True\n",
    "e = 3.5e+4"
   ]
  },
  {
   "cell_type": "markdown",
   "metadata": {},
   "source": [
    "### 자료형 변환\n",
    "- 정수, 실수, 문자열 등의 데이터형들은 다른 데이터형으로 변환될 수 있으며, python에서는 이를 위한 내장 함수를 제공\n",
    "\n",
    "- int( ) 함수\n",
    "    - 소수점이 없는 숫자 형태의 문자열을 정수로 변환\n",
    "    - 실수 형태의 문자열은 정수로 변환할 수 없음:error\n",
    "    - 실수값은 정수로 변환\n",
    "- float( ) 함수\n",
    "    - 실수형태 또는 정수형태의 문자열을 실수로 변환 - 정수값은 실수로 변환\n",
    "- str( ) 함수\n",
    "    - 정수나 실수 값을 문자열로 변환"
   ]
  },
  {
   "cell_type": "code",
   "execution_count": 71,
   "metadata": {
    "ExecuteTime": {
     "end_time": "2024-01-30T14:03:14.501927Z",
     "start_time": "2024-01-30T14:03:14.394939Z"
    }
   },
   "outputs": [
    {
     "name": "stdout",
     "output_type": "stream",
     "text": [
      "<class 'str'>\n",
      "<class 'int'>\n",
      "<class 'float'>\n",
      "<class 'complex'>\n"
     ]
    }
   ],
   "source": [
    "a = '1'\n",
    "b = int(a)\n",
    "c = float(a)\n",
    "d = complex(a)\n",
    "\n",
    "print(type(a))\n",
    "print(type(b))\n",
    "print(type(c))\n",
    "print(type(d))"
   ]
  },
  {
   "cell_type": "code",
   "execution_count": 72,
   "metadata": {},
   "outputs": [
    {
     "name": "stdout",
     "output_type": "stream",
     "text": [
      "1\n",
      "1\n",
      "1.0\n",
      "(1+0j)\n"
     ]
    }
   ],
   "source": [
    "print(a)\n",
    "print(b)\n",
    "print(c)\n",
    "print(d)"
   ]
  },
  {
   "cell_type": "markdown",
   "metadata": {},
   "source": [
    "### 산술 연산자\n",
    "|operator|meaning|\n",
    "|:---:|:---|\n",
    "|+|덧셈 또는 + 부호|\n",
    "|-|뺄셈 또는 - 부호|\n",
    "|\\*|곱셈|\n",
    "|/|나눗셈(실수)|\n",
    "|%|나눈 후 나머지|\n",
    "|//|나눈 후 몫|\n",
    "|\\*\\*|지수승|"
   ]
  },
  {
   "cell_type": "code",
   "execution_count": 73,
   "metadata": {
    "ExecuteTime": {
     "end_time": "2024-01-30T14:03:14.606933Z",
     "start_time": "2024-01-30T14:03:14.458055Z"
    }
   },
   "outputs": [
    {
     "data": {
      "text/plain": [
       "10"
      ]
     },
     "execution_count": 73,
     "metadata": {},
     "output_type": "execute_result"
    }
   ],
   "source": [
    "+10 # 부호로 사용"
   ]
  },
  {
   "cell_type": "code",
   "execution_count": 74,
   "metadata": {
    "ExecuteTime": {
     "end_time": "2024-01-30T14:03:14.739440Z",
     "start_time": "2024-01-30T14:03:14.566897Z"
    }
   },
   "outputs": [
    {
     "data": {
      "text/plain": [
       "35"
      ]
     },
     "execution_count": 74,
     "metadata": {},
     "output_type": "execute_result"
    }
   ],
   "source": [
    "15 + 20 # 덧셈 연산자로 사용"
   ]
  },
  {
   "cell_type": "code",
   "execution_count": 75,
   "metadata": {
    "ExecuteTime": {
     "end_time": "2024-01-30T14:03:14.803102Z",
     "start_time": "2024-01-30T14:03:14.739760Z"
    }
   },
   "outputs": [
    {
     "data": {
      "text/plain": [
       "-1"
      ]
     },
     "execution_count": 75,
     "metadata": {},
     "output_type": "execute_result"
    }
   ],
   "source": [
    "-1 # 부호로 사용"
   ]
  },
  {
   "cell_type": "code",
   "execution_count": 76,
   "metadata": {
    "ExecuteTime": {
     "end_time": "2024-01-30T14:03:14.896695Z",
     "start_time": "2024-01-30T14:03:14.776437Z"
    }
   },
   "outputs": [
    {
     "data": {
      "text/plain": [
       "-8"
      ]
     },
     "execution_count": 76,
     "metadata": {},
     "output_type": "execute_result"
    }
   ],
   "source": [
    "2-10 # 뺄셈 연산자로 사용"
   ]
  },
  {
   "cell_type": "code",
   "execution_count": 77,
   "metadata": {
    "ExecuteTime": {
     "end_time": "2024-01-30T14:03:14.966639Z",
     "start_time": "2024-01-30T14:03:14.897382Z"
    }
   },
   "outputs": [
    {
     "data": {
      "text/plain": [
       "200"
      ]
     },
     "execution_count": 77,
     "metadata": {},
     "output_type": "execute_result"
    }
   ],
   "source": [
    "10 * 20 # 곱셈 연산자"
   ]
  },
  {
   "cell_type": "code",
   "execution_count": 78,
   "metadata": {
    "ExecuteTime": {
     "end_time": "2024-01-30T14:03:15.067042Z",
     "start_time": "2024-01-30T14:03:14.962944Z"
    }
   },
   "outputs": [
    {
     "data": {
      "text/plain": [
       "0.5"
      ]
     },
     "execution_count": 78,
     "metadata": {},
     "output_type": "execute_result"
    }
   ],
   "source": [
    "1 / 2 # 나눗셈 연산자, 결과는 항상 실수"
   ]
  },
  {
   "cell_type": "code",
   "execution_count": 79,
   "metadata": {
    "ExecuteTime": {
     "end_time": "2024-01-30T14:03:15.136737Z",
     "start_time": "2024-01-30T14:03:15.032396Z"
    }
   },
   "outputs": [
    {
     "data": {
      "text/plain": [
       "1"
      ]
     },
     "execution_count": 79,
     "metadata": {},
     "output_type": "execute_result"
    }
   ],
   "source": [
    "9 % 4 # 나머지"
   ]
  },
  {
   "cell_type": "code",
   "execution_count": 80,
   "metadata": {
    "ExecuteTime": {
     "end_time": "2024-01-30T14:03:15.283437Z",
     "start_time": "2024-01-30T14:03:15.137233Z"
    }
   },
   "outputs": [
    {
     "data": {
      "text/plain": [
       "2"
      ]
     },
     "execution_count": 80,
     "metadata": {},
     "output_type": "execute_result"
    }
   ],
   "source": [
    "9 // 4 # 몫"
   ]
  },
  {
   "cell_type": "code",
   "execution_count": 81,
   "metadata": {
    "ExecuteTime": {
     "end_time": "2024-01-30T14:03:15.341489Z",
     "start_time": "2024-01-30T14:03:15.256590Z"
    }
   },
   "outputs": [
    {
     "data": {
      "text/plain": [
       "16"
      ]
     },
     "execution_count": 81,
     "metadata": {},
     "output_type": "execute_result"
    }
   ],
   "source": [
    "2 ** 4 # 지수승"
   ]
  },
  {
   "cell_type": "markdown",
   "id": "b13d4db6",
   "metadata": {},
   "source": [
    "- 나머지와 몫 연산자는 나중에 코딩테스트에 엄청나게 많이 등장하므로 암기해두세요!\n",
    "  - 자릿수의 합 구하기\n",
    "  - 숫자를 거꾸로 뒤집기\n",
    "  - 주어진 시간을 시, 분, 초로 변환"
   ]
  },
  {
   "cell_type": "code",
   "execution_count": 82,
   "id": "3c289c90",
   "metadata": {},
   "outputs": [
    {
     "name": "stdout",
     "output_type": "stream",
     "text": [
      "10\n"
     ]
    }
   ],
   "source": [
    "def sum_of_digits(number):\n",
    "    total = 0\n",
    "    while number > 0:\n",
    "        digit = number % 10  # 나머지를 이용해 마지막 자릿수 추출\n",
    "        total += digit\n",
    "        number = number // 10  # 몫을 이용해 마지막 자릿수 제거\n",
    "    return total\n",
    "\n",
    "# 테스트\n",
    "print(sum_of_digits(1234))  # 출력: 10"
   ]
  },
  {
   "cell_type": "markdown",
   "metadata": {},
   "source": [
    "### 복합 연산자\n",
    "- += 형태와 같이 대입 연산자와 다른 연산자를 합쳐 놓은 연산자\n",
    "\n",
    "|operator|example|description|\n",
    "|:---:|:---|:---|\n",
    "|+=|x += y|x = x + y와 동일|\n",
    "|-=|x -= y|x = x - y와 동일|\n",
    "|\\*=|x \\*= y|x = x * y와 동일|\n",
    "|/=|x /= y|x = x / y와 동일|\n",
    "|%=|x %= y|x = x % y와 동일|\n",
    "|//=|x //= y|x = x // y와 동일|\n",
    "|\\*\\*=|x \\*\\*= y|x = x ** y와 동일|\n",
    "\n",
    "- **실제로 굉장히 많이 쓰이는 표현으로, 익혀두는 것이 좋다**\n",
    "- 누적값을 구할 때 많이 사용!"
   ]
  },
  {
   "cell_type": "code",
   "execution_count": 83,
   "metadata": {
    "ExecuteTime": {
     "end_time": "2024-01-30T14:03:15.414172Z",
     "start_time": "2024-01-30T14:03:15.341759Z"
    }
   },
   "outputs": [
    {
     "name": "stdout",
     "output_type": "stream",
     "text": [
      "9\n"
     ]
    }
   ],
   "source": [
    "a = 4\n",
    "a = a + 5\n",
    "print(a)"
   ]
  },
  {
   "cell_type": "code",
   "execution_count": 84,
   "metadata": {
    "ExecuteTime": {
     "end_time": "2024-01-30T14:03:15.510549Z",
     "start_time": "2024-01-30T14:03:15.409836Z"
    }
   },
   "outputs": [
    {
     "name": "stdout",
     "output_type": "stream",
     "text": [
      "9\n"
     ]
    }
   ],
   "source": [
    "c = 4\n",
    "c += 5 # c = c+5\n",
    "print(c)"
   ]
  },
  {
   "cell_type": "code",
   "execution_count": 85,
   "metadata": {
    "ExecuteTime": {
     "end_time": "2024-01-30T14:03:15.579619Z",
     "start_time": "2024-01-30T14:03:15.511200Z"
    }
   },
   "outputs": [
    {
     "name": "stdout",
     "output_type": "stream",
     "text": [
      "-4\n"
     ]
    }
   ],
   "source": [
    "d = 6\n",
    "d -= 10\n",
    "print(d)"
   ]
  },
  {
   "cell_type": "markdown",
   "id": "6f928d33",
   "metadata": {},
   "source": [
    "### 자산의 현재가치와 미래가치에 대한 참고자료\n",
    "\n",
    "https://contents.premium.naver.com/ilab/insights/contents/221223151304749mi"
   ]
  },
  {
   "cell_type": "markdown",
   "metadata": {},
   "source": [
    "### Exercise 4.\n",
    "- 당신은 현재 금융상품 중 정기예금에 들어야 합니다. 연이율 7.6%의 정기예금에 1천만원을 예탁한다고 가정할 때, 3년 뒤, 예금한 금액은 얼마가 됩니까? (단, 금리는 고정금리이며 복리로 계산하고, 1월 2일에 예탁하여 3년뒤 12월 영업일 말일에 찾는다고 가정한다)"
   ]
  },
  {
   "cell_type": "code",
   "execution_count": 86,
   "metadata": {
    "ExecuteTime": {
     "end_time": "2024-01-30T14:03:15.682130Z",
     "start_time": "2024-01-30T14:03:15.575298Z"
    }
   },
   "outputs": [
    {
     "name": "stdout",
     "output_type": "stream",
     "text": [
      "1245.7669760000003\n"
     ]
    }
   ],
   "source": [
    "deposit = 1000\n",
    "interest = 0.076\n",
    "year = 3\n",
    "\n",
    "print(deposit * (1 + interest) ** 3)"
   ]
  },
  {
   "cell_type": "markdown",
   "metadata": {},
   "source": [
    "### 관계 연산자\n",
    "- 두 값을 비교하는 연산자\n",
    "- 연산의 결과는 True 아니면 False\n",
    "\n",
    "|operator|meaning|\n",
    "|:---:|:---|\n",
    "|==|Equal|\n",
    "|!=|Not Equal|\n",
    "|>|Greater than|\n",
    "|<|Less than|\n",
    "|>=|Greater than or equal|\n",
    "|<=|Less than or equal|"
   ]
  },
  {
   "cell_type": "code",
   "execution_count": 87,
   "metadata": {
    "ExecuteTime": {
     "end_time": "2024-01-30T14:03:15.780369Z",
     "start_time": "2024-01-30T14:03:15.682386Z"
    }
   },
   "outputs": [
    {
     "data": {
      "text/plain": [
       "True"
      ]
     },
     "execution_count": 87,
     "metadata": {},
     "output_type": "execute_result"
    }
   ],
   "source": [
    "1 == 1"
   ]
  },
  {
   "cell_type": "code",
   "execution_count": 88,
   "metadata": {
    "ExecuteTime": {
     "end_time": "2024-01-30T14:03:15.854977Z",
     "start_time": "2024-01-30T14:03:15.750708Z"
    }
   },
   "outputs": [
    {
     "data": {
      "text/plain": [
       "False"
      ]
     },
     "execution_count": 88,
     "metadata": {},
     "output_type": "execute_result"
    }
   ],
   "source": [
    "1 == 2"
   ]
  },
  {
   "cell_type": "code",
   "execution_count": 89,
   "metadata": {
    "ExecuteTime": {
     "end_time": "2024-01-30T14:03:15.936917Z",
     "start_time": "2024-01-30T14:03:15.855343Z"
    }
   },
   "outputs": [
    {
     "data": {
      "text/plain": [
       "False"
      ]
     },
     "execution_count": 89,
     "metadata": {},
     "output_type": "execute_result"
    }
   ],
   "source": [
    "1 != 1"
   ]
  },
  {
   "cell_type": "code",
   "execution_count": 90,
   "metadata": {
    "ExecuteTime": {
     "end_time": "2024-01-30T14:03:15.983804Z",
     "start_time": "2024-01-30T14:03:15.926771Z"
    }
   },
   "outputs": [
    {
     "data": {
      "text/plain": [
       "True"
      ]
     },
     "execution_count": 90,
     "metadata": {},
     "output_type": "execute_result"
    }
   ],
   "source": [
    "1 != 2"
   ]
  },
  {
   "cell_type": "code",
   "execution_count": 91,
   "metadata": {
    "ExecuteTime": {
     "end_time": "2024-01-30T14:03:16.059737Z",
     "start_time": "2024-01-30T14:03:15.984150Z"
    }
   },
   "outputs": [
    {
     "data": {
      "text/plain": [
       "1"
      ]
     },
     "execution_count": 91,
     "metadata": {},
     "output_type": "execute_result"
    }
   ],
   "source": [
    "int(1 != 2)"
   ]
  },
  {
   "cell_type": "code",
   "execution_count": 92,
   "metadata": {
    "ExecuteTime": {
     "end_time": "2024-01-30T14:03:16.142284Z",
     "start_time": "2024-01-30T14:03:16.023153Z"
    }
   },
   "outputs": [
    {
     "data": {
      "text/plain": [
       "False"
      ]
     },
     "execution_count": 92,
     "metadata": {},
     "output_type": "execute_result"
    }
   ],
   "source": [
    "1 > 2"
   ]
  },
  {
   "cell_type": "code",
   "execution_count": 93,
   "metadata": {
    "ExecuteTime": {
     "end_time": "2024-01-30T14:03:16.214907Z",
     "start_time": "2024-01-30T14:03:16.143122Z"
    }
   },
   "outputs": [
    {
     "data": {
      "text/plain": [
       "True"
      ]
     },
     "execution_count": 93,
     "metadata": {},
     "output_type": "execute_result"
    }
   ],
   "source": [
    "1 < 2"
   ]
  },
  {
   "cell_type": "markdown",
   "metadata": {},
   "source": [
    "### 논리 연산자\n",
    "- 복잡한 조건을 표현할 때 논리 연산자 사용\n",
    "    - 몇 개의 조건식을 조합하여 명령문의 수행여부를 결정할 때 사용\n",
    "    \n",
    "|operator|description|example|\n",
    "|:---:|:---|:---|\n",
    "|and|Logical and|모두 True이어야 True|\n",
    "|or|Logical or|하나라도 True면 True|\n",
    "|not|Negates the truth value|참이면 거짓, 거짓이면 참|"
   ]
  },
  {
   "cell_type": "code",
   "execution_count": 94,
   "metadata": {
    "ExecuteTime": {
     "end_time": "2024-01-30T14:03:16.304643Z",
     "start_time": "2024-01-30T14:03:16.199700Z"
    }
   },
   "outputs": [
    {
     "data": {
      "text/plain": [
       "False"
      ]
     },
     "execution_count": 94,
     "metadata": {},
     "output_type": "execute_result"
    }
   ],
   "source": [
    "True and False"
   ]
  },
  {
   "cell_type": "code",
   "execution_count": 95,
   "metadata": {
    "ExecuteTime": {
     "end_time": "2024-01-30T14:03:16.373462Z",
     "start_time": "2024-01-30T14:03:16.280709Z"
    }
   },
   "outputs": [
    {
     "data": {
      "text/plain": [
       "True"
      ]
     },
     "execution_count": 95,
     "metadata": {},
     "output_type": "execute_result"
    }
   ],
   "source": [
    "True or False"
   ]
  },
  {
   "cell_type": "code",
   "execution_count": 96,
   "metadata": {},
   "outputs": [
    {
     "data": {
      "text/plain": [
       "False"
      ]
     },
     "execution_count": 96,
     "metadata": {},
     "output_type": "execute_result"
    }
   ],
   "source": [
    "not True"
   ]
  },
  {
   "cell_type": "markdown",
   "metadata": {},
   "source": [
    "### 수치형 연산 관련 내장 함수\n",
    "- abs(  ) : 절댓값을 반환하는 함수\n",
    "- round(  ) : 반올림 후의 소수점 이하 자릿수를 반환하는 함수"
   ]
  },
  {
   "cell_type": "code",
   "execution_count": 97,
   "metadata": {
    "ExecuteTime": {
     "end_time": "2024-01-30T14:03:16.513653Z",
     "start_time": "2024-01-30T14:03:16.373916Z"
    }
   },
   "outputs": [
    {
     "name": "stdout",
     "output_type": "stream",
     "text": [
      "1\n"
     ]
    }
   ],
   "source": [
    "a = -1\n",
    "print(abs(a)) # 절댓값"
   ]
  },
  {
   "cell_type": "code",
   "execution_count": 98,
   "metadata": {
    "ExecuteTime": {
     "end_time": "2024-01-30T14:03:16.565297Z",
     "start_time": "2024-01-30T14:03:16.491091Z"
    }
   },
   "outputs": [
    {
     "name": "stdout",
     "output_type": "stream",
     "text": [
      "3\n",
      "3.142\n"
     ]
    }
   ],
   "source": [
    "b = 3.141592\n",
    "print(round(b)) # 두 번째 인자를 지정하지 않으면 정수 반환\n",
    "print(round(b, 3)) # 두 번째 인자는 몇째 자리까지 표기할지를 결정함. 즉 두 번째 인자+1에서 반올림하는 것이라고 이해하면 됨"
   ]
  },
  {
   "cell_type": "code",
   "execution_count": 99,
   "metadata": {
    "ExecuteTime": {
     "end_time": "2024-01-30T14:03:16.641838Z",
     "start_time": "2024-01-30T14:03:16.565458Z"
    }
   },
   "outputs": [
    {
     "name": "stdout",
     "output_type": "stream",
     "text": [
      "3.987\n",
      "3\n",
      "4\n"
     ]
    }
   ],
   "source": [
    "c = 3.987\n",
    "print(c)\n",
    "print(int(c)) # int로 하면 반올림이 아니고 소수부를 모두 버려버림!\n",
    "print(round(c))"
   ]
  }
 ],
 "metadata": {
  "kernelspec": {
   "display_name": "Python 3",
   "language": "python",
   "name": "python3"
  },
  "language_info": {
   "codemirror_mode": {
    "name": "ipython",
    "version": 3
   },
   "file_extension": ".py",
   "mimetype": "text/x-python",
   "name": "python",
   "nbconvert_exporter": "python",
   "pygments_lexer": "ipython3",
   "version": "3.9.19"
  },
  "toc": {
   "base_numbering": 1,
   "nav_menu": {},
   "number_sections": true,
   "sideBar": true,
   "skip_h1_title": false,
   "title_cell": "Table of Contents",
   "title_sidebar": "Contents",
   "toc_cell": false,
   "toc_position": {},
   "toc_section_display": true,
   "toc_window_display": false
  }
 },
 "nbformat": 4,
 "nbformat_minor": 5
}
