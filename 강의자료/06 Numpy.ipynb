{
 "cells": [
  {
   "cell_type": "markdown",
   "metadata": {},
   "source": [
    "## Numpy\n",
    "\n",
    "### Why Numpy?\n",
    "- 반복문 없이 빠른 계산 가능한 다차원 배열을 제공한다(내부적으로 C로 구현)\n",
    "- 빠른 계산 속도를 제공한다\n",
    "- 원하는 형태의 data만 구별할 수 있는 indexing 기능이 있다 (정수 인덱싱, Boolean Indexing)\n",
    "- Vectorized operation을 지원한다(선형대수학 계산 가능)\n",
    "    - 배열의 각 원소에 대한 반복연산을 하나의 명령어로 처리한다\n",
    "- numpy 배열 생성 방법\n",
    "    - python list 사용 : np.array(  )\n",
    "    - numpy 제공함수 이용 : zeros( ), ones( ), full( ), eye( )"
   ]
  },
  {
   "cell_type": "code",
   "execution_count": 82,
   "metadata": {
    "ExecuteTime": {
     "end_time": "2024-02-12T15:38:13.847714Z",
     "start_time": "2024-02-12T15:38:13.418953Z"
    }
   },
   "outputs": [
    {
     "data": {
      "text/plain": [
       "array([1, 2, 3, 4, 5])"
      ]
     },
     "execution_count": 82,
     "metadata": {},
     "output_type": "execute_result"
    }
   ],
   "source": [
    "import numpy as np\n",
    "\n",
    "np.array([1,2,3,4,5])"
   ]
  },
  {
   "cell_type": "markdown",
   "metadata": {},
   "source": [
    "### Exercise 1.\n",
    "- python의 list와 numpy의 ndarray의 성능을 비교하기 위해 1000000개 이상의 원소를 갖는 두 배열 X와 Y의 각 인덱스의 합을 구하는 경우에 실행시간을 비교해 보자"
   ]
  },
  {
   "cell_type": "code",
   "execution_count": 83,
   "metadata": {
    "ExecuteTime": {
     "end_time": "2024-02-12T15:38:14.193944Z",
     "start_time": "2024-02-12T15:38:13.909420Z"
    }
   },
   "outputs": [
    {
     "name": "stdout",
     "output_type": "stream",
     "text": [
      "python list exe. time :  0.15915608406066895\n",
      "numpy ndarray exe. time :  0.014003992080688477\n",
      "numpy is in this example  11.3650509900063  faster\n"
     ]
    }
   ],
   "source": [
    "import time\n",
    "import numpy as np\n",
    "\n",
    "def pure_python_version() :\n",
    "    X = Y = [i for i in range(10000000)]\n",
    "    t0 = time.time()\n",
    "    X + Y\n",
    "    t1 = time.time()\n",
    "    return t1 - t0\n",
    "\n",
    "def numpy_version() :\n",
    "    X = Y = np.arange(10000000)\n",
    "    t0 = time.time()\n",
    "    X + Y\n",
    "    t1 = time.time()\n",
    "    return t1 - t0\n",
    "\n",
    "t1 = pure_python_version()\n",
    "t2 = numpy_version()\n",
    "print('python list exe. time : ', t1)\n",
    "print('numpy ndarray exe. time : ', t2)\n",
    "print('numpy is in this example ', t1/t2, ' faster')"
   ]
  },
  {
   "cell_type": "markdown",
   "metadata": {},
   "source": [
    "### Numpy\n",
    "\n",
    "https://numpy.org/doc/stable/\n",
    "\n",
    "- NumPy : Numerical Python의 약어\n",
    "- ndarray : numpy를 통해 생성되는 n차원의 배열 객체, 기존 파이썬과 다르게 같은 종류의 데이터만을 배열에 담을 수 있다.\n",
    "- ndarray의 생성 : NumPy의 array함수로 만든다."
   ]
  },
  {
   "cell_type": "code",
   "execution_count": 84,
   "metadata": {
    "ExecuteTime": {
     "end_time": "2024-02-12T15:38:14.198993Z",
     "start_time": "2024-02-12T15:38:14.189682Z"
    }
   },
   "outputs": [
    {
     "data": {
      "text/plain": [
       "array([1, 2, 3, 4, 5])"
      ]
     },
     "execution_count": 84,
     "metadata": {},
     "output_type": "execute_result"
    }
   ],
   "source": [
    "import numpy as np\n",
    "data = [1,2,3,4,5] # list\n",
    "arr = np.array(data)\n",
    "arr"
   ]
  },
  {
   "cell_type": "markdown",
   "metadata": {},
   "source": [
    "np.ndarray는 tuple의 형태로 표현된다"
   ]
  },
  {
   "cell_type": "code",
   "execution_count": 85,
   "metadata": {
    "ExecuteTime": {
     "end_time": "2024-02-12T15:38:14.209714Z",
     "start_time": "2024-02-12T15:38:14.193919Z"
    }
   },
   "outputs": [
    {
     "data": {
      "text/plain": [
       "[[1, 2, 3, 4], [5, 6, 7, 8]]"
      ]
     },
     "execution_count": 85,
     "metadata": {},
     "output_type": "execute_result"
    }
   ],
   "source": [
    "[[1,2,3,4],[5,6,7,8]] # 이건 2차원 배열!"
   ]
  },
  {
   "cell_type": "code",
   "execution_count": 86,
   "metadata": {
    "ExecuteTime": {
     "end_time": "2024-02-12T15:38:14.216208Z",
     "start_time": "2024-02-12T15:38:14.198889Z"
    }
   },
   "outputs": [
    {
     "data": {
      "text/plain": [
       "array([[1, 2, 3, 4],\n",
       "       [5, 6, 7, 8]])"
      ]
     },
     "execution_count": 86,
     "metadata": {},
     "output_type": "execute_result"
    }
   ],
   "source": [
    "data = [[1,2,3,4],[5,6,7,8]] # 2 rank array\n",
    "arr = np.array(data)\n",
    "arr # 마치 튜플처럼 표기됨(괄호가 앞뒤에 붙어있음)"
   ]
  },
  {
   "cell_type": "code",
   "execution_count": 87,
   "metadata": {
    "ExecuteTime": {
     "end_time": "2024-02-12T15:38:14.272385Z",
     "start_time": "2024-02-12T15:38:14.201842Z"
    }
   },
   "outputs": [
    {
     "data": {
      "text/plain": [
       "(2, 4)"
      ]
     },
     "execution_count": 87,
     "metadata": {},
     "output_type": "execute_result"
    }
   ],
   "source": [
    "arr.shape # 데이터의 형태 출력"
   ]
  },
  {
   "cell_type": "code",
   "execution_count": 88,
   "metadata": {
    "ExecuteTime": {
     "end_time": "2024-02-12T15:38:14.273867Z",
     "start_time": "2024-02-12T15:38:14.205290Z"
    }
   },
   "outputs": [
    {
     "name": "stdout",
     "output_type": "stream",
     "text": [
      "[[1 2 3 4]\n",
      " [5 6 7 8]]\n"
     ]
    }
   ],
   "source": [
    "print(arr) # 배열로 표현된다"
   ]
  },
  {
   "cell_type": "code",
   "execution_count": 89,
   "metadata": {
    "ExecuteTime": {
     "end_time": "2024-02-12T15:38:14.297647Z",
     "start_time": "2024-02-12T15:38:14.208331Z"
    }
   },
   "outputs": [
    {
     "data": {
      "text/plain": [
       "2"
      ]
     },
     "execution_count": 89,
     "metadata": {},
     "output_type": "execute_result"
    }
   ],
   "source": [
    "arr.ndim # data의 rank(차원의 크기 출력)"
   ]
  },
  {
   "cell_type": "code",
   "execution_count": 90,
   "metadata": {
    "ExecuteTime": {
     "end_time": "2024-02-12T15:38:14.299189Z",
     "start_time": "2024-02-12T15:38:14.213023Z"
    }
   },
   "outputs": [
    {
     "data": {
      "text/plain": [
       "dtype('int32')"
      ]
     },
     "execution_count": 90,
     "metadata": {},
     "output_type": "execute_result"
    }
   ],
   "source": [
    "arr.dtype # 원소의 data type을 알 수 있다"
   ]
  },
  {
   "cell_type": "code",
   "execution_count": 91,
   "metadata": {
    "ExecuteTime": {
     "end_time": "2024-02-12T15:38:14.313389Z",
     "start_time": "2024-02-12T15:38:14.216173Z"
    }
   },
   "outputs": [
    {
     "data": {
      "text/plain": [
       "8"
      ]
     },
     "execution_count": 91,
     "metadata": {},
     "output_type": "execute_result"
    }
   ],
   "source": [
    "arr.size # data를 구성하는 원소의 갯수를 출력한다"
   ]
  },
  {
   "cell_type": "code",
   "execution_count": 92,
   "metadata": {
    "ExecuteTime": {
     "end_time": "2024-02-12T15:38:14.314964Z",
     "start_time": "2024-02-12T15:38:14.220787Z"
    }
   },
   "outputs": [
    {
     "data": {
      "text/plain": [
       "4"
      ]
     },
     "execution_count": 92,
     "metadata": {},
     "output_type": "execute_result"
    }
   ],
   "source": [
    "arr.itemsize # 사용하는 bitsize 출력"
   ]
  },
  {
   "cell_type": "markdown",
   "metadata": {},
   "source": [
    "### NumPy 제공함수를 이용한 배열생성\n",
    "- **zeros, ones** 함수로 0행렬, 모든 행렬의 원소값이 1인 행렬을 만들 수 있다\n",
    "- **empty**함수는 초기화되지 않은 행렬을 생성한다"
   ]
  },
  {
   "cell_type": "code",
   "execution_count": 93,
   "metadata": {
    "ExecuteTime": {
     "end_time": "2024-02-12T15:38:14.316335Z",
     "start_time": "2024-02-12T15:38:14.224460Z"
    }
   },
   "outputs": [
    {
     "data": {
      "text/plain": [
       "array([[ 1.,  5., 10.],\n",
       "       [25., 50., 75.],\n",
       "       [90., 95., 99.]])"
      ]
     },
     "execution_count": 93,
     "metadata": {},
     "output_type": "execute_result"
    }
   ],
   "source": [
    "np.empty((3,3)) # 초기화되지 않은 행렬 생성. 이 코드는 3*3 행렬을 생성함"
   ]
  },
  {
   "cell_type": "code",
   "execution_count": 94,
   "metadata": {
    "ExecuteTime": {
     "end_time": "2024-02-12T15:38:14.317998Z",
     "start_time": "2024-02-12T15:38:14.227590Z"
    }
   },
   "outputs": [
    {
     "data": {
      "text/plain": [
       "array([[1., 1., 1.],\n",
       "       [1., 1., 1.],\n",
       "       [1., 1., 1.],\n",
       "       [1., 1., 1.]])"
      ]
     },
     "execution_count": 94,
     "metadata": {},
     "output_type": "execute_result"
    }
   ],
   "source": [
    "np.ones((4,3)) # 1로 이뤄진 행렬 출력 "
   ]
  },
  {
   "cell_type": "code",
   "execution_count": 95,
   "metadata": {
    "ExecuteTime": {
     "end_time": "2024-02-12T15:38:14.319239Z",
     "start_time": "2024-02-12T15:38:14.231462Z"
    }
   },
   "outputs": [
    {
     "data": {
      "text/plain": [
       "array([[0., 0., 0., 0.],\n",
       "       [0., 0., 0., 0.],\n",
       "       [0., 0., 0., 0.],\n",
       "       [0., 0., 0., 0.],\n",
       "       [0., 0., 0., 0.]])"
      ]
     },
     "execution_count": 95,
     "metadata": {},
     "output_type": "execute_result"
    }
   ],
   "source": [
    "np.zeros((5,4)) # 모든 원소가 0인 행렬, 덧셈의 항등원"
   ]
  },
  {
   "cell_type": "code",
   "execution_count": 96,
   "metadata": {
    "ExecuteTime": {
     "end_time": "2024-02-12T15:38:14.321110Z",
     "start_time": "2024-02-12T15:38:14.234623Z"
    }
   },
   "outputs": [
    {
     "data": {
      "text/plain": [
       "array([['g', 'g', 'g', 'g', 'g', 'g', 'g', 'g'],\n",
       "       ['g', 'g', 'g', 'g', 'g', 'g', 'g', 'g'],\n",
       "       ['g', 'g', 'g', 'g', 'g', 'g', 'g', 'g'],\n",
       "       ['g', 'g', 'g', 'g', 'g', 'g', 'g', 'g'],\n",
       "       ['g', 'g', 'g', 'g', 'g', 'g', 'g', 'g'],\n",
       "       ['g', 'g', 'g', 'g', 'g', 'g', 'g', 'g'],\n",
       "       ['g', 'g', 'g', 'g', 'g', 'g', 'g', 'g'],\n",
       "       ['g', 'g', 'g', 'g', 'g', 'g', 'g', 'g'],\n",
       "       ['g', 'g', 'g', 'g', 'g', 'g', 'g', 'g'],\n",
       "       ['g', 'g', 'g', 'g', 'g', 'g', 'g', 'g']], dtype='<U1')"
      ]
     },
     "execution_count": 96,
     "metadata": {},
     "output_type": "execute_result"
    }
   ],
   "source": [
    "np.full((10,8), 'g') # 두 번째 argument로 채워진 행렬 출력"
   ]
  },
  {
   "cell_type": "code",
   "execution_count": 97,
   "metadata": {
    "ExecuteTime": {
     "end_time": "2024-02-12T15:38:14.329073Z",
     "start_time": "2024-02-12T15:38:14.237772Z"
    }
   },
   "outputs": [
    {
     "data": {
      "text/plain": [
       "array([[1., 0., 0., 0.],\n",
       "       [0., 1., 0., 0.],\n",
       "       [0., 0., 1., 0.],\n",
       "       [0., 0., 0., 1.]])"
      ]
     },
     "execution_count": 97,
     "metadata": {},
     "output_type": "execute_result"
    }
   ],
   "source": [
    "np.eye(4) # n * n identity matrix => 이게 행렬곱에 대한 항등원"
   ]
  },
  {
   "cell_type": "markdown",
   "metadata": {},
   "source": [
    "### array(  )\n",
    "- 배열을 생성하는 함수이다\n",
    "- **array(object, dtype = None, copy = True, order = None, subok = False, ndmin = 0)**\n",
    "- subok : bool, optional"
   ]
  },
  {
   "cell_type": "code",
   "execution_count": 98,
   "metadata": {
    "ExecuteTime": {
     "end_time": "2024-02-12T15:38:14.373976Z",
     "start_time": "2024-02-12T15:38:14.240095Z"
    }
   },
   "outputs": [
    {
     "name": "stderr",
     "output_type": "stream",
     "text": [
      "C:\\Users\\SKT01\\AppData\\Local\\Temp\\ipykernel_8456\\1317834604.py:2: VisibleDeprecationWarning: Creating an ndarray from ragged nested sequences (which is a list-or-tuple of lists-or-tuples-or ndarrays with different lengths or shapes) is deprecated. If you meant to do this, you must specify 'dtype=object' when creating the ndarray.\n",
      "  arr = np.array(data) # 차원의 크기가 맞지 않으면 dtype이 자동으로 object로 변경된다\n"
     ]
    }
   ],
   "source": [
    "data = [[1,2,3,4,5],[5,6,7,8]]\n",
    "arr = np.array(data) # 차원의 크기가 맞지 않으면 dtype이 자동으로 object로 변경된다"
   ]
  },
  {
   "cell_type": "code",
   "execution_count": 99,
   "metadata": {
    "ExecuteTime": {
     "end_time": "2024-02-12T15:38:14.375602Z",
     "start_time": "2024-02-12T15:38:14.243709Z"
    }
   },
   "outputs": [
    {
     "data": {
      "text/plain": [
       "array([list([1, 2, 3, 4, 5]), list([5, 6, 7, 8])], dtype=object)"
      ]
     },
     "execution_count": 99,
     "metadata": {},
     "output_type": "execute_result"
    }
   ],
   "source": [
    "arr"
   ]
  },
  {
   "cell_type": "markdown",
   "metadata": {},
   "source": [
    "> 데이터 생성 함수\n",
    "> - numpy.linspace\n",
    "> - numpy.logspace\n",
    "> - numpy.arange"
   ]
  },
  {
   "cell_type": "markdown",
   "metadata": {},
   "source": [
    "### numpy.linspace"
   ]
  },
  {
   "cell_type": "code",
   "execution_count": 100,
   "metadata": {
    "ExecuteTime": {
     "end_time": "2024-02-12T15:38:14.378087Z",
     "start_time": "2024-02-12T15:38:14.250126Z"
    }
   },
   "outputs": [
    {
     "data": {
      "text/plain": [
       "array([2.  , 2.25, 2.5 , 2.75, 3.  ])"
      ]
     },
     "execution_count": 100,
     "metadata": {},
     "output_type": "execute_result"
    }
   ],
   "source": [
    "np.linspace(2, 3, num = 5) # 2와 3 사이를 5등분 한다"
   ]
  },
  {
   "cell_type": "code",
   "execution_count": 101,
   "metadata": {
    "ExecuteTime": {
     "end_time": "2024-02-12T15:38:14.423920Z",
     "start_time": "2024-02-12T15:38:14.305463Z"
    }
   },
   "outputs": [
    {
     "data": {
      "text/plain": [
       "array([2. , 2.2, 2.4, 2.6, 2.8])"
      ]
     },
     "execution_count": 101,
     "metadata": {},
     "output_type": "execute_result"
    }
   ],
   "source": [
    "np.linspace(2, 3, num = 5, endpoint = False) # endpoint를 False로 지정할 경우 포함하지 않는다"
   ]
  },
  {
   "cell_type": "code",
   "execution_count": 102,
   "metadata": {
    "ExecuteTime": {
     "end_time": "2024-02-12T15:38:14.512426Z",
     "start_time": "2024-02-12T15:38:14.425295Z"
    }
   },
   "outputs": [
    {
     "data": {
      "text/plain": [
       "(array([2.  , 2.25, 2.5 , 2.75, 3.  ]), 0.25)"
      ]
     },
     "execution_count": 102,
     "metadata": {},
     "output_type": "execute_result"
    }
   ],
   "source": [
    "np.linspace(2, 3, num = 5, retstep = True) # retstep은 step size를 반환할 것인가에 대한 인수"
   ]
  },
  {
   "cell_type": "markdown",
   "metadata": {},
   "source": [
    "### logspace\n",
    "- Numpy logspace는 같은 간격의 log scale을 반환한다"
   ]
  },
  {
   "cell_type": "code",
   "execution_count": 103,
   "metadata": {
    "ExecuteTime": {
     "end_time": "2024-02-12T15:38:14.525903Z",
     "start_time": "2024-02-12T15:38:14.493223Z"
    }
   },
   "outputs": [
    {
     "name": "stdout",
     "output_type": "stream",
     "text": [
      "[0.02       0.12421053 0.22842105 0.33263158 0.43684211 0.54105263\n",
      " 0.64526316 0.74947368 0.85368421 0.95789474 1.06210526 1.16631579\n",
      " 1.27052632 1.37473684 1.47894737 1.58315789 1.68736842 1.79157895\n",
      " 1.89578947 2.        ]\n"
     ]
    }
   ],
   "source": [
    "print(np.linspace(0.02, 2.0, num = 20))"
   ]
  },
  {
   "cell_type": "code",
   "execution_count": 104,
   "metadata": {
    "ExecuteTime": {
     "end_time": "2024-02-12T15:38:14.566647Z",
     "start_time": "2024-02-12T15:38:14.527182Z"
    }
   },
   "outputs": [
    {
     "name": "stdout",
     "output_type": "stream",
     "text": [
      "[  1.04712855   1.33109952   1.69208062   2.15095626   2.73427446\n",
      "   3.47578281   4.41838095   5.61660244   7.13976982   9.07600522\n",
      "  11.53732863  14.66613875  18.64345144  23.69937223  30.12640904\n",
      "  38.29639507  48.68200101  61.88408121  78.6664358  100.        ]\n"
     ]
    }
   ],
   "source": [
    "print(np.logspace(0.02, 2, num = 20))"
   ]
  },
  {
   "cell_type": "markdown",
   "metadata": {},
   "source": [
    "### numpy.arange\n",
    "- range()함수와 거의 동일하다\n",
    "- range()함수는 반복가능한 객체를 만드는 것에서 끝나는데에 반해, arange method는 배열로 바로 출력한다\n",
    "- **numpy.arange([start,] stop[, step], dtype = None)**"
   ]
  },
  {
   "cell_type": "code",
   "execution_count": 105,
   "metadata": {
    "ExecuteTime": {
     "end_time": "2024-02-12T15:38:14.605871Z",
     "start_time": "2024-02-12T15:38:14.565312Z"
    }
   },
   "outputs": [
    {
     "data": {
      "text/plain": [
       "[0, 1, 2, 3, 4, 5, 6, 7, 8, 9]"
      ]
     },
     "execution_count": 105,
     "metadata": {},
     "output_type": "execute_result"
    }
   ],
   "source": [
    "[i for i in range(10)]"
   ]
  },
  {
   "cell_type": "code",
   "execution_count": 106,
   "metadata": {
    "ExecuteTime": {
     "end_time": "2024-02-12T15:38:14.616878Z",
     "start_time": "2024-02-12T15:38:14.596193Z"
    }
   },
   "outputs": [
    {
     "data": {
      "text/plain": [
       "array([0, 1, 2, 3, 4, 5, 6, 7, 8, 9])"
      ]
     },
     "execution_count": 106,
     "metadata": {},
     "output_type": "execute_result"
    }
   ],
   "source": [
    "np.arange(10)\n",
    "# array 형태로 쫙 전개가 되서 새로운 array가 생성됨"
   ]
  },
  {
   "cell_type": "code",
   "execution_count": 107,
   "metadata": {
    "ExecuteTime": {
     "end_time": "2024-02-12T15:38:14.652034Z",
     "start_time": "2024-02-12T15:38:14.617980Z"
    }
   },
   "outputs": [
    {
     "data": {
      "text/plain": [
       "array([1. , 1.5, 2. , 2.5, 3. , 3.5, 4. , 4.5, 5. , 5.5, 6. , 6.5, 7. ,\n",
       "       7.5, 8. , 8.5, 9. , 9.5])"
      ]
     },
     "execution_count": 107,
     "metadata": {},
     "output_type": "execute_result"
    }
   ],
   "source": [
    "np.arange(1, 10, 0.5) # 여기도 step이 적용 가능"
   ]
  },
  {
   "cell_type": "code",
   "execution_count": 108,
   "metadata": {
    "ExecuteTime": {
     "end_time": "2024-02-12T15:38:14.664666Z",
     "start_time": "2024-02-12T15:38:14.642565Z"
    }
   },
   "outputs": [
    {
     "data": {
      "text/plain": [
       "array([1, 3, 5, 7, 9], dtype=int64)"
      ]
     },
     "execution_count": 108,
     "metadata": {},
     "output_type": "execute_result"
    }
   ],
   "source": [
    "np.arange(1, 10, 2, dtype = np.int64) # data type 지정 가능"
   ]
  },
  {
   "cell_type": "markdown",
   "metadata": {},
   "source": [
    "### numpy.ndarray\n",
    "- nD(n차원) array를 생성하는 함수이다\n",
    "- 대괄호의 갯수가 차원을 나타낸다"
   ]
  },
  {
   "cell_type": "code",
   "execution_count": 109,
   "metadata": {
    "ExecuteTime": {
     "end_time": "2024-02-12T15:38:14.689385Z",
     "start_time": "2024-02-12T15:38:14.659267Z"
    }
   },
   "outputs": [
    {
     "data": {
      "text/plain": [
       "array([[1, 2, 3, 4],\n",
       "       [5, 6, 7, 8]])"
      ]
     },
     "execution_count": 109,
     "metadata": {},
     "output_type": "execute_result"
    }
   ],
   "source": [
    "data = [[1,2,3,4],[5,6,7,8]] # 2차원 array\n",
    "arr = np.array(data)\n",
    "arr"
   ]
  },
  {
   "cell_type": "code",
   "execution_count": 110,
   "metadata": {
    "ExecuteTime": {
     "end_time": "2024-02-12T15:38:14.704827Z",
     "start_time": "2024-02-12T15:38:14.676745Z"
    }
   },
   "outputs": [
    {
     "data": {
      "text/plain": [
       "2"
      ]
     },
     "execution_count": 110,
     "metadata": {},
     "output_type": "execute_result"
    }
   ],
   "source": [
    "arr.ndim # 차원"
   ]
  },
  {
   "cell_type": "code",
   "execution_count": 111,
   "metadata": {
    "ExecuteTime": {
     "end_time": "2024-02-12T15:38:14.741558Z",
     "start_time": "2024-02-12T15:38:14.698133Z"
    }
   },
   "outputs": [
    {
     "data": {
      "text/plain": [
       "(2, 4)"
      ]
     },
     "execution_count": 111,
     "metadata": {},
     "output_type": "execute_result"
    }
   ],
   "source": [
    "arr.shape # 배열의 모양"
   ]
  },
  {
   "cell_type": "code",
   "execution_count": 112,
   "metadata": {
    "ExecuteTime": {
     "end_time": "2024-02-12T15:38:14.757572Z",
     "start_time": "2024-02-12T15:38:14.721571Z"
    }
   },
   "outputs": [
    {
     "data": {
      "text/plain": [
       "dtype('int32')"
      ]
     },
     "execution_count": 112,
     "metadata": {},
     "output_type": "execute_result"
    }
   ],
   "source": [
    "arr.dtype # 원소의 data type"
   ]
  },
  {
   "cell_type": "code",
   "execution_count": 113,
   "metadata": {
    "ExecuteTime": {
     "end_time": "2024-02-12T15:38:14.804625Z",
     "start_time": "2024-02-12T15:38:14.758369Z"
    }
   },
   "outputs": [
    {
     "data": {
      "text/plain": [
       "8"
      ]
     },
     "execution_count": 113,
     "metadata": {},
     "output_type": "execute_result"
    }
   ],
   "source": [
    "arr.size # 원소의 개수"
   ]
  },
  {
   "cell_type": "code",
   "execution_count": 114,
   "metadata": {
    "ExecuteTime": {
     "end_time": "2024-02-12T15:38:14.825984Z",
     "start_time": "2024-02-12T15:38:14.795183Z"
    }
   },
   "outputs": [
    {
     "data": {
      "text/plain": [
       "[[1, 2, 3, 4], [5, 6, 7, 8]]"
      ]
     },
     "execution_count": 114,
     "metadata": {},
     "output_type": "execute_result"
    }
   ],
   "source": [
    "arr.tolist() # ndarray에 속한 method로, 기본 데이터 타입인 list로 변환"
   ]
  },
  {
   "cell_type": "code",
   "execution_count": 115,
   "metadata": {
    "ExecuteTime": {
     "end_time": "2024-02-12T15:38:14.866342Z",
     "start_time": "2024-02-12T15:38:14.827004Z"
    }
   },
   "outputs": [
    {
     "data": {
      "text/plain": [
       "array([[1, 5],\n",
       "       [2, 6],\n",
       "       [3, 7],\n",
       "       [4, 8]])"
      ]
     },
     "execution_count": 115,
     "metadata": {},
     "output_type": "execute_result"
    }
   ],
   "source": [
    "arr.T # 전치행렬 계산"
   ]
  },
  {
   "cell_type": "markdown",
   "metadata": {},
   "source": [
    "두 개의 dtype이 다른 ndarray의 연산이 이뤄지면, 메모리가 더 큰 dtype으로 통합된다"
   ]
  },
  {
   "cell_type": "markdown",
   "metadata": {},
   "source": [
    "### astype : ndarray의 형변환 method\n",
    "- 정수형 자료를 실수형으로 변환하여 새로운 배열을 생성한다\n",
    "- 문자열형 자료를 정수형으로 변환하여 새로운 배열을 생성할 수도 있다"
   ]
  },
  {
   "cell_type": "code",
   "execution_count": 116,
   "metadata": {
    "ExecuteTime": {
     "end_time": "2024-02-12T15:38:14.878357Z",
     "start_time": "2024-02-12T15:38:14.855201Z"
    }
   },
   "outputs": [
    {
     "name": "stdout",
     "output_type": "stream",
     "text": [
      "['1' '2' '3' '4' '5']\n"
     ]
    }
   ],
   "source": [
    "a = np.array(['1','2','3','4','5'])\n",
    "print(a)"
   ]
  },
  {
   "cell_type": "code",
   "execution_count": 117,
   "metadata": {
    "ExecuteTime": {
     "end_time": "2024-02-12T15:38:14.919885Z",
     "start_time": "2024-02-12T15:38:14.879800Z"
    }
   },
   "outputs": [
    {
     "data": {
      "text/plain": [
       "array([1, 2, 3, 4, 5])"
      ]
     },
     "execution_count": 117,
     "metadata": {},
     "output_type": "execute_result"
    }
   ],
   "source": [
    "a.astype(int) # 정수형으로 형변환 => array의 모든 원소가 형변환이 수행됨"
   ]
  },
  {
   "cell_type": "code",
   "execution_count": 118,
   "metadata": {
    "ExecuteTime": {
     "end_time": "2024-02-12T15:38:14.933643Z",
     "start_time": "2024-02-12T15:38:14.911390Z"
    }
   },
   "outputs": [
    {
     "data": {
      "text/plain": [
       "array([1., 2., 3., 4., 5.])"
      ]
     },
     "execution_count": 118,
     "metadata": {},
     "output_type": "execute_result"
    }
   ],
   "source": [
    "a.astype(float) # 소수형으로 형변환"
   ]
  },
  {
   "cell_type": "markdown",
   "metadata": {},
   "source": [
    "### 배열 원소 개수 알아보기\n",
    "- 일차원과 다차원의 원소 개수를 len( )함수로 처리시 다른 결과가 나온다 => len() 함수는 맨 바깥쪽의 원소의 개수를 파악하는 역할!"
   ]
  },
  {
   "cell_type": "code",
   "execution_count": 119,
   "metadata": {
    "ExecuteTime": {
     "end_time": "2024-02-12T15:38:14.946657Z",
     "start_time": "2024-02-12T15:38:14.927023Z"
    }
   },
   "outputs": [
    {
     "name": "stdout",
     "output_type": "stream",
     "text": [
      "[[1 2 3]\n",
      " [4 5 6]\n",
      " [7 8 9]]\n"
     ]
    }
   ],
   "source": [
    "npa = np.array([[1,2,3], [4,5,6], [7,8,9]])\n",
    "print(npa)"
   ]
  },
  {
   "cell_type": "code",
   "execution_count": 120,
   "metadata": {
    "ExecuteTime": {
     "end_time": "2024-02-12T15:38:14.984447Z",
     "start_time": "2024-02-12T15:38:14.947849Z"
    }
   },
   "outputs": [
    {
     "name": "stdout",
     "output_type": "stream",
     "text": [
      "9 (3, 3) 2 3\n"
     ]
    }
   ],
   "source": [
    "print(npa.size, npa.shape, npa.ndim, len(npa))"
   ]
  },
  {
   "cell_type": "code",
   "execution_count": 121,
   "metadata": {
    "ExecuteTime": {
     "end_time": "2024-02-12T15:38:15.015111Z",
     "start_time": "2024-02-12T15:38:14.975652Z"
    }
   },
   "outputs": [
    {
     "name": "stdout",
     "output_type": "stream",
     "text": [
      "[[ 1  2  3]\n",
      " [10 20 30]]\n"
     ]
    }
   ],
   "source": [
    "arr = np.array([[1,2,3],[10,20,30]])\n",
    "print(arr)"
   ]
  },
  {
   "cell_type": "code",
   "execution_count": 122,
   "metadata": {},
   "outputs": [
    {
     "name": "stdout",
     "output_type": "stream",
     "text": [
      "6 (2, 3) 2 2\n"
     ]
    }
   ],
   "source": [
    "print(arr.size, arr.shape, arr.ndim, len(arr))"
   ]
  },
  {
   "cell_type": "markdown",
   "metadata": {},
   "source": [
    "### Numpy 산술연산 - 리스트와의 차이점!\n",
    "- 크기가 같은 벡터와 행렬은 동일한 위치에 있는 원소끼리 연산이 이뤄진다"
   ]
  },
  {
   "cell_type": "code",
   "execution_count": 123,
   "metadata": {
    "ExecuteTime": {
     "end_time": "2024-02-12T15:38:15.029332Z",
     "start_time": "2024-02-12T15:38:15.008829Z"
    }
   },
   "outputs": [
    {
     "name": "stdout",
     "output_type": "stream",
     "text": [
      "[[ 1  2  3]\n",
      " [10 20 30]]\n"
     ]
    }
   ],
   "source": [
    "arr = np.array([[1,2,3],[10,20,30]])\n",
    "print(arr)"
   ]
  },
  {
   "cell_type": "code",
   "execution_count": 124,
   "metadata": {
    "ExecuteTime": {
     "end_time": "2024-02-12T15:38:15.068780Z",
     "start_time": "2024-02-12T15:38:15.030449Z"
    }
   },
   "outputs": [
    {
     "data": {
      "text/plain": [
       "array([[ 2,  4,  6],\n",
       "       [20, 40, 60]])"
      ]
     },
     "execution_count": 124,
     "metadata": {},
     "output_type": "execute_result"
    }
   ],
   "source": [
    "arr + arr # 리스트는 이어붙임 concatenation"
   ]
  },
  {
   "cell_type": "code",
   "execution_count": 125,
   "metadata": {
    "ExecuteTime": {
     "end_time": "2024-02-12T15:38:15.079771Z",
     "start_time": "2024-02-12T15:38:15.059655Z"
    }
   },
   "outputs": [
    {
     "data": {
      "text/plain": [
       "array([[0, 0, 0],\n",
       "       [0, 0, 0]])"
      ]
     },
     "execution_count": 125,
     "metadata": {},
     "output_type": "execute_result"
    }
   ],
   "source": [
    "arr - arr # 리스트는 - 없음"
   ]
  },
  {
   "cell_type": "markdown",
   "metadata": {},
   "source": [
    "### Broadcasting\n",
    "\n",
    "- Numpy는 기본적인 벡터간 산술연산 이외에 Broadcasting을 지원한다\n",
    "- 벡터와 스칼라, 벡터와 행렬간의 연산을 **합리적으로** 수행한다\n",
    "- 메모리 사용량 최소화\n",
    "- 유연한 벡터, 행렬, 텐서연산\n",
    "\n",
    "<center><img src = \"https://paris-swc.github.io/advanced-numpy-lesson/fig/numpy_broadcasting.png\" alt=\"My Image\"></center>"
   ]
  },
  {
   "cell_type": "code",
   "execution_count": 126,
   "metadata": {},
   "outputs": [
    {
     "name": "stdout",
     "output_type": "stream",
     "text": [
      "[[ 1  2  3]\n",
      " [10 20 30]]\n"
     ]
    }
   ],
   "source": [
    "arr = np.array([[1,2,3],[10,20,30]])\n",
    "print(arr)"
   ]
  },
  {
   "cell_type": "code",
   "execution_count": 127,
   "metadata": {
    "ExecuteTime": {
     "end_time": "2024-02-12T15:38:15.109303Z",
     "start_time": "2024-02-12T15:38:15.080797Z"
    }
   },
   "outputs": [
    {
     "data": {
      "text/plain": [
       "array([[ 0.5,  1. ,  1.5],\n",
       "       [ 5. , 10. , 15. ]])"
      ]
     },
     "execution_count": 127,
     "metadata": {},
     "output_type": "execute_result"
    }
   ],
   "source": [
    "arr * 0.5 # scalar * matrix"
   ]
  },
  {
   "cell_type": "code",
   "execution_count": 128,
   "metadata": {
    "ExecuteTime": {
     "end_time": "2024-02-12T15:38:15.121421Z",
     "start_time": "2024-02-12T15:38:15.087709Z"
    }
   },
   "outputs": [
    {
     "data": {
      "text/plain": [
       "array([[1.        , 0.5       , 0.33333333],\n",
       "       [0.1       , 0.05      , 0.03333333]])"
      ]
     },
     "execution_count": 128,
     "metadata": {},
     "output_type": "execute_result"
    }
   ],
   "source": [
    "1 / arr"
   ]
  },
  {
   "cell_type": "code",
   "execution_count": 129,
   "metadata": {
    "ExecuteTime": {
     "end_time": "2024-02-12T15:38:15.152792Z",
     "start_time": "2024-02-12T15:38:15.122898Z"
    }
   },
   "outputs": [
    {
     "data": {
      "text/plain": [
       "array([[11, 22, 33],\n",
       "       [14, 25, 36],\n",
       "       [17, 28, 39]])"
      ]
     },
     "execution_count": 129,
     "metadata": {},
     "output_type": "execute_result"
    }
   ],
   "source": [
    "a = np.array([[1,2,3],[4,5,6],[7,8,9]])  # 2차원 행렬\n",
    "b = np.array([10,20,30])  # 1차원 벡터\n",
    "a + b"
   ]
  },
  {
   "cell_type": "code",
   "execution_count": 130,
   "metadata": {
    "ExecuteTime": {
     "end_time": "2024-02-12T15:38:15.183068Z",
     "start_time": "2024-02-12T15:38:15.151643Z"
    }
   },
   "outputs": [],
   "source": [
    "a = np.array([[1],[2],[3]]) # a는 세로 구조를 가짐.\n",
    "b = np.array([10,20,30])\n"
   ]
  },
  {
   "cell_type": "code",
   "execution_count": 131,
   "metadata": {},
   "outputs": [
    {
     "name": "stdout",
     "output_type": "stream",
     "text": [
      "[[1]\n",
      " [2]\n",
      " [3]]\n"
     ]
    }
   ],
   "source": [
    "print(a)"
   ]
  },
  {
   "cell_type": "code",
   "execution_count": 132,
   "metadata": {},
   "outputs": [
    {
     "name": "stdout",
     "output_type": "stream",
     "text": [
      "[10 20 30]\n"
     ]
    }
   ],
   "source": [
    "print(b)"
   ]
  },
  {
   "cell_type": "code",
   "execution_count": 133,
   "metadata": {},
   "outputs": [
    {
     "data": {
      "text/plain": [
       "array([[11, 21, 31],\n",
       "       [12, 22, 32],\n",
       "       [13, 23, 33]])"
      ]
     },
     "execution_count": 133,
     "metadata": {},
     "output_type": "execute_result"
    }
   ],
   "source": [
    "a + b"
   ]
  },
  {
   "cell_type": "markdown",
   "metadata": {},
   "source": [
    "### reshape( )\n",
    "- 이미 정의된 행렬의 형태를 바꿔준다\n",
    "- 원소의 개수에 맞게 행과 열을 정의해 주어야 한다\n",
    "- 함수의 파라미터에 -1이 들어가면, 다른 나머지 차원 크기를 맞추고 남은 크기를 해당 차원에 할당해 준다"
   ]
  },
  {
   "cell_type": "code",
   "execution_count": 134,
   "metadata": {
    "ExecuteTime": {
     "end_time": "2024-02-12T15:38:15.196014Z",
     "start_time": "2024-02-12T15:38:15.174115Z"
    }
   },
   "outputs": [
    {
     "data": {
      "text/plain": [
       "array([0, 1, 2, 3, 4, 5, 6, 7])"
      ]
     },
     "execution_count": 134,
     "metadata": {},
     "output_type": "execute_result"
    }
   ],
   "source": [
    "arr = np.arange(8)\n",
    "arr"
   ]
  },
  {
   "cell_type": "code",
   "execution_count": 135,
   "metadata": {
    "ExecuteTime": {
     "end_time": "2024-02-12T15:38:15.205985Z",
     "start_time": "2024-02-12T15:38:15.190268Z"
    }
   },
   "outputs": [
    {
     "data": {
      "text/plain": [
       "array([[0, 1],\n",
       "       [2, 3],\n",
       "       [4, 5],\n",
       "       [6, 7]])"
      ]
     },
     "execution_count": 135,
     "metadata": {},
     "output_type": "execute_result"
    }
   ],
   "source": [
    "b = arr.reshape((4,2))\n",
    "b"
   ]
  },
  {
   "cell_type": "code",
   "execution_count": 136,
   "metadata": {
    "ExecuteTime": {
     "end_time": "2024-02-12T15:38:15.238399Z",
     "start_time": "2024-02-12T15:38:15.207281Z"
    }
   },
   "outputs": [
    {
     "data": {
      "text/plain": [
       "array([0, 1, 2, 3, 4, 5, 6, 7])"
      ]
     },
     "execution_count": 136,
     "metadata": {},
     "output_type": "execute_result"
    }
   ],
   "source": [
    "arr"
   ]
  },
  {
   "cell_type": "code",
   "execution_count": 137,
   "metadata": {
    "ExecuteTime": {
     "end_time": "2024-02-12T15:38:15.265195Z",
     "start_time": "2024-02-12T15:38:15.229437Z"
    }
   },
   "outputs": [
    {
     "data": {
      "text/plain": [
       "array([[0, 1, 2, 3],\n",
       "       [4, 5, 6, 7]])"
      ]
     },
     "execution_count": 137,
     "metadata": {},
     "output_type": "execute_result"
    }
   ],
   "source": [
    "arr.reshape((2,4))"
   ]
  },
  {
   "cell_type": "code",
   "execution_count": 138,
   "metadata": {
    "ExecuteTime": {
     "end_time": "2024-02-12T15:38:15.279371Z",
     "start_time": "2024-02-12T15:38:15.251509Z"
    }
   },
   "outputs": [
    {
     "data": {
      "text/plain": [
       "array([[ 0,  1,  2],\n",
       "       [ 3,  4,  5],\n",
       "       [ 6,  7,  8],\n",
       "       [ 9, 10, 11],\n",
       "       [12, 13, 14]])"
      ]
     },
     "execution_count": 138,
     "metadata": {},
     "output_type": "execute_result"
    }
   ],
   "source": [
    "arr = np.arange(15)\n",
    "arr.reshape((5, -1)) # -1이 들어가면 남은 크기만큼 해당 차원에 자동으로 할당해준다"
   ]
  },
  {
   "cell_type": "markdown",
   "metadata": {},
   "source": [
    "### numpy.random\n",
    "- NumPy의 random number 생성 관련 함수를 모아 놓은 것으로 다음과 같은 함수를 제공한다.\n",
    "\n",
    "|함수명|기능|\n",
    "|:---:|:---:|\n",
    "|seed| pseudo random 상태 설정|\n",
    "|shuffle| 조합 (combination)|\n",
    "|choice| 순열 (permutation)|\n",
    "|random_integers| uniform integer|\n",
    "|rand| uniform|\n",
    "|randn| Gaussian normal|"
   ]
  },
  {
   "cell_type": "markdown",
   "metadata": {},
   "source": [
    "### concatenate( )\n",
    "- numpy array를 붙이는 method이다\n",
    "- axis argument의 정의에 따라 붙여지는 방향이 다르다"
   ]
  },
  {
   "cell_type": "code",
   "execution_count": 139,
   "metadata": {
    "ExecuteTime": {
     "end_time": "2024-02-12T15:38:15.315808Z",
     "start_time": "2024-02-12T15:38:15.280652Z"
    }
   },
   "outputs": [
    {
     "data": {
      "text/plain": [
       "array([[1, 2, 3],\n",
       "       [4, 5, 6]])"
      ]
     },
     "execution_count": 139,
     "metadata": {},
     "output_type": "execute_result"
    }
   ],
   "source": [
    "np.array([[1,2,3],[4,5,6]])"
   ]
  },
  {
   "cell_type": "code",
   "execution_count": 140,
   "metadata": {
    "ExecuteTime": {
     "end_time": "2024-02-12T15:38:15.327998Z",
     "start_time": "2024-02-12T15:38:15.307561Z"
    }
   },
   "outputs": [
    {
     "data": {
      "text/plain": [
       "array([[ 7,  8,  9],\n",
       "       [10, 11, 12]])"
      ]
     },
     "execution_count": 140,
     "metadata": {},
     "output_type": "execute_result"
    }
   ],
   "source": [
    "np.array([[7,8,9],[10,11,12]])"
   ]
  },
  {
   "cell_type": "code",
   "execution_count": 141,
   "metadata": {
    "ExecuteTime": {
     "end_time": "2024-02-12T15:38:15.359406Z",
     "start_time": "2024-02-12T15:38:15.323099Z"
    }
   },
   "outputs": [
    {
     "data": {
      "text/plain": [
       "array([[ 1,  2,  3],\n",
       "       [ 4,  5,  6],\n",
       "       [ 7,  8,  9],\n",
       "       [10, 11, 12]])"
      ]
     },
     "execution_count": 141,
     "metadata": {},
     "output_type": "execute_result"
    }
   ],
   "source": [
    "a1 = np.array([[1,2,3],[4,5,6]])\n",
    "a2 = np.array([[7,8,9],[10,11,12]])\n",
    "np.concatenate([a1,a2], axis = 0) # axis = 0 이면 1차원 방향으로 붙는다(행을 따라 결합)"
   ]
  },
  {
   "cell_type": "code",
   "execution_count": 142,
   "metadata": {
    "ExecuteTime": {
     "end_time": "2024-02-12T15:38:15.377747Z",
     "start_time": "2024-02-12T15:38:15.351423Z"
    }
   },
   "outputs": [
    {
     "data": {
      "text/plain": [
       "array([[ 1,  2,  3,  7,  8,  9],\n",
       "       [ 4,  5,  6, 10, 11, 12]])"
      ]
     },
     "execution_count": 142,
     "metadata": {},
     "output_type": "execute_result"
    }
   ],
   "source": [
    "np.concatenate([a1,a2], axis = 1) # axis = 1 이면 2차원 방향으로 붙는다(열을 따라 결합)"
   ]
  },
  {
   "cell_type": "code",
   "execution_count": 143,
   "metadata": {
    "ExecuteTime": {
     "end_time": "2024-02-12T15:38:15.420745Z",
     "start_time": "2024-02-12T15:38:15.378483Z"
    }
   },
   "outputs": [
    {
     "data": {
      "text/plain": [
       "array([[[ 1,  2,  3],\n",
       "        [ 4,  5,  6]],\n",
       "\n",
       "       [[ 7,  8,  9],\n",
       "        [10, 11, 12]],\n",
       "\n",
       "       [[ 1,  2,  3],\n",
       "        [ 4,  5,  6]],\n",
       "\n",
       "       [[ 7,  8,  9],\n",
       "        [10, 11, 12]]])"
      ]
     },
     "execution_count": 143,
     "metadata": {},
     "output_type": "execute_result"
    }
   ],
   "source": [
    "a1 = np.array([[[1,2,3],[4,5,6]],[[7,8,9],[10,11,12]]])\n",
    "a2 = np.array([[[1,2,3],[4,5,6]],[[7,8,9],[10,11,12]]])\n",
    "np.concatenate([a1,a2], axis = 0) # 1차원에서 결합"
   ]
  },
  {
   "cell_type": "code",
   "execution_count": 144,
   "metadata": {
    "ExecuteTime": {
     "end_time": "2024-02-12T15:38:15.433877Z",
     "start_time": "2024-02-12T15:38:15.408165Z"
    }
   },
   "outputs": [
    {
     "data": {
      "text/plain": [
       "array([[[ 1,  2,  3],\n",
       "        [ 4,  5,  6],\n",
       "        [ 1,  2,  3],\n",
       "        [ 4,  5,  6]],\n",
       "\n",
       "       [[ 7,  8,  9],\n",
       "        [10, 11, 12],\n",
       "        [ 7,  8,  9],\n",
       "        [10, 11, 12]]])"
      ]
     },
     "execution_count": 144,
     "metadata": {},
     "output_type": "execute_result"
    }
   ],
   "source": [
    "np.concatenate([a1,a2], axis = 1) # 2차원에서 결합"
   ]
  },
  {
   "cell_type": "code",
   "execution_count": 145,
   "metadata": {
    "ExecuteTime": {
     "end_time": "2024-02-12T15:38:15.465015Z",
     "start_time": "2024-02-12T15:38:15.428620Z"
    }
   },
   "outputs": [
    {
     "data": {
      "text/plain": [
       "array([[[ 1,  2,  3,  1,  2,  3],\n",
       "        [ 4,  5,  6,  4,  5,  6]],\n",
       "\n",
       "       [[ 7,  8,  9,  7,  8,  9],\n",
       "        [10, 11, 12, 10, 11, 12]]])"
      ]
     },
     "execution_count": 145,
     "metadata": {},
     "output_type": "execute_result"
    }
   ],
   "source": [
    "np.concatenate([a1,a2], axis = 2) # 3차원에서 결합"
   ]
  },
  {
   "cell_type": "markdown",
   "metadata": {},
   "source": [
    "### Fancy Indexing\n",
    "- 여러 개의 인덱스를 활용해 값을 추출하는데 사용한다\n",
    "- 정수 인덱싱과 boolean indexing 모두 가능하다"
   ]
  },
  {
   "cell_type": "code",
   "execution_count": 146,
   "metadata": {
    "ExecuteTime": {
     "end_time": "2024-02-12T15:38:15.479346Z",
     "start_time": "2024-02-12T15:38:15.444343Z"
    }
   },
   "outputs": [
    {
     "name": "stdout",
     "output_type": "stream",
     "text": [
      "[0 2 4 6 8]\n"
     ]
    }
   ],
   "source": [
    "a = np.array([0,1,2,3,4,5,6,7,8,9])\n",
    "idx = np.array([True, False, True, False, True, False, True, False, True, False])\n",
    "print(a[idx])"
   ]
  },
  {
   "cell_type": "code",
   "execution_count": 147,
   "metadata": {
    "ExecuteTime": {
     "end_time": "2024-02-12T15:38:15.528401Z",
     "start_time": "2024-02-12T15:38:15.486555Z"
    }
   },
   "outputs": [
    {
     "name": "stdout",
     "output_type": "stream",
     "text": [
      "[6 7 8 9]\n"
     ]
    }
   ],
   "source": [
    "a = np.array([0,1,2,3,4,5,6,7,8,9])\n",
    "print(a[5 < a])"
   ]
  },
  {
   "cell_type": "code",
   "execution_count": 148,
   "metadata": {
    "ExecuteTime": {
     "end_time": "2024-02-12T15:38:15.539905Z",
     "start_time": "2024-02-12T15:38:15.519390Z"
    }
   },
   "outputs": [
    {
     "name": "stdout",
     "output_type": "stream",
     "text": [
      "[ 0 20 40 60 80]\n"
     ]
    }
   ],
   "source": [
    "a = np.array([0,1,2,3,4,5,6,7,8,9]) * 10\n",
    "idx = np.array([0,2,4,6,8])\n",
    "print(a[idx])"
   ]
  },
  {
   "cell_type": "markdown",
   "metadata": {},
   "source": [
    "### Monte Carlo Simulation\n",
    "\n",
    "- 확률적인 문제를 풀 때, 무작위 수를 사용하여 답을 찾는 방법\n",
    "- numpy.random 모듈을 사용하여 무작위 수를 생성할 수 있다"
   ]
  },
  {
   "cell_type": "markdown",
   "metadata": {},
   "source": [
    "$$r_t = 0.21 + \\beta_1f_{1t} + \\beta_2f_{2t} + \\beta_3f_{3t} + 0.01 \\cdot \\epsilon_t, \\epsilon_t \\sim N(0, 1)$$\n",
    "\n",
    "- 각각의 factor는 np.random.normal을 사용하여 생성한다"
   ]
  },
  {
   "cell_type": "code",
   "execution_count": 149,
   "metadata": {
    "ExecuteTime": {
     "end_time": "2024-02-12T15:38:15.577522Z",
     "start_time": "2024-02-12T15:38:15.541404Z"
    }
   },
   "outputs": [],
   "source": [
    "import numpy as np\n",
    "\n",
    "np.random.seed(100)\n",
    "\n",
    "factor1 = np.random.normal(-0.1, 0.05, 252) # 하나의 설명변수 (평균, 표준편차, 난수의 개수)\n",
    "factor2 = np.random.normal(-0.05, 0.04, 252) \n",
    "factor3 = np.random.normal(-0.03, 0.05, 252)\n",
    "\n",
    "# 이제 이 factor 1, 2, 3이 x1, x2, x3의 역할을 해 줄 것임\n",
    "\n",
    "stock = 0.21 + factor1 + factor2 + factor3 + np.random.normal(0, 0.01, 252) # 노이즈"
   ]
  },
  {
   "cell_type": "markdown",
   "metadata": {},
   "source": [
    "matplotlib를 사용하면 간단하게 시각화가 가능하다"
   ]
  },
  {
   "cell_type": "code",
   "execution_count": 150,
   "metadata": {
    "ExecuteTime": {
     "end_time": "2024-02-12T15:38:15.839908Z",
     "start_time": "2024-02-12T15:38:15.568963Z"
    }
   },
   "outputs": [
    {
     "data": {
      "text/plain": [
       "[<matplotlib.lines.Line2D at 0x16cc4136940>]"
      ]
     },
     "execution_count": 150,
     "metadata": {},
     "output_type": "execute_result"
    },
    {
     "data": {
      "image/png": "[encoded data removed]",
      "text/plain": [
       "<Figure size 640x480 with 1 Axes>"
      ]
     },
     "metadata": {},
     "output_type": "display_data"
    }
   ],
   "source": [
    "import matplotlib.pyplot as plt\n",
    "\n",
    "plt.plot(stock)"
   ]
  },
  {
   "cell_type": "markdown",
   "metadata": {},
   "source": [
    "cumsum() method를 사용하면 누적합을 구할 수 있다"
   ]
  },
  {
   "cell_type": "code",
   "execution_count": 151,
   "metadata": {
    "ExecuteTime": {
     "end_time": "2024-02-12T15:38:15.938322Z",
     "start_time": "2024-02-12T15:38:15.847488Z"
    }
   },
   "outputs": [
    {
     "data": {
      "text/plain": [
       "[<matplotlib.lines.Line2D at 0x16cc4169f70>]"
      ]
     },
     "execution_count": 151,
     "metadata": {},
     "output_type": "execute_result"
    },
    {
     "data": {
      "image/png": "[encoded data removed]",
      "text/plain": [
       "<Figure size 640x480 with 1 Axes>"
      ]
     },
     "metadata": {},
     "output_type": "display_data"
    }
   ],
   "source": [
    "plt.plot(stock.cumsum())"
   ]
  },
  {
   "cell_type": "markdown",
   "metadata": {},
   "source": [
    "통계적 특성들을 다음과 같이 구할 수 있다"
   ]
  },
  {
   "cell_type": "code",
   "execution_count": 152,
   "metadata": {
    "ExecuteTime": {
     "end_time": "2024-02-12T15:38:15.940543Z",
     "start_time": "2024-02-12T15:38:15.919024Z"
    }
   },
   "outputs": [
    {
     "name": "stdout",
     "output_type": "stream",
     "text": [
      "mean :  0.026837780510775646\n",
      "std :  0.0794981777624166\n",
      "max :  0.27941518353732114\n",
      "min :  -0.18459848407038107\n"
     ]
    }
   ],
   "source": [
    "print('mean : ', stock.mean())\n",
    "print('std : ', stock.std())\n",
    "print('max : ', stock.max())\n",
    "print('min : ', stock.min())"
   ]
  },
  {
   "cell_type": "markdown",
   "metadata": {},
   "source": [
    "수익률 분포를 확인해 보자"
   ]
  },
  {
   "cell_type": "code",
   "execution_count": 153,
   "metadata": {
    "ExecuteTime": {
     "end_time": "2024-02-12T15:38:16.011703Z",
     "start_time": "2024-02-12T15:38:15.926809Z"
    }
   },
   "outputs": [
    {
     "data": {
      "image/png": "[encoded data removed]",
      "text/plain": [
       "<Figure size 640x480 with 1 Axes>"
      ]
     },
     "metadata": {},
     "output_type": "display_data"
    }
   ],
   "source": [
    "plt.hist(stock, bins = 100)\n",
    "plt.show()"
   ]
  },
  {
   "cell_type": "markdown",
   "metadata": {},
   "source": [
    "statsmodels 패키지를 사용하면 통계적인 분석이 가능하다. 여기서는 간단하게 확인해 보도록 하자"
   ]
  },
  {
   "cell_type": "code",
   "execution_count": 154,
   "id": "375c562b",
   "metadata": {},
   "outputs": [
    {
     "name": "stdout",
     "output_type": "stream",
     "text": [
      "Requirement already satisfied: statsmodels in c:\\users\\skt01\\anaconda3\\envs\\tensor\\lib\\site-packages (0.14.1)\n",
      "Requirement already satisfied: numpy<2,>=1.18 in c:\\users\\skt01\\anaconda3\\envs\\tensor\\lib\\site-packages (from statsmodels) (1.23.5)\n",
      "Requirement already satisfied: scipy!=1.9.2,>=1.4 in c:\\users\\skt01\\anaconda3\\envs\\tensor\\lib\\site-packages (from statsmodels) (1.10.1)\n",
      "Requirement already satisfied: pandas!=2.1.0,>=1.0 in c:\\users\\skt01\\anaconda3\\envs\\tensor\\lib\\site-packages (from statsmodels) (2.0.3)\n",
      "Requirement already satisfied: patsy>=0.5.4 in c:\\users\\skt01\\anaconda3\\envs\\tensor\\lib\\site-packages (from statsmodels) (0.5.6)\n",
      "Requirement already satisfied: packaging>=21.3 in c:\\users\\skt01\\anaconda3\\envs\\tensor\\lib\\site-packages (from statsmodels) (24.1)\n",
      "Requirement already satisfied: python-dateutil>=2.8.2 in c:\\users\\skt01\\anaconda3\\envs\\tensor\\lib\\site-packages (from pandas!=2.1.0,>=1.0->statsmodels) (2.9.0)\n",
      "Requirement already satisfied: pytz>=2020.1 in c:\\users\\skt01\\anaconda3\\envs\\tensor\\lib\\site-packages (from pandas!=2.1.0,>=1.0->statsmodels) (2024.1)\n",
      "Requirement already satisfied: tzdata>=2022.1 in c:\\users\\skt01\\anaconda3\\envs\\tensor\\lib\\site-packages (from pandas!=2.1.0,>=1.0->statsmodels) (2024.1)\n",
      "Requirement already satisfied: six in c:\\users\\skt01\\anaconda3\\envs\\tensor\\lib\\site-packages (from patsy>=0.5.4->statsmodels) (1.16.0)\n"
     ]
    }
   ],
   "source": [
    "!pip install statsmodels"
   ]
  },
  {
   "cell_type": "code",
   "execution_count": 155,
   "metadata": {
    "ExecuteTime": {
     "end_time": "2024-02-12T15:38:16.910103Z",
     "start_time": "2024-02-12T15:38:16.007960Z"
    }
   },
   "outputs": [
    {
     "name": "stdout",
     "output_type": "stream",
     "text": [
      "                            OLS Regression Results                            \n",
      "==============================================================================\n",
      "Dep. Variable:                      y   R-squared:                       0.984\n",
      "Model:                            OLS   Adj. R-squared:                  0.984\n",
      "Method:                 Least Squares   F-statistic:                     5167.\n",
      "Date:                    월, 05 8 2024   Prob (F-statistic):          3.54e-223\n",
      "Time:                        23:38:59   Log-Likelihood:                 803.54\n",
      "No. Observations:                 252   AIC:                            -1599.\n",
      "Df Residuals:                     248   BIC:                            -1585.\n",
      "Df Model:                           3                                         \n",
      "Covariance Type:            nonrobust                                         \n",
      "==============================================================================\n",
      "                 coef    std err          t      P>|t|      [0.025      0.975]\n",
      "------------------------------------------------------------------------------\n",
      "const          0.2099      0.002    120.772      0.000       0.206       0.213\n",
      "x1             0.9952      0.013     79.183      0.000       0.970       1.020\n",
      "x2             1.0105      0.015     66.677      0.000       0.981       1.040\n",
      "x3             1.0034      0.012     86.303      0.000       0.981       1.026\n",
      "==============================================================================\n",
      "Omnibus:                        0.699   Durbin-Watson:                   2.098\n",
      "Prob(Omnibus):                  0.705   Jarque-Bera (JB):                0.692\n",
      "Skew:                           0.126   Prob(JB):                        0.707\n",
      "Kurtosis:                       2.949   Cond. No.                         24.4\n",
      "==============================================================================\n",
      "\n",
      "Notes:\n",
      "[1] Standard Errors assume that the covariance matrix of the errors is correctly specified.\n"
     ]
    }
   ],
   "source": [
    "import statsmodels.api as sm\n",
    "\n",
    "X = np.concatenate([factor1.reshape(-1,1), factor2.reshape(-1,1), factor3.reshape(-1,1)], axis = 1)\n",
    "# concatente 함수를 사용하여 3개의 factor를 1차원 방향으로 붙인다\n",
    "X = sm.add_constant(X)\n",
    "y = stock\n",
    "\n",
    "model = sm.OLS(y, X)\n",
    "result = model.fit()\n",
    "print(result.summary())"
   ]
  }
 ],
 "metadata": {
  "kernelspec": {
   "display_name": "Python 3",
   "language": "python",
   "name": "python3"
  },
  "language_info": {
   "codemirror_mode": {
    "name": "ipython",
    "version": 3
   },
   "file_extension": ".py",
   "mimetype": "text/x-python",
   "name": "python",
   "nbconvert_exporter": "python",
   "pygments_lexer": "ipython3",
   "version": "3.8.19"
  },
  "toc": {
   "base_numbering": 1,
   "nav_menu": {},
   "number_sections": true,
   "sideBar": true,
   "skip_h1_title": false,
   "title_cell": "Table of Contents",
   "title_sidebar": "Contents",
   "toc_cell": false,
   "toc_position": {},
   "toc_section_display": true,
   "toc_window_display": false
  }
 },
 "nbformat": 4,
 "nbformat_minor": 5
}
