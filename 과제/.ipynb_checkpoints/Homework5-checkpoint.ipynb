{
 "cells": [
  {
   "cell_type": "markdown",
   "metadata": {},
   "source": [
    "### Numpy"
   ]
  },
  {
   "cell_type": "markdown",
   "metadata": {},
   "source": [
    "#### Assignment 1\n",
    "\n",
    "주식의 일일 로그 수익률을 계산해 보는 예제를 풀어봅니다. 주식의 일일 수익률은 다음과 같이 계산합니다.\n",
    "\n",
    "$$ r_t = \\ln(P_t) - \\ln (P_{t-1}) $$"
   ]
  },
  {
   "cell_type": "markdown",
   "metadata": {},
   "source": [
    "- 다음은 2023년 1월 1일부터 2023년 12월 31일까지 1년간의 Apple 주가입니다. 이 주가를 이용하여 2023년 1월 2일부터 2023년 12월 29일까지의 일일 로그 수익률을 계산하세요."
   ]
  },
  {
   "cell_type": "code",
   "execution_count": 1,
   "metadata": {},
   "outputs": [],
   "source": [
    "import numpy as np\n",
    "\n",
    "apple = np.array(\n",
    "    [125.06999969482422, 126.36000061035156, 125.0199966430664, 129.6199951171875, 130.14999389648438, \n",
    "     130.72999572753906, 133.49000549316406, 133.41000366210938, 134.75999450683594, 135.94000244140625, \n",
    "     135.2100067138672, 135.27000427246094, 137.8699951171875, 141.11000061035156, 142.52999877929688, \n",
    "     141.86000061035156, 143.9600067138672, 145.92999267578125, 143.0, 144.2899932861328, 145.42999267578125, \n",
    "     150.82000732421875, 154.5, 151.72999572753906, 154.64999389648438, 151.9199981689453, 150.8699951171875, \n",
    "     151.00999450683594, 153.85000610351562, 153.1999969482422, 155.3300018310547, 153.7100067138672, \n",
    "     152.5500030517578, 148.47999572753906, 148.91000366210938, 149.39999389648438, 146.7100067138672, \n",
    "     147.9199981689453, 147.41000366210938, 145.30999755859375, 145.91000366210938, 151.02999877929688, \n",
    "     153.8300018310547, 151.60000610351562, 152.8699951171875, 150.58999633789062, 148.5, 150.47000122070312, \n",
    "     152.58999633789062, 152.99000549316406, 155.85000610351562, 155.0, 157.39999389648438, 159.27999877929688, \n",
    "     157.8300018310547, 158.92999267578125, 160.25, 158.27999877929688, 157.64999389648438, 160.77000427246094, \n",
    "     162.36000061035156, 164.89999389648438, 166.1699981689453, 165.6300048828125, 163.75999450683594, \n",
    "     164.66000366210938, 162.02999877929688, 160.8000030517578, 160.10000610351562, 165.55999755859375, \n",
    "     165.2100067138672, 165.22999572753906, 166.47000122070312, 167.6300048828125, 166.64999389648438, \n",
    "     165.02000427246094, 165.3300018310547, 163.77000427246094, 163.75999450683594, 168.41000366210938, \n",
    "     169.67999267578125, 169.58999633789062, 168.5399932861328, 167.4499969482422, 165.7899932861328, \n",
    "     173.57000732421875, 173.5, 171.77000427246094, 173.55999755859375, 173.75, 172.57000732421875, \n",
    "     172.07000732421875, 172.07000732421875, 172.69000244140625, 175.0500030517578, 175.16000366210938, \n",
    "     174.1999969482422, 171.55999755859375, 171.83999633789062, 172.99000549316406, 175.42999267578125, \n",
    "     177.3000030517578, 177.25, 180.08999633789062, 180.9499969482422, 179.5800018310547, 179.2100067138672, \n",
    "     177.82000732421875, 180.57000732421875, 180.9600067138672, 183.7899932861328, 183.30999755859375, \n",
    "     183.9499969482422, 186.00999450683594, 184.9199981689453, 185.00999450683594, 183.9600067138672, \n",
    "     187.0, 186.67999267578125, 185.27000427246094, 188.05999755859375, 189.25, 189.58999633789062, \n",
    "     193.97000122070312, 192.4600067138672, 191.3300018310547, 191.80999755859375, 190.67999267578125, \n",
    "     188.61000061035156, 188.0800018310547, 189.77000427246094, 190.5399932861328, 190.69000244140625, \n",
    "     193.99000549316406, 193.72999572753906, 195.10000610351562, 193.1300048828125, 191.94000244140625, \n",
    "     192.75, 193.6199951171875, 194.5, 193.22000122070312, 195.8300018310547, 196.4499969482422, \n",
    "     195.61000061035156, 192.5800018310547, 191.1699981689453, 181.99000549316406, 178.85000610351562, \n",
    "     179.8000030517578, 178.19000244140625, 177.97000122070312, 177.7899932861328, 179.4600067138672, \n",
    "     177.4499969482422, 176.57000732421875, 174.0, 174.49000549316406, 175.83999633789062, 177.22999572753906, \n",
    "     181.1199951171875, 176.3800048828125, 178.61000061035156, 180.19000244140625, 184.1199951171875, \n",
    "     187.64999389648438, 187.8699951171875, 189.4600067138672, 189.6999969482422, 182.91000366210938, \n",
    "     177.55999755859375, 178.17999267578125, 179.36000061035156, 176.3000030517578, 174.2100067138672, \n",
    "     175.74000549316406, 175.00999450683594, 177.97000122070312, 179.07000732421875, 175.49000549316406, \n",
    "     173.92999267578125, 174.7899932861328, 176.0800018310547, 171.9600067138672, 170.42999267578125, \n",
    "     170.69000244140625, 171.2100067138672, 173.75, 172.39999389648438, 173.66000366210938, 174.91000366210938, \n",
    "     177.49000549316406, 178.99000549316406, 178.38999938964844, 179.8000030517578, 180.7100067138672, \n",
    "     178.85000610351562, 178.72000122070312, 177.14999389648438, 175.83999633789062, 175.4600067138672, \n",
    "     172.8800048828125, 173.0, 173.44000244140625, 171.10000610351562, 166.88999938964844, 168.22000122070312, \n",
    "     170.2899932861328, 170.77000427246094, 173.97000122070312, 177.57000732421875, 176.64999389648438, \n",
    "     179.22999572753906, 181.82000732421875, 182.88999938964844, 182.41000366210938, 186.39999389648438, \n",
    "     184.8000030517578, 187.44000244140625, 188.00999450683594, 189.7100067138672, 189.69000244140625, \n",
    "     191.4499969482422, 190.63999938964844, 191.30999755859375, 189.97000122070312, 189.7899932861328, \n",
    "     190.39999389648438, 189.3699951171875, 189.9499969482422, 191.24000549316406, 189.42999267578125, \n",
    "     193.4199981689453, 192.32000732421875, 194.27000427246094, 195.7100067138672, 193.17999267578125, \n",
    "     194.7100067138672, 197.9600067138672, 198.11000061035156, 197.57000732421875, 195.88999938964844, \n",
    "     196.94000244140625, 194.8300018310547, 194.67999267578125, 193.60000610351562, 193.0500030517578, \n",
    "     193.14999389648438, 193.5800018310547, 192.52999877929688]\n",
    ")"
   ]
  },
  {
   "cell_type": "code",
   "execution_count": 8,
   "metadata": {},
   "outputs": [],
   "source": [
    "ret=np.log(apple[1:])-np.log(apple[:-1])"
   ]
  },
  {
   "cell_type": "markdown",
   "metadata": {},
   "source": [
    "- 계산한 로그 수익률을 이용하여 2023년 1월 2일부터 2023년 12월 29일까지의 일일 수익률의 평균과 표준편차를 계산하세요."
   ]
  },
  {
   "cell_type": "code",
   "execution_count": 14,
   "metadata": {},
   "outputs": [
    {
     "name": "stdout",
     "output_type": "stream",
     "text": [
      "0.0017324433786351087 0.01252033257815448\n"
     ]
    }
   ],
   "source": [
    "mean=np.mean(ret)\n",
    "std=np.std(ret)\n",
    "print(mean, std)"
   ]
  },
  {
   "cell_type": "markdown",
   "metadata": {},
   "source": [
    "- 계산한 로그 수익률을 이용하여 2023년 1월 2일부터 2023년 12월 29일까지의 일일 수익률의 히스토그램을 그리세요."
   ]
  },
  {
   "cell_type": "code",
   "execution_count": 16,
   "metadata": {},
   "outputs": [
    {
     "data": {
      "image/png": "[encoded data removed]",
      "text/plain": [
       "<Figure size 432x288 with 1 Axes>"
      ]
     },
     "metadata": {
      "needs_background": "light"
     },
     "output_type": "display_data"
    }
   ],
   "source": [
    "import matplotlib.pyplot as plt\n",
    "plt.hist(ret)\n",
    "plt.show()"
   ]
  },
  {
   "cell_type": "markdown",
   "metadata": {},
   "source": [
    "- 계산한 로그 수익률을 이용하여 2023년 1월 2일부터 2023년 12월 29일까지의 누적 로그 수익률을 계산하고 그래프로 그리세요."
   ]
  },
  {
   "cell_type": "code",
   "execution_count": 18,
   "metadata": {},
   "outputs": [
    {
     "data": {
      "image/png": "[encoded data removed]",
      "text/plain": [
       "<Figure size 432x288 with 1 Axes>"
      ]
     },
     "metadata": {
      "needs_background": "light"
     },
     "output_type": "display_data"
    }
   ],
   "source": [
    "plt.hist(ret, cumulative=True)\n",
    "plt.show()"
   ]
  },
  {
   "cell_type": "markdown",
   "metadata": {},
   "source": [
    "#### Assignment 2\n",
    "\n",
    "Geometric Brownian motion은 다음과 같이 정의됩니다\n",
    "\n",
    "$$ S_t = S_0 \\exp((r - \\frac{1}{2}\\sigma^2)\\Delta t + \\sigma \\sqrt{\\Delta t}(Z_t) $$\n",
    "\n",
    "여기서 $S_t$는 시간 $t$에서의 주가이고, $r$은 무위험 이자율, $\\sigma$는 변동성, $\\Delta t$는 시간 간격, $Z_t$는 표준정규분포를 따르는 확률변수입니다.\n",
    "\n",
    "- 다음의 파라미터를 사용하는 Geometric Brownian motion을 생성하는 함수를 작성하고 함수를 이용해 1년간의 주가를 생성하세요.\n",
    "    - $S_0 = 125$\n",
    "    - $r = 0.05$\n",
    "    - $\\sigma = 0.2$\n",
    "    - $\\Delta t = 1/252$\n",
    "- $Z_t$는 표준정규분포를 따르는 확률변수입니다."
   ]
  },
  {
   "cell_type": "code",
   "execution_count": 15,
   "metadata": {},
   "outputs": [],
   "source": [
    "import numpy as np\n",
    "\n",
    "norm=np.random.normal(0, 1, 252)\n",
    "def geometric_brown(s_0, r, sigma, delta_t, T, steps_per_year=252):\n",
    "    N=int(T*steps_per_year)\n",
    "    Z=np.random.normal(0,1,N)\n",
    "    S=np.zeros(N)\n",
    "    S[0]=s_0\n",
    "    for i in range(1,N):\n",
    "        S[i]=S[i-1]*np.exp( (r-(sigma*sigma)/2)*delta_t + sigma*np.sqrt(delta_t)*Z[i] )\n",
    "\n",
    "s_t=geometric_brown(125, 0.05, 1/252, 0.2, 1, 252)"
   ]
  },
  {
   "cell_type": "markdown",
   "metadata": {},
   "source": [
    "**Assignment 2.1**\n",
    "\n",
    "기초자산이 주식인 European call option과 European put option의 가치는 다음과 같이 계산됩니다.\n",
    "\n",
    "$$ C = e^{-rT}\\max(S_T - K, 0) $$\n",
    "$$ P = e^{-rT}\\max(K - S_T, 0) $$\n",
    "\n",
    "여기서 $C$는 call option의 가치, $P$는 put option의 가치, $S_T$는 만기시점의 주가, $K$는 행사가격, $r$은 risk-free rate, $T$는 만기시점입니다. 앞에서 생성한 주가를 이용해 모든 날짜의 European call option과 European put option의 가치를 계산하여 np.ndarray 형태로 저장하세요. 단, 행사가격 K는 130으로 가정하고 만기는 맨 마지막 날이라고 가정합니다."
   ]
  },
  {
   "cell_type": "code",
   "execution_count": 16,
   "metadata": {},
   "outputs": [
    {
     "ename": "TypeError",
     "evalue": "'NoneType' object is not iterable",
     "output_type": "error",
     "traceback": [
      "\u001b[1;31m---------------------------------------------------------------------------\u001b[0m",
      "\u001b[1;31mTypeError\u001b[0m                                 Traceback (most recent call last)",
      "\u001b[1;32m<ipython-input-16-5ef8b4458c2a>\u001b[0m in \u001b[0;36m<module>\u001b[1;34m\u001b[0m\n\u001b[1;32m----> 1\u001b[1;33m \u001b[0mcall_price\u001b[0m\u001b[1;33m=\u001b[0m\u001b[0mnp\u001b[0m\u001b[1;33m.\u001b[0m\u001b[0marray\u001b[0m\u001b[1;33m(\u001b[0m \u001b[1;33m[\u001b[0m\u001b[0mnp\u001b[0m\u001b[1;33m.\u001b[0m\u001b[0mexp\u001b[0m\u001b[1;33m(\u001b[0m\u001b[1;33m-\u001b[0m\u001b[1;36m0.05\u001b[0m\u001b[1;33m*\u001b[0m\u001b[1;36m252\u001b[0m\u001b[1;33m)\u001b[0m\u001b[1;33m*\u001b[0m\u001b[0mnp\u001b[0m\u001b[1;33m.\u001b[0m\u001b[0mmax\u001b[0m\u001b[1;33m(\u001b[0m\u001b[1;33m[\u001b[0m\u001b[0ms\u001b[0m\u001b[1;33m-\u001b[0m\u001b[1;36m130\u001b[0m\u001b[1;33m,\u001b[0m \u001b[1;36m0\u001b[0m\u001b[1;33m]\u001b[0m\u001b[1;33m)\u001b[0m \u001b[1;32mfor\u001b[0m \u001b[0ms\u001b[0m \u001b[1;32min\u001b[0m \u001b[0ms_t\u001b[0m\u001b[1;33m]\u001b[0m \u001b[1;33m)\u001b[0m\u001b[1;33m\u001b[0m\u001b[1;33m\u001b[0m\u001b[0m\n\u001b[0m\u001b[0;32m      2\u001b[0m \u001b[0mput_price\u001b[0m\u001b[1;33m=\u001b[0m\u001b[0mnp\u001b[0m\u001b[1;33m.\u001b[0m\u001b[0marray\u001b[0m\u001b[1;33m(\u001b[0m \u001b[1;33m[\u001b[0m\u001b[0mnp\u001b[0m\u001b[1;33m.\u001b[0m\u001b[0mexp\u001b[0m\u001b[1;33m(\u001b[0m\u001b[1;33m-\u001b[0m\u001b[1;36m0.05\u001b[0m\u001b[1;33m*\u001b[0m\u001b[1;36m252\u001b[0m\u001b[1;33m)\u001b[0m\u001b[1;33m*\u001b[0m\u001b[0mnp\u001b[0m\u001b[1;33m.\u001b[0m\u001b[0mmax\u001b[0m\u001b[1;33m(\u001b[0m\u001b[1;33m[\u001b[0m\u001b[1;36m130\u001b[0m\u001b[1;33m-\u001b[0m\u001b[0ms\u001b[0m\u001b[1;33m,\u001b[0m \u001b[1;36m0\u001b[0m\u001b[1;33m]\u001b[0m\u001b[1;33m)\u001b[0m \u001b[1;32mfor\u001b[0m \u001b[0ms\u001b[0m \u001b[1;32min\u001b[0m \u001b[0ms_t\u001b[0m\u001b[1;33m]\u001b[0m \u001b[1;33m)\u001b[0m\u001b[1;33m\u001b[0m\u001b[1;33m\u001b[0m\u001b[0m\n",
      "\u001b[1;31mTypeError\u001b[0m: 'NoneType' object is not iterable"
     ]
    }
   ],
   "source": [
    "\n",
    "call_price=np.array( [np.exp(-0.05*252)*np.max([s-130, 0]) for s in s_t] )\n",
    "put_price=np.array( [np.exp(-0.05*252)*np.max([130-s, 0]) for s in s_t] )"
   ]
  },
  {
   "cell_type": "markdown",
   "metadata": {},
   "source": [
    "**Assignment 2.2**\n",
    "\n",
    "European call option과 European put option의 가치를 각각 기초자산과 함께 그래프로 그리세요. 여기서 기초자산을 x축으로 하고 option의 가치를 y축으로 합니다."
   ]
  },
  {
   "cell_type": "code",
   "execution_count": 17,
   "metadata": {},
   "outputs": [
    {
     "ename": "NameError",
     "evalue": "name 'plt' is not defined",
     "output_type": "error",
     "traceback": [
      "\u001b[1;31m---------------------------------------------------------------------------\u001b[0m",
      "\u001b[1;31mNameError\u001b[0m                                 Traceback (most recent call last)",
      "\u001b[1;32m<ipython-input-17-a1a66309e01a>\u001b[0m in \u001b[0;36m<module>\u001b[1;34m\u001b[0m\n\u001b[1;32m----> 1\u001b[1;33m \u001b[0mplt\u001b[0m\u001b[1;33m.\u001b[0m\u001b[0mplot\u001b[0m\u001b[1;33m(\u001b[0m\u001b[0ms_t\u001b[0m\u001b[1;33m,\u001b[0m \u001b[0mcall_price\u001b[0m\u001b[1;33m)\u001b[0m\u001b[1;33m\u001b[0m\u001b[1;33m\u001b[0m\u001b[0m\n\u001b[0m",
      "\u001b[1;31mNameError\u001b[0m: name 'plt' is not defined"
     ]
    }
   ],
   "source": [
    "plt.plot(s_t, call_price)"
   ]
  },
  {
   "cell_type": "code",
   "execution_count": 18,
   "metadata": {},
   "outputs": [
    {
     "ename": "NameError",
     "evalue": "name 'plt' is not defined",
     "output_type": "error",
     "traceback": [
      "\u001b[1;31m---------------------------------------------------------------------------\u001b[0m",
      "\u001b[1;31mNameError\u001b[0m                                 Traceback (most recent call last)",
      "\u001b[1;32m<ipython-input-18-fea1579e8c41>\u001b[0m in \u001b[0;36m<module>\u001b[1;34m\u001b[0m\n\u001b[1;32m----> 1\u001b[1;33m \u001b[0mplt\u001b[0m\u001b[1;33m.\u001b[0m\u001b[0mplot\u001b[0m\u001b[1;33m(\u001b[0m\u001b[0ms_t\u001b[0m\u001b[1;33m,\u001b[0m \u001b[0mput_price\u001b[0m\u001b[1;33m)\u001b[0m\u001b[1;33m\u001b[0m\u001b[1;33m\u001b[0m\u001b[0m\n\u001b[0m",
      "\u001b[1;31mNameError\u001b[0m: name 'plt' is not defined"
     ]
    }
   ],
   "source": [
    "plt.plot(s_t, put_price)"
   ]
  },
  {
   "cell_type": "code",
   "execution_count": null,
   "metadata": {},
   "outputs": [],
   "source": []
  }
 ],
 "metadata": {
  "kernelspec": {
   "display_name": "Python 3",
   "language": "python",
   "name": "python3"
  },
  "language_info": {
   "codemirror_mode": {
    "name": "ipython",
    "version": 3
   },
   "file_extension": ".py",
   "mimetype": "text/x-python",
   "name": "python",
   "nbconvert_exporter": "python",
   "pygments_lexer": "ipython3",
   "version": "3.8.5"
  }
 },
 "nbformat": 4,
 "nbformat_minor": 5
}
