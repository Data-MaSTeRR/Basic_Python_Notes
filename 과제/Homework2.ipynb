{
 "cells": [
  {
   "cell_type": "markdown",
   "id": "3c697a5b1267c16d",
   "metadata": {},
   "source": [
    "### Python Basic II"
   ]
  },
  {
   "cell_type": "markdown",
   "id": "a113590a18b002cf",
   "metadata": {},
   "source": [
    "#### Assignment 1.\n",
    "아래 사전 데이터는 2023년 1월 2일부터 1월 20일까지의 코스피 주가지수입니다"
   ]
  },
  {
   "cell_type": "code",
   "execution_count": 4,
   "id": "9484b5036e5423aa",
   "metadata": {},
   "outputs": [],
   "source": [
    "kospi = {'2023-01-02' : 2225.67, '2023-01-03' : 2218.68, '2023-01-04' : 2255.98, '2023-01-05' : 2264.65,\n",
    "         '2023-01-06' : 2289.97, '2023-01-09' : 2350.19, '2023-01-10' : 2351.31, '2023-01-11' : 2359.53,\n",
    "         '2023-01-12' : 2365.10, '2023-01-13' : 2386.09, '2023-01-16' : 2399.86, '2023-01-17' : 2379.39,\n",
    "         '2023-01-18' : 2368.32, '2023-01-19' : 2380.34, '2023-01-20' : 2395.26}"
   ]
  },
  {
   "cell_type": "markdown",
   "id": "bd1cd60b54504cef",
   "metadata": {},
   "source": [
    "1월 2일부터 1월 20일까지의 주가지수의 평균값을 구하세요"
   ]
  },
  {
   "cell_type": "code",
   "execution_count": 14,
   "id": "initial_id",
   "metadata": {},
   "outputs": [
    {
     "name": "stdout",
     "output_type": "stream",
     "text": [
      "1월 2일부터 1월 20일까지의 주가지수의 평균은 2332.69입니다.\n"
     ]
    }
   ],
   "source": [
    "data=list(kospi.values())\n",
    "avg=sum(data)/len(data)\n",
    "print(f\"1월 2일부터 1월 20일까지의 주가지수의 평균은 {avg:0.2f}입니다.\")"
   ]
  },
  {
   "cell_type": "markdown",
   "id": "3dd6042f06d1492c",
   "metadata": {},
   "source": [
    "#### Assignment 2.\n",
    "- 다음은 미국 연방준비위원회 의장 제롬 파월의 2022년 8월 잭슨홀 심포지엄에서 '통화정책과 물가 안정'을 주제로 한 연설문의 일부입니다\n",
    "\n",
    "At past Jackson Hole conferences, I have discussed broad topics such as the ever-changing structure of the economy and the challenges of conducting monetary policy under high uncertainty. Today, my remarks will be shorter, my focus narrower, and my message more direct.\n",
    "\n",
    "The Federal Open Market Committee's (FOMC) overarching focus right now is to bring inflation back down to our 2 percent goal. Price stability is the responsibility of the Federal Reserve and serves as the bedrock of our economy. Without price stability, the economy does not work for anyone. In particular, without price stability, we will not achieve a sustained period of strong labor market conditions that benefit all. The burdens of high inflation fall heaviest on those who are least able to bear them.\n",
    "\n",
    "Restoring price stability will take some time and requires using our tools forcefully to bring demand and supply into better balance. Reducing inflation is likely to require a sustained period of below-trend growth. Moreover, there will very likely be some softening of labor market conditions. While higher interest rates, slower growth, and softer labor market conditions will bring down inflation, they will also bring some pain to households and businesses. These are the unfortunate costs of reducing inflation. But a failure to restore price stability would mean far greater pain.\n",
    "\n",
    "The U.S. economy is clearly slowing from the historically high growth rates of 2021, which reflected the reopening of the economy following the pandemic recession. While the latest economic data have been mixed, in my view our economy continues to show strong underlying momentum. The labor market is particularly strong, but it is clearly out of balance, with demand for workers substantially exceeding the supply of available workers. Inflation is running well above 2 percent, and high inflation has continued to spread through the economy. While the lower inflation readings for July are welcome, a single month's improvement falls far short of what the Committee will need to see before we are confident that inflation is moving down.\n",
    "\n",
    "We are moving our policy stance purposefully to a level that will be sufficiently restrictive to return inflation to 2 percent. At our most recent meeting in July, the FOMC raised the target range for the federal funds rate to 2.25 to 2.5 percent, which is in the Summary of Economic Projection's (SEP) range of estimates of where the federal funds rate is projected to settle in the longer run. In current circumstances, with inflation running far above 2 percent and the labor market extremely tight, estimates of longer-run neutral are not a place to stop or pause."
   ]
  },
  {
   "cell_type": "markdown",
   "id": "4871c40e93f8391d",
   "metadata": {},
   "source": [
    "위 연설문에서, 'inflation'이 총 몇 번 등장하는지 계산하고, 단어의 빈도 비율을 구하세요"
   ]
  },
  {
   "cell_type": "code",
   "execution_count": 21,
   "id": "19c0b492",
   "metadata": {},
   "outputs": [
    {
     "name": "stdout",
     "output_type": "stream",
     "text": [
      "위 연설문에서 'inflation'은 총 10번 등장합니다\n"
     ]
    }
   ],
   "source": [
    "data=\"At past Jackson Hole conferences, I have discussed broad topics such as the ever-changing structure of the economy and the challenges of conducting monetary policy under high uncertainty. Today, my remarks will be shorter, my focus narrower, and my message more direct. The Federal Open Market Committee's (FOMC) overarching focus right now is to bring inflation back down to our 2 percent goal. Price stability is the responsibility of the Federal Reserve and serves as the bedrock of our economy. Without price stability, the economy does not work for anyone. In particular, without price stability, we will not achieve a sustained period of strong labor market conditions that benefit all. The burdens of high inflation fall heaviest on those who are least able to bear them. Restoring price stability will take some time and requires using our tools forcefully to bring demand and supply into better balance. Reducing inflation is likely to require a sustained period of below-trend growth. Moreover, there will very likely be some softening of labor market conditions. While higher interest rates, slower growth, and softer labor market conditions will bring down inflation, they will also bring some pain to households and businesses. These are the unfortunate costs of reducing inflation. But a failure to restore price stability would mean far greater pain.The U.S. economy is clearly slowing from the historically high growth rates of 2021, which reflected the reopening of the economy following the pandemic recession. While the latest economic data have been mixed, in my view our economy continues to show strong underlying momentum. The labor market is particularly strong, but it is clearly out of balance, with demand for workers substantially exceeding the supply of available workers. Inflation is running well above 2 percent, and high inflation has continued to spread through the economy. While the lower inflation readings for July are welcome, a single month's improvement falls far short of what the Committee will need to see before we are confident that inflation is moving down.We are moving our policy stance purposefully to a level that will be sufficiently restrictive to return inflation to 2 percent. At our most recent meeting in July, the FOMC raised the target range for the federal funds rate to 2.25 to 2.5 percent, which is in the Summary of Economic Projection's (SEP) range of estimates of where the federal funds rate is projected to settle in the longer run. In current circumstances, with inflation running far above 2 percent and the labor market extremely tight, estimates of longer-run neutral are not a place to stop or pause.\"\n",
    "num=data.count(\"inflation\")\n",
    "print(f\"위 연설문에서 'inflation'은 총 {num}번 등장합니다\")"
   ]
  },
  {
   "cell_type": "markdown",
   "id": "21d2aea76e3b496a",
   "metadata": {},
   "source": [
    "#### Assignment 3.\n",
    "\n",
    "포트폴리오의 수익률은 각 자산별 비중과 수익률을 곱한 값을 합한 것으로 계산됩니다\n",
    "\n",
    "$$ r_p = \\sum_{i=1}^{n} (r_i \\times w_i)$$\n",
    "\n",
    "전통적 자산배분 방법 중, 무위험자산과 위험자산의 비중을 60:40으로 할당하는 배분 방법은 시장의 급변 상황에 원금의 손실을 줄이고 안정적으로 수익률을 창출할 수 있는 전략입니다. 무위험자산의 수익률로 통용되는 미국 T-Bill의 연간 수익률이 아래와 같고, 위험자산인 자산 A,B,C,D가 아래와 같을 때, 포트폴리오의 수익률을 계산하세요. 단, 위험자산의 경우 비중이 동일하다고 가정합니다\n",
    "\n",
    "|| T-Bill | A     | B     | C     | D     |\n",
    "|---|--------|-------|-------|-------|-------|\n",
    "|2023-09| 0.0375 | 0.08  | 0.12  | 0.15  | 0.05  |\n",
    "|2023-10| 0.04   | 0.02  | 0.06  | -0.01 | -0.02 |\n",
    "|2023-11| 0.039  | 0.015 | -0.10 | -0.05 | 0.025 |\n",
    "|2023-12| 0.038  | -0.03 | -0.05 | 0.01  | 0.015 |\n",
    "|2024-01| 0.037  | 0.04  | 0.06  | 0.05  | 0.00  |"
   ]
  },
  {
   "cell_type": "markdown",
   "id": "a5dc3afb7bca74bf",
   "metadata": {},
   "source": [
    "**3.1**\n",
    "\n",
    "위 표를 Dictionary 자료형으로 저장하세요"
   ]
  },
  {
   "cell_type": "code",
   "execution_count": 24,
   "id": "f9794279db6a8208",
   "metadata": {},
   "outputs": [
    {
     "data": {
      "text/plain": [
       "dict"
      ]
     },
     "execution_count": 24,
     "metadata": {},
     "output_type": "execute_result"
    }
   ],
   "source": [
    "import pandas as pd\n",
    "data={'T-Bill':[0.0375, 0.04, 0.039, 0.038, 0.037], 'A' : [0.08, 0.02, 0.015, -0.03, 0.04], 'B':[0.12, 0.06, -0.1, -0.05, 0.06], \n",
    "      'C' : [0.15, -0.01, -0.05, 0.01, 0.05], 'D': [0.05, -0.02, 0.025, 0.015, 0.00]}\n",
    "type(data)"
   ]
  },
  {
   "cell_type": "markdown",
   "id": "c2054f2df82983b0",
   "metadata": {},
   "source": [
    "**3.2**\n",
    "\n",
    "선언한 사전형 데이터를 이용해 2023년 9월부터 2024년 1월까지 포트폴리오의 수익률을 계산하세요"
   ]
  },
  {
   "cell_type": "code",
   "execution_count": 37,
   "id": "2a1b0944b030a244",
   "metadata": {},
   "outputs": [
    {
     "name": "stdout",
     "output_type": "stream",
     "text": [
      "2023-09의 수익률은 0.0625입니다\n",
      "2023-10의 수익률은 0.0290입니다\n",
      "2023-11의 수익률은 0.0124입니다\n",
      "2023-12의 수익률은 0.0173입니다\n",
      "2024-01의 수익률은 0.0372입니다\n"
     ]
    }
   ],
   "source": [
    "date=[\"2023-09\", \"2023-10\", \"2023-11\", \"2023-12\", \"2024-01\"]\n",
    "for i in range(len(data)):\n",
    "    pf_ret=0\n",
    "    for j in data.keys():\n",
    "        if j=='T-Bill':\n",
    "            pf_ret+=data[j][i]*0.6\n",
    "        else:\n",
    "            pf_ret+=data[j][i]*0.4*0.25\n",
    "    print(f\"{(date[i])}의 수익률은 {pf_ret:0.4f}입니다\")"
   ]
  },
  {
   "cell_type": "code",
   "execution_count": null,
   "id": "12cfc88c",
   "metadata": {},
   "outputs": [],
   "source": []
  },
  {
   "cell_type": "markdown",
   "id": "b6a301a7",
   "metadata": {},
   "source": [
    "#### Assignment 3.\n",
    "\n",
    "- 당신은 현재 은행에서 고객 정보를 관리하고 있습니다. Data Base를 살펴보던 중, 고객의 아이디가 뒤바뀌어 있다는 것을 눈치챘습니다. 원래대로 되돌리기 위해서 어떻게 해야 할까요? \n",
    "- **x_id와 y_id의 데이터를 Swap**하세요 (힌트: 튜플에서 배움)"
   ]
  },
  {
   "cell_type": "code",
   "execution_count": null,
   "id": "02970d43",
   "metadata": {},
   "outputs": [],
   "source": []
  },
  {
   "cell_type": "markdown",
   "id": "2843e592",
   "metadata": {},
   "source": [
    "#### Assignment 1.\n",
    "\n",
    "- 당신은 자산운용사로, 고객의 자산을 관리하고 있습니|다. 고객은 현재 시장의 수익률보다 3% 더 높은 패시브운용 포트폴리오의 수익률을 요구하고 있습니다. 고객의 요청에 따라 3년간 5천만원의 현금을 운용해야 합니다. 매년 초과수익률이 3%로 일정하다고 가정할 때, 아래와 같은 시장 상황에서 **고객이 3년 후 받을 수 있는 금액**은 얼마입니까? (단, 고객의 자산을 **t년도 영업일 말일에 운용**한다고 가정하며, 거래 수수료는 없다고 가정한다)\n",
    "\n",
    "|t년|t+1년|t+2년|t+3년|\n",
    "|:---:|:---:|:---:|:---:|\n",
    "|2%|3.5%|6%|1%|"
   ]
  },
  {
   "cell_type": "code",
   "execution_count": null,
   "id": "ebceefc2",
   "metadata": {},
   "outputs": [],
   "source": []
  },
  {
   "cell_type": "markdown",
   "id": "ea2f5d6f",
   "metadata": {},
   "source": [
    "#### Assignment 4.\n",
    "\n",
    "- 주식 투자 성과가 다음과 같고, 각 날짜별 투자 비중이 다음과 같을 때, **5일간 본인이 가진 주식의 수익률**을 계산하세요. (단, 수수료는 없다고 가정하고, 투자금은 매일 각각 100달러라고 가정한다)\n",
    "\n",
    "\n",
    "|날짜|  수익률  |투자비중|\n",
    "|:---:|:-----:|:---:|\n",
    "|2024.01.29|  2%   |20%|\n",
    "|2024.01.30|  1%   |30%|\n",
    "|2024.01.31|  3%   |50%|\n",
    "|2024.02.01|  -1%  |40%|\n",
    "|2024.02.02|  2%   |10%|\n"
   ]
  },
  {
   "cell_type": "code",
   "execution_count": null,
   "id": "662a5e3b",
   "metadata": {},
   "outputs": [],
   "source": []
  },
  {
   "cell_type": "markdown",
   "id": "060f78c6",
   "metadata": {},
   "source": [
    "#### Assignment 7.\n",
    "- **문자열뒤집기**\n",
    "- 문자열 my_string과 정수 s, e가 매개변수로 주어질 때, my_string에서 인덱스 s부터 인덱스 e까지를 뒤집은 문자열을 return 하는 solution 함수를 작성해 주세요. (힌트: 문자열 슬라이싱)\n",
    "\n",
    "| my_string        | s   | e   | result          |\n",
    "|------------------|-----|-----|-----------------|\n",
    "| Progra21Sremm3   | 6   | 12  | ProgrammerS123  |\n",
    "| Stanley1yelnatS  | 4   | 10  | Stanley1yelnatS |\n"
   ]
  },
  {
   "cell_type": "code",
   "execution_count": null,
   "id": "9108ae58",
   "metadata": {},
   "outputs": [],
   "source": [
    "def solution(my_string, s, e):\n",
    "    \n",
    "    ### YOUR CODE START\n",
    "\n",
    "    # 문자열을 슬라이싱하여 인덱스 s부터 e까지의 부분 문자열을 뒤집기\n",
    "    # reversed_substring = \n",
    "    \n",
    "    # 뒤집힌 부분 문자열을 원래 문자열의 앞, 뒤 부분과 합치기\n",
    "    # result = \n",
    "    \n",
    "    ### YOUR CODE END\n",
    "    \n",
    "    return result\n",
    "\n",
    "# 테스트 예시\n",
    "print(solution(\"Progra21Sremm3\", 6, 12))  # Output: \"ProgrammerS123\"\n",
    "print(solution(\"Stanley1yelnatS\", 4, 10))  # Output: \"Stanley1yelnatS\""
   ]
  }
 ],
 "metadata": {
  "kernelspec": {
   "display_name": "Python 3 (ipykernel)",
   "language": "python",
   "name": "python3"
  },
  "language_info": {
   "codemirror_mode": {
    "name": "ipython",
    "version": 3
   },
   "file_extension": ".py",
   "mimetype": "text/x-python",
   "name": "python",
   "nbconvert_exporter": "python",
   "pygments_lexer": "ipython3",
   "version": "3.11.5"
  }
 },
 "nbformat": 4,
 "nbformat_minor": 5
}
