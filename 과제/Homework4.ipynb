{
 "cells": [
  {
   "cell_type": "markdown",
   "metadata": {},
   "source": [
    "### Function and Class"
   ]
  },
  {
   "cell_type": "markdown",
   "metadata": {},
   "source": [
    "#### Assignment 1.\n",
    "**Gordon의 기업 성장 모형**과 **자본자산가치결정모형(CAPM)** 에 따르면 투자자가 기업에 요구하는 요구 수익률은 다음과 같이 정의됩니다.\n",
    "\n",
    "$$k = r_f + \\beta(E(r_m) - r_f)$$\n",
    "\n",
    "여기서 $k$는 요구수익률, $r_f$는 무위험이자율, $r_m$는 기업 주식의 수익률, $\\beta$는 기업의 시장 프리미엄을 의미합니다\n",
    "\n",
    "- 위 산식을 함수로 작성하세요"
   ]
  },
  {
   "cell_type": "code",
   "execution_count": 18,
   "metadata": {},
   "outputs": [],
   "source": [
    "def rrr(r_f, r_m, beta):\n",
    "    return r_f+beta*(r_m-r_f)"
   ]
  },
  {
   "cell_type": "markdown",
   "metadata": {},
   "source": [
    "**Assignment 1-1.**\n",
    "\n",
    "- 한국 무위험지표금리(https://www.kofr.kr/main.jsp)에 따르면, 2024년 2월 12일 현재 한국의 30일 평균 무위험이자율은 3.616%입니다. 어느 기업 A의 30일 평균 주식 수익률이 7.4%였다고 할 때, 투자자가 이 기업 A에 기대하는 요구수익률은 얼마입니까?(베타는 1.2로 가정합니다)"
   ]
  },
  {
   "cell_type": "code",
   "execution_count": 19,
   "metadata": {},
   "outputs": [
    {
     "name": "stdout",
     "output_type": "stream",
     "text": [
      "기업 A에 대한 요구수익률은  8.1568%입니다\n"
     ]
    }
   ],
   "source": [
    "k=rrr(0.03616, 0.074, 1.2)\n",
    "print(f\"기업 A에 대한 요구수익률은 {k*100: 0.4f}%입니다\")"
   ]
  },
  {
   "cell_type": "markdown",
   "metadata": {},
   "source": [
    "**Assignment 1-2.**\n",
    "\n",
    "- 위 기업의 경우에서 무위험이자율을 2.5%라고 가정할 때의 요구수익률을 계산하세요"
   ]
  },
  {
   "cell_type": "code",
   "execution_count": 20,
   "metadata": {},
   "outputs": [
    {
     "name": "stdout",
     "output_type": "stream",
     "text": [
      "기업 A에 대한 요구수익률은  8.3800%입니다\n"
     ]
    }
   ],
   "source": [
    "k=rrr(0.025, 0.074, 1.2)\n",
    "print(f\"기업 A에 대한 요구수익률은 {k*100: 0.4f}%입니다\")"
   ]
  },
  {
   "cell_type": "markdown",
   "metadata": {},
   "source": [
    "#### Assignment 2. \n",
    "\n",
    "Gordon의 주식 가치 결정 모델에서 적정 주가는 다음과 같이 정의됩니다\n",
    "\n",
    "$$P = \\frac{D(1+g)}{k-g}$$\n",
    "\n",
    "여기서 $k$는 요구수익률, $D$는 배당금, $g$는 배당 증가율, $P$는 기업의 적정 주가를 의미합니다\n",
    "\n",
    "- 위 산식을 함수로 작성하세요"
   ]
  },
  {
   "cell_type": "code",
   "execution_count": 21,
   "metadata": {},
   "outputs": [],
   "source": [
    "def gordon(k, D, g):\n",
    "    return (D*(1+g))/(k-g)"
   ]
  },
  {
   "cell_type": "markdown",
   "metadata": {},
   "source": [
    "- 과제 1번의 요구수익률을 가정하고, 기존의 기업 배당금은 1주당 1천원, 배당 증가율이 3%라면 이 기업의 적정 주가는 얼마입니까?"
   ]
  },
  {
   "cell_type": "code",
   "execution_count": 22,
   "metadata": {},
   "outputs": [
    {
     "name": "stdout",
     "output_type": "stream",
     "text": [
      "이 기업의 적정주가는  19973.62706원입니다\n"
     ]
    }
   ],
   "source": [
    "p=gordon(0.081568, 1000, 0.03)\n",
    "print(f\"이 기업의 적정주가는 {p: .5f}원입니다\")"
   ]
  },
  {
   "cell_type": "markdown",
   "metadata": {},
   "source": [
    "#### Assignment 3.\n",
    "\n",
    "주어진 원금(principal), 연이율(annual_rate), 기간(time_in_years)을 입력 받아 단리와 복리로 계산된 미래 가치를 반환하는 함수를 작성하세요. 단리 공식과 복리 공식은 다음과 같습니다.\n",
    "\n",
    "$$\\mathrm{Future~Value} = \\mathrm{PV} \\times (1 + rt)$$\n",
    "$$\\mathrm{Future~Value} = \\mathrm{PV} \\times (1 + r)^t$$\n",
    "\n",
    "여기서 $\\mathrm{PV}$는 현재 가치, $r$은 연이율, $t$는 기간을 의미합니다"
   ]
  },
  {
   "cell_type": "code",
   "execution_count": 24,
   "metadata": {},
   "outputs": [],
   "source": [
    "def future_value(pv, r, t):\n",
    "    fv_simple=pv*(1+r*t)\n",
    "    fv_compound=pv*((1+r)**t)\n",
    "    return fv_simple, fv_compound"
   ]
  },
  {
   "cell_type": "markdown",
   "metadata": {},
   "source": [
    "- 원금이 1000만원, 연이율이 5%, 기간이 10년일 때 단리와 복리로 계산된 미래 가치를 계산하세요"
   ]
  },
  {
   "cell_type": "code",
   "execution_count": 26,
   "metadata": {},
   "outputs": [
    {
     "name": "stdout",
     "output_type": "stream",
     "text": [
      "단리로 계산 시 미래 가치는 1500.0만원 입니다.\n",
      "복리로 계산 시 미래 가치는 1628.89463만원 입니다.\n"
     ]
    }
   ],
   "source": [
    "simple, compound=future_value(1000, 0.05, 10)\n",
    "print(f\"단리로 계산 시 미래 가치는 {simple}만원 입니다.\")\n",
    "print(f\"복리로 계산 시 미래 가치는 {compound:0.5f}만원 입니다.\")"
   ]
  },
  {
   "cell_type": "markdown",
   "metadata": {},
   "source": [
    "- 원금이 1000만원, 연이율이 3.6%, 기간이 7년일 때 단리와 복리로 계산된 미래 가치를 계산하세요"
   ]
  },
  {
   "cell_type": "code",
   "execution_count": 27,
   "metadata": {},
   "outputs": [
    {
     "name": "stdout",
     "output_type": "stream",
     "text": [
      "단리로 계산 시 미래 가치는 1252.0만원 입니다.\n",
      "복리로 계산 시 미래 가치는 1280.90903만원 입니다.\n"
     ]
    }
   ],
   "source": [
    "simple, compound=future_value(1000, 0.036, 7)\n",
    "print(f\"단리로 계산 시 미래 가치는 {simple}만원 입니다.\")\n",
    "print(f\"복리로 계산 시 미래 가치는 {compound:0.5f}만원 입니다.\")"
   ]
  },
  {
   "cell_type": "markdown",
   "metadata": {},
   "source": [
    "#### Assignment 4.\n",
    "\n",
    "주식을 여러 차례에 걸쳐 매입했을 때의 평균 매입 가격을 계산하는 함수를 작성하세요. 매입 가격(prices)과 매입 수량(quantities)이 리스트로 주어진다고 가정합니다. 함수는 총 매입 비용을 총 매입 수량으로 나눈 평균 매입 가격을 반환해야 합니다.\n",
    "\n",
    "예를 들어, 주식을 3번에 걸쳐 각각 1000원, 2000원, 3000원에 100주씩 매입했다면, 평균 매입 가격은 다음과 같이 계산됩니다.\n",
    "\n",
    "$$\\frac{1000 \\times 100 + 2000 \\times 100 + 3000 \\times 100}{100 + 100 + 100} = \\frac{100000 + 200000 + 300000}{300} = \\frac{600000}{300} = 2000$$\n",
    "\n",
    "따라서 평균 매입 가격은 2000원입니다.\n",
    "\n",
    "- 위 산식을 함수로 작성하세요"
   ]
  },
  {
   "cell_type": "code",
   "execution_count": 1,
   "metadata": {},
   "outputs": [],
   "source": [
    "import numpy as np\n",
    "\n",
    "def avg_buy(price, quant):\n",
    "    return np.dot(price, quant)/ np.sum(quant)"
   ]
  },
  {
   "cell_type": "markdown",
   "metadata": {},
   "source": [
    "- 주식을 3번에 걸쳐 각각 1500원, 1900원, 3100원에 100주씩 매입했을 때의 평균 매입 가격을 계산하세요"
   ]
  },
  {
   "cell_type": "code",
   "execution_count": 2,
   "metadata": {
    "scrolled": true
   },
   "outputs": [
    {
     "name": "stdout",
     "output_type": "stream",
     "text": [
      "평균매입가격은 2166.667원 입니다.\n"
     ]
    }
   ],
   "source": [
    "price=[1500, 1900, 3100]\n",
    "quant=[100, 100, 100]\n",
    "\n",
    "result=avg_buy(price, quant)\n",
    "print(f\"평균매입가격은 {result:0.3f}원 입니다.\")"
   ]
  },
  {
   "cell_type": "markdown",
   "metadata": {},
   "source": [
    "#### Assignment 5.\n",
    "\n",
    "주식의 일일 종가 리스트를 입력 받아, 주어진 기간 동안 가능한 최대 손실(최대 낙폭)을 계산하는 함수`calculate_max_drawdown()`를 작성하세요. 최대 손실은 최고점에서 최저점까지의 가장 큰 가격 하락을 의미합니다."
   ]
  },
  {
   "cell_type": "code",
   "execution_count": 42,
   "metadata": {},
   "outputs": [],
   "source": [
    "def calculate_max_drawdown(price):\n",
    "    max_price=np.max(price)\n",
    "    min_price=np.min(price)\n",
    "    return (max_price-min_price)"
   ]
  },
  {
   "cell_type": "code",
   "execution_count": 3,
   "metadata": {},
   "outputs": [],
   "source": [
    "def calculate_max_drawdown(prices):\n",
    "    max_draw=0\n",
    "    peak=prices[0]\n",
    "    for price in prices:\n",
    "        if price>peak:\n",
    "            peak=price\n",
    "        drawdown=peak-price\n",
    "        if drawdown>max_draw:\n",
    "            max_draw=drawdown\n",
    "    return max_draw"
   ]
  },
  {
   "cell_type": "markdown",
   "metadata": {},
   "source": [
    "- 주식의 일일 종가가 다음과 같을 때, 최초 투자일부터 마지막날까지의 최대 손실을 계산하세요\n",
    "    - [7, 6, 5, 4, 3, 2, 1, 2]"
   ]
  },
  {
   "cell_type": "code",
   "execution_count": 4,
   "metadata": {},
   "outputs": [
    {
     "name": "stdout",
     "output_type": "stream",
     "text": [
      "최대 손실은 6입니다 \n"
     ]
    }
   ],
   "source": [
    "price=[7,6,5,4,3,2,1,2]\n",
    "print(f\"최대 손실은 {calculate_max_drawdown(price)}입니다 \")"
   ]
  },
  {
   "cell_type": "markdown",
   "metadata": {},
   "source": [
    "- 주식의 일일 종가가 다음과 같을 때, 최초 투자일부터 마지막날까지의 최대 손실을 계산하세요\n",
    "    - [10,4,2,5,7,8,3,6,2,1,6,5,7,8,9,10,11,5,4]"
   ]
  },
  {
   "cell_type": "code",
   "execution_count": 5,
   "metadata": {},
   "outputs": [
    {
     "name": "stdout",
     "output_type": "stream",
     "text": [
      "최대 손실은 9입니다 \n"
     ]
    }
   ],
   "source": [
    "price=[10,4,2,5,7,8,3,6,2,1,6,5,7,8,9,10,11,5,4]\n",
    "print(f\"최대 손실은 {calculate_max_drawdown(price)}입니다 \")"
   ]
  },
  {
   "cell_type": "markdown",
   "metadata": {},
   "source": [
    "#### Assignment 6.\n",
    "\n",
    "거래의 매수 가격과 매도 가격을 입력받아, 해당 거래에서 발생한 수익률을 계산하는 함수를 작성하세요. 수익률은 다음과 같이 계산됩니다\n",
    "\n",
    "$$\\frac{\\mathrm{매도가격} - \\mathrm{매수가격}}{\\mathrm{매수가격}} \\times 100$$"
   ]
  },
  {
   "cell_type": "code",
   "execution_count": 47,
   "metadata": {},
   "outputs": [],
   "source": [
    "def return_rate(buy, sell):\n",
    "    return (sell-buy)*100/buy"
   ]
  },
  {
   "cell_type": "markdown",
   "metadata": {},
   "source": [
    "- 매수 가격이 1000원이고 매도 가격이 1500원일 때 수익률을 계산하세요"
   ]
  },
  {
   "cell_type": "code",
   "execution_count": 49,
   "metadata": {},
   "outputs": [
    {
     "name": "stdout",
     "output_type": "stream",
     "text": [
      "수익률은 50.0%입니다 \n"
     ]
    }
   ],
   "source": [
    "print(f\"수익률은 {return_rate(1000, 1500)}%입니다 \")"
   ]
  },
  {
   "cell_type": "markdown",
   "metadata": {},
   "source": [
    "- 매수 가격이 2000원이고 매도 가격이 3000원일 때 수익률을 계산하세요"
   ]
  },
  {
   "cell_type": "code",
   "execution_count": 50,
   "metadata": {},
   "outputs": [
    {
     "name": "stdout",
     "output_type": "stream",
     "text": [
      "수익률은 50.0%입니다 \n"
     ]
    }
   ],
   "source": [
    "print(f\"수익률은 {return_rate(2000, 3000)}%입니다 \")"
   ]
  },
  {
   "cell_type": "markdown",
   "metadata": {},
   "source": [
    "#### Assignment 7.\n",
    "포트폴리오의 성과평가에 사용되는 위험조정성과지표는 다음과 같은 것들이 존재한다\n",
    "\n",
    "**Sharpe Ratio (RVAR)**\n",
    "\n",
    "$$\\mathbf{SR_P} = \\frac{r_P-r_f}{\\sigma_P}$$\n",
    "\n",
    "**Sortino Ratio**\n",
    "\n",
    "$$\\mathbf{SOR_P} = \\frac{r_P - r_f}{\\sigma(\\epsilon_P)}$$\n",
    "\n",
    "**Treynor Ratio**\n",
    "\n",
    "$$\\mathbf{TR_P} = \\frac{r_P-r_F}{\\beta_P}$$\n",
    "\n",
    "**Jensen Ratio**\n",
    "\n",
    "$$\\alpha_P = (r_P - r_f) - \\beta_P (r_m - r_f)$$\n",
    "\n",
    "**Information Ratio**\n",
    "\n",
    "$$\\mathbf{IR_P} = \\frac{\\alpha_P}{\\sigma^2(r_t - E(r_t))}$$\n",
    "\n",
    "- 여기서 $r_P$는 포트폴리오 수익률, $r_f$는 무위험이자율, $r_m$는 시장수익률, $\\beta_P$는 포트폴리오의 베타, $\\sigma_P$는 리스크, $\\epsilon_P$는 하방 변동성을 나타낸다"
   ]
  },
  {
   "cell_type": "markdown",
   "metadata": {},
   "source": [
    "- 위 변수들을 입력하고 각자의 성과지표를 method를 통해 계산하는 Class를 만드세요"
   ]
  },
  {
   "cell_type": "code",
   "execution_count": 68,
   "metadata": {},
   "outputs": [],
   "source": [
    "class performance(object):\n",
    "    def __init__(self, r_p, r_f, r_m, beta, sigma, epsilon, sigma_r):\n",
    "            self.r_p=r_p\n",
    "            self.r_f=r_f\n",
    "            self.r_m=r_m\n",
    "            self.beta=beta\n",
    "            self.sigma=sigma\n",
    "            self.epsilon=epsilon\n",
    "            self.sigma_r=sigma_r\n",
    "            \n",
    "    def sharp_ratio(self):\n",
    "        return (self.r_p-self.r_f)/self.sigma\n",
    "\n",
    "    def sortino_ratio(self):\n",
    "        return (self.r_p-self.r_f)/self.epsilon\n",
    "    \n",
    "    def treynor_ratio(self):\n",
    "        return (self.r_p-self.r_f)/self.beta\n",
    "    \n",
    "    def jensen_ratio(self):\n",
    "        return self.r_p-self.r_f - self.beta*(self.r_m-self.r_f)\n",
    "    \n",
    "    def information_ratio(self):\n",
    "        return  (self.r_p-self.r_f - self.beta*(self.r_m-self.r_f)) /self.sigma_r"
   ]
  },
  {
   "cell_type": "markdown",
   "metadata": {},
   "source": [
    "**Assignment 7.1**\n",
    "- 포트폴리오 A와 포트폴리오 B의 수익률과 위험이 다음과 같습니다\n",
    "\n",
    "\n",
    "|**Portfolio**|$r_P$|$\\beta_P$|$\\sigma_P$|$\\sigma^2(r_t - E(r_t))$|$\\sigma(\\epsilon_P)$|\n",
    "|:---:|:---:|:---:|:---:|:---:|:---:|\n",
    "|A|9%|1.3|0.2|0.25|0.3|\n",
    "|B|11%|1.5|0.5|0.09|0.1|\n",
    "\n",
    "무위험수익률이 3.5%, 시장포트폴리오 수익률 ($r_m$)이 5.5%일 때, 두 포트폴리오의 성과 지표들을 계산하세요"
   ]
  },
  {
   "cell_type": "code",
   "execution_count": 69,
   "metadata": {},
   "outputs": [
    {
     "name": "stdout",
     "output_type": "stream",
     "text": [
      "0.27499999999999997 0.18333333333333332 0.0423076923076923 0.028999999999999998 0.11599999999999999\n",
      "0.15 0.7499999999999999 0.049999999999999996 0.045 0.5\n"
     ]
    }
   ],
   "source": [
    "A=performance(0.09, 0.035, 0.055, 1.3, 0.2, 0.3, 0.25)\n",
    "B=performance(0.11, 0.035, 0.055, 1.5, 0.5, 0.1, 0.09)\n",
    "\n",
    "print(A.sharp_ratio(), A.sortino_ratio(), A.treynor_ratio(), A.jensen_ratio(), A.information_ratio())\n",
    "print(B.sharp_ratio(), B.sortino_ratio(), B.treynor_ratio(), B.jensen_ratio(), B.information_ratio())"
   ]
  },
  {
   "cell_type": "code",
   "execution_count": null,
   "metadata": {},
   "outputs": [],
   "source": []
  }
 ],
 "metadata": {
  "kernelspec": {
   "display_name": "Python 3",
   "language": "python",
   "name": "python3"
  },
  "language_info": {
   "codemirror_mode": {
    "name": "ipython",
    "version": 3
   },
   "file_extension": ".py",
   "mimetype": "text/x-python",
   "name": "python",
   "nbconvert_exporter": "python",
   "pygments_lexer": "ipython3",
   "version": "3.8.5"
  }
 },
 "nbformat": 4,
 "nbformat_minor": 5
}
