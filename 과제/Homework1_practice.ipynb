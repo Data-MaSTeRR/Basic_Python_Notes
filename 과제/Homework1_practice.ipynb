{
 "cells": [
  {
   "cell_type": "markdown",
   "metadata": {},
   "source": [
    "### HOMEWORK I"
   ]
  },
  {
   "cell_type": "markdown",
   "metadata": {},
   "source": [
    "#### Assignment 1.\n",
    "\n",
    "- 당신은 은퇴를 한 직장인입니다. 노후 자금 마련을 위해 현재 가지고 있는 주택을 담보로 노후생활에 필요한 자금을 연금 형태로 받아 사용하려고 합니다. 현재 보유한 주택의 시장가격은 9억원이며, 미래 감정가격은 6억원 입니다. 역모기지론을 통해 10년간 8%의 할인율로 대출을 받는다고 할 때, **미래 감정가격에 대한 현재 가치**는 얼마인지 계산하세요. (단, **역모기지론의 계약은 연초 첫 번째 영업일에 실행한다고 가정**한다)\n",
    "\n",
    "- 역모기지론 : 미래에 발생할 예정인 현금흐름을 현재가치로 환산하는 방법. 가장 흔한 상품은 미래 주택가치를 산정해 연금을 받는 상품인 주택연금이 있습니다"
   ]
  },
  {
   "cell_type": "code",
   "execution_count": null,
   "metadata": {},
   "outputs": [],
   "source": []
  },
  {
   "cell_type": "markdown",
   "metadata": {},
   "source": [
    "#### Assignment 2.\n",
    "- 현재 당신은 파월의 연설문 중에서 **모음이 전체 연설문의 몇 퍼센트**를 차지하고 싶은지 알고 싶어 합니다. 다음의 문장을 통해 모음의 비중이 얼마나 되는지 확인하세요. (힌트: 문자열에서 배움)\n",
    "\n",
    "At past Jackson Hole conferences, I have discussed broad topics such as the ever-changing structure of the economy and the challenges of conducting monetary policy under high uncertainty. Today, my remarks will be shorter, my focus narrower, and my message more direct.\\n The Federal Open Market Committee's (FOMC) overarching focus right now is to bring inflation back down to our 2 percent goal. Price stability is the responsibility of the Federal Reserve and serves as the bedrock of our economy. Without price stability, the economy does not work for anyone. In particular, without price stability, we will not achieve a sustained period of strong labor market conditions that benefit all. The burdens of high inflation fall heaviest on those who are least able to bear them.\\n Restoring price stability will take some time and requires using our tools forcefully to bring demand and supply into better balance. Reducing inflation is likely to require a sustained period of below-trend growth. Moreover, there will very likely be some softening of labor market conditions. While higher interest rates, slower growth, and softer labor market conditions will bring down inflation, they will also bring some pain to households and businesses. These are the unfortunate costs of reducing inflation. But a failure to restore price stability would mean far greater pain.\\n The U.S. economy is clearly slowing from the historically high growth rates of 2021, which reflected the reopening of the economy following the pandemic recession. While the latest economic data have been mixed, in my view our economy continues to show strong underlying momentum. The labor market is particularly strong, but it is clearly out of balance, with demand for workers substantially exceeding the supply of available workers. Inflation is running well above 2 percent, and high inflation has continued to spread through the economy. While the lower inflation readings for July are welcome, a single month's improvement falls far short of what the Committee will need to see before we are confident that inflation is moving down.\\n We are moving our policy stance purposefully to a level that will be sufficiently restrictive to return inflation to 2 percent. At our most recent meeting in July, the FOMC raised the target range for the federal funds rate to 2.25 to 2.5 percent, which is in the Summary of Economic Projection's (SEP) range of estimates of where the federal funds rate is projected to settle in the longer run. In current circumstances, with inflation running far above 2 percent and the labor market extremely tight, estimates of longer-run neutral are not a place to stop or pause."
   ]
  },
  {
   "cell_type": "code",
   "execution_count": null,
   "metadata": {},
   "outputs": [],
   "source": []
  },
  {
   "cell_type": "markdown",
   "metadata": {},
   "source": [
    "#### Assignment 3.\n",
    "- **홀짝구분하기**\n",
    "- 자연수 n이 입력으로 주어졌을 때 만약 n이 짝수이면 \"n is even\"을, 홀수이면 \"n is odd\"를 출력하는 코드를 작성해 보세요. def check_even_odd()을 완성시켜라! (힌트: 나머지연산자 이용)\n",
    "- 입력 #1\n",
    "    - 100\n",
    "- 출력 #1\n",
    "    - 100 is even\n",
    "- 입력 #2\n",
    "    - 1\n",
    "- 출력 #2\n",
    "    - 1 is odd"
   ]
  },
  {
   "cell_type": "code",
   "execution_count": null,
   "metadata": {},
   "outputs": [],
   "source": [
    "def check_even_odd(n):\n",
    "    ### YOUR CODE START\n",
    "    \n",
    "    ### YOUR CODE END\n",
    "    return\n",
    "\n",
    "n = int(input(\"Enter a natural number: \"))\n",
    "check_even_odd(n)"
   ]
  }
 ],
 "metadata": {
  "language_info": {
   "name": "python"
  }
 },
 "nbformat": 4,
 "nbformat_minor": 2
}
